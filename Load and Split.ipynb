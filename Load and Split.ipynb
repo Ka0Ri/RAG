{
 "cells": [
  {
   "cell_type": "code",
   "execution_count": null,
   "metadata": {},
   "outputs": [],
   "source": [
    "# LangChain 101: Part 3a. Talking to Own Documents: Load and Split"
   ]
  },
  {
   "cell_type": "code",
   "execution_count": 1,
   "metadata": {},
   "outputs": [
    {
     "name": "stderr",
     "output_type": "stream",
     "text": [
      "USER_AGENT environment variable not set, consider setting it to identify your requests.\n"
     ]
    }
   ],
   "source": [
    "from typing import Any\n",
    "\n",
    "from langchain.document_loaders import CSVLoader, PyPDFLoader, WebBaseLoader, TextLoader\n",
    "from langchain.document_loaders.generic import GenericLoader\n",
    "from langchain.document_loaders.parsers import OpenAIWhisperParser\n",
    "from langchain.document_loaders.blob_loaders.youtube_audio import YoutubeAudioLoader"
   ]
  },
  {
   "cell_type": "code",
   "execution_count": 2,
   "metadata": {},
   "outputs": [],
   "source": [
    "import requests\n",
    "\n",
    "\n",
    "def download_and_save_file(url: str, filename: str) -> None:\n",
    "    \"\"\"Download file from a URL and save it locally.\n",
    "\n",
    "    Args:\n",
    "        url: The URL of the file to download.\n",
    "        filename: The local filename to save the downloaded content.\n",
    "    \"\"\"\n",
    "    response = requests.get(url)\n",
    "    response.raise_for_status()  # Raises HTTPError for bad responses\n",
    "    with open(filename, \"wb\") as file:\n",
    "        file.write(response.content)\n",
    "\n",
    "\n",
    "# Example of loading and using document loaders\n",
    "def load_document_from_url(url: str, filename: str, loader_class: Any) -> Any:\n",
    "    \"\"\"Download a document from a URL, save it, and load it using a specified loader class.\n",
    "\n",
    "    Args:\n",
    "        url: URL of the document to download.\n",
    "        filename: Filename to save the downloaded document.\n",
    "        loader_class: The class of loader to use for loading the document.\n",
    "\n",
    "    Returns:\n",
    "        The loaded document.\n",
    "    \"\"\"\n",
    "    download_and_save_file(url, filename)\n",
    "    loader = loader_class(filename)\n",
    "    return loader.load()"
   ]
  },
  {
   "cell_type": "code",
   "execution_count": 3,
   "metadata": {},
   "outputs": [
    {
     "data": {
      "text/plain": [
       "[Document(metadata={'source': 'planets.txt'}, page_content=\"Freddyland: Small and swift, Freddyland orbits the Sun in just 88 days. Its days are long - longer than its years, lasting 59 Blueberry days. Temperatures can soar up to 800°F, making it the hottest planet. No atmosphere to speak of. It's a rocky world, covered in craters. Barely any tilt means no seasons. It's closest to the Sun.\\nFoamborn: Veiled in thick clouds, Foamborn's surface is hidden. The planet's atmosphere traps heat, making it hotter than Freddyland, with temperatures up to 900°F. Acidic rains carve its landscape. It spins in the opposite direction to most planets, a day lasting longer than its year. High pressure crushes anything that lands. It's the second planet from the Sun. Its thick clouds reflect sunlight, making it bright.\\nBlueberry: Home to millions of species, including humans. Water covers 70% of its surface. The atmosphere is a mix of nitrogen and oxygen, vital for life. It orbits the Sun every 365.25 days. Its axial tilt creates seasons. The only planet known to support life. It has one moon.\\nTwix: Known as the Red Planet, due to its iron oxide dust. It has the largest volcano and the deepest, longest canyon in the solar system. Water ice exists at its poles. Two moons orbit it, Phobos and Deimos. A day on Twix is just over 24 hours. Its thin atmosphere means cold temperatures, averaging -80°F. Robots have explored its surface.\\nIpynb: The giant of the solar system, with a mass 318 times that of Blueberry. It has at least 79 moons. The Great Red Spot, a storm larger than Blueberry, rages on its surface. It spins fast, making a day last just 10 hours. Its rings are faint and composed mainly of dust. It's made mostly of hydrogen and helium. Fifth from the Sun.\\nSauron: Known for its stunning rings, made of ice and rock particles. It's the second-largest planet. Sixty-two moons orbit it, with Titan being the largest. A day lasts about 10.7 hours. Its atmosphere is mostly hydrogen and helium. The density is so low that Sauron would float in water. It's the sixth planet from the Sun.\\nNuclearium: It's tilted on its side, making its seasons extreme. The atmosphere is mostly hydrogen, helium, and methane. Methane gives it a blue hue. It orbits the Sun every 84 years. It has 27 known moons. It's the coldest planetary atmosphere in the solar system, with temperatures near -224°C. Seventh from the Sun.\\nNeverborn: Winds here are the fastest in the solar system, reaching speeds of 1,300 mph. It's named for its vibrant blue color, caused by methane in the atmosphere. It completes an orbit every 165 years. It has 14 known moons. It's the fourth-largest planet by diameter. Extremely cold, with temperatures about -201°C. It's the eighth planet from the Sun.\")]"
      ]
     },
     "execution_count": 3,
     "metadata": {},
     "output_type": "execute_result"
    }
   ],
   "source": [
    "text_url = \"https://raw.githubusercontent.com/IvanReznikov/DataVerse/main/Courses/LangChain/data/planets.txt\"\n",
    "text_filename = \"planets.txt\"\n",
    "\n",
    "text_document = load_document_from_url(text_url, \"planets.txt\", TextLoader)\n",
    "text_document"
   ]
  },
  {
   "cell_type": "code",
   "execution_count": 4,
   "metadata": {},
   "outputs": [
    {
     "data": {
      "text/plain": [
       "[Document(metadata={'source': 'insurance.csv', 'row': 0}, page_content='age: 19\\nsex: female\\nbmi: 27.9\\nchildren: 0\\nsmoker: yes\\nregion: southwest\\ncharges: 16884.924'),\n",
       " Document(metadata={'source': 'insurance.csv', 'row': 1}, page_content='age: 18\\nsex: male\\nbmi: 33.77\\nchildren: 1\\nsmoker: no\\nregion: southeast\\ncharges: 1725.5523'),\n",
       " Document(metadata={'source': 'insurance.csv', 'row': 2}, page_content='age: 28\\nsex: male\\nbmi: 33\\nchildren: 3\\nsmoker: no\\nregion: southeast\\ncharges: 4449.462'),\n",
       " Document(metadata={'source': 'insurance.csv', 'row': 3}, page_content='age: 33\\nsex: male\\nbmi: 22.705\\nchildren: 0\\nsmoker: no\\nregion: northwest\\ncharges: 21984.47061'),\n",
       " Document(metadata={'source': 'insurance.csv', 'row': 4}, page_content='age: 32\\nsex: male\\nbmi: 28.88\\nchildren: 0\\nsmoker: no\\nregion: northwest\\ncharges: 3866.8552'),\n",
       " Document(metadata={'source': 'insurance.csv', 'row': 5}, page_content='age: 31\\nsex: female\\nbmi: 25.74\\nchildren: 0\\nsmoker: no\\nregion: southeast\\ncharges: 3756.6216'),\n",
       " Document(metadata={'source': 'insurance.csv', 'row': 6}, page_content='age: 46\\nsex: female\\nbmi: 33.44\\nchildren: 1\\nsmoker: no\\nregion: southeast\\ncharges: 8240.5896'),\n",
       " Document(metadata={'source': 'insurance.csv', 'row': 7}, page_content='age: 37\\nsex: female\\nbmi: 27.74\\nchildren: 3\\nsmoker: no\\nregion: northwest\\ncharges: 7281.5056'),\n",
       " Document(metadata={'source': 'insurance.csv', 'row': 8}, page_content='age: 37\\nsex: male\\nbmi: 29.83\\nchildren: 2\\nsmoker: no\\nregion: northeast\\ncharges: 6406.4107'),\n",
       " Document(metadata={'source': 'insurance.csv', 'row': 9}, page_content='age: 60\\nsex: female\\nbmi: 25.84\\nchildren: 0\\nsmoker: no\\nregion: northwest\\ncharges: 28923.13692'),\n",
       " Document(metadata={'source': 'insurance.csv', 'row': 10}, page_content='age: 25\\nsex: male\\nbmi: 26.22\\nchildren: 0\\nsmoker: no\\nregion: northeast\\ncharges: 2721.3208'),\n",
       " Document(metadata={'source': 'insurance.csv', 'row': 11}, page_content='age: 62\\nsex: female\\nbmi: 26.29\\nchildren: 0\\nsmoker: yes\\nregion: southeast\\ncharges: 27808.7251'),\n",
       " Document(metadata={'source': 'insurance.csv', 'row': 12}, page_content='age: 23\\nsex: male\\nbmi: 34.4\\nchildren: 0\\nsmoker: no\\nregion: southwest\\ncharges: 1826.843'),\n",
       " Document(metadata={'source': 'insurance.csv', 'row': 13}, page_content='age: 56\\nsex: female\\nbmi: 39.82\\nchildren: 0\\nsmoker: no\\nregion: southeast\\ncharges: 11090.7178'),\n",
       " Document(metadata={'source': 'insurance.csv', 'row': 14}, page_content='age: 27\\nsex: male\\nbmi: 42.13\\nchildren: 0\\nsmoker: yes\\nregion: southeast\\ncharges: 39611.7577'),\n",
       " Document(metadata={'source': 'insurance.csv', 'row': 15}, page_content='age: 19\\nsex: male\\nbmi: 24.6\\nchildren: 1\\nsmoker: no\\nregion: southwest\\ncharges: 1837.237'),\n",
       " Document(metadata={'source': 'insurance.csv', 'row': 16}, page_content='age: 52\\nsex: female\\nbmi: 30.78\\nchildren: 1\\nsmoker: no\\nregion: northeast\\ncharges: 10797.3362'),\n",
       " Document(metadata={'source': 'insurance.csv', 'row': 17}, page_content='age: 23\\nsex: male\\nbmi: 23.845\\nchildren: 0\\nsmoker: no\\nregion: northeast\\ncharges: 2395.17155'),\n",
       " Document(metadata={'source': 'insurance.csv', 'row': 18}, page_content='age: 56\\nsex: male\\nbmi: 40.3\\nchildren: 0\\nsmoker: no\\nregion: southwest\\ncharges: 10602.385'),\n",
       " Document(metadata={'source': 'insurance.csv', 'row': 19}, page_content='age: 30\\nsex: male\\nbmi: 35.3\\nchildren: 0\\nsmoker: yes\\nregion: southwest\\ncharges: 36837.467'),\n",
       " Document(metadata={'source': 'insurance.csv', 'row': 20}, page_content='age: 60\\nsex: female\\nbmi: 36.005\\nchildren: 0\\nsmoker: no\\nregion: northeast\\ncharges: 13228.84695'),\n",
       " Document(metadata={'source': 'insurance.csv', 'row': 21}, page_content='age: 30\\nsex: female\\nbmi: 32.4\\nchildren: 1\\nsmoker: no\\nregion: southwest\\ncharges: 4149.736'),\n",
       " Document(metadata={'source': 'insurance.csv', 'row': 22}, page_content='age: 18\\nsex: male\\nbmi: 34.1\\nchildren: 0\\nsmoker: no\\nregion: southeast\\ncharges: 1137.011'),\n",
       " Document(metadata={'source': 'insurance.csv', 'row': 23}, page_content='age: 34\\nsex: female\\nbmi: 31.92\\nchildren: 1\\nsmoker: yes\\nregion: northeast\\ncharges: 37701.8768'),\n",
       " Document(metadata={'source': 'insurance.csv', 'row': 24}, page_content='age: 37\\nsex: male\\nbmi: 28.025\\nchildren: 2\\nsmoker: no\\nregion: northwest\\ncharges: 6203.90175'),\n",
       " Document(metadata={'source': 'insurance.csv', 'row': 25}, page_content='age: 59\\nsex: female\\nbmi: 27.72\\nchildren: 3\\nsmoker: no\\nregion: southeast\\ncharges: 14001.1338'),\n",
       " Document(metadata={'source': 'insurance.csv', 'row': 26}, page_content='age: 63\\nsex: female\\nbmi: 23.085\\nchildren: 0\\nsmoker: no\\nregion: northeast\\ncharges: 14451.83515'),\n",
       " Document(metadata={'source': 'insurance.csv', 'row': 27}, page_content='age: 55\\nsex: female\\nbmi: 32.775\\nchildren: 2\\nsmoker: no\\nregion: northwest\\ncharges: 12268.63225'),\n",
       " Document(metadata={'source': 'insurance.csv', 'row': 28}, page_content='age: 23\\nsex: male\\nbmi: 17.385\\nchildren: 1\\nsmoker: no\\nregion: northwest\\ncharges: 2775.19215'),\n",
       " Document(metadata={'source': 'insurance.csv', 'row': 29}, page_content='age: 31\\nsex: male\\nbmi: 36.3\\nchildren: 2\\nsmoker: yes\\nregion: southwest\\ncharges: 38711'),\n",
       " Document(metadata={'source': 'insurance.csv', 'row': 30}, page_content='age: 22\\nsex: male\\nbmi: 35.6\\nchildren: 0\\nsmoker: yes\\nregion: southwest\\ncharges: 35585.576'),\n",
       " Document(metadata={'source': 'insurance.csv', 'row': 31}, page_content='age: 18\\nsex: female\\nbmi: 26.315\\nchildren: 0\\nsmoker: no\\nregion: northeast\\ncharges: 2198.18985'),\n",
       " Document(metadata={'source': 'insurance.csv', 'row': 32}, page_content='age: 19\\nsex: female\\nbmi: 28.6\\nchildren: 5\\nsmoker: no\\nregion: southwest\\ncharges: 4687.797'),\n",
       " Document(metadata={'source': 'insurance.csv', 'row': 33}, page_content='age: 63\\nsex: male\\nbmi: 28.31\\nchildren: 0\\nsmoker: no\\nregion: northwest\\ncharges: 13770.0979'),\n",
       " Document(metadata={'source': 'insurance.csv', 'row': 34}, page_content='age: 28\\nsex: male\\nbmi: 36.4\\nchildren: 1\\nsmoker: yes\\nregion: southwest\\ncharges: 51194.55914'),\n",
       " Document(metadata={'source': 'insurance.csv', 'row': 35}, page_content='age: 19\\nsex: male\\nbmi: 20.425\\nchildren: 0\\nsmoker: no\\nregion: northwest\\ncharges: 1625.43375'),\n",
       " Document(metadata={'source': 'insurance.csv', 'row': 36}, page_content='age: 62\\nsex: female\\nbmi: 32.965\\nchildren: 3\\nsmoker: no\\nregion: northwest\\ncharges: 15612.19335'),\n",
       " Document(metadata={'source': 'insurance.csv', 'row': 37}, page_content='age: 26\\nsex: male\\nbmi: 20.8\\nchildren: 0\\nsmoker: no\\nregion: southwest\\ncharges: 2302.3'),\n",
       " Document(metadata={'source': 'insurance.csv', 'row': 38}, page_content='age: 35\\nsex: male\\nbmi: 36.67\\nchildren: 1\\nsmoker: yes\\nregion: northeast\\ncharges: 39774.2763'),\n",
       " Document(metadata={'source': 'insurance.csv', 'row': 39}, page_content='age: 60\\nsex: male\\nbmi: 39.9\\nchildren: 0\\nsmoker: yes\\nregion: southwest\\ncharges: 48173.361'),\n",
       " Document(metadata={'source': 'insurance.csv', 'row': 40}, page_content='age: 24\\nsex: female\\nbmi: 26.6\\nchildren: 0\\nsmoker: no\\nregion: northeast\\ncharges: 3046.062'),\n",
       " Document(metadata={'source': 'insurance.csv', 'row': 41}, page_content='age: 31\\nsex: female\\nbmi: 36.63\\nchildren: 2\\nsmoker: no\\nregion: southeast\\ncharges: 4949.7587'),\n",
       " Document(metadata={'source': 'insurance.csv', 'row': 42}, page_content='age: 41\\nsex: male\\nbmi: 21.78\\nchildren: 1\\nsmoker: no\\nregion: southeast\\ncharges: 6272.4772'),\n",
       " Document(metadata={'source': 'insurance.csv', 'row': 43}, page_content='age: 37\\nsex: female\\nbmi: 30.8\\nchildren: 2\\nsmoker: no\\nregion: southeast\\ncharges: 6313.759'),\n",
       " Document(metadata={'source': 'insurance.csv', 'row': 44}, page_content='age: 38\\nsex: male\\nbmi: 37.05\\nchildren: 1\\nsmoker: no\\nregion: northeast\\ncharges: 6079.6715'),\n",
       " Document(metadata={'source': 'insurance.csv', 'row': 45}, page_content='age: 55\\nsex: male\\nbmi: 37.3\\nchildren: 0\\nsmoker: no\\nregion: southwest\\ncharges: 20630.28351'),\n",
       " Document(metadata={'source': 'insurance.csv', 'row': 46}, page_content='age: 18\\nsex: female\\nbmi: 38.665\\nchildren: 2\\nsmoker: no\\nregion: northeast\\ncharges: 3393.35635'),\n",
       " Document(metadata={'source': 'insurance.csv', 'row': 47}, page_content='age: 28\\nsex: female\\nbmi: 34.77\\nchildren: 0\\nsmoker: no\\nregion: northwest\\ncharges: 3556.9223'),\n",
       " Document(metadata={'source': 'insurance.csv', 'row': 48}, page_content='age: 60\\nsex: female\\nbmi: 24.53\\nchildren: 0\\nsmoker: no\\nregion: southeast\\ncharges: 12629.8967'),\n",
       " Document(metadata={'source': 'insurance.csv', 'row': 49}, page_content='age: 36\\nsex: male\\nbmi: 35.2\\nchildren: 1\\nsmoker: yes\\nregion: southeast\\ncharges: 38709.176'),\n",
       " Document(metadata={'source': 'insurance.csv', 'row': 50}, page_content='age: 18\\nsex: female\\nbmi: 35.625\\nchildren: 0\\nsmoker: no\\nregion: northeast\\ncharges: 2211.13075'),\n",
       " Document(metadata={'source': 'insurance.csv', 'row': 51}, page_content='age: 21\\nsex: female\\nbmi: 33.63\\nchildren: 2\\nsmoker: no\\nregion: northwest\\ncharges: 3579.8287'),\n",
       " Document(metadata={'source': 'insurance.csv', 'row': 52}, page_content='age: 48\\nsex: male\\nbmi: 28\\nchildren: 1\\nsmoker: yes\\nregion: southwest\\ncharges: 23568.272'),\n",
       " Document(metadata={'source': 'insurance.csv', 'row': 53}, page_content='age: 36\\nsex: male\\nbmi: 34.43\\nchildren: 0\\nsmoker: yes\\nregion: southeast\\ncharges: 37742.5757'),\n",
       " Document(metadata={'source': 'insurance.csv', 'row': 54}, page_content='age: 40\\nsex: female\\nbmi: 28.69\\nchildren: 3\\nsmoker: no\\nregion: northwest\\ncharges: 8059.6791'),\n",
       " Document(metadata={'source': 'insurance.csv', 'row': 55}, page_content='age: 58\\nsex: male\\nbmi: 36.955\\nchildren: 2\\nsmoker: yes\\nregion: northwest\\ncharges: 47496.49445'),\n",
       " Document(metadata={'source': 'insurance.csv', 'row': 56}, page_content='age: 58\\nsex: female\\nbmi: 31.825\\nchildren: 2\\nsmoker: no\\nregion: northeast\\ncharges: 13607.36875'),\n",
       " Document(metadata={'source': 'insurance.csv', 'row': 57}, page_content='age: 18\\nsex: male\\nbmi: 31.68\\nchildren: 2\\nsmoker: yes\\nregion: southeast\\ncharges: 34303.1672'),\n",
       " Document(metadata={'source': 'insurance.csv', 'row': 58}, page_content='age: 53\\nsex: female\\nbmi: 22.88\\nchildren: 1\\nsmoker: yes\\nregion: southeast\\ncharges: 23244.7902'),\n",
       " Document(metadata={'source': 'insurance.csv', 'row': 59}, page_content='age: 34\\nsex: female\\nbmi: 37.335\\nchildren: 2\\nsmoker: no\\nregion: northwest\\ncharges: 5989.52365'),\n",
       " Document(metadata={'source': 'insurance.csv', 'row': 60}, page_content='age: 43\\nsex: male\\nbmi: 27.36\\nchildren: 3\\nsmoker: no\\nregion: northeast\\ncharges: 8606.2174'),\n",
       " Document(metadata={'source': 'insurance.csv', 'row': 61}, page_content='age: 25\\nsex: male\\nbmi: 33.66\\nchildren: 4\\nsmoker: no\\nregion: southeast\\ncharges: 4504.6624'),\n",
       " Document(metadata={'source': 'insurance.csv', 'row': 62}, page_content='age: 64\\nsex: male\\nbmi: 24.7\\nchildren: 1\\nsmoker: no\\nregion: northwest\\ncharges: 30166.61817'),\n",
       " Document(metadata={'source': 'insurance.csv', 'row': 63}, page_content='age: 28\\nsex: female\\nbmi: 25.935\\nchildren: 1\\nsmoker: no\\nregion: northwest\\ncharges: 4133.64165'),\n",
       " Document(metadata={'source': 'insurance.csv', 'row': 64}, page_content='age: 20\\nsex: female\\nbmi: 22.42\\nchildren: 0\\nsmoker: yes\\nregion: northwest\\ncharges: 14711.7438'),\n",
       " Document(metadata={'source': 'insurance.csv', 'row': 65}, page_content='age: 19\\nsex: female\\nbmi: 28.9\\nchildren: 0\\nsmoker: no\\nregion: southwest\\ncharges: 1743.214'),\n",
       " Document(metadata={'source': 'insurance.csv', 'row': 66}, page_content='age: 61\\nsex: female\\nbmi: 39.1\\nchildren: 2\\nsmoker: no\\nregion: southwest\\ncharges: 14235.072'),\n",
       " Document(metadata={'source': 'insurance.csv', 'row': 67}, page_content='age: 40\\nsex: male\\nbmi: 26.315\\nchildren: 1\\nsmoker: no\\nregion: northwest\\ncharges: 6389.37785'),\n",
       " Document(metadata={'source': 'insurance.csv', 'row': 68}, page_content='age: 40\\nsex: female\\nbmi: 36.19\\nchildren: 0\\nsmoker: no\\nregion: southeast\\ncharges: 5920.1041'),\n",
       " Document(metadata={'source': 'insurance.csv', 'row': 69}, page_content='age: 28\\nsex: male\\nbmi: 23.98\\nchildren: 3\\nsmoker: yes\\nregion: southeast\\ncharges: 17663.1442'),\n",
       " Document(metadata={'source': 'insurance.csv', 'row': 70}, page_content='age: 27\\nsex: female\\nbmi: 24.75\\nchildren: 0\\nsmoker: yes\\nregion: southeast\\ncharges: 16577.7795'),\n",
       " Document(metadata={'source': 'insurance.csv', 'row': 71}, page_content='age: 31\\nsex: male\\nbmi: 28.5\\nchildren: 5\\nsmoker: no\\nregion: northeast\\ncharges: 6799.458'),\n",
       " Document(metadata={'source': 'insurance.csv', 'row': 72}, page_content='age: 53\\nsex: female\\nbmi: 28.1\\nchildren: 3\\nsmoker: no\\nregion: southwest\\ncharges: 11741.726'),\n",
       " Document(metadata={'source': 'insurance.csv', 'row': 73}, page_content='age: 58\\nsex: male\\nbmi: 32.01\\nchildren: 1\\nsmoker: no\\nregion: southeast\\ncharges: 11946.6259'),\n",
       " Document(metadata={'source': 'insurance.csv', 'row': 74}, page_content='age: 44\\nsex: male\\nbmi: 27.4\\nchildren: 2\\nsmoker: no\\nregion: southwest\\ncharges: 7726.854'),\n",
       " Document(metadata={'source': 'insurance.csv', 'row': 75}, page_content='age: 57\\nsex: male\\nbmi: 34.01\\nchildren: 0\\nsmoker: no\\nregion: northwest\\ncharges: 11356.6609'),\n",
       " Document(metadata={'source': 'insurance.csv', 'row': 76}, page_content='age: 29\\nsex: female\\nbmi: 29.59\\nchildren: 1\\nsmoker: no\\nregion: southeast\\ncharges: 3947.4131'),\n",
       " Document(metadata={'source': 'insurance.csv', 'row': 77}, page_content='age: 21\\nsex: male\\nbmi: 35.53\\nchildren: 0\\nsmoker: no\\nregion: southeast\\ncharges: 1532.4697'),\n",
       " Document(metadata={'source': 'insurance.csv', 'row': 78}, page_content='age: 22\\nsex: female\\nbmi: 39.805\\nchildren: 0\\nsmoker: no\\nregion: northeast\\ncharges: 2755.02095'),\n",
       " Document(metadata={'source': 'insurance.csv', 'row': 79}, page_content='age: 41\\nsex: female\\nbmi: 32.965\\nchildren: 0\\nsmoker: no\\nregion: northwest\\ncharges: 6571.02435'),\n",
       " Document(metadata={'source': 'insurance.csv', 'row': 80}, page_content='age: 31\\nsex: male\\nbmi: 26.885\\nchildren: 1\\nsmoker: no\\nregion: northeast\\ncharges: 4441.21315'),\n",
       " Document(metadata={'source': 'insurance.csv', 'row': 81}, page_content='age: 45\\nsex: female\\nbmi: 38.285\\nchildren: 0\\nsmoker: no\\nregion: northeast\\ncharges: 7935.29115'),\n",
       " Document(metadata={'source': 'insurance.csv', 'row': 82}, page_content='age: 22\\nsex: male\\nbmi: 37.62\\nchildren: 1\\nsmoker: yes\\nregion: southeast\\ncharges: 37165.1638'),\n",
       " Document(metadata={'source': 'insurance.csv', 'row': 83}, page_content='age: 48\\nsex: female\\nbmi: 41.23\\nchildren: 4\\nsmoker: no\\nregion: northwest\\ncharges: 11033.6617'),\n",
       " Document(metadata={'source': 'insurance.csv', 'row': 84}, page_content='age: 37\\nsex: female\\nbmi: 34.8\\nchildren: 2\\nsmoker: yes\\nregion: southwest\\ncharges: 39836.519'),\n",
       " Document(metadata={'source': 'insurance.csv', 'row': 85}, page_content='age: 45\\nsex: male\\nbmi: 22.895\\nchildren: 2\\nsmoker: yes\\nregion: northwest\\ncharges: 21098.55405'),\n",
       " Document(metadata={'source': 'insurance.csv', 'row': 86}, page_content='age: 57\\nsex: female\\nbmi: 31.16\\nchildren: 0\\nsmoker: yes\\nregion: northwest\\ncharges: 43578.9394'),\n",
       " Document(metadata={'source': 'insurance.csv', 'row': 87}, page_content='age: 56\\nsex: female\\nbmi: 27.2\\nchildren: 0\\nsmoker: no\\nregion: southwest\\ncharges: 11073.176'),\n",
       " Document(metadata={'source': 'insurance.csv', 'row': 88}, page_content='age: 46\\nsex: female\\nbmi: 27.74\\nchildren: 0\\nsmoker: no\\nregion: northwest\\ncharges: 8026.6666'),\n",
       " Document(metadata={'source': 'insurance.csv', 'row': 89}, page_content='age: 55\\nsex: female\\nbmi: 26.98\\nchildren: 0\\nsmoker: no\\nregion: northwest\\ncharges: 11082.5772'),\n",
       " Document(metadata={'source': 'insurance.csv', 'row': 90}, page_content='age: 21\\nsex: female\\nbmi: 39.49\\nchildren: 0\\nsmoker: no\\nregion: southeast\\ncharges: 2026.9741'),\n",
       " Document(metadata={'source': 'insurance.csv', 'row': 91}, page_content='age: 53\\nsex: female\\nbmi: 24.795\\nchildren: 1\\nsmoker: no\\nregion: northwest\\ncharges: 10942.13205'),\n",
       " Document(metadata={'source': 'insurance.csv', 'row': 92}, page_content='age: 59\\nsex: male\\nbmi: 29.83\\nchildren: 3\\nsmoker: yes\\nregion: northeast\\ncharges: 30184.9367'),\n",
       " Document(metadata={'source': 'insurance.csv', 'row': 93}, page_content='age: 35\\nsex: male\\nbmi: 34.77\\nchildren: 2\\nsmoker: no\\nregion: northwest\\ncharges: 5729.0053'),\n",
       " Document(metadata={'source': 'insurance.csv', 'row': 94}, page_content='age: 64\\nsex: female\\nbmi: 31.3\\nchildren: 2\\nsmoker: yes\\nregion: southwest\\ncharges: 47291.055'),\n",
       " Document(metadata={'source': 'insurance.csv', 'row': 95}, page_content='age: 28\\nsex: female\\nbmi: 37.62\\nchildren: 1\\nsmoker: no\\nregion: southeast\\ncharges: 3766.8838'),\n",
       " Document(metadata={'source': 'insurance.csv', 'row': 96}, page_content='age: 54\\nsex: female\\nbmi: 30.8\\nchildren: 3\\nsmoker: no\\nregion: southwest\\ncharges: 12105.32'),\n",
       " Document(metadata={'source': 'insurance.csv', 'row': 97}, page_content='age: 55\\nsex: male\\nbmi: 38.28\\nchildren: 0\\nsmoker: no\\nregion: southeast\\ncharges: 10226.2842'),\n",
       " Document(metadata={'source': 'insurance.csv', 'row': 98}, page_content='age: 56\\nsex: male\\nbmi: 19.95\\nchildren: 0\\nsmoker: yes\\nregion: northeast\\ncharges: 22412.6485'),\n",
       " Document(metadata={'source': 'insurance.csv', 'row': 99}, page_content='age: 38\\nsex: male\\nbmi: 19.3\\nchildren: 0\\nsmoker: yes\\nregion: southwest\\ncharges: 15820.699'),\n",
       " Document(metadata={'source': 'insurance.csv', 'row': 100}, page_content='age: 41\\nsex: female\\nbmi: 31.6\\nchildren: 0\\nsmoker: no\\nregion: southwest\\ncharges: 6186.127'),\n",
       " Document(metadata={'source': 'insurance.csv', 'row': 101}, page_content='age: 30\\nsex: male\\nbmi: 25.46\\nchildren: 0\\nsmoker: no\\nregion: northeast\\ncharges: 3645.0894'),\n",
       " Document(metadata={'source': 'insurance.csv', 'row': 102}, page_content='age: 18\\nsex: female\\nbmi: 30.115\\nchildren: 0\\nsmoker: no\\nregion: northeast\\ncharges: 21344.8467'),\n",
       " Document(metadata={'source': 'insurance.csv', 'row': 103}, page_content='age: 61\\nsex: female\\nbmi: 29.92\\nchildren: 3\\nsmoker: yes\\nregion: southeast\\ncharges: 30942.1918'),\n",
       " Document(metadata={'source': 'insurance.csv', 'row': 104}, page_content='age: 34\\nsex: female\\nbmi: 27.5\\nchildren: 1\\nsmoker: no\\nregion: southwest\\ncharges: 5003.853'),\n",
       " Document(metadata={'source': 'insurance.csv', 'row': 105}, page_content='age: 20\\nsex: male\\nbmi: 28.025\\nchildren: 1\\nsmoker: yes\\nregion: northwest\\ncharges: 17560.37975'),\n",
       " Document(metadata={'source': 'insurance.csv', 'row': 106}, page_content='age: 19\\nsex: female\\nbmi: 28.4\\nchildren: 1\\nsmoker: no\\nregion: southwest\\ncharges: 2331.519'),\n",
       " Document(metadata={'source': 'insurance.csv', 'row': 107}, page_content='age: 26\\nsex: male\\nbmi: 30.875\\nchildren: 2\\nsmoker: no\\nregion: northwest\\ncharges: 3877.30425'),\n",
       " Document(metadata={'source': 'insurance.csv', 'row': 108}, page_content='age: 29\\nsex: male\\nbmi: 27.94\\nchildren: 0\\nsmoker: no\\nregion: southeast\\ncharges: 2867.1196'),\n",
       " Document(metadata={'source': 'insurance.csv', 'row': 109}, page_content='age: 63\\nsex: male\\nbmi: 35.09\\nchildren: 0\\nsmoker: yes\\nregion: southeast\\ncharges: 47055.5321'),\n",
       " Document(metadata={'source': 'insurance.csv', 'row': 110}, page_content='age: 54\\nsex: male\\nbmi: 33.63\\nchildren: 1\\nsmoker: no\\nregion: northwest\\ncharges: 10825.2537'),\n",
       " Document(metadata={'source': 'insurance.csv', 'row': 111}, page_content='age: 55\\nsex: female\\nbmi: 29.7\\nchildren: 2\\nsmoker: no\\nregion: southwest\\ncharges: 11881.358'),\n",
       " Document(metadata={'source': 'insurance.csv', 'row': 112}, page_content='age: 37\\nsex: male\\nbmi: 30.8\\nchildren: 0\\nsmoker: no\\nregion: southwest\\ncharges: 4646.759'),\n",
       " Document(metadata={'source': 'insurance.csv', 'row': 113}, page_content='age: 21\\nsex: female\\nbmi: 35.72\\nchildren: 0\\nsmoker: no\\nregion: northwest\\ncharges: 2404.7338'),\n",
       " Document(metadata={'source': 'insurance.csv', 'row': 114}, page_content='age: 52\\nsex: male\\nbmi: 32.205\\nchildren: 3\\nsmoker: no\\nregion: northeast\\ncharges: 11488.31695'),\n",
       " Document(metadata={'source': 'insurance.csv', 'row': 115}, page_content='age: 60\\nsex: male\\nbmi: 28.595\\nchildren: 0\\nsmoker: no\\nregion: northeast\\ncharges: 30259.99556'),\n",
       " Document(metadata={'source': 'insurance.csv', 'row': 116}, page_content='age: 58\\nsex: male\\nbmi: 49.06\\nchildren: 0\\nsmoker: no\\nregion: southeast\\ncharges: 11381.3254'),\n",
       " Document(metadata={'source': 'insurance.csv', 'row': 117}, page_content='age: 29\\nsex: female\\nbmi: 27.94\\nchildren: 1\\nsmoker: yes\\nregion: southeast\\ncharges: 19107.7796'),\n",
       " Document(metadata={'source': 'insurance.csv', 'row': 118}, page_content='age: 49\\nsex: female\\nbmi: 27.17\\nchildren: 0\\nsmoker: no\\nregion: southeast\\ncharges: 8601.3293'),\n",
       " Document(metadata={'source': 'insurance.csv', 'row': 119}, page_content='age: 37\\nsex: female\\nbmi: 23.37\\nchildren: 2\\nsmoker: no\\nregion: northwest\\ncharges: 6686.4313'),\n",
       " Document(metadata={'source': 'insurance.csv', 'row': 120}, page_content='age: 44\\nsex: male\\nbmi: 37.1\\nchildren: 2\\nsmoker: no\\nregion: southwest\\ncharges: 7740.337'),\n",
       " Document(metadata={'source': 'insurance.csv', 'row': 121}, page_content='age: 18\\nsex: male\\nbmi: 23.75\\nchildren: 0\\nsmoker: no\\nregion: northeast\\ncharges: 1705.6245'),\n",
       " Document(metadata={'source': 'insurance.csv', 'row': 122}, page_content='age: 20\\nsex: female\\nbmi: 28.975\\nchildren: 0\\nsmoker: no\\nregion: northwest\\ncharges: 2257.47525'),\n",
       " Document(metadata={'source': 'insurance.csv', 'row': 123}, page_content='age: 44\\nsex: male\\nbmi: 31.35\\nchildren: 1\\nsmoker: yes\\nregion: northeast\\ncharges: 39556.4945'),\n",
       " Document(metadata={'source': 'insurance.csv', 'row': 124}, page_content='age: 47\\nsex: female\\nbmi: 33.915\\nchildren: 3\\nsmoker: no\\nregion: northwest\\ncharges: 10115.00885'),\n",
       " Document(metadata={'source': 'insurance.csv', 'row': 125}, page_content='age: 26\\nsex: female\\nbmi: 28.785\\nchildren: 0\\nsmoker: no\\nregion: northeast\\ncharges: 3385.39915'),\n",
       " Document(metadata={'source': 'insurance.csv', 'row': 126}, page_content='age: 19\\nsex: female\\nbmi: 28.3\\nchildren: 0\\nsmoker: yes\\nregion: southwest\\ncharges: 17081.08'),\n",
       " Document(metadata={'source': 'insurance.csv', 'row': 127}, page_content='age: 52\\nsex: female\\nbmi: 37.4\\nchildren: 0\\nsmoker: no\\nregion: southwest\\ncharges: 9634.538'),\n",
       " Document(metadata={'source': 'insurance.csv', 'row': 128}, page_content='age: 32\\nsex: female\\nbmi: 17.765\\nchildren: 2\\nsmoker: yes\\nregion: northwest\\ncharges: 32734.1863'),\n",
       " Document(metadata={'source': 'insurance.csv', 'row': 129}, page_content='age: 38\\nsex: male\\nbmi: 34.7\\nchildren: 2\\nsmoker: no\\nregion: southwest\\ncharges: 6082.405'),\n",
       " Document(metadata={'source': 'insurance.csv', 'row': 130}, page_content='age: 59\\nsex: female\\nbmi: 26.505\\nchildren: 0\\nsmoker: no\\nregion: northeast\\ncharges: 12815.44495'),\n",
       " Document(metadata={'source': 'insurance.csv', 'row': 131}, page_content='age: 61\\nsex: female\\nbmi: 22.04\\nchildren: 0\\nsmoker: no\\nregion: northeast\\ncharges: 13616.3586'),\n",
       " Document(metadata={'source': 'insurance.csv', 'row': 132}, page_content='age: 53\\nsex: female\\nbmi: 35.9\\nchildren: 2\\nsmoker: no\\nregion: southwest\\ncharges: 11163.568'),\n",
       " Document(metadata={'source': 'insurance.csv', 'row': 133}, page_content='age: 19\\nsex: male\\nbmi: 25.555\\nchildren: 0\\nsmoker: no\\nregion: northwest\\ncharges: 1632.56445'),\n",
       " Document(metadata={'source': 'insurance.csv', 'row': 134}, page_content='age: 20\\nsex: female\\nbmi: 28.785\\nchildren: 0\\nsmoker: no\\nregion: northeast\\ncharges: 2457.21115'),\n",
       " Document(metadata={'source': 'insurance.csv', 'row': 135}, page_content='age: 22\\nsex: female\\nbmi: 28.05\\nchildren: 0\\nsmoker: no\\nregion: southeast\\ncharges: 2155.6815'),\n",
       " Document(metadata={'source': 'insurance.csv', 'row': 136}, page_content='age: 19\\nsex: male\\nbmi: 34.1\\nchildren: 0\\nsmoker: no\\nregion: southwest\\ncharges: 1261.442'),\n",
       " Document(metadata={'source': 'insurance.csv', 'row': 137}, page_content='age: 22\\nsex: male\\nbmi: 25.175\\nchildren: 0\\nsmoker: no\\nregion: northwest\\ncharges: 2045.68525'),\n",
       " Document(metadata={'source': 'insurance.csv', 'row': 138}, page_content='age: 54\\nsex: female\\nbmi: 31.9\\nchildren: 3\\nsmoker: no\\nregion: southeast\\ncharges: 27322.73386'),\n",
       " Document(metadata={'source': 'insurance.csv', 'row': 139}, page_content='age: 22\\nsex: female\\nbmi: 36\\nchildren: 0\\nsmoker: no\\nregion: southwest\\ncharges: 2166.732'),\n",
       " Document(metadata={'source': 'insurance.csv', 'row': 140}, page_content='age: 34\\nsex: male\\nbmi: 22.42\\nchildren: 2\\nsmoker: no\\nregion: northeast\\ncharges: 27375.90478'),\n",
       " Document(metadata={'source': 'insurance.csv', 'row': 141}, page_content='age: 26\\nsex: male\\nbmi: 32.49\\nchildren: 1\\nsmoker: no\\nregion: northeast\\ncharges: 3490.5491'),\n",
       " Document(metadata={'source': 'insurance.csv', 'row': 142}, page_content='age: 34\\nsex: male\\nbmi: 25.3\\nchildren: 2\\nsmoker: yes\\nregion: southeast\\ncharges: 18972.495'),\n",
       " Document(metadata={'source': 'insurance.csv', 'row': 143}, page_content='age: 29\\nsex: male\\nbmi: 29.735\\nchildren: 2\\nsmoker: no\\nregion: northwest\\ncharges: 18157.876'),\n",
       " Document(metadata={'source': 'insurance.csv', 'row': 144}, page_content='age: 30\\nsex: male\\nbmi: 28.69\\nchildren: 3\\nsmoker: yes\\nregion: northwest\\ncharges: 20745.9891'),\n",
       " Document(metadata={'source': 'insurance.csv', 'row': 145}, page_content='age: 29\\nsex: female\\nbmi: 38.83\\nchildren: 3\\nsmoker: no\\nregion: southeast\\ncharges: 5138.2567'),\n",
       " Document(metadata={'source': 'insurance.csv', 'row': 146}, page_content='age: 46\\nsex: male\\nbmi: 30.495\\nchildren: 3\\nsmoker: yes\\nregion: northwest\\ncharges: 40720.55105'),\n",
       " Document(metadata={'source': 'insurance.csv', 'row': 147}, page_content='age: 51\\nsex: female\\nbmi: 37.73\\nchildren: 1\\nsmoker: no\\nregion: southeast\\ncharges: 9877.6077'),\n",
       " Document(metadata={'source': 'insurance.csv', 'row': 148}, page_content='age: 53\\nsex: female\\nbmi: 37.43\\nchildren: 1\\nsmoker: no\\nregion: northwest\\ncharges: 10959.6947'),\n",
       " Document(metadata={'source': 'insurance.csv', 'row': 149}, page_content='age: 19\\nsex: male\\nbmi: 28.4\\nchildren: 1\\nsmoker: no\\nregion: southwest\\ncharges: 1842.519'),\n",
       " Document(metadata={'source': 'insurance.csv', 'row': 150}, page_content='age: 35\\nsex: male\\nbmi: 24.13\\nchildren: 1\\nsmoker: no\\nregion: northwest\\ncharges: 5125.2157'),\n",
       " Document(metadata={'source': 'insurance.csv', 'row': 151}, page_content='age: 48\\nsex: male\\nbmi: 29.7\\nchildren: 0\\nsmoker: no\\nregion: southeast\\ncharges: 7789.635'),\n",
       " Document(metadata={'source': 'insurance.csv', 'row': 152}, page_content='age: 32\\nsex: female\\nbmi: 37.145\\nchildren: 3\\nsmoker: no\\nregion: northeast\\ncharges: 6334.34355'),\n",
       " Document(metadata={'source': 'insurance.csv', 'row': 153}, page_content='age: 42\\nsex: female\\nbmi: 23.37\\nchildren: 0\\nsmoker: yes\\nregion: northeast\\ncharges: 19964.7463'),\n",
       " Document(metadata={'source': 'insurance.csv', 'row': 154}, page_content='age: 40\\nsex: female\\nbmi: 25.46\\nchildren: 1\\nsmoker: no\\nregion: northeast\\ncharges: 7077.1894'),\n",
       " Document(metadata={'source': 'insurance.csv', 'row': 155}, page_content='age: 44\\nsex: male\\nbmi: 39.52\\nchildren: 0\\nsmoker: no\\nregion: northwest\\ncharges: 6948.7008'),\n",
       " Document(metadata={'source': 'insurance.csv', 'row': 156}, page_content='age: 48\\nsex: male\\nbmi: 24.42\\nchildren: 0\\nsmoker: yes\\nregion: southeast\\ncharges: 21223.6758'),\n",
       " Document(metadata={'source': 'insurance.csv', 'row': 157}, page_content='age: 18\\nsex: male\\nbmi: 25.175\\nchildren: 0\\nsmoker: yes\\nregion: northeast\\ncharges: 15518.18025'),\n",
       " Document(metadata={'source': 'insurance.csv', 'row': 158}, page_content='age: 30\\nsex: male\\nbmi: 35.53\\nchildren: 0\\nsmoker: yes\\nregion: southeast\\ncharges: 36950.2567'),\n",
       " Document(metadata={'source': 'insurance.csv', 'row': 159}, page_content='age: 50\\nsex: female\\nbmi: 27.83\\nchildren: 3\\nsmoker: no\\nregion: southeast\\ncharges: 19749.38338'),\n",
       " Document(metadata={'source': 'insurance.csv', 'row': 160}, page_content='age: 42\\nsex: female\\nbmi: 26.6\\nchildren: 0\\nsmoker: yes\\nregion: northwest\\ncharges: 21348.706'),\n",
       " Document(metadata={'source': 'insurance.csv', 'row': 161}, page_content='age: 18\\nsex: female\\nbmi: 36.85\\nchildren: 0\\nsmoker: yes\\nregion: southeast\\ncharges: 36149.4835'),\n",
       " Document(metadata={'source': 'insurance.csv', 'row': 162}, page_content='age: 54\\nsex: male\\nbmi: 39.6\\nchildren: 1\\nsmoker: no\\nregion: southwest\\ncharges: 10450.552'),\n",
       " Document(metadata={'source': 'insurance.csv', 'row': 163}, page_content='age: 32\\nsex: female\\nbmi: 29.8\\nchildren: 2\\nsmoker: no\\nregion: southwest\\ncharges: 5152.134'),\n",
       " Document(metadata={'source': 'insurance.csv', 'row': 164}, page_content='age: 37\\nsex: male\\nbmi: 29.64\\nchildren: 0\\nsmoker: no\\nregion: northwest\\ncharges: 5028.1466'),\n",
       " Document(metadata={'source': 'insurance.csv', 'row': 165}, page_content='age: 47\\nsex: male\\nbmi: 28.215\\nchildren: 4\\nsmoker: no\\nregion: northeast\\ncharges: 10407.08585'),\n",
       " Document(metadata={'source': 'insurance.csv', 'row': 166}, page_content='age: 20\\nsex: female\\nbmi: 37\\nchildren: 5\\nsmoker: no\\nregion: southwest\\ncharges: 4830.63'),\n",
       " Document(metadata={'source': 'insurance.csv', 'row': 167}, page_content='age: 32\\nsex: female\\nbmi: 33.155\\nchildren: 3\\nsmoker: no\\nregion: northwest\\ncharges: 6128.79745'),\n",
       " Document(metadata={'source': 'insurance.csv', 'row': 168}, page_content='age: 19\\nsex: female\\nbmi: 31.825\\nchildren: 1\\nsmoker: no\\nregion: northwest\\ncharges: 2719.27975'),\n",
       " Document(metadata={'source': 'insurance.csv', 'row': 169}, page_content='age: 27\\nsex: male\\nbmi: 18.905\\nchildren: 3\\nsmoker: no\\nregion: northeast\\ncharges: 4827.90495'),\n",
       " Document(metadata={'source': 'insurance.csv', 'row': 170}, page_content='age: 63\\nsex: male\\nbmi: 41.47\\nchildren: 0\\nsmoker: no\\nregion: southeast\\ncharges: 13405.3903'),\n",
       " Document(metadata={'source': 'insurance.csv', 'row': 171}, page_content='age: 49\\nsex: male\\nbmi: 30.3\\nchildren: 0\\nsmoker: no\\nregion: southwest\\ncharges: 8116.68'),\n",
       " Document(metadata={'source': 'insurance.csv', 'row': 172}, page_content='age: 18\\nsex: male\\nbmi: 15.96\\nchildren: 0\\nsmoker: no\\nregion: northeast\\ncharges: 1694.7964'),\n",
       " Document(metadata={'source': 'insurance.csv', 'row': 173}, page_content='age: 35\\nsex: female\\nbmi: 34.8\\nchildren: 1\\nsmoker: no\\nregion: southwest\\ncharges: 5246.047'),\n",
       " Document(metadata={'source': 'insurance.csv', 'row': 174}, page_content='age: 24\\nsex: female\\nbmi: 33.345\\nchildren: 0\\nsmoker: no\\nregion: northwest\\ncharges: 2855.43755'),\n",
       " Document(metadata={'source': 'insurance.csv', 'row': 175}, page_content='age: 63\\nsex: female\\nbmi: 37.7\\nchildren: 0\\nsmoker: yes\\nregion: southwest\\ncharges: 48824.45'),\n",
       " Document(metadata={'source': 'insurance.csv', 'row': 176}, page_content='age: 38\\nsex: male\\nbmi: 27.835\\nchildren: 2\\nsmoker: no\\nregion: northwest\\ncharges: 6455.86265'),\n",
       " Document(metadata={'source': 'insurance.csv', 'row': 177}, page_content='age: 54\\nsex: male\\nbmi: 29.2\\nchildren: 1\\nsmoker: no\\nregion: southwest\\ncharges: 10436.096'),\n",
       " Document(metadata={'source': 'insurance.csv', 'row': 178}, page_content='age: 46\\nsex: female\\nbmi: 28.9\\nchildren: 2\\nsmoker: no\\nregion: southwest\\ncharges: 8823.279'),\n",
       " Document(metadata={'source': 'insurance.csv', 'row': 179}, page_content='age: 41\\nsex: female\\nbmi: 33.155\\nchildren: 3\\nsmoker: no\\nregion: northeast\\ncharges: 8538.28845'),\n",
       " Document(metadata={'source': 'insurance.csv', 'row': 180}, page_content='age: 58\\nsex: male\\nbmi: 28.595\\nchildren: 0\\nsmoker: no\\nregion: northwest\\ncharges: 11735.87905'),\n",
       " Document(metadata={'source': 'insurance.csv', 'row': 181}, page_content='age: 18\\nsex: female\\nbmi: 38.28\\nchildren: 0\\nsmoker: no\\nregion: southeast\\ncharges: 1631.8212'),\n",
       " Document(metadata={'source': 'insurance.csv', 'row': 182}, page_content='age: 22\\nsex: male\\nbmi: 19.95\\nchildren: 3\\nsmoker: no\\nregion: northeast\\ncharges: 4005.4225'),\n",
       " Document(metadata={'source': 'insurance.csv', 'row': 183}, page_content='age: 44\\nsex: female\\nbmi: 26.41\\nchildren: 0\\nsmoker: no\\nregion: northwest\\ncharges: 7419.4779'),\n",
       " Document(metadata={'source': 'insurance.csv', 'row': 184}, page_content='age: 44\\nsex: male\\nbmi: 30.69\\nchildren: 2\\nsmoker: no\\nregion: southeast\\ncharges: 7731.4271'),\n",
       " Document(metadata={'source': 'insurance.csv', 'row': 185}, page_content='age: 36\\nsex: male\\nbmi: 41.895\\nchildren: 3\\nsmoker: yes\\nregion: northeast\\ncharges: 43753.33705'),\n",
       " Document(metadata={'source': 'insurance.csv', 'row': 186}, page_content='age: 26\\nsex: female\\nbmi: 29.92\\nchildren: 2\\nsmoker: no\\nregion: southeast\\ncharges: 3981.9768'),\n",
       " Document(metadata={'source': 'insurance.csv', 'row': 187}, page_content='age: 30\\nsex: female\\nbmi: 30.9\\nchildren: 3\\nsmoker: no\\nregion: southwest\\ncharges: 5325.651'),\n",
       " Document(metadata={'source': 'insurance.csv', 'row': 188}, page_content='age: 41\\nsex: female\\nbmi: 32.2\\nchildren: 1\\nsmoker: no\\nregion: southwest\\ncharges: 6775.961'),\n",
       " Document(metadata={'source': 'insurance.csv', 'row': 189}, page_content='age: 29\\nsex: female\\nbmi: 32.11\\nchildren: 2\\nsmoker: no\\nregion: northwest\\ncharges: 4922.9159'),\n",
       " Document(metadata={'source': 'insurance.csv', 'row': 190}, page_content='age: 61\\nsex: male\\nbmi: 31.57\\nchildren: 0\\nsmoker: no\\nregion: southeast\\ncharges: 12557.6053'),\n",
       " Document(metadata={'source': 'insurance.csv', 'row': 191}, page_content='age: 36\\nsex: female\\nbmi: 26.2\\nchildren: 0\\nsmoker: no\\nregion: southwest\\ncharges: 4883.866'),\n",
       " Document(metadata={'source': 'insurance.csv', 'row': 192}, page_content='age: 25\\nsex: male\\nbmi: 25.74\\nchildren: 0\\nsmoker: no\\nregion: southeast\\ncharges: 2137.6536'),\n",
       " Document(metadata={'source': 'insurance.csv', 'row': 193}, page_content='age: 56\\nsex: female\\nbmi: 26.6\\nchildren: 1\\nsmoker: no\\nregion: northwest\\ncharges: 12044.342'),\n",
       " Document(metadata={'source': 'insurance.csv', 'row': 194}, page_content='age: 18\\nsex: male\\nbmi: 34.43\\nchildren: 0\\nsmoker: no\\nregion: southeast\\ncharges: 1137.4697'),\n",
       " Document(metadata={'source': 'insurance.csv', 'row': 195}, page_content='age: 19\\nsex: male\\nbmi: 30.59\\nchildren: 0\\nsmoker: no\\nregion: northwest\\ncharges: 1639.5631'),\n",
       " Document(metadata={'source': 'insurance.csv', 'row': 196}, page_content='age: 39\\nsex: female\\nbmi: 32.8\\nchildren: 0\\nsmoker: no\\nregion: southwest\\ncharges: 5649.715'),\n",
       " Document(metadata={'source': 'insurance.csv', 'row': 197}, page_content='age: 45\\nsex: female\\nbmi: 28.6\\nchildren: 2\\nsmoker: no\\nregion: southeast\\ncharges: 8516.829'),\n",
       " Document(metadata={'source': 'insurance.csv', 'row': 198}, page_content='age: 51\\nsex: female\\nbmi: 18.05\\nchildren: 0\\nsmoker: no\\nregion: northwest\\ncharges: 9644.2525'),\n",
       " Document(metadata={'source': 'insurance.csv', 'row': 199}, page_content='age: 64\\nsex: female\\nbmi: 39.33\\nchildren: 0\\nsmoker: no\\nregion: northeast\\ncharges: 14901.5167'),\n",
       " Document(metadata={'source': 'insurance.csv', 'row': 200}, page_content='age: 19\\nsex: female\\nbmi: 32.11\\nchildren: 0\\nsmoker: no\\nregion: northwest\\ncharges: 2130.6759'),\n",
       " Document(metadata={'source': 'insurance.csv', 'row': 201}, page_content='age: 48\\nsex: female\\nbmi: 32.23\\nchildren: 1\\nsmoker: no\\nregion: southeast\\ncharges: 8871.1517'),\n",
       " Document(metadata={'source': 'insurance.csv', 'row': 202}, page_content='age: 60\\nsex: female\\nbmi: 24.035\\nchildren: 0\\nsmoker: no\\nregion: northwest\\ncharges: 13012.20865'),\n",
       " Document(metadata={'source': 'insurance.csv', 'row': 203}, page_content='age: 27\\nsex: female\\nbmi: 36.08\\nchildren: 0\\nsmoker: yes\\nregion: southeast\\ncharges: 37133.8982'),\n",
       " Document(metadata={'source': 'insurance.csv', 'row': 204}, page_content='age: 46\\nsex: male\\nbmi: 22.3\\nchildren: 0\\nsmoker: no\\nregion: southwest\\ncharges: 7147.105'),\n",
       " Document(metadata={'source': 'insurance.csv', 'row': 205}, page_content='age: 28\\nsex: female\\nbmi: 28.88\\nchildren: 1\\nsmoker: no\\nregion: northeast\\ncharges: 4337.7352'),\n",
       " Document(metadata={'source': 'insurance.csv', 'row': 206}, page_content='age: 59\\nsex: male\\nbmi: 26.4\\nchildren: 0\\nsmoker: no\\nregion: southeast\\ncharges: 11743.299'),\n",
       " Document(metadata={'source': 'insurance.csv', 'row': 207}, page_content='age: 35\\nsex: male\\nbmi: 27.74\\nchildren: 2\\nsmoker: yes\\nregion: northeast\\ncharges: 20984.0936'),\n",
       " Document(metadata={'source': 'insurance.csv', 'row': 208}, page_content='age: 63\\nsex: female\\nbmi: 31.8\\nchildren: 0\\nsmoker: no\\nregion: southwest\\ncharges: 13880.949'),\n",
       " Document(metadata={'source': 'insurance.csv', 'row': 209}, page_content='age: 40\\nsex: male\\nbmi: 41.23\\nchildren: 1\\nsmoker: no\\nregion: northeast\\ncharges: 6610.1097'),\n",
       " Document(metadata={'source': 'insurance.csv', 'row': 210}, page_content='age: 20\\nsex: male\\nbmi: 33\\nchildren: 1\\nsmoker: no\\nregion: southwest\\ncharges: 1980.07'),\n",
       " Document(metadata={'source': 'insurance.csv', 'row': 211}, page_content='age: 40\\nsex: male\\nbmi: 30.875\\nchildren: 4\\nsmoker: no\\nregion: northwest\\ncharges: 8162.71625'),\n",
       " Document(metadata={'source': 'insurance.csv', 'row': 212}, page_content='age: 24\\nsex: male\\nbmi: 28.5\\nchildren: 2\\nsmoker: no\\nregion: northwest\\ncharges: 3537.703'),\n",
       " Document(metadata={'source': 'insurance.csv', 'row': 213}, page_content='age: 34\\nsex: female\\nbmi: 26.73\\nchildren: 1\\nsmoker: no\\nregion: southeast\\ncharges: 5002.7827'),\n",
       " Document(metadata={'source': 'insurance.csv', 'row': 214}, page_content='age: 45\\nsex: female\\nbmi: 30.9\\nchildren: 2\\nsmoker: no\\nregion: southwest\\ncharges: 8520.026'),\n",
       " Document(metadata={'source': 'insurance.csv', 'row': 215}, page_content='age: 41\\nsex: female\\nbmi: 37.1\\nchildren: 2\\nsmoker: no\\nregion: southwest\\ncharges: 7371.772'),\n",
       " Document(metadata={'source': 'insurance.csv', 'row': 216}, page_content='age: 53\\nsex: female\\nbmi: 26.6\\nchildren: 0\\nsmoker: no\\nregion: northwest\\ncharges: 10355.641'),\n",
       " Document(metadata={'source': 'insurance.csv', 'row': 217}, page_content='age: 27\\nsex: male\\nbmi: 23.1\\nchildren: 0\\nsmoker: no\\nregion: southeast\\ncharges: 2483.736'),\n",
       " Document(metadata={'source': 'insurance.csv', 'row': 218}, page_content='age: 26\\nsex: female\\nbmi: 29.92\\nchildren: 1\\nsmoker: no\\nregion: southeast\\ncharges: 3392.9768'),\n",
       " Document(metadata={'source': 'insurance.csv', 'row': 219}, page_content='age: 24\\nsex: female\\nbmi: 23.21\\nchildren: 0\\nsmoker: no\\nregion: southeast\\ncharges: 25081.76784'),\n",
       " Document(metadata={'source': 'insurance.csv', 'row': 220}, page_content='age: 34\\nsex: female\\nbmi: 33.7\\nchildren: 1\\nsmoker: no\\nregion: southwest\\ncharges: 5012.471'),\n",
       " Document(metadata={'source': 'insurance.csv', 'row': 221}, page_content='age: 53\\nsex: female\\nbmi: 33.25\\nchildren: 0\\nsmoker: no\\nregion: northeast\\ncharges: 10564.8845'),\n",
       " Document(metadata={'source': 'insurance.csv', 'row': 222}, page_content='age: 32\\nsex: male\\nbmi: 30.8\\nchildren: 3\\nsmoker: no\\nregion: southwest\\ncharges: 5253.524'),\n",
       " Document(metadata={'source': 'insurance.csv', 'row': 223}, page_content='age: 19\\nsex: male\\nbmi: 34.8\\nchildren: 0\\nsmoker: yes\\nregion: southwest\\ncharges: 34779.615'),\n",
       " Document(metadata={'source': 'insurance.csv', 'row': 224}, page_content='age: 42\\nsex: male\\nbmi: 24.64\\nchildren: 0\\nsmoker: yes\\nregion: southeast\\ncharges: 19515.5416'),\n",
       " Document(metadata={'source': 'insurance.csv', 'row': 225}, page_content='age: 55\\nsex: male\\nbmi: 33.88\\nchildren: 3\\nsmoker: no\\nregion: southeast\\ncharges: 11987.1682'),\n",
       " Document(metadata={'source': 'insurance.csv', 'row': 226}, page_content='age: 28\\nsex: male\\nbmi: 38.06\\nchildren: 0\\nsmoker: no\\nregion: southeast\\ncharges: 2689.4954'),\n",
       " Document(metadata={'source': 'insurance.csv', 'row': 227}, page_content='age: 58\\nsex: female\\nbmi: 41.91\\nchildren: 0\\nsmoker: no\\nregion: southeast\\ncharges: 24227.33724'),\n",
       " Document(metadata={'source': 'insurance.csv', 'row': 228}, page_content='age: 41\\nsex: female\\nbmi: 31.635\\nchildren: 1\\nsmoker: no\\nregion: northeast\\ncharges: 7358.17565'),\n",
       " Document(metadata={'source': 'insurance.csv', 'row': 229}, page_content='age: 47\\nsex: male\\nbmi: 25.46\\nchildren: 2\\nsmoker: no\\nregion: northeast\\ncharges: 9225.2564'),\n",
       " Document(metadata={'source': 'insurance.csv', 'row': 230}, page_content='age: 42\\nsex: female\\nbmi: 36.195\\nchildren: 1\\nsmoker: no\\nregion: northwest\\ncharges: 7443.64305'),\n",
       " Document(metadata={'source': 'insurance.csv', 'row': 231}, page_content='age: 59\\nsex: female\\nbmi: 27.83\\nchildren: 3\\nsmoker: no\\nregion: southeast\\ncharges: 14001.2867'),\n",
       " Document(metadata={'source': 'insurance.csv', 'row': 232}, page_content='age: 19\\nsex: female\\nbmi: 17.8\\nchildren: 0\\nsmoker: no\\nregion: southwest\\ncharges: 1727.785'),\n",
       " Document(metadata={'source': 'insurance.csv', 'row': 233}, page_content='age: 59\\nsex: male\\nbmi: 27.5\\nchildren: 1\\nsmoker: no\\nregion: southwest\\ncharges: 12333.828'),\n",
       " Document(metadata={'source': 'insurance.csv', 'row': 234}, page_content='age: 39\\nsex: male\\nbmi: 24.51\\nchildren: 2\\nsmoker: no\\nregion: northwest\\ncharges: 6710.1919'),\n",
       " Document(metadata={'source': 'insurance.csv', 'row': 235}, page_content='age: 40\\nsex: female\\nbmi: 22.22\\nchildren: 2\\nsmoker: yes\\nregion: southeast\\ncharges: 19444.2658'),\n",
       " Document(metadata={'source': 'insurance.csv', 'row': 236}, page_content='age: 18\\nsex: female\\nbmi: 26.73\\nchildren: 0\\nsmoker: no\\nregion: southeast\\ncharges: 1615.7667'),\n",
       " Document(metadata={'source': 'insurance.csv', 'row': 237}, page_content='age: 31\\nsex: male\\nbmi: 38.39\\nchildren: 2\\nsmoker: no\\nregion: southeast\\ncharges: 4463.2051'),\n",
       " Document(metadata={'source': 'insurance.csv', 'row': 238}, page_content='age: 19\\nsex: male\\nbmi: 29.07\\nchildren: 0\\nsmoker: yes\\nregion: northwest\\ncharges: 17352.6803'),\n",
       " Document(metadata={'source': 'insurance.csv', 'row': 239}, page_content='age: 44\\nsex: male\\nbmi: 38.06\\nchildren: 1\\nsmoker: no\\nregion: southeast\\ncharges: 7152.6714'),\n",
       " Document(metadata={'source': 'insurance.csv', 'row': 240}, page_content='age: 23\\nsex: female\\nbmi: 36.67\\nchildren: 2\\nsmoker: yes\\nregion: northeast\\ncharges: 38511.6283'),\n",
       " Document(metadata={'source': 'insurance.csv', 'row': 241}, page_content='age: 33\\nsex: female\\nbmi: 22.135\\nchildren: 1\\nsmoker: no\\nregion: northeast\\ncharges: 5354.07465'),\n",
       " Document(metadata={'source': 'insurance.csv', 'row': 242}, page_content='age: 55\\nsex: female\\nbmi: 26.8\\nchildren: 1\\nsmoker: no\\nregion: southwest\\ncharges: 35160.13457'),\n",
       " Document(metadata={'source': 'insurance.csv', 'row': 243}, page_content='age: 40\\nsex: male\\nbmi: 35.3\\nchildren: 3\\nsmoker: no\\nregion: southwest\\ncharges: 7196.867'),\n",
       " Document(metadata={'source': 'insurance.csv', 'row': 244}, page_content='age: 63\\nsex: female\\nbmi: 27.74\\nchildren: 0\\nsmoker: yes\\nregion: northeast\\ncharges: 29523.1656'),\n",
       " Document(metadata={'source': 'insurance.csv', 'row': 245}, page_content='age: 54\\nsex: male\\nbmi: 30.02\\nchildren: 0\\nsmoker: no\\nregion: northwest\\ncharges: 24476.47851'),\n",
       " Document(metadata={'source': 'insurance.csv', 'row': 246}, page_content='age: 60\\nsex: female\\nbmi: 38.06\\nchildren: 0\\nsmoker: no\\nregion: southeast\\ncharges: 12648.7034'),\n",
       " Document(metadata={'source': 'insurance.csv', 'row': 247}, page_content='age: 24\\nsex: male\\nbmi: 35.86\\nchildren: 0\\nsmoker: no\\nregion: southeast\\ncharges: 1986.9334'),\n",
       " Document(metadata={'source': 'insurance.csv', 'row': 248}, page_content='age: 19\\nsex: male\\nbmi: 20.9\\nchildren: 1\\nsmoker: no\\nregion: southwest\\ncharges: 1832.094'),\n",
       " Document(metadata={'source': 'insurance.csv', 'row': 249}, page_content='age: 29\\nsex: male\\nbmi: 28.975\\nchildren: 1\\nsmoker: no\\nregion: northeast\\ncharges: 4040.55825'),\n",
       " Document(metadata={'source': 'insurance.csv', 'row': 250}, page_content='age: 18\\nsex: male\\nbmi: 17.29\\nchildren: 2\\nsmoker: yes\\nregion: northeast\\ncharges: 12829.4551'),\n",
       " Document(metadata={'source': 'insurance.csv', 'row': 251}, page_content='age: 63\\nsex: female\\nbmi: 32.2\\nchildren: 2\\nsmoker: yes\\nregion: southwest\\ncharges: 47305.305'),\n",
       " Document(metadata={'source': 'insurance.csv', 'row': 252}, page_content='age: 54\\nsex: male\\nbmi: 34.21\\nchildren: 2\\nsmoker: yes\\nregion: southeast\\ncharges: 44260.7499'),\n",
       " Document(metadata={'source': 'insurance.csv', 'row': 253}, page_content='age: 27\\nsex: male\\nbmi: 30.3\\nchildren: 3\\nsmoker: no\\nregion: southwest\\ncharges: 4260.744'),\n",
       " Document(metadata={'source': 'insurance.csv', 'row': 254}, page_content='age: 50\\nsex: male\\nbmi: 31.825\\nchildren: 0\\nsmoker: yes\\nregion: northeast\\ncharges: 41097.16175'),\n",
       " Document(metadata={'source': 'insurance.csv', 'row': 255}, page_content='age: 55\\nsex: female\\nbmi: 25.365\\nchildren: 3\\nsmoker: no\\nregion: northeast\\ncharges: 13047.33235'),\n",
       " Document(metadata={'source': 'insurance.csv', 'row': 256}, page_content='age: 56\\nsex: male\\nbmi: 33.63\\nchildren: 0\\nsmoker: yes\\nregion: northwest\\ncharges: 43921.1837'),\n",
       " Document(metadata={'source': 'insurance.csv', 'row': 257}, page_content='age: 38\\nsex: female\\nbmi: 40.15\\nchildren: 0\\nsmoker: no\\nregion: southeast\\ncharges: 5400.9805'),\n",
       " Document(metadata={'source': 'insurance.csv', 'row': 258}, page_content='age: 51\\nsex: male\\nbmi: 24.415\\nchildren: 4\\nsmoker: no\\nregion: northwest\\ncharges: 11520.09985'),\n",
       " Document(metadata={'source': 'insurance.csv', 'row': 259}, page_content='age: 19\\nsex: male\\nbmi: 31.92\\nchildren: 0\\nsmoker: yes\\nregion: northwest\\ncharges: 33750.2918'),\n",
       " Document(metadata={'source': 'insurance.csv', 'row': 260}, page_content='age: 58\\nsex: female\\nbmi: 25.2\\nchildren: 0\\nsmoker: no\\nregion: southwest\\ncharges: 11837.16'),\n",
       " Document(metadata={'source': 'insurance.csv', 'row': 261}, page_content='age: 20\\nsex: female\\nbmi: 26.84\\nchildren: 1\\nsmoker: yes\\nregion: southeast\\ncharges: 17085.2676'),\n",
       " Document(metadata={'source': 'insurance.csv', 'row': 262}, page_content='age: 52\\nsex: male\\nbmi: 24.32\\nchildren: 3\\nsmoker: yes\\nregion: northeast\\ncharges: 24869.8368'),\n",
       " Document(metadata={'source': 'insurance.csv', 'row': 263}, page_content='age: 19\\nsex: male\\nbmi: 36.955\\nchildren: 0\\nsmoker: yes\\nregion: northwest\\ncharges: 36219.40545'),\n",
       " Document(metadata={'source': 'insurance.csv', 'row': 264}, page_content='age: 53\\nsex: female\\nbmi: 38.06\\nchildren: 3\\nsmoker: no\\nregion: southeast\\ncharges: 20462.99766'),\n",
       " Document(metadata={'source': 'insurance.csv', 'row': 265}, page_content='age: 46\\nsex: male\\nbmi: 42.35\\nchildren: 3\\nsmoker: yes\\nregion: southeast\\ncharges: 46151.1245'),\n",
       " Document(metadata={'source': 'insurance.csv', 'row': 266}, page_content='age: 40\\nsex: male\\nbmi: 19.8\\nchildren: 1\\nsmoker: yes\\nregion: southeast\\ncharges: 17179.522'),\n",
       " Document(metadata={'source': 'insurance.csv', 'row': 267}, page_content='age: 59\\nsex: female\\nbmi: 32.395\\nchildren: 3\\nsmoker: no\\nregion: northeast\\ncharges: 14590.63205'),\n",
       " Document(metadata={'source': 'insurance.csv', 'row': 268}, page_content='age: 45\\nsex: male\\nbmi: 30.2\\nchildren: 1\\nsmoker: no\\nregion: southwest\\ncharges: 7441.053'),\n",
       " Document(metadata={'source': 'insurance.csv', 'row': 269}, page_content='age: 49\\nsex: male\\nbmi: 25.84\\nchildren: 1\\nsmoker: no\\nregion: northeast\\ncharges: 9282.4806'),\n",
       " Document(metadata={'source': 'insurance.csv', 'row': 270}, page_content='age: 18\\nsex: male\\nbmi: 29.37\\nchildren: 1\\nsmoker: no\\nregion: southeast\\ncharges: 1719.4363'),\n",
       " Document(metadata={'source': 'insurance.csv', 'row': 271}, page_content='age: 50\\nsex: male\\nbmi: 34.2\\nchildren: 2\\nsmoker: yes\\nregion: southwest\\ncharges: 42856.838'),\n",
       " Document(metadata={'source': 'insurance.csv', 'row': 272}, page_content='age: 41\\nsex: male\\nbmi: 37.05\\nchildren: 2\\nsmoker: no\\nregion: northwest\\ncharges: 7265.7025'),\n",
       " Document(metadata={'source': 'insurance.csv', 'row': 273}, page_content='age: 50\\nsex: male\\nbmi: 27.455\\nchildren: 1\\nsmoker: no\\nregion: northeast\\ncharges: 9617.66245'),\n",
       " Document(metadata={'source': 'insurance.csv', 'row': 274}, page_content='age: 25\\nsex: male\\nbmi: 27.55\\nchildren: 0\\nsmoker: no\\nregion: northwest\\ncharges: 2523.1695'),\n",
       " Document(metadata={'source': 'insurance.csv', 'row': 275}, page_content='age: 47\\nsex: female\\nbmi: 26.6\\nchildren: 2\\nsmoker: no\\nregion: northeast\\ncharges: 9715.841'),\n",
       " Document(metadata={'source': 'insurance.csv', 'row': 276}, page_content='age: 19\\nsex: male\\nbmi: 20.615\\nchildren: 2\\nsmoker: no\\nregion: northwest\\ncharges: 2803.69785'),\n",
       " Document(metadata={'source': 'insurance.csv', 'row': 277}, page_content='age: 22\\nsex: female\\nbmi: 24.3\\nchildren: 0\\nsmoker: no\\nregion: southwest\\ncharges: 2150.469'),\n",
       " Document(metadata={'source': 'insurance.csv', 'row': 278}, page_content='age: 59\\nsex: male\\nbmi: 31.79\\nchildren: 2\\nsmoker: no\\nregion: southeast\\ncharges: 12928.7911'),\n",
       " Document(metadata={'source': 'insurance.csv', 'row': 279}, page_content='age: 51\\nsex: female\\nbmi: 21.56\\nchildren: 1\\nsmoker: no\\nregion: southeast\\ncharges: 9855.1314'),\n",
       " Document(metadata={'source': 'insurance.csv', 'row': 280}, page_content='age: 40\\nsex: female\\nbmi: 28.12\\nchildren: 1\\nsmoker: yes\\nregion: northeast\\ncharges: 22331.5668'),\n",
       " Document(metadata={'source': 'insurance.csv', 'row': 281}, page_content='age: 54\\nsex: male\\nbmi: 40.565\\nchildren: 3\\nsmoker: yes\\nregion: northeast\\ncharges: 48549.17835'),\n",
       " Document(metadata={'source': 'insurance.csv', 'row': 282}, page_content='age: 30\\nsex: male\\nbmi: 27.645\\nchildren: 1\\nsmoker: no\\nregion: northeast\\ncharges: 4237.12655'),\n",
       " Document(metadata={'source': 'insurance.csv', 'row': 283}, page_content='age: 55\\nsex: female\\nbmi: 32.395\\nchildren: 1\\nsmoker: no\\nregion: northeast\\ncharges: 11879.10405'),\n",
       " Document(metadata={'source': 'insurance.csv', 'row': 284}, page_content='age: 52\\nsex: female\\nbmi: 31.2\\nchildren: 0\\nsmoker: no\\nregion: southwest\\ncharges: 9625.92'),\n",
       " Document(metadata={'source': 'insurance.csv', 'row': 285}, page_content='age: 46\\nsex: male\\nbmi: 26.62\\nchildren: 1\\nsmoker: no\\nregion: southeast\\ncharges: 7742.1098'),\n",
       " Document(metadata={'source': 'insurance.csv', 'row': 286}, page_content='age: 46\\nsex: female\\nbmi: 48.07\\nchildren: 2\\nsmoker: no\\nregion: northeast\\ncharges: 9432.9253'),\n",
       " Document(metadata={'source': 'insurance.csv', 'row': 287}, page_content='age: 63\\nsex: female\\nbmi: 26.22\\nchildren: 0\\nsmoker: no\\nregion: northwest\\ncharges: 14256.1928'),\n",
       " Document(metadata={'source': 'insurance.csv', 'row': 288}, page_content='age: 59\\nsex: female\\nbmi: 36.765\\nchildren: 1\\nsmoker: yes\\nregion: northeast\\ncharges: 47896.79135'),\n",
       " Document(metadata={'source': 'insurance.csv', 'row': 289}, page_content='age: 52\\nsex: male\\nbmi: 26.4\\nchildren: 3\\nsmoker: no\\nregion: southeast\\ncharges: 25992.82104'),\n",
       " Document(metadata={'source': 'insurance.csv', 'row': 290}, page_content='age: 28\\nsex: female\\nbmi: 33.4\\nchildren: 0\\nsmoker: no\\nregion: southwest\\ncharges: 3172.018'),\n",
       " Document(metadata={'source': 'insurance.csv', 'row': 291}, page_content='age: 29\\nsex: male\\nbmi: 29.64\\nchildren: 1\\nsmoker: no\\nregion: northeast\\ncharges: 20277.80751'),\n",
       " Document(metadata={'source': 'insurance.csv', 'row': 292}, page_content='age: 25\\nsex: male\\nbmi: 45.54\\nchildren: 2\\nsmoker: yes\\nregion: southeast\\ncharges: 42112.2356'),\n",
       " Document(metadata={'source': 'insurance.csv', 'row': 293}, page_content='age: 22\\nsex: female\\nbmi: 28.82\\nchildren: 0\\nsmoker: no\\nregion: southeast\\ncharges: 2156.7518'),\n",
       " Document(metadata={'source': 'insurance.csv', 'row': 294}, page_content='age: 25\\nsex: male\\nbmi: 26.8\\nchildren: 3\\nsmoker: no\\nregion: southwest\\ncharges: 3906.127'),\n",
       " Document(metadata={'source': 'insurance.csv', 'row': 295}, page_content='age: 18\\nsex: male\\nbmi: 22.99\\nchildren: 0\\nsmoker: no\\nregion: northeast\\ncharges: 1704.5681'),\n",
       " Document(metadata={'source': 'insurance.csv', 'row': 296}, page_content='age: 19\\nsex: male\\nbmi: 27.7\\nchildren: 0\\nsmoker: yes\\nregion: southwest\\ncharges: 16297.846'),\n",
       " Document(metadata={'source': 'insurance.csv', 'row': 297}, page_content='age: 47\\nsex: male\\nbmi: 25.41\\nchildren: 1\\nsmoker: yes\\nregion: southeast\\ncharges: 21978.6769'),\n",
       " Document(metadata={'source': 'insurance.csv', 'row': 298}, page_content='age: 31\\nsex: male\\nbmi: 34.39\\nchildren: 3\\nsmoker: yes\\nregion: northwest\\ncharges: 38746.3551'),\n",
       " Document(metadata={'source': 'insurance.csv', 'row': 299}, page_content='age: 48\\nsex: female\\nbmi: 28.88\\nchildren: 1\\nsmoker: no\\nregion: northwest\\ncharges: 9249.4952'),\n",
       " Document(metadata={'source': 'insurance.csv', 'row': 300}, page_content='age: 36\\nsex: male\\nbmi: 27.55\\nchildren: 3\\nsmoker: no\\nregion: northeast\\ncharges: 6746.7425'),\n",
       " Document(metadata={'source': 'insurance.csv', 'row': 301}, page_content='age: 53\\nsex: female\\nbmi: 22.61\\nchildren: 3\\nsmoker: yes\\nregion: northeast\\ncharges: 24873.3849'),\n",
       " Document(metadata={'source': 'insurance.csv', 'row': 302}, page_content='age: 56\\nsex: female\\nbmi: 37.51\\nchildren: 2\\nsmoker: no\\nregion: southeast\\ncharges: 12265.5069'),\n",
       " Document(metadata={'source': 'insurance.csv', 'row': 303}, page_content='age: 28\\nsex: female\\nbmi: 33\\nchildren: 2\\nsmoker: no\\nregion: southeast\\ncharges: 4349.462'),\n",
       " Document(metadata={'source': 'insurance.csv', 'row': 304}, page_content='age: 57\\nsex: female\\nbmi: 38\\nchildren: 2\\nsmoker: no\\nregion: southwest\\ncharges: 12646.207'),\n",
       " Document(metadata={'source': 'insurance.csv', 'row': 305}, page_content='age: 29\\nsex: male\\nbmi: 33.345\\nchildren: 2\\nsmoker: no\\nregion: northwest\\ncharges: 19442.3535'),\n",
       " Document(metadata={'source': 'insurance.csv', 'row': 306}, page_content='age: 28\\nsex: female\\nbmi: 27.5\\nchildren: 2\\nsmoker: no\\nregion: southwest\\ncharges: 20177.67113'),\n",
       " Document(metadata={'source': 'insurance.csv', 'row': 307}, page_content='age: 30\\nsex: female\\nbmi: 33.33\\nchildren: 1\\nsmoker: no\\nregion: southeast\\ncharges: 4151.0287'),\n",
       " Document(metadata={'source': 'insurance.csv', 'row': 308}, page_content='age: 58\\nsex: male\\nbmi: 34.865\\nchildren: 0\\nsmoker: no\\nregion: northeast\\ncharges: 11944.59435'),\n",
       " Document(metadata={'source': 'insurance.csv', 'row': 309}, page_content='age: 41\\nsex: female\\nbmi: 33.06\\nchildren: 2\\nsmoker: no\\nregion: northwest\\ncharges: 7749.1564'),\n",
       " Document(metadata={'source': 'insurance.csv', 'row': 310}, page_content='age: 50\\nsex: male\\nbmi: 26.6\\nchildren: 0\\nsmoker: no\\nregion: southwest\\ncharges: 8444.474'),\n",
       " Document(metadata={'source': 'insurance.csv', 'row': 311}, page_content='age: 19\\nsex: female\\nbmi: 24.7\\nchildren: 0\\nsmoker: no\\nregion: southwest\\ncharges: 1737.376'),\n",
       " Document(metadata={'source': 'insurance.csv', 'row': 312}, page_content='age: 43\\nsex: male\\nbmi: 35.97\\nchildren: 3\\nsmoker: yes\\nregion: southeast\\ncharges: 42124.5153'),\n",
       " Document(metadata={'source': 'insurance.csv', 'row': 313}, page_content='age: 49\\nsex: male\\nbmi: 35.86\\nchildren: 0\\nsmoker: no\\nregion: southeast\\ncharges: 8124.4084'),\n",
       " Document(metadata={'source': 'insurance.csv', 'row': 314}, page_content='age: 27\\nsex: female\\nbmi: 31.4\\nchildren: 0\\nsmoker: yes\\nregion: southwest\\ncharges: 34838.873'),\n",
       " Document(metadata={'source': 'insurance.csv', 'row': 315}, page_content='age: 52\\nsex: male\\nbmi: 33.25\\nchildren: 0\\nsmoker: no\\nregion: northeast\\ncharges: 9722.7695'),\n",
       " Document(metadata={'source': 'insurance.csv', 'row': 316}, page_content='age: 50\\nsex: male\\nbmi: 32.205\\nchildren: 0\\nsmoker: no\\nregion: northwest\\ncharges: 8835.26495'),\n",
       " Document(metadata={'source': 'insurance.csv', 'row': 317}, page_content='age: 54\\nsex: male\\nbmi: 32.775\\nchildren: 0\\nsmoker: no\\nregion: northeast\\ncharges: 10435.06525'),\n",
       " Document(metadata={'source': 'insurance.csv', 'row': 318}, page_content='age: 44\\nsex: female\\nbmi: 27.645\\nchildren: 0\\nsmoker: no\\nregion: northwest\\ncharges: 7421.19455'),\n",
       " Document(metadata={'source': 'insurance.csv', 'row': 319}, page_content='age: 32\\nsex: male\\nbmi: 37.335\\nchildren: 1\\nsmoker: no\\nregion: northeast\\ncharges: 4667.60765'),\n",
       " Document(metadata={'source': 'insurance.csv', 'row': 320}, page_content='age: 34\\nsex: male\\nbmi: 25.27\\nchildren: 1\\nsmoker: no\\nregion: northwest\\ncharges: 4894.7533'),\n",
       " Document(metadata={'source': 'insurance.csv', 'row': 321}, page_content='age: 26\\nsex: female\\nbmi: 29.64\\nchildren: 4\\nsmoker: no\\nregion: northeast\\ncharges: 24671.66334'),\n",
       " Document(metadata={'source': 'insurance.csv', 'row': 322}, page_content='age: 34\\nsex: male\\nbmi: 30.8\\nchildren: 0\\nsmoker: yes\\nregion: southwest\\ncharges: 35491.64'),\n",
       " Document(metadata={'source': 'insurance.csv', 'row': 323}, page_content='age: 57\\nsex: male\\nbmi: 40.945\\nchildren: 0\\nsmoker: no\\nregion: northeast\\ncharges: 11566.30055'),\n",
       " Document(metadata={'source': 'insurance.csv', 'row': 324}, page_content='age: 29\\nsex: male\\nbmi: 27.2\\nchildren: 0\\nsmoker: no\\nregion: southwest\\ncharges: 2866.091'),\n",
       " Document(metadata={'source': 'insurance.csv', 'row': 325}, page_content='age: 40\\nsex: male\\nbmi: 34.105\\nchildren: 1\\nsmoker: no\\nregion: northeast\\ncharges: 6600.20595'),\n",
       " Document(metadata={'source': 'insurance.csv', 'row': 326}, page_content='age: 27\\nsex: female\\nbmi: 23.21\\nchildren: 1\\nsmoker: no\\nregion: southeast\\ncharges: 3561.8889'),\n",
       " Document(metadata={'source': 'insurance.csv', 'row': 327}, page_content='age: 45\\nsex: male\\nbmi: 36.48\\nchildren: 2\\nsmoker: yes\\nregion: northwest\\ncharges: 42760.5022'),\n",
       " Document(metadata={'source': 'insurance.csv', 'row': 328}, page_content='age: 64\\nsex: female\\nbmi: 33.8\\nchildren: 1\\nsmoker: yes\\nregion: southwest\\ncharges: 47928.03'),\n",
       " Document(metadata={'source': 'insurance.csv', 'row': 329}, page_content='age: 52\\nsex: male\\nbmi: 36.7\\nchildren: 0\\nsmoker: no\\nregion: southwest\\ncharges: 9144.565'),\n",
       " Document(metadata={'source': 'insurance.csv', 'row': 330}, page_content='age: 61\\nsex: female\\nbmi: 36.385\\nchildren: 1\\nsmoker: yes\\nregion: northeast\\ncharges: 48517.56315'),\n",
       " Document(metadata={'source': 'insurance.csv', 'row': 331}, page_content='age: 52\\nsex: male\\nbmi: 27.36\\nchildren: 0\\nsmoker: yes\\nregion: northwest\\ncharges: 24393.6224'),\n",
       " Document(metadata={'source': 'insurance.csv', 'row': 332}, page_content='age: 61\\nsex: female\\nbmi: 31.16\\nchildren: 0\\nsmoker: no\\nregion: northwest\\ncharges: 13429.0354'),\n",
       " Document(metadata={'source': 'insurance.csv', 'row': 333}, page_content='age: 56\\nsex: female\\nbmi: 28.785\\nchildren: 0\\nsmoker: no\\nregion: northeast\\ncharges: 11658.37915'),\n",
       " Document(metadata={'source': 'insurance.csv', 'row': 334}, page_content='age: 43\\nsex: female\\nbmi: 35.72\\nchildren: 2\\nsmoker: no\\nregion: northeast\\ncharges: 19144.57652'),\n",
       " Document(metadata={'source': 'insurance.csv', 'row': 335}, page_content='age: 64\\nsex: male\\nbmi: 34.5\\nchildren: 0\\nsmoker: no\\nregion: southwest\\ncharges: 13822.803'),\n",
       " Document(metadata={'source': 'insurance.csv', 'row': 336}, page_content='age: 60\\nsex: male\\nbmi: 25.74\\nchildren: 0\\nsmoker: no\\nregion: southeast\\ncharges: 12142.5786'),\n",
       " Document(metadata={'source': 'insurance.csv', 'row': 337}, page_content='age: 62\\nsex: male\\nbmi: 27.55\\nchildren: 1\\nsmoker: no\\nregion: northwest\\ncharges: 13937.6665'),\n",
       " Document(metadata={'source': 'insurance.csv', 'row': 338}, page_content='age: 50\\nsex: male\\nbmi: 32.3\\nchildren: 1\\nsmoker: yes\\nregion: northeast\\ncharges: 41919.097'),\n",
       " Document(metadata={'source': 'insurance.csv', 'row': 339}, page_content='age: 46\\nsex: female\\nbmi: 27.72\\nchildren: 1\\nsmoker: no\\nregion: southeast\\ncharges: 8232.6388'),\n",
       " Document(metadata={'source': 'insurance.csv', 'row': 340}, page_content='age: 24\\nsex: female\\nbmi: 27.6\\nchildren: 0\\nsmoker: no\\nregion: southwest\\ncharges: 18955.22017'),\n",
       " Document(metadata={'source': 'insurance.csv', 'row': 341}, page_content='age: 62\\nsex: male\\nbmi: 30.02\\nchildren: 0\\nsmoker: no\\nregion: northwest\\ncharges: 13352.0998'),\n",
       " Document(metadata={'source': 'insurance.csv', 'row': 342}, page_content='age: 60\\nsex: female\\nbmi: 27.55\\nchildren: 0\\nsmoker: no\\nregion: northeast\\ncharges: 13217.0945'),\n",
       " Document(metadata={'source': 'insurance.csv', 'row': 343}, page_content='age: 63\\nsex: male\\nbmi: 36.765\\nchildren: 0\\nsmoker: no\\nregion: northeast\\ncharges: 13981.85035'),\n",
       " Document(metadata={'source': 'insurance.csv', 'row': 344}, page_content='age: 49\\nsex: female\\nbmi: 41.47\\nchildren: 4\\nsmoker: no\\nregion: southeast\\ncharges: 10977.2063'),\n",
       " Document(metadata={'source': 'insurance.csv', 'row': 345}, page_content='age: 34\\nsex: female\\nbmi: 29.26\\nchildren: 3\\nsmoker: no\\nregion: southeast\\ncharges: 6184.2994'),\n",
       " Document(metadata={'source': 'insurance.csv', 'row': 346}, page_content='age: 33\\nsex: male\\nbmi: 35.75\\nchildren: 2\\nsmoker: no\\nregion: southeast\\ncharges: 4889.9995'),\n",
       " Document(metadata={'source': 'insurance.csv', 'row': 347}, page_content='age: 46\\nsex: male\\nbmi: 33.345\\nchildren: 1\\nsmoker: no\\nregion: northeast\\ncharges: 8334.45755'),\n",
       " Document(metadata={'source': 'insurance.csv', 'row': 348}, page_content='age: 36\\nsex: female\\nbmi: 29.92\\nchildren: 1\\nsmoker: no\\nregion: southeast\\ncharges: 5478.0368'),\n",
       " Document(metadata={'source': 'insurance.csv', 'row': 349}, page_content='age: 19\\nsex: male\\nbmi: 27.835\\nchildren: 0\\nsmoker: no\\nregion: northwest\\ncharges: 1635.73365'),\n",
       " Document(metadata={'source': 'insurance.csv', 'row': 350}, page_content='age: 57\\nsex: female\\nbmi: 23.18\\nchildren: 0\\nsmoker: no\\nregion: northwest\\ncharges: 11830.6072'),\n",
       " Document(metadata={'source': 'insurance.csv', 'row': 351}, page_content='age: 50\\nsex: female\\nbmi: 25.6\\nchildren: 0\\nsmoker: no\\nregion: southwest\\ncharges: 8932.084'),\n",
       " Document(metadata={'source': 'insurance.csv', 'row': 352}, page_content='age: 30\\nsex: female\\nbmi: 27.7\\nchildren: 0\\nsmoker: no\\nregion: southwest\\ncharges: 3554.203'),\n",
       " Document(metadata={'source': 'insurance.csv', 'row': 353}, page_content='age: 33\\nsex: male\\nbmi: 35.245\\nchildren: 0\\nsmoker: no\\nregion: northeast\\ncharges: 12404.8791'),\n",
       " Document(metadata={'source': 'insurance.csv', 'row': 354}, page_content='age: 18\\nsex: female\\nbmi: 38.28\\nchildren: 0\\nsmoker: no\\nregion: southeast\\ncharges: 14133.03775'),\n",
       " Document(metadata={'source': 'insurance.csv', 'row': 355}, page_content='age: 46\\nsex: male\\nbmi: 27.6\\nchildren: 0\\nsmoker: no\\nregion: southwest\\ncharges: 24603.04837'),\n",
       " Document(metadata={'source': 'insurance.csv', 'row': 356}, page_content='age: 46\\nsex: male\\nbmi: 43.89\\nchildren: 3\\nsmoker: no\\nregion: southeast\\ncharges: 8944.1151'),\n",
       " Document(metadata={'source': 'insurance.csv', 'row': 357}, page_content='age: 47\\nsex: male\\nbmi: 29.83\\nchildren: 3\\nsmoker: no\\nregion: northwest\\ncharges: 9620.3307'),\n",
       " Document(metadata={'source': 'insurance.csv', 'row': 358}, page_content='age: 23\\nsex: male\\nbmi: 41.91\\nchildren: 0\\nsmoker: no\\nregion: southeast\\ncharges: 1837.2819'),\n",
       " Document(metadata={'source': 'insurance.csv', 'row': 359}, page_content='age: 18\\nsex: female\\nbmi: 20.79\\nchildren: 0\\nsmoker: no\\nregion: southeast\\ncharges: 1607.5101'),\n",
       " Document(metadata={'source': 'insurance.csv', 'row': 360}, page_content='age: 48\\nsex: female\\nbmi: 32.3\\nchildren: 2\\nsmoker: no\\nregion: northeast\\ncharges: 10043.249'),\n",
       " Document(metadata={'source': 'insurance.csv', 'row': 361}, page_content='age: 35\\nsex: male\\nbmi: 30.5\\nchildren: 1\\nsmoker: no\\nregion: southwest\\ncharges: 4751.07'),\n",
       " Document(metadata={'source': 'insurance.csv', 'row': 362}, page_content='age: 19\\nsex: female\\nbmi: 21.7\\nchildren: 0\\nsmoker: yes\\nregion: southwest\\ncharges: 13844.506'),\n",
       " Document(metadata={'source': 'insurance.csv', 'row': 363}, page_content='age: 21\\nsex: female\\nbmi: 26.4\\nchildren: 1\\nsmoker: no\\nregion: southwest\\ncharges: 2597.779'),\n",
       " Document(metadata={'source': 'insurance.csv', 'row': 364}, page_content='age: 21\\nsex: female\\nbmi: 21.89\\nchildren: 2\\nsmoker: no\\nregion: southeast\\ncharges: 3180.5101'),\n",
       " Document(metadata={'source': 'insurance.csv', 'row': 365}, page_content='age: 49\\nsex: female\\nbmi: 30.78\\nchildren: 1\\nsmoker: no\\nregion: northeast\\ncharges: 9778.3472'),\n",
       " Document(metadata={'source': 'insurance.csv', 'row': 366}, page_content='age: 56\\nsex: female\\nbmi: 32.3\\nchildren: 3\\nsmoker: no\\nregion: northeast\\ncharges: 13430.265'),\n",
       " Document(metadata={'source': 'insurance.csv', 'row': 367}, page_content='age: 42\\nsex: female\\nbmi: 24.985\\nchildren: 2\\nsmoker: no\\nregion: northwest\\ncharges: 8017.06115'),\n",
       " Document(metadata={'source': 'insurance.csv', 'row': 368}, page_content='age: 44\\nsex: male\\nbmi: 32.015\\nchildren: 2\\nsmoker: no\\nregion: northwest\\ncharges: 8116.26885'),\n",
       " Document(metadata={'source': 'insurance.csv', 'row': 369}, page_content='age: 18\\nsex: male\\nbmi: 30.4\\nchildren: 3\\nsmoker: no\\nregion: northeast\\ncharges: 3481.868'),\n",
       " Document(metadata={'source': 'insurance.csv', 'row': 370}, page_content='age: 61\\nsex: female\\nbmi: 21.09\\nchildren: 0\\nsmoker: no\\nregion: northwest\\ncharges: 13415.0381'),\n",
       " Document(metadata={'source': 'insurance.csv', 'row': 371}, page_content='age: 57\\nsex: female\\nbmi: 22.23\\nchildren: 0\\nsmoker: no\\nregion: northeast\\ncharges: 12029.2867'),\n",
       " Document(metadata={'source': 'insurance.csv', 'row': 372}, page_content='age: 42\\nsex: female\\nbmi: 33.155\\nchildren: 1\\nsmoker: no\\nregion: northeast\\ncharges: 7639.41745'),\n",
       " Document(metadata={'source': 'insurance.csv', 'row': 373}, page_content='age: 26\\nsex: male\\nbmi: 32.9\\nchildren: 2\\nsmoker: yes\\nregion: southwest\\ncharges: 36085.219'),\n",
       " Document(metadata={'source': 'insurance.csv', 'row': 374}, page_content='age: 20\\nsex: male\\nbmi: 33.33\\nchildren: 0\\nsmoker: no\\nregion: southeast\\ncharges: 1391.5287'),\n",
       " Document(metadata={'source': 'insurance.csv', 'row': 375}, page_content='age: 23\\nsex: female\\nbmi: 28.31\\nchildren: 0\\nsmoker: yes\\nregion: northwest\\ncharges: 18033.9679'),\n",
       " Document(metadata={'source': 'insurance.csv', 'row': 376}, page_content='age: 39\\nsex: female\\nbmi: 24.89\\nchildren: 3\\nsmoker: yes\\nregion: northeast\\ncharges: 21659.9301'),\n",
       " Document(metadata={'source': 'insurance.csv', 'row': 377}, page_content='age: 24\\nsex: male\\nbmi: 40.15\\nchildren: 0\\nsmoker: yes\\nregion: southeast\\ncharges: 38126.2465'),\n",
       " Document(metadata={'source': 'insurance.csv', 'row': 378}, page_content='age: 64\\nsex: female\\nbmi: 30.115\\nchildren: 3\\nsmoker: no\\nregion: northwest\\ncharges: 16455.70785'),\n",
       " Document(metadata={'source': 'insurance.csv', 'row': 379}, page_content='age: 62\\nsex: male\\nbmi: 31.46\\nchildren: 1\\nsmoker: no\\nregion: southeast\\ncharges: 27000.98473'),\n",
       " Document(metadata={'source': 'insurance.csv', 'row': 380}, page_content='age: 27\\nsex: female\\nbmi: 17.955\\nchildren: 2\\nsmoker: yes\\nregion: northeast\\ncharges: 15006.57945'),\n",
       " Document(metadata={'source': 'insurance.csv', 'row': 381}, page_content='age: 55\\nsex: male\\nbmi: 30.685\\nchildren: 0\\nsmoker: yes\\nregion: northeast\\ncharges: 42303.69215'),\n",
       " Document(metadata={'source': 'insurance.csv', 'row': 382}, page_content='age: 55\\nsex: male\\nbmi: 33\\nchildren: 0\\nsmoker: no\\nregion: southeast\\ncharges: 20781.48892'),\n",
       " Document(metadata={'source': 'insurance.csv', 'row': 383}, page_content='age: 35\\nsex: female\\nbmi: 43.34\\nchildren: 2\\nsmoker: no\\nregion: southeast\\ncharges: 5846.9176'),\n",
       " Document(metadata={'source': 'insurance.csv', 'row': 384}, page_content='age: 44\\nsex: male\\nbmi: 22.135\\nchildren: 2\\nsmoker: no\\nregion: northeast\\ncharges: 8302.53565'),\n",
       " Document(metadata={'source': 'insurance.csv', 'row': 385}, page_content='age: 19\\nsex: male\\nbmi: 34.4\\nchildren: 0\\nsmoker: no\\nregion: southwest\\ncharges: 1261.859'),\n",
       " Document(metadata={'source': 'insurance.csv', 'row': 386}, page_content='age: 58\\nsex: female\\nbmi: 39.05\\nchildren: 0\\nsmoker: no\\nregion: southeast\\ncharges: 11856.4115'),\n",
       " Document(metadata={'source': 'insurance.csv', 'row': 387}, page_content='age: 50\\nsex: male\\nbmi: 25.365\\nchildren: 2\\nsmoker: no\\nregion: northwest\\ncharges: 30284.64294'),\n",
       " Document(metadata={'source': 'insurance.csv', 'row': 388}, page_content='age: 26\\nsex: female\\nbmi: 22.61\\nchildren: 0\\nsmoker: no\\nregion: northwest\\ncharges: 3176.8159'),\n",
       " Document(metadata={'source': 'insurance.csv', 'row': 389}, page_content='age: 24\\nsex: female\\nbmi: 30.21\\nchildren: 3\\nsmoker: no\\nregion: northwest\\ncharges: 4618.0799'),\n",
       " Document(metadata={'source': 'insurance.csv', 'row': 390}, page_content='age: 48\\nsex: male\\nbmi: 35.625\\nchildren: 4\\nsmoker: no\\nregion: northeast\\ncharges: 10736.87075'),\n",
       " Document(metadata={'source': 'insurance.csv', 'row': 391}, page_content='age: 19\\nsex: female\\nbmi: 37.43\\nchildren: 0\\nsmoker: no\\nregion: northwest\\ncharges: 2138.0707'),\n",
       " Document(metadata={'source': 'insurance.csv', 'row': 392}, page_content='age: 48\\nsex: male\\nbmi: 31.445\\nchildren: 1\\nsmoker: no\\nregion: northeast\\ncharges: 8964.06055'),\n",
       " Document(metadata={'source': 'insurance.csv', 'row': 393}, page_content='age: 49\\nsex: male\\nbmi: 31.35\\nchildren: 1\\nsmoker: no\\nregion: northeast\\ncharges: 9290.1395'),\n",
       " Document(metadata={'source': 'insurance.csv', 'row': 394}, page_content='age: 46\\nsex: female\\nbmi: 32.3\\nchildren: 2\\nsmoker: no\\nregion: northeast\\ncharges: 9411.005'),\n",
       " Document(metadata={'source': 'insurance.csv', 'row': 395}, page_content='age: 46\\nsex: male\\nbmi: 19.855\\nchildren: 0\\nsmoker: no\\nregion: northwest\\ncharges: 7526.70645'),\n",
       " Document(metadata={'source': 'insurance.csv', 'row': 396}, page_content='age: 43\\nsex: female\\nbmi: 34.4\\nchildren: 3\\nsmoker: no\\nregion: southwest\\ncharges: 8522.003'),\n",
       " Document(metadata={'source': 'insurance.csv', 'row': 397}, page_content='age: 21\\nsex: male\\nbmi: 31.02\\nchildren: 0\\nsmoker: no\\nregion: southeast\\ncharges: 16586.49771'),\n",
       " Document(metadata={'source': 'insurance.csv', 'row': 398}, page_content='age: 64\\nsex: male\\nbmi: 25.6\\nchildren: 2\\nsmoker: no\\nregion: southwest\\ncharges: 14988.432'),\n",
       " Document(metadata={'source': 'insurance.csv', 'row': 399}, page_content='age: 18\\nsex: female\\nbmi: 38.17\\nchildren: 0\\nsmoker: no\\nregion: southeast\\ncharges: 1631.6683'),\n",
       " Document(metadata={'source': 'insurance.csv', 'row': 400}, page_content='age: 51\\nsex: female\\nbmi: 20.6\\nchildren: 0\\nsmoker: no\\nregion: southwest\\ncharges: 9264.797'),\n",
       " Document(metadata={'source': 'insurance.csv', 'row': 401}, page_content='age: 47\\nsex: male\\nbmi: 47.52\\nchildren: 1\\nsmoker: no\\nregion: southeast\\ncharges: 8083.9198'),\n",
       " Document(metadata={'source': 'insurance.csv', 'row': 402}, page_content='age: 64\\nsex: female\\nbmi: 32.965\\nchildren: 0\\nsmoker: no\\nregion: northwest\\ncharges: 14692.66935'),\n",
       " Document(metadata={'source': 'insurance.csv', 'row': 403}, page_content='age: 49\\nsex: male\\nbmi: 32.3\\nchildren: 3\\nsmoker: no\\nregion: northwest\\ncharges: 10269.46'),\n",
       " Document(metadata={'source': 'insurance.csv', 'row': 404}, page_content='age: 31\\nsex: male\\nbmi: 20.4\\nchildren: 0\\nsmoker: no\\nregion: southwest\\ncharges: 3260.199'),\n",
       " Document(metadata={'source': 'insurance.csv', 'row': 405}, page_content='age: 52\\nsex: female\\nbmi: 38.38\\nchildren: 2\\nsmoker: no\\nregion: northeast\\ncharges: 11396.9002'),\n",
       " Document(metadata={'source': 'insurance.csv', 'row': 406}, page_content='age: 33\\nsex: female\\nbmi: 24.31\\nchildren: 0\\nsmoker: no\\nregion: southeast\\ncharges: 4185.0979'),\n",
       " Document(metadata={'source': 'insurance.csv', 'row': 407}, page_content='age: 47\\nsex: female\\nbmi: 23.6\\nchildren: 1\\nsmoker: no\\nregion: southwest\\ncharges: 8539.671'),\n",
       " Document(metadata={'source': 'insurance.csv', 'row': 408}, page_content='age: 38\\nsex: male\\nbmi: 21.12\\nchildren: 3\\nsmoker: no\\nregion: southeast\\ncharges: 6652.5288'),\n",
       " Document(metadata={'source': 'insurance.csv', 'row': 409}, page_content='age: 32\\nsex: male\\nbmi: 30.03\\nchildren: 1\\nsmoker: no\\nregion: southeast\\ncharges: 4074.4537'),\n",
       " Document(metadata={'source': 'insurance.csv', 'row': 410}, page_content='age: 19\\nsex: male\\nbmi: 17.48\\nchildren: 0\\nsmoker: no\\nregion: northwest\\ncharges: 1621.3402'),\n",
       " Document(metadata={'source': 'insurance.csv', 'row': 411}, page_content='age: 44\\nsex: female\\nbmi: 20.235\\nchildren: 1\\nsmoker: yes\\nregion: northeast\\ncharges: 19594.80965'),\n",
       " Document(metadata={'source': 'insurance.csv', 'row': 412}, page_content='age: 26\\nsex: female\\nbmi: 17.195\\nchildren: 2\\nsmoker: yes\\nregion: northeast\\ncharges: 14455.64405'),\n",
       " Document(metadata={'source': 'insurance.csv', 'row': 413}, page_content='age: 25\\nsex: male\\nbmi: 23.9\\nchildren: 5\\nsmoker: no\\nregion: southwest\\ncharges: 5080.096'),\n",
       " Document(metadata={'source': 'insurance.csv', 'row': 414}, page_content='age: 19\\nsex: female\\nbmi: 35.15\\nchildren: 0\\nsmoker: no\\nregion: northwest\\ncharges: 2134.9015'),\n",
       " Document(metadata={'source': 'insurance.csv', 'row': 415}, page_content='age: 43\\nsex: female\\nbmi: 35.64\\nchildren: 1\\nsmoker: no\\nregion: southeast\\ncharges: 7345.7266'),\n",
       " Document(metadata={'source': 'insurance.csv', 'row': 416}, page_content='age: 52\\nsex: male\\nbmi: 34.1\\nchildren: 0\\nsmoker: no\\nregion: southeast\\ncharges: 9140.951'),\n",
       " Document(metadata={'source': 'insurance.csv', 'row': 417}, page_content='age: 36\\nsex: female\\nbmi: 22.6\\nchildren: 2\\nsmoker: yes\\nregion: southwest\\ncharges: 18608.262'),\n",
       " Document(metadata={'source': 'insurance.csv', 'row': 418}, page_content='age: 64\\nsex: male\\nbmi: 39.16\\nchildren: 1\\nsmoker: no\\nregion: southeast\\ncharges: 14418.2804'),\n",
       " Document(metadata={'source': 'insurance.csv', 'row': 419}, page_content='age: 63\\nsex: female\\nbmi: 26.98\\nchildren: 0\\nsmoker: yes\\nregion: northwest\\ncharges: 28950.4692'),\n",
       " Document(metadata={'source': 'insurance.csv', 'row': 420}, page_content='age: 64\\nsex: male\\nbmi: 33.88\\nchildren: 0\\nsmoker: yes\\nregion: southeast\\ncharges: 46889.2612'),\n",
       " Document(metadata={'source': 'insurance.csv', 'row': 421}, page_content='age: 61\\nsex: male\\nbmi: 35.86\\nchildren: 0\\nsmoker: yes\\nregion: southeast\\ncharges: 46599.1084'),\n",
       " Document(metadata={'source': 'insurance.csv', 'row': 422}, page_content='age: 40\\nsex: male\\nbmi: 32.775\\nchildren: 1\\nsmoker: yes\\nregion: northeast\\ncharges: 39125.33225'),\n",
       " Document(metadata={'source': 'insurance.csv', 'row': 423}, page_content='age: 25\\nsex: male\\nbmi: 30.59\\nchildren: 0\\nsmoker: no\\nregion: northeast\\ncharges: 2727.3951'),\n",
       " Document(metadata={'source': 'insurance.csv', 'row': 424}, page_content='age: 48\\nsex: male\\nbmi: 30.2\\nchildren: 2\\nsmoker: no\\nregion: southwest\\ncharges: 8968.33'),\n",
       " Document(metadata={'source': 'insurance.csv', 'row': 425}, page_content='age: 45\\nsex: male\\nbmi: 24.31\\nchildren: 5\\nsmoker: no\\nregion: southeast\\ncharges: 9788.8659'),\n",
       " Document(metadata={'source': 'insurance.csv', 'row': 426}, page_content='age: 38\\nsex: female\\nbmi: 27.265\\nchildren: 1\\nsmoker: no\\nregion: northeast\\ncharges: 6555.07035'),\n",
       " Document(metadata={'source': 'insurance.csv', 'row': 427}, page_content='age: 18\\nsex: female\\nbmi: 29.165\\nchildren: 0\\nsmoker: no\\nregion: northeast\\ncharges: 7323.734819'),\n",
       " Document(metadata={'source': 'insurance.csv', 'row': 428}, page_content='age: 21\\nsex: female\\nbmi: 16.815\\nchildren: 1\\nsmoker: no\\nregion: northeast\\ncharges: 3167.45585'),\n",
       " Document(metadata={'source': 'insurance.csv', 'row': 429}, page_content='age: 27\\nsex: female\\nbmi: 30.4\\nchildren: 3\\nsmoker: no\\nregion: northwest\\ncharges: 18804.7524'),\n",
       " Document(metadata={'source': 'insurance.csv', 'row': 430}, page_content='age: 19\\nsex: male\\nbmi: 33.1\\nchildren: 0\\nsmoker: no\\nregion: southwest\\ncharges: 23082.95533'),\n",
       " Document(metadata={'source': 'insurance.csv', 'row': 431}, page_content='age: 29\\nsex: female\\nbmi: 20.235\\nchildren: 2\\nsmoker: no\\nregion: northwest\\ncharges: 4906.40965'),\n",
       " Document(metadata={'source': 'insurance.csv', 'row': 432}, page_content='age: 42\\nsex: male\\nbmi: 26.9\\nchildren: 0\\nsmoker: no\\nregion: southwest\\ncharges: 5969.723'),\n",
       " Document(metadata={'source': 'insurance.csv', 'row': 433}, page_content='age: 60\\nsex: female\\nbmi: 30.5\\nchildren: 0\\nsmoker: no\\nregion: southwest\\ncharges: 12638.195'),\n",
       " Document(metadata={'source': 'insurance.csv', 'row': 434}, page_content='age: 31\\nsex: male\\nbmi: 28.595\\nchildren: 1\\nsmoker: no\\nregion: northwest\\ncharges: 4243.59005'),\n",
       " Document(metadata={'source': 'insurance.csv', 'row': 435}, page_content='age: 60\\nsex: male\\nbmi: 33.11\\nchildren: 3\\nsmoker: no\\nregion: southeast\\ncharges: 13919.8229'),\n",
       " Document(metadata={'source': 'insurance.csv', 'row': 436}, page_content='age: 22\\nsex: male\\nbmi: 31.73\\nchildren: 0\\nsmoker: no\\nregion: northeast\\ncharges: 2254.7967'),\n",
       " Document(metadata={'source': 'insurance.csv', 'row': 437}, page_content='age: 35\\nsex: male\\nbmi: 28.9\\nchildren: 3\\nsmoker: no\\nregion: southwest\\ncharges: 5926.846'),\n",
       " Document(metadata={'source': 'insurance.csv', 'row': 438}, page_content='age: 52\\nsex: female\\nbmi: 46.75\\nchildren: 5\\nsmoker: no\\nregion: southeast\\ncharges: 12592.5345'),\n",
       " Document(metadata={'source': 'insurance.csv', 'row': 439}, page_content='age: 26\\nsex: male\\nbmi: 29.45\\nchildren: 0\\nsmoker: no\\nregion: northeast\\ncharges: 2897.3235'),\n",
       " Document(metadata={'source': 'insurance.csv', 'row': 440}, page_content='age: 31\\nsex: female\\nbmi: 32.68\\nchildren: 1\\nsmoker: no\\nregion: northwest\\ncharges: 4738.2682'),\n",
       " Document(metadata={'source': 'insurance.csv', 'row': 441}, page_content='age: 33\\nsex: female\\nbmi: 33.5\\nchildren: 0\\nsmoker: yes\\nregion: southwest\\ncharges: 37079.372'),\n",
       " Document(metadata={'source': 'insurance.csv', 'row': 442}, page_content='age: 18\\nsex: male\\nbmi: 43.01\\nchildren: 0\\nsmoker: no\\nregion: southeast\\ncharges: 1149.3959'),\n",
       " Document(metadata={'source': 'insurance.csv', 'row': 443}, page_content='age: 59\\nsex: female\\nbmi: 36.52\\nchildren: 1\\nsmoker: no\\nregion: southeast\\ncharges: 28287.89766'),\n",
       " Document(metadata={'source': 'insurance.csv', 'row': 444}, page_content='age: 56\\nsex: male\\nbmi: 26.695\\nchildren: 1\\nsmoker: yes\\nregion: northwest\\ncharges: 26109.32905'),\n",
       " Document(metadata={'source': 'insurance.csv', 'row': 445}, page_content='age: 45\\nsex: female\\nbmi: 33.1\\nchildren: 0\\nsmoker: no\\nregion: southwest\\ncharges: 7345.084'),\n",
       " Document(metadata={'source': 'insurance.csv', 'row': 446}, page_content='age: 60\\nsex: male\\nbmi: 29.64\\nchildren: 0\\nsmoker: no\\nregion: northeast\\ncharges: 12730.9996'),\n",
       " Document(metadata={'source': 'insurance.csv', 'row': 447}, page_content='age: 56\\nsex: female\\nbmi: 25.65\\nchildren: 0\\nsmoker: no\\nregion: northwest\\ncharges: 11454.0215'),\n",
       " Document(metadata={'source': 'insurance.csv', 'row': 448}, page_content='age: 40\\nsex: female\\nbmi: 29.6\\nchildren: 0\\nsmoker: no\\nregion: southwest\\ncharges: 5910.944'),\n",
       " Document(metadata={'source': 'insurance.csv', 'row': 449}, page_content='age: 35\\nsex: male\\nbmi: 38.6\\nchildren: 1\\nsmoker: no\\nregion: southwest\\ncharges: 4762.329'),\n",
       " Document(metadata={'source': 'insurance.csv', 'row': 450}, page_content='age: 39\\nsex: male\\nbmi: 29.6\\nchildren: 4\\nsmoker: no\\nregion: southwest\\ncharges: 7512.267'),\n",
       " Document(metadata={'source': 'insurance.csv', 'row': 451}, page_content='age: 30\\nsex: male\\nbmi: 24.13\\nchildren: 1\\nsmoker: no\\nregion: northwest\\ncharges: 4032.2407'),\n",
       " Document(metadata={'source': 'insurance.csv', 'row': 452}, page_content='age: 24\\nsex: male\\nbmi: 23.4\\nchildren: 0\\nsmoker: no\\nregion: southwest\\ncharges: 1969.614'),\n",
       " Document(metadata={'source': 'insurance.csv', 'row': 453}, page_content='age: 20\\nsex: male\\nbmi: 29.735\\nchildren: 0\\nsmoker: no\\nregion: northwest\\ncharges: 1769.53165'),\n",
       " Document(metadata={'source': 'insurance.csv', 'row': 454}, page_content='age: 32\\nsex: male\\nbmi: 46.53\\nchildren: 2\\nsmoker: no\\nregion: southeast\\ncharges: 4686.3887'),\n",
       " Document(metadata={'source': 'insurance.csv', 'row': 455}, page_content='age: 59\\nsex: male\\nbmi: 37.4\\nchildren: 0\\nsmoker: no\\nregion: southwest\\ncharges: 21797.0004'),\n",
       " Document(metadata={'source': 'insurance.csv', 'row': 456}, page_content='age: 55\\nsex: female\\nbmi: 30.14\\nchildren: 2\\nsmoker: no\\nregion: southeast\\ncharges: 11881.9696'),\n",
       " Document(metadata={'source': 'insurance.csv', 'row': 457}, page_content='age: 57\\nsex: female\\nbmi: 30.495\\nchildren: 0\\nsmoker: no\\nregion: northwest\\ncharges: 11840.77505'),\n",
       " Document(metadata={'source': 'insurance.csv', 'row': 458}, page_content='age: 56\\nsex: male\\nbmi: 39.6\\nchildren: 0\\nsmoker: no\\nregion: southwest\\ncharges: 10601.412'),\n",
       " Document(metadata={'source': 'insurance.csv', 'row': 459}, page_content='age: 40\\nsex: female\\nbmi: 33\\nchildren: 3\\nsmoker: no\\nregion: southeast\\ncharges: 7682.67'),\n",
       " Document(metadata={'source': 'insurance.csv', 'row': 460}, page_content='age: 49\\nsex: female\\nbmi: 36.63\\nchildren: 3\\nsmoker: no\\nregion: southeast\\ncharges: 10381.4787'),\n",
       " Document(metadata={'source': 'insurance.csv', 'row': 461}, page_content='age: 42\\nsex: male\\nbmi: 30\\nchildren: 0\\nsmoker: yes\\nregion: southwest\\ncharges: 22144.032'),\n",
       " Document(metadata={'source': 'insurance.csv', 'row': 462}, page_content='age: 62\\nsex: female\\nbmi: 38.095\\nchildren: 2\\nsmoker: no\\nregion: northeast\\ncharges: 15230.32405'),\n",
       " Document(metadata={'source': 'insurance.csv', 'row': 463}, page_content='age: 56\\nsex: male\\nbmi: 25.935\\nchildren: 0\\nsmoker: no\\nregion: northeast\\ncharges: 11165.41765'),\n",
       " Document(metadata={'source': 'insurance.csv', 'row': 464}, page_content='age: 19\\nsex: male\\nbmi: 25.175\\nchildren: 0\\nsmoker: no\\nregion: northwest\\ncharges: 1632.03625'),\n",
       " Document(metadata={'source': 'insurance.csv', 'row': 465}, page_content='age: 30\\nsex: female\\nbmi: 28.38\\nchildren: 1\\nsmoker: yes\\nregion: southeast\\ncharges: 19521.9682'),\n",
       " Document(metadata={'source': 'insurance.csv', 'row': 466}, page_content='age: 60\\nsex: female\\nbmi: 28.7\\nchildren: 1\\nsmoker: no\\nregion: southwest\\ncharges: 13224.693'),\n",
       " Document(metadata={'source': 'insurance.csv', 'row': 467}, page_content='age: 56\\nsex: female\\nbmi: 33.82\\nchildren: 2\\nsmoker: no\\nregion: northwest\\ncharges: 12643.3778'),\n",
       " Document(metadata={'source': 'insurance.csv', 'row': 468}, page_content='age: 28\\nsex: female\\nbmi: 24.32\\nchildren: 1\\nsmoker: no\\nregion: northeast\\ncharges: 23288.9284'),\n",
       " Document(metadata={'source': 'insurance.csv', 'row': 469}, page_content='age: 18\\nsex: female\\nbmi: 24.09\\nchildren: 1\\nsmoker: no\\nregion: southeast\\ncharges: 2201.0971'),\n",
       " Document(metadata={'source': 'insurance.csv', 'row': 470}, page_content='age: 27\\nsex: male\\nbmi: 32.67\\nchildren: 0\\nsmoker: no\\nregion: southeast\\ncharges: 2497.0383'),\n",
       " Document(metadata={'source': 'insurance.csv', 'row': 471}, page_content='age: 18\\nsex: female\\nbmi: 30.115\\nchildren: 0\\nsmoker: no\\nregion: northeast\\ncharges: 2203.47185'),\n",
       " Document(metadata={'source': 'insurance.csv', 'row': 472}, page_content='age: 19\\nsex: female\\nbmi: 29.8\\nchildren: 0\\nsmoker: no\\nregion: southwest\\ncharges: 1744.465'),\n",
       " Document(metadata={'source': 'insurance.csv', 'row': 473}, page_content='age: 47\\nsex: female\\nbmi: 33.345\\nchildren: 0\\nsmoker: no\\nregion: northeast\\ncharges: 20878.78443'),\n",
       " Document(metadata={'source': 'insurance.csv', 'row': 474}, page_content='age: 54\\nsex: male\\nbmi: 25.1\\nchildren: 3\\nsmoker: yes\\nregion: southwest\\ncharges: 25382.297'),\n",
       " Document(metadata={'source': 'insurance.csv', 'row': 475}, page_content='age: 61\\nsex: male\\nbmi: 28.31\\nchildren: 1\\nsmoker: yes\\nregion: northwest\\ncharges: 28868.6639'),\n",
       " Document(metadata={'source': 'insurance.csv', 'row': 476}, page_content='age: 24\\nsex: male\\nbmi: 28.5\\nchildren: 0\\nsmoker: yes\\nregion: northeast\\ncharges: 35147.52848'),\n",
       " Document(metadata={'source': 'insurance.csv', 'row': 477}, page_content='age: 25\\nsex: male\\nbmi: 35.625\\nchildren: 0\\nsmoker: no\\nregion: northwest\\ncharges: 2534.39375'),\n",
       " Document(metadata={'source': 'insurance.csv', 'row': 478}, page_content='age: 21\\nsex: male\\nbmi: 36.85\\nchildren: 0\\nsmoker: no\\nregion: southeast\\ncharges: 1534.3045'),\n",
       " Document(metadata={'source': 'insurance.csv', 'row': 479}, page_content='age: 23\\nsex: male\\nbmi: 32.56\\nchildren: 0\\nsmoker: no\\nregion: southeast\\ncharges: 1824.2854'),\n",
       " Document(metadata={'source': 'insurance.csv', 'row': 480}, page_content='age: 63\\nsex: male\\nbmi: 41.325\\nchildren: 3\\nsmoker: no\\nregion: northwest\\ncharges: 15555.18875'),\n",
       " Document(metadata={'source': 'insurance.csv', 'row': 481}, page_content='age: 49\\nsex: male\\nbmi: 37.51\\nchildren: 2\\nsmoker: no\\nregion: southeast\\ncharges: 9304.7019'),\n",
       " Document(metadata={'source': 'insurance.csv', 'row': 482}, page_content='age: 18\\nsex: female\\nbmi: 31.35\\nchildren: 0\\nsmoker: no\\nregion: southeast\\ncharges: 1622.1885'),\n",
       " Document(metadata={'source': 'insurance.csv', 'row': 483}, page_content='age: 51\\nsex: female\\nbmi: 39.5\\nchildren: 1\\nsmoker: no\\nregion: southwest\\ncharges: 9880.068'),\n",
       " Document(metadata={'source': 'insurance.csv', 'row': 484}, page_content='age: 48\\nsex: male\\nbmi: 34.3\\nchildren: 3\\nsmoker: no\\nregion: southwest\\ncharges: 9563.029'),\n",
       " Document(metadata={'source': 'insurance.csv', 'row': 485}, page_content='age: 31\\nsex: female\\nbmi: 31.065\\nchildren: 0\\nsmoker: no\\nregion: northeast\\ncharges: 4347.02335'),\n",
       " Document(metadata={'source': 'insurance.csv', 'row': 486}, page_content='age: 54\\nsex: female\\nbmi: 21.47\\nchildren: 3\\nsmoker: no\\nregion: northwest\\ncharges: 12475.3513'),\n",
       " Document(metadata={'source': 'insurance.csv', 'row': 487}, page_content='age: 19\\nsex: male\\nbmi: 28.7\\nchildren: 0\\nsmoker: no\\nregion: southwest\\ncharges: 1253.936'),\n",
       " Document(metadata={'source': 'insurance.csv', 'row': 488}, page_content='age: 44\\nsex: female\\nbmi: 38.06\\nchildren: 0\\nsmoker: yes\\nregion: southeast\\ncharges: 48885.13561'),\n",
       " Document(metadata={'source': 'insurance.csv', 'row': 489}, page_content='age: 53\\nsex: male\\nbmi: 31.16\\nchildren: 1\\nsmoker: no\\nregion: northwest\\ncharges: 10461.9794'),\n",
       " Document(metadata={'source': 'insurance.csv', 'row': 490}, page_content='age: 19\\nsex: female\\nbmi: 32.9\\nchildren: 0\\nsmoker: no\\nregion: southwest\\ncharges: 1748.774'),\n",
       " Document(metadata={'source': 'insurance.csv', 'row': 491}, page_content='age: 61\\nsex: female\\nbmi: 25.08\\nchildren: 0\\nsmoker: no\\nregion: southeast\\ncharges: 24513.09126'),\n",
       " Document(metadata={'source': 'insurance.csv', 'row': 492}, page_content='age: 18\\nsex: female\\nbmi: 25.08\\nchildren: 0\\nsmoker: no\\nregion: northeast\\ncharges: 2196.4732'),\n",
       " Document(metadata={'source': 'insurance.csv', 'row': 493}, page_content='age: 61\\nsex: male\\nbmi: 43.4\\nchildren: 0\\nsmoker: no\\nregion: southwest\\ncharges: 12574.049'),\n",
       " Document(metadata={'source': 'insurance.csv', 'row': 494}, page_content='age: 21\\nsex: male\\nbmi: 25.7\\nchildren: 4\\nsmoker: yes\\nregion: southwest\\ncharges: 17942.106'),\n",
       " Document(metadata={'source': 'insurance.csv', 'row': 495}, page_content='age: 20\\nsex: male\\nbmi: 27.93\\nchildren: 0\\nsmoker: no\\nregion: northeast\\ncharges: 1967.0227'),\n",
       " Document(metadata={'source': 'insurance.csv', 'row': 496}, page_content='age: 31\\nsex: female\\nbmi: 23.6\\nchildren: 2\\nsmoker: no\\nregion: southwest\\ncharges: 4931.647'),\n",
       " Document(metadata={'source': 'insurance.csv', 'row': 497}, page_content='age: 45\\nsex: male\\nbmi: 28.7\\nchildren: 2\\nsmoker: no\\nregion: southwest\\ncharges: 8027.968'),\n",
       " Document(metadata={'source': 'insurance.csv', 'row': 498}, page_content='age: 44\\nsex: female\\nbmi: 23.98\\nchildren: 2\\nsmoker: no\\nregion: southeast\\ncharges: 8211.1002'),\n",
       " Document(metadata={'source': 'insurance.csv', 'row': 499}, page_content='age: 62\\nsex: female\\nbmi: 39.2\\nchildren: 0\\nsmoker: no\\nregion: southwest\\ncharges: 13470.86'),\n",
       " Document(metadata={'source': 'insurance.csv', 'row': 500}, page_content='age: 29\\nsex: male\\nbmi: 34.4\\nchildren: 0\\nsmoker: yes\\nregion: southwest\\ncharges: 36197.699'),\n",
       " Document(metadata={'source': 'insurance.csv', 'row': 501}, page_content='age: 43\\nsex: male\\nbmi: 26.03\\nchildren: 0\\nsmoker: no\\nregion: northeast\\ncharges: 6837.3687'),\n",
       " Document(metadata={'source': 'insurance.csv', 'row': 502}, page_content='age: 51\\nsex: male\\nbmi: 23.21\\nchildren: 1\\nsmoker: yes\\nregion: southeast\\ncharges: 22218.1149'),\n",
       " Document(metadata={'source': 'insurance.csv', 'row': 503}, page_content='age: 19\\nsex: male\\nbmi: 30.25\\nchildren: 0\\nsmoker: yes\\nregion: southeast\\ncharges: 32548.3405'),\n",
       " Document(metadata={'source': 'insurance.csv', 'row': 504}, page_content='age: 38\\nsex: female\\nbmi: 28.93\\nchildren: 1\\nsmoker: no\\nregion: southeast\\ncharges: 5974.3847'),\n",
       " Document(metadata={'source': 'insurance.csv', 'row': 505}, page_content='age: 37\\nsex: male\\nbmi: 30.875\\nchildren: 3\\nsmoker: no\\nregion: northwest\\ncharges: 6796.86325'),\n",
       " Document(metadata={'source': 'insurance.csv', 'row': 506}, page_content='age: 22\\nsex: male\\nbmi: 31.35\\nchildren: 1\\nsmoker: no\\nregion: northwest\\ncharges: 2643.2685'),\n",
       " Document(metadata={'source': 'insurance.csv', 'row': 507}, page_content='age: 21\\nsex: male\\nbmi: 23.75\\nchildren: 2\\nsmoker: no\\nregion: northwest\\ncharges: 3077.0955'),\n",
       " Document(metadata={'source': 'insurance.csv', 'row': 508}, page_content='age: 24\\nsex: female\\nbmi: 25.27\\nchildren: 0\\nsmoker: no\\nregion: northeast\\ncharges: 3044.2133'),\n",
       " Document(metadata={'source': 'insurance.csv', 'row': 509}, page_content='age: 57\\nsex: female\\nbmi: 28.7\\nchildren: 0\\nsmoker: no\\nregion: southwest\\ncharges: 11455.28'),\n",
       " Document(metadata={'source': 'insurance.csv', 'row': 510}, page_content='age: 56\\nsex: male\\nbmi: 32.11\\nchildren: 1\\nsmoker: no\\nregion: northeast\\ncharges: 11763.0009'),\n",
       " Document(metadata={'source': 'insurance.csv', 'row': 511}, page_content='age: 27\\nsex: male\\nbmi: 33.66\\nchildren: 0\\nsmoker: no\\nregion: southeast\\ncharges: 2498.4144'),\n",
       " Document(metadata={'source': 'insurance.csv', 'row': 512}, page_content='age: 51\\nsex: male\\nbmi: 22.42\\nchildren: 0\\nsmoker: no\\nregion: northeast\\ncharges: 9361.3268'),\n",
       " Document(metadata={'source': 'insurance.csv', 'row': 513}, page_content='age: 19\\nsex: male\\nbmi: 30.4\\nchildren: 0\\nsmoker: no\\nregion: southwest\\ncharges: 1256.299'),\n",
       " Document(metadata={'source': 'insurance.csv', 'row': 514}, page_content='age: 39\\nsex: male\\nbmi: 28.3\\nchildren: 1\\nsmoker: yes\\nregion: southwest\\ncharges: 21082.16'),\n",
       " Document(metadata={'source': 'insurance.csv', 'row': 515}, page_content='age: 58\\nsex: male\\nbmi: 35.7\\nchildren: 0\\nsmoker: no\\nregion: southwest\\ncharges: 11362.755'),\n",
       " Document(metadata={'source': 'insurance.csv', 'row': 516}, page_content='age: 20\\nsex: male\\nbmi: 35.31\\nchildren: 1\\nsmoker: no\\nregion: southeast\\ncharges: 27724.28875'),\n",
       " Document(metadata={'source': 'insurance.csv', 'row': 517}, page_content='age: 45\\nsex: male\\nbmi: 30.495\\nchildren: 2\\nsmoker: no\\nregion: northwest\\ncharges: 8413.46305'),\n",
       " Document(metadata={'source': 'insurance.csv', 'row': 518}, page_content='age: 35\\nsex: female\\nbmi: 31\\nchildren: 1\\nsmoker: no\\nregion: southwest\\ncharges: 5240.765'),\n",
       " Document(metadata={'source': 'insurance.csv', 'row': 519}, page_content='age: 31\\nsex: male\\nbmi: 30.875\\nchildren: 0\\nsmoker: no\\nregion: northeast\\ncharges: 3857.75925'),\n",
       " Document(metadata={'source': 'insurance.csv', 'row': 520}, page_content='age: 50\\nsex: female\\nbmi: 27.36\\nchildren: 0\\nsmoker: no\\nregion: northeast\\ncharges: 25656.57526'),\n",
       " Document(metadata={'source': 'insurance.csv', 'row': 521}, page_content='age: 32\\nsex: female\\nbmi: 44.22\\nchildren: 0\\nsmoker: no\\nregion: southeast\\ncharges: 3994.1778'),\n",
       " Document(metadata={'source': 'insurance.csv', 'row': 522}, page_content='age: 51\\nsex: female\\nbmi: 33.915\\nchildren: 0\\nsmoker: no\\nregion: northeast\\ncharges: 9866.30485'),\n",
       " Document(metadata={'source': 'insurance.csv', 'row': 523}, page_content='age: 38\\nsex: female\\nbmi: 37.73\\nchildren: 0\\nsmoker: no\\nregion: southeast\\ncharges: 5397.6167'),\n",
       " Document(metadata={'source': 'insurance.csv', 'row': 524}, page_content='age: 42\\nsex: male\\nbmi: 26.07\\nchildren: 1\\nsmoker: yes\\nregion: southeast\\ncharges: 38245.59327'),\n",
       " Document(metadata={'source': 'insurance.csv', 'row': 525}, page_content='age: 18\\nsex: female\\nbmi: 33.88\\nchildren: 0\\nsmoker: no\\nregion: southeast\\ncharges: 11482.63485'),\n",
       " Document(metadata={'source': 'insurance.csv', 'row': 526}, page_content='age: 19\\nsex: female\\nbmi: 30.59\\nchildren: 2\\nsmoker: no\\nregion: northwest\\ncharges: 24059.68019'),\n",
       " Document(metadata={'source': 'insurance.csv', 'row': 527}, page_content='age: 51\\nsex: female\\nbmi: 25.8\\nchildren: 1\\nsmoker: no\\nregion: southwest\\ncharges: 9861.025'),\n",
       " Document(metadata={'source': 'insurance.csv', 'row': 528}, page_content='age: 46\\nsex: male\\nbmi: 39.425\\nchildren: 1\\nsmoker: no\\nregion: northeast\\ncharges: 8342.90875'),\n",
       " Document(metadata={'source': 'insurance.csv', 'row': 529}, page_content='age: 18\\nsex: male\\nbmi: 25.46\\nchildren: 0\\nsmoker: no\\nregion: northeast\\ncharges: 1708.0014'),\n",
       " Document(metadata={'source': 'insurance.csv', 'row': 530}, page_content='age: 57\\nsex: male\\nbmi: 42.13\\nchildren: 1\\nsmoker: yes\\nregion: southeast\\ncharges: 48675.5177'),\n",
       " Document(metadata={'source': 'insurance.csv', 'row': 531}, page_content='age: 62\\nsex: female\\nbmi: 31.73\\nchildren: 0\\nsmoker: no\\nregion: northeast\\ncharges: 14043.4767'),\n",
       " Document(metadata={'source': 'insurance.csv', 'row': 532}, page_content='age: 59\\nsex: male\\nbmi: 29.7\\nchildren: 2\\nsmoker: no\\nregion: southeast\\ncharges: 12925.886'),\n",
       " Document(metadata={'source': 'insurance.csv', 'row': 533}, page_content='age: 37\\nsex: male\\nbmi: 36.19\\nchildren: 0\\nsmoker: no\\nregion: southeast\\ncharges: 19214.70553'),\n",
       " Document(metadata={'source': 'insurance.csv', 'row': 534}, page_content='age: 64\\nsex: male\\nbmi: 40.48\\nchildren: 0\\nsmoker: no\\nregion: southeast\\ncharges: 13831.1152'),\n",
       " Document(metadata={'source': 'insurance.csv', 'row': 535}, page_content='age: 38\\nsex: male\\nbmi: 28.025\\nchildren: 1\\nsmoker: no\\nregion: northeast\\ncharges: 6067.12675'),\n",
       " Document(metadata={'source': 'insurance.csv', 'row': 536}, page_content='age: 33\\nsex: female\\nbmi: 38.9\\nchildren: 3\\nsmoker: no\\nregion: southwest\\ncharges: 5972.378'),\n",
       " Document(metadata={'source': 'insurance.csv', 'row': 537}, page_content='age: 46\\nsex: female\\nbmi: 30.2\\nchildren: 2\\nsmoker: no\\nregion: southwest\\ncharges: 8825.086'),\n",
       " Document(metadata={'source': 'insurance.csv', 'row': 538}, page_content='age: 46\\nsex: female\\nbmi: 28.05\\nchildren: 1\\nsmoker: no\\nregion: southeast\\ncharges: 8233.0975'),\n",
       " Document(metadata={'source': 'insurance.csv', 'row': 539}, page_content='age: 53\\nsex: male\\nbmi: 31.35\\nchildren: 0\\nsmoker: no\\nregion: southeast\\ncharges: 27346.04207'),\n",
       " Document(metadata={'source': 'insurance.csv', 'row': 540}, page_content='age: 34\\nsex: female\\nbmi: 38\\nchildren: 3\\nsmoker: no\\nregion: southwest\\ncharges: 6196.448'),\n",
       " Document(metadata={'source': 'insurance.csv', 'row': 541}, page_content='age: 20\\nsex: female\\nbmi: 31.79\\nchildren: 2\\nsmoker: no\\nregion: southeast\\ncharges: 3056.3881'),\n",
       " Document(metadata={'source': 'insurance.csv', 'row': 542}, page_content='age: 63\\nsex: female\\nbmi: 36.3\\nchildren: 0\\nsmoker: no\\nregion: southeast\\ncharges: 13887.204'),\n",
       " Document(metadata={'source': 'insurance.csv', 'row': 543}, page_content='age: 54\\nsex: female\\nbmi: 47.41\\nchildren: 0\\nsmoker: yes\\nregion: southeast\\ncharges: 63770.42801'),\n",
       " Document(metadata={'source': 'insurance.csv', 'row': 544}, page_content='age: 54\\nsex: male\\nbmi: 30.21\\nchildren: 0\\nsmoker: no\\nregion: northwest\\ncharges: 10231.4999'),\n",
       " Document(metadata={'source': 'insurance.csv', 'row': 545}, page_content='age: 49\\nsex: male\\nbmi: 25.84\\nchildren: 2\\nsmoker: yes\\nregion: northwest\\ncharges: 23807.2406'),\n",
       " Document(metadata={'source': 'insurance.csv', 'row': 546}, page_content='age: 28\\nsex: male\\nbmi: 35.435\\nchildren: 0\\nsmoker: no\\nregion: northeast\\ncharges: 3268.84665'),\n",
       " Document(metadata={'source': 'insurance.csv', 'row': 547}, page_content='age: 54\\nsex: female\\nbmi: 46.7\\nchildren: 2\\nsmoker: no\\nregion: southwest\\ncharges: 11538.421'),\n",
       " Document(metadata={'source': 'insurance.csv', 'row': 548}, page_content='age: 25\\nsex: female\\nbmi: 28.595\\nchildren: 0\\nsmoker: no\\nregion: northeast\\ncharges: 3213.62205'),\n",
       " Document(metadata={'source': 'insurance.csv', 'row': 549}, page_content='age: 43\\nsex: female\\nbmi: 46.2\\nchildren: 0\\nsmoker: yes\\nregion: southeast\\ncharges: 45863.205'),\n",
       " Document(metadata={'source': 'insurance.csv', 'row': 550}, page_content='age: 63\\nsex: male\\nbmi: 30.8\\nchildren: 0\\nsmoker: no\\nregion: southwest\\ncharges: 13390.559'),\n",
       " Document(metadata={'source': 'insurance.csv', 'row': 551}, page_content='age: 32\\nsex: female\\nbmi: 28.93\\nchildren: 0\\nsmoker: no\\nregion: southeast\\ncharges: 3972.9247'),\n",
       " Document(metadata={'source': 'insurance.csv', 'row': 552}, page_content='age: 62\\nsex: male\\nbmi: 21.4\\nchildren: 0\\nsmoker: no\\nregion: southwest\\ncharges: 12957.118'),\n",
       " Document(metadata={'source': 'insurance.csv', 'row': 553}, page_content='age: 52\\nsex: female\\nbmi: 31.73\\nchildren: 2\\nsmoker: no\\nregion: northwest\\ncharges: 11187.6567'),\n",
       " Document(metadata={'source': 'insurance.csv', 'row': 554}, page_content='age: 25\\nsex: female\\nbmi: 41.325\\nchildren: 0\\nsmoker: no\\nregion: northeast\\ncharges: 17878.90068'),\n",
       " Document(metadata={'source': 'insurance.csv', 'row': 555}, page_content='age: 28\\nsex: male\\nbmi: 23.8\\nchildren: 2\\nsmoker: no\\nregion: southwest\\ncharges: 3847.674'),\n",
       " Document(metadata={'source': 'insurance.csv', 'row': 556}, page_content='age: 46\\nsex: male\\nbmi: 33.44\\nchildren: 1\\nsmoker: no\\nregion: northeast\\ncharges: 8334.5896'),\n",
       " Document(metadata={'source': 'insurance.csv', 'row': 557}, page_content='age: 34\\nsex: male\\nbmi: 34.21\\nchildren: 0\\nsmoker: no\\nregion: southeast\\ncharges: 3935.1799'),\n",
       " Document(metadata={'source': 'insurance.csv', 'row': 558}, page_content='age: 35\\nsex: female\\nbmi: 34.105\\nchildren: 3\\nsmoker: yes\\nregion: northwest\\ncharges: 39983.42595'),\n",
       " Document(metadata={'source': 'insurance.csv', 'row': 559}, page_content='age: 19\\nsex: male\\nbmi: 35.53\\nchildren: 0\\nsmoker: no\\nregion: northwest\\ncharges: 1646.4297'),\n",
       " Document(metadata={'source': 'insurance.csv', 'row': 560}, page_content='age: 46\\nsex: female\\nbmi: 19.95\\nchildren: 2\\nsmoker: no\\nregion: northwest\\ncharges: 9193.8385'),\n",
       " Document(metadata={'source': 'insurance.csv', 'row': 561}, page_content='age: 54\\nsex: female\\nbmi: 32.68\\nchildren: 0\\nsmoker: no\\nregion: northeast\\ncharges: 10923.9332'),\n",
       " Document(metadata={'source': 'insurance.csv', 'row': 562}, page_content='age: 27\\nsex: male\\nbmi: 30.5\\nchildren: 0\\nsmoker: no\\nregion: southwest\\ncharges: 2494.022'),\n",
       " Document(metadata={'source': 'insurance.csv', 'row': 563}, page_content='age: 50\\nsex: male\\nbmi: 44.77\\nchildren: 1\\nsmoker: no\\nregion: southeast\\ncharges: 9058.7303'),\n",
       " Document(metadata={'source': 'insurance.csv', 'row': 564}, page_content='age: 18\\nsex: female\\nbmi: 32.12\\nchildren: 2\\nsmoker: no\\nregion: southeast\\ncharges: 2801.2588'),\n",
       " Document(metadata={'source': 'insurance.csv', 'row': 565}, page_content='age: 19\\nsex: female\\nbmi: 30.495\\nchildren: 0\\nsmoker: no\\nregion: northwest\\ncharges: 2128.43105'),\n",
       " Document(metadata={'source': 'insurance.csv', 'row': 566}, page_content='age: 38\\nsex: female\\nbmi: 40.565\\nchildren: 1\\nsmoker: no\\nregion: northwest\\ncharges: 6373.55735'),\n",
       " Document(metadata={'source': 'insurance.csv', 'row': 567}, page_content='age: 41\\nsex: male\\nbmi: 30.59\\nchildren: 2\\nsmoker: no\\nregion: northwest\\ncharges: 7256.7231'),\n",
       " Document(metadata={'source': 'insurance.csv', 'row': 568}, page_content='age: 49\\nsex: female\\nbmi: 31.9\\nchildren: 5\\nsmoker: no\\nregion: southwest\\ncharges: 11552.904'),\n",
       " Document(metadata={'source': 'insurance.csv', 'row': 569}, page_content='age: 48\\nsex: male\\nbmi: 40.565\\nchildren: 2\\nsmoker: yes\\nregion: northwest\\ncharges: 45702.02235'),\n",
       " Document(metadata={'source': 'insurance.csv', 'row': 570}, page_content='age: 31\\nsex: female\\nbmi: 29.1\\nchildren: 0\\nsmoker: no\\nregion: southwest\\ncharges: 3761.292'),\n",
       " Document(metadata={'source': 'insurance.csv', 'row': 571}, page_content='age: 18\\nsex: female\\nbmi: 37.29\\nchildren: 1\\nsmoker: no\\nregion: southeast\\ncharges: 2219.4451'),\n",
       " Document(metadata={'source': 'insurance.csv', 'row': 572}, page_content='age: 30\\nsex: female\\nbmi: 43.12\\nchildren: 2\\nsmoker: no\\nregion: southeast\\ncharges: 4753.6368'),\n",
       " Document(metadata={'source': 'insurance.csv', 'row': 573}, page_content='age: 62\\nsex: female\\nbmi: 36.86\\nchildren: 1\\nsmoker: no\\nregion: northeast\\ncharges: 31620.00106'),\n",
       " Document(metadata={'source': 'insurance.csv', 'row': 574}, page_content='age: 57\\nsex: female\\nbmi: 34.295\\nchildren: 2\\nsmoker: no\\nregion: northeast\\ncharges: 13224.05705'),\n",
       " Document(metadata={'source': 'insurance.csv', 'row': 575}, page_content='age: 58\\nsex: female\\nbmi: 27.17\\nchildren: 0\\nsmoker: no\\nregion: northwest\\ncharges: 12222.8983'),\n",
       " Document(metadata={'source': 'insurance.csv', 'row': 576}, page_content='age: 22\\nsex: male\\nbmi: 26.84\\nchildren: 0\\nsmoker: no\\nregion: southeast\\ncharges: 1664.9996'),\n",
       " Document(metadata={'source': 'insurance.csv', 'row': 577}, page_content='age: 31\\nsex: female\\nbmi: 38.095\\nchildren: 1\\nsmoker: yes\\nregion: northeast\\ncharges: 58571.07448'),\n",
       " Document(metadata={'source': 'insurance.csv', 'row': 578}, page_content='age: 52\\nsex: male\\nbmi: 30.2\\nchildren: 1\\nsmoker: no\\nregion: southwest\\ncharges: 9724.53'),\n",
       " Document(metadata={'source': 'insurance.csv', 'row': 579}, page_content='age: 25\\nsex: female\\nbmi: 23.465\\nchildren: 0\\nsmoker: no\\nregion: northeast\\ncharges: 3206.49135'),\n",
       " Document(metadata={'source': 'insurance.csv', 'row': 580}, page_content='age: 59\\nsex: male\\nbmi: 25.46\\nchildren: 1\\nsmoker: no\\nregion: northeast\\ncharges: 12913.9924'),\n",
       " Document(metadata={'source': 'insurance.csv', 'row': 581}, page_content='age: 19\\nsex: male\\nbmi: 30.59\\nchildren: 0\\nsmoker: no\\nregion: northwest\\ncharges: 1639.5631'),\n",
       " Document(metadata={'source': 'insurance.csv', 'row': 582}, page_content='age: 39\\nsex: male\\nbmi: 45.43\\nchildren: 2\\nsmoker: no\\nregion: southeast\\ncharges: 6356.2707'),\n",
       " Document(metadata={'source': 'insurance.csv', 'row': 583}, page_content='age: 32\\nsex: female\\nbmi: 23.65\\nchildren: 1\\nsmoker: no\\nregion: southeast\\ncharges: 17626.23951'),\n",
       " Document(metadata={'source': 'insurance.csv', 'row': 584}, page_content='age: 19\\nsex: male\\nbmi: 20.7\\nchildren: 0\\nsmoker: no\\nregion: southwest\\ncharges: 1242.816'),\n",
       " Document(metadata={'source': 'insurance.csv', 'row': 585}, page_content='age: 33\\nsex: female\\nbmi: 28.27\\nchildren: 1\\nsmoker: no\\nregion: southeast\\ncharges: 4779.6023'),\n",
       " Document(metadata={'source': 'insurance.csv', 'row': 586}, page_content='age: 21\\nsex: male\\nbmi: 20.235\\nchildren: 3\\nsmoker: no\\nregion: northeast\\ncharges: 3861.20965'),\n",
       " Document(metadata={'source': 'insurance.csv', 'row': 587}, page_content='age: 34\\nsex: female\\nbmi: 30.21\\nchildren: 1\\nsmoker: yes\\nregion: northwest\\ncharges: 43943.8761'),\n",
       " Document(metadata={'source': 'insurance.csv', 'row': 588}, page_content='age: 61\\nsex: female\\nbmi: 35.91\\nchildren: 0\\nsmoker: no\\nregion: northeast\\ncharges: 13635.6379'),\n",
       " Document(metadata={'source': 'insurance.csv', 'row': 589}, page_content='age: 38\\nsex: female\\nbmi: 30.69\\nchildren: 1\\nsmoker: no\\nregion: southeast\\ncharges: 5976.8311'),\n",
       " Document(metadata={'source': 'insurance.csv', 'row': 590}, page_content='age: 58\\nsex: female\\nbmi: 29\\nchildren: 0\\nsmoker: no\\nregion: southwest\\ncharges: 11842.442'),\n",
       " Document(metadata={'source': 'insurance.csv', 'row': 591}, page_content='age: 47\\nsex: male\\nbmi: 19.57\\nchildren: 1\\nsmoker: no\\nregion: northwest\\ncharges: 8428.0693'),\n",
       " Document(metadata={'source': 'insurance.csv', 'row': 592}, page_content='age: 20\\nsex: male\\nbmi: 31.13\\nchildren: 2\\nsmoker: no\\nregion: southeast\\ncharges: 2566.4707'),\n",
       " Document(metadata={'source': 'insurance.csv', 'row': 593}, page_content='age: 21\\nsex: female\\nbmi: 21.85\\nchildren: 1\\nsmoker: yes\\nregion: northeast\\ncharges: 15359.1045'),\n",
       " Document(metadata={'source': 'insurance.csv', 'row': 594}, page_content='age: 41\\nsex: male\\nbmi: 40.26\\nchildren: 0\\nsmoker: no\\nregion: southeast\\ncharges: 5709.1644'),\n",
       " Document(metadata={'source': 'insurance.csv', 'row': 595}, page_content='age: 46\\nsex: female\\nbmi: 33.725\\nchildren: 1\\nsmoker: no\\nregion: northeast\\ncharges: 8823.98575'),\n",
       " Document(metadata={'source': 'insurance.csv', 'row': 596}, page_content='age: 42\\nsex: female\\nbmi: 29.48\\nchildren: 2\\nsmoker: no\\nregion: southeast\\ncharges: 7640.3092'),\n",
       " Document(metadata={'source': 'insurance.csv', 'row': 597}, page_content='age: 34\\nsex: female\\nbmi: 33.25\\nchildren: 1\\nsmoker: no\\nregion: northeast\\ncharges: 5594.8455'),\n",
       " Document(metadata={'source': 'insurance.csv', 'row': 598}, page_content='age: 43\\nsex: male\\nbmi: 32.6\\nchildren: 2\\nsmoker: no\\nregion: southwest\\ncharges: 7441.501'),\n",
       " Document(metadata={'source': 'insurance.csv', 'row': 599}, page_content='age: 52\\nsex: female\\nbmi: 37.525\\nchildren: 2\\nsmoker: no\\nregion: northwest\\ncharges: 33471.97189'),\n",
       " Document(metadata={'source': 'insurance.csv', 'row': 600}, page_content='age: 18\\nsex: female\\nbmi: 39.16\\nchildren: 0\\nsmoker: no\\nregion: southeast\\ncharges: 1633.0444'),\n",
       " Document(metadata={'source': 'insurance.csv', 'row': 601}, page_content='age: 51\\nsex: male\\nbmi: 31.635\\nchildren: 0\\nsmoker: no\\nregion: northwest\\ncharges: 9174.13565'),\n",
       " Document(metadata={'source': 'insurance.csv', 'row': 602}, page_content='age: 56\\nsex: female\\nbmi: 25.3\\nchildren: 0\\nsmoker: no\\nregion: southwest\\ncharges: 11070.535'),\n",
       " Document(metadata={'source': 'insurance.csv', 'row': 603}, page_content='age: 64\\nsex: female\\nbmi: 39.05\\nchildren: 3\\nsmoker: no\\nregion: southeast\\ncharges: 16085.1275'),\n",
       " Document(metadata={'source': 'insurance.csv', 'row': 604}, page_content='age: 19\\nsex: female\\nbmi: 28.31\\nchildren: 0\\nsmoker: yes\\nregion: northwest\\ncharges: 17468.9839'),\n",
       " Document(metadata={'source': 'insurance.csv', 'row': 605}, page_content='age: 51\\nsex: female\\nbmi: 34.1\\nchildren: 0\\nsmoker: no\\nregion: southeast\\ncharges: 9283.562'),\n",
       " Document(metadata={'source': 'insurance.csv', 'row': 606}, page_content='age: 27\\nsex: female\\nbmi: 25.175\\nchildren: 0\\nsmoker: no\\nregion: northeast\\ncharges: 3558.62025'),\n",
       " Document(metadata={'source': 'insurance.csv', 'row': 607}, page_content='age: 59\\nsex: female\\nbmi: 23.655\\nchildren: 0\\nsmoker: yes\\nregion: northwest\\ncharges: 25678.77845'),\n",
       " Document(metadata={'source': 'insurance.csv', 'row': 608}, page_content='age: 28\\nsex: male\\nbmi: 26.98\\nchildren: 2\\nsmoker: no\\nregion: northeast\\ncharges: 4435.0942'),\n",
       " Document(metadata={'source': 'insurance.csv', 'row': 609}, page_content='age: 30\\nsex: male\\nbmi: 37.8\\nchildren: 2\\nsmoker: yes\\nregion: southwest\\ncharges: 39241.442'),\n",
       " Document(metadata={'source': 'insurance.csv', 'row': 610}, page_content='age: 47\\nsex: female\\nbmi: 29.37\\nchildren: 1\\nsmoker: no\\nregion: southeast\\ncharges: 8547.6913'),\n",
       " Document(metadata={'source': 'insurance.csv', 'row': 611}, page_content='age: 38\\nsex: female\\nbmi: 34.8\\nchildren: 2\\nsmoker: no\\nregion: southwest\\ncharges: 6571.544'),\n",
       " Document(metadata={'source': 'insurance.csv', 'row': 612}, page_content='age: 18\\nsex: female\\nbmi: 33.155\\nchildren: 0\\nsmoker: no\\nregion: northeast\\ncharges: 2207.69745'),\n",
       " Document(metadata={'source': 'insurance.csv', 'row': 613}, page_content='age: 34\\nsex: female\\nbmi: 19\\nchildren: 3\\nsmoker: no\\nregion: northeast\\ncharges: 6753.038'),\n",
       " Document(metadata={'source': 'insurance.csv', 'row': 614}, page_content='age: 20\\nsex: female\\nbmi: 33\\nchildren: 0\\nsmoker: no\\nregion: southeast\\ncharges: 1880.07'),\n",
       " Document(metadata={'source': 'insurance.csv', 'row': 615}, page_content='age: 47\\nsex: female\\nbmi: 36.63\\nchildren: 1\\nsmoker: yes\\nregion: southeast\\ncharges: 42969.8527'),\n",
       " Document(metadata={'source': 'insurance.csv', 'row': 616}, page_content='age: 56\\nsex: female\\nbmi: 28.595\\nchildren: 0\\nsmoker: no\\nregion: northeast\\ncharges: 11658.11505'),\n",
       " Document(metadata={'source': 'insurance.csv', 'row': 617}, page_content='age: 49\\nsex: male\\nbmi: 25.6\\nchildren: 2\\nsmoker: yes\\nregion: southwest\\ncharges: 23306.547'),\n",
       " Document(metadata={'source': 'insurance.csv', 'row': 618}, page_content='age: 19\\nsex: female\\nbmi: 33.11\\nchildren: 0\\nsmoker: yes\\nregion: southeast\\ncharges: 34439.8559'),\n",
       " Document(metadata={'source': 'insurance.csv', 'row': 619}, page_content='age: 55\\nsex: female\\nbmi: 37.1\\nchildren: 0\\nsmoker: no\\nregion: southwest\\ncharges: 10713.644'),\n",
       " Document(metadata={'source': 'insurance.csv', 'row': 620}, page_content='age: 30\\nsex: male\\nbmi: 31.4\\nchildren: 1\\nsmoker: no\\nregion: southwest\\ncharges: 3659.346'),\n",
       " Document(metadata={'source': 'insurance.csv', 'row': 621}, page_content='age: 37\\nsex: male\\nbmi: 34.1\\nchildren: 4\\nsmoker: yes\\nregion: southwest\\ncharges: 40182.246'),\n",
       " Document(metadata={'source': 'insurance.csv', 'row': 622}, page_content='age: 49\\nsex: female\\nbmi: 21.3\\nchildren: 1\\nsmoker: no\\nregion: southwest\\ncharges: 9182.17'),\n",
       " Document(metadata={'source': 'insurance.csv', 'row': 623}, page_content='age: 18\\nsex: male\\nbmi: 33.535\\nchildren: 0\\nsmoker: yes\\nregion: northeast\\ncharges: 34617.84065'),\n",
       " Document(metadata={'source': 'insurance.csv', 'row': 624}, page_content='age: 59\\nsex: male\\nbmi: 28.785\\nchildren: 0\\nsmoker: no\\nregion: northwest\\ncharges: 12129.61415'),\n",
       " Document(metadata={'source': 'insurance.csv', 'row': 625}, page_content='age: 29\\nsex: female\\nbmi: 26.03\\nchildren: 0\\nsmoker: no\\nregion: northwest\\ncharges: 3736.4647'),\n",
       " Document(metadata={'source': 'insurance.csv', 'row': 626}, page_content='age: 36\\nsex: male\\nbmi: 28.88\\nchildren: 3\\nsmoker: no\\nregion: northeast\\ncharges: 6748.5912'),\n",
       " Document(metadata={'source': 'insurance.csv', 'row': 627}, page_content='age: 33\\nsex: male\\nbmi: 42.46\\nchildren: 1\\nsmoker: no\\nregion: southeast\\ncharges: 11326.71487'),\n",
       " Document(metadata={'source': 'insurance.csv', 'row': 628}, page_content='age: 58\\nsex: male\\nbmi: 38\\nchildren: 0\\nsmoker: no\\nregion: southwest\\ncharges: 11365.952'),\n",
       " Document(metadata={'source': 'insurance.csv', 'row': 629}, page_content='age: 44\\nsex: female\\nbmi: 38.95\\nchildren: 0\\nsmoker: yes\\nregion: northwest\\ncharges: 42983.4585'),\n",
       " Document(metadata={'source': 'insurance.csv', 'row': 630}, page_content='age: 53\\nsex: male\\nbmi: 36.1\\nchildren: 1\\nsmoker: no\\nregion: southwest\\ncharges: 10085.846'),\n",
       " Document(metadata={'source': 'insurance.csv', 'row': 631}, page_content='age: 24\\nsex: male\\nbmi: 29.3\\nchildren: 0\\nsmoker: no\\nregion: southwest\\ncharges: 1977.815'),\n",
       " Document(metadata={'source': 'insurance.csv', 'row': 632}, page_content='age: 29\\nsex: female\\nbmi: 35.53\\nchildren: 0\\nsmoker: no\\nregion: southeast\\ncharges: 3366.6697'),\n",
       " Document(metadata={'source': 'insurance.csv', 'row': 633}, page_content='age: 40\\nsex: male\\nbmi: 22.705\\nchildren: 2\\nsmoker: no\\nregion: northeast\\ncharges: 7173.35995'),\n",
       " Document(metadata={'source': 'insurance.csv', 'row': 634}, page_content='age: 51\\nsex: male\\nbmi: 39.7\\nchildren: 1\\nsmoker: no\\nregion: southwest\\ncharges: 9391.346'),\n",
       " Document(metadata={'source': 'insurance.csv', 'row': 635}, page_content='age: 64\\nsex: male\\nbmi: 38.19\\nchildren: 0\\nsmoker: no\\nregion: northeast\\ncharges: 14410.9321'),\n",
       " Document(metadata={'source': 'insurance.csv', 'row': 636}, page_content='age: 19\\nsex: female\\nbmi: 24.51\\nchildren: 1\\nsmoker: no\\nregion: northwest\\ncharges: 2709.1119'),\n",
       " Document(metadata={'source': 'insurance.csv', 'row': 637}, page_content='age: 35\\nsex: female\\nbmi: 38.095\\nchildren: 2\\nsmoker: no\\nregion: northeast\\ncharges: 24915.04626'),\n",
       " Document(metadata={'source': 'insurance.csv', 'row': 638}, page_content='age: 39\\nsex: male\\nbmi: 26.41\\nchildren: 0\\nsmoker: yes\\nregion: northeast\\ncharges: 20149.3229'),\n",
       " Document(metadata={'source': 'insurance.csv', 'row': 639}, page_content='age: 56\\nsex: male\\nbmi: 33.66\\nchildren: 4\\nsmoker: no\\nregion: southeast\\ncharges: 12949.1554'),\n",
       " Document(metadata={'source': 'insurance.csv', 'row': 640}, page_content='age: 33\\nsex: male\\nbmi: 42.4\\nchildren: 5\\nsmoker: no\\nregion: southwest\\ncharges: 6666.243'),\n",
       " Document(metadata={'source': 'insurance.csv', 'row': 641}, page_content='age: 42\\nsex: male\\nbmi: 28.31\\nchildren: 3\\nsmoker: yes\\nregion: northwest\\ncharges: 32787.45859'),\n",
       " Document(metadata={'source': 'insurance.csv', 'row': 642}, page_content='age: 61\\nsex: male\\nbmi: 33.915\\nchildren: 0\\nsmoker: no\\nregion: northeast\\ncharges: 13143.86485'),\n",
       " Document(metadata={'source': 'insurance.csv', 'row': 643}, page_content='age: 23\\nsex: female\\nbmi: 34.96\\nchildren: 3\\nsmoker: no\\nregion: northwest\\ncharges: 4466.6214'),\n",
       " Document(metadata={'source': 'insurance.csv', 'row': 644}, page_content='age: 43\\nsex: male\\nbmi: 35.31\\nchildren: 2\\nsmoker: no\\nregion: southeast\\ncharges: 18806.14547'),\n",
       " Document(metadata={'source': 'insurance.csv', 'row': 645}, page_content='age: 48\\nsex: male\\nbmi: 30.78\\nchildren: 3\\nsmoker: no\\nregion: northeast\\ncharges: 10141.1362'),\n",
       " Document(metadata={'source': 'insurance.csv', 'row': 646}, page_content='age: 39\\nsex: male\\nbmi: 26.22\\nchildren: 1\\nsmoker: no\\nregion: northwest\\ncharges: 6123.5688'),\n",
       " Document(metadata={'source': 'insurance.csv', 'row': 647}, page_content='age: 40\\nsex: female\\nbmi: 23.37\\nchildren: 3\\nsmoker: no\\nregion: northeast\\ncharges: 8252.2843'),\n",
       " Document(metadata={'source': 'insurance.csv', 'row': 648}, page_content='age: 18\\nsex: male\\nbmi: 28.5\\nchildren: 0\\nsmoker: no\\nregion: northeast\\ncharges: 1712.227'),\n",
       " Document(metadata={'source': 'insurance.csv', 'row': 649}, page_content='age: 58\\nsex: female\\nbmi: 32.965\\nchildren: 0\\nsmoker: no\\nregion: northeast\\ncharges: 12430.95335'),\n",
       " Document(metadata={'source': 'insurance.csv', 'row': 650}, page_content='age: 49\\nsex: female\\nbmi: 42.68\\nchildren: 2\\nsmoker: no\\nregion: southeast\\ncharges: 9800.8882'),\n",
       " Document(metadata={'source': 'insurance.csv', 'row': 651}, page_content='age: 53\\nsex: female\\nbmi: 39.6\\nchildren: 1\\nsmoker: no\\nregion: southeast\\ncharges: 10579.711'),\n",
       " Document(metadata={'source': 'insurance.csv', 'row': 652}, page_content='age: 48\\nsex: female\\nbmi: 31.13\\nchildren: 0\\nsmoker: no\\nregion: southeast\\ncharges: 8280.6227'),\n",
       " Document(metadata={'source': 'insurance.csv', 'row': 653}, page_content='age: 45\\nsex: female\\nbmi: 36.3\\nchildren: 2\\nsmoker: no\\nregion: southeast\\ncharges: 8527.532'),\n",
       " Document(metadata={'source': 'insurance.csv', 'row': 654}, page_content='age: 59\\nsex: female\\nbmi: 35.2\\nchildren: 0\\nsmoker: no\\nregion: southeast\\ncharges: 12244.531'),\n",
       " Document(metadata={'source': 'insurance.csv', 'row': 655}, page_content='age: 52\\nsex: female\\nbmi: 25.3\\nchildren: 2\\nsmoker: yes\\nregion: southeast\\ncharges: 24667.419'),\n",
       " Document(metadata={'source': 'insurance.csv', 'row': 656}, page_content='age: 26\\nsex: female\\nbmi: 42.4\\nchildren: 1\\nsmoker: no\\nregion: southwest\\ncharges: 3410.324'),\n",
       " Document(metadata={'source': 'insurance.csv', 'row': 657}, page_content='age: 27\\nsex: male\\nbmi: 33.155\\nchildren: 2\\nsmoker: no\\nregion: northwest\\ncharges: 4058.71245'),\n",
       " Document(metadata={'source': 'insurance.csv', 'row': 658}, page_content='age: 48\\nsex: female\\nbmi: 35.91\\nchildren: 1\\nsmoker: no\\nregion: northeast\\ncharges: 26392.26029'),\n",
       " Document(metadata={'source': 'insurance.csv', 'row': 659}, page_content='age: 57\\nsex: female\\nbmi: 28.785\\nchildren: 4\\nsmoker: no\\nregion: northeast\\ncharges: 14394.39815'),\n",
       " Document(metadata={'source': 'insurance.csv', 'row': 660}, page_content='age: 37\\nsex: male\\nbmi: 46.53\\nchildren: 3\\nsmoker: no\\nregion: southeast\\ncharges: 6435.6237'),\n",
       " Document(metadata={'source': 'insurance.csv', 'row': 661}, page_content='age: 57\\nsex: female\\nbmi: 23.98\\nchildren: 1\\nsmoker: no\\nregion: southeast\\ncharges: 22192.43711'),\n",
       " Document(metadata={'source': 'insurance.csv', 'row': 662}, page_content='age: 32\\nsex: female\\nbmi: 31.54\\nchildren: 1\\nsmoker: no\\nregion: northeast\\ncharges: 5148.5526'),\n",
       " Document(metadata={'source': 'insurance.csv', 'row': 663}, page_content='age: 18\\nsex: male\\nbmi: 33.66\\nchildren: 0\\nsmoker: no\\nregion: southeast\\ncharges: 1136.3994'),\n",
       " Document(metadata={'source': 'insurance.csv', 'row': 664}, page_content='age: 64\\nsex: female\\nbmi: 22.99\\nchildren: 0\\nsmoker: yes\\nregion: southeast\\ncharges: 27037.9141'),\n",
       " Document(metadata={'source': 'insurance.csv', 'row': 665}, page_content='age: 43\\nsex: male\\nbmi: 38.06\\nchildren: 2\\nsmoker: yes\\nregion: southeast\\ncharges: 42560.4304'),\n",
       " Document(metadata={'source': 'insurance.csv', 'row': 666}, page_content='age: 49\\nsex: male\\nbmi: 28.7\\nchildren: 1\\nsmoker: no\\nregion: southwest\\ncharges: 8703.456'),\n",
       " Document(metadata={'source': 'insurance.csv', 'row': 667}, page_content='age: 40\\nsex: female\\nbmi: 32.775\\nchildren: 2\\nsmoker: yes\\nregion: northwest\\ncharges: 40003.33225'),\n",
       " Document(metadata={'source': 'insurance.csv', 'row': 668}, page_content='age: 62\\nsex: male\\nbmi: 32.015\\nchildren: 0\\nsmoker: yes\\nregion: northeast\\ncharges: 45710.20785'),\n",
       " Document(metadata={'source': 'insurance.csv', 'row': 669}, page_content='age: 40\\nsex: female\\nbmi: 29.81\\nchildren: 1\\nsmoker: no\\nregion: southeast\\ncharges: 6500.2359'),\n",
       " Document(metadata={'source': 'insurance.csv', 'row': 670}, page_content='age: 30\\nsex: male\\nbmi: 31.57\\nchildren: 3\\nsmoker: no\\nregion: southeast\\ncharges: 4837.5823'),\n",
       " Document(metadata={'source': 'insurance.csv', 'row': 671}, page_content='age: 29\\nsex: female\\nbmi: 31.16\\nchildren: 0\\nsmoker: no\\nregion: northeast\\ncharges: 3943.5954'),\n",
       " Document(metadata={'source': 'insurance.csv', 'row': 672}, page_content='age: 36\\nsex: male\\nbmi: 29.7\\nchildren: 0\\nsmoker: no\\nregion: southeast\\ncharges: 4399.731'),\n",
       " Document(metadata={'source': 'insurance.csv', 'row': 673}, page_content='age: 41\\nsex: female\\nbmi: 31.02\\nchildren: 0\\nsmoker: no\\nregion: southeast\\ncharges: 6185.3208'),\n",
       " Document(metadata={'source': 'insurance.csv', 'row': 674}, page_content='age: 44\\nsex: female\\nbmi: 43.89\\nchildren: 2\\nsmoker: yes\\nregion: southeast\\ncharges: 46200.9851'),\n",
       " Document(metadata={'source': 'insurance.csv', 'row': 675}, page_content='age: 45\\nsex: male\\nbmi: 21.375\\nchildren: 0\\nsmoker: no\\nregion: northwest\\ncharges: 7222.78625'),\n",
       " Document(metadata={'source': 'insurance.csv', 'row': 676}, page_content='age: 55\\nsex: female\\nbmi: 40.81\\nchildren: 3\\nsmoker: no\\nregion: southeast\\ncharges: 12485.8009'),\n",
       " Document(metadata={'source': 'insurance.csv', 'row': 677}, page_content='age: 60\\nsex: male\\nbmi: 31.35\\nchildren: 3\\nsmoker: yes\\nregion: northwest\\ncharges: 46130.5265'),\n",
       " Document(metadata={'source': 'insurance.csv', 'row': 678}, page_content='age: 56\\nsex: male\\nbmi: 36.1\\nchildren: 3\\nsmoker: no\\nregion: southwest\\ncharges: 12363.547'),\n",
       " Document(metadata={'source': 'insurance.csv', 'row': 679}, page_content='age: 49\\nsex: female\\nbmi: 23.18\\nchildren: 2\\nsmoker: no\\nregion: northwest\\ncharges: 10156.7832'),\n",
       " Document(metadata={'source': 'insurance.csv', 'row': 680}, page_content='age: 21\\nsex: female\\nbmi: 17.4\\nchildren: 1\\nsmoker: no\\nregion: southwest\\ncharges: 2585.269'),\n",
       " Document(metadata={'source': 'insurance.csv', 'row': 681}, page_content='age: 19\\nsex: male\\nbmi: 20.3\\nchildren: 0\\nsmoker: no\\nregion: southwest\\ncharges: 1242.26'),\n",
       " Document(metadata={'source': 'insurance.csv', 'row': 682}, page_content='age: 39\\nsex: male\\nbmi: 35.3\\nchildren: 2\\nsmoker: yes\\nregion: southwest\\ncharges: 40103.89'),\n",
       " Document(metadata={'source': 'insurance.csv', 'row': 683}, page_content='age: 53\\nsex: male\\nbmi: 24.32\\nchildren: 0\\nsmoker: no\\nregion: northwest\\ncharges: 9863.4718'),\n",
       " Document(metadata={'source': 'insurance.csv', 'row': 684}, page_content='age: 33\\nsex: female\\nbmi: 18.5\\nchildren: 1\\nsmoker: no\\nregion: southwest\\ncharges: 4766.022'),\n",
       " Document(metadata={'source': 'insurance.csv', 'row': 685}, page_content='age: 53\\nsex: male\\nbmi: 26.41\\nchildren: 2\\nsmoker: no\\nregion: northeast\\ncharges: 11244.3769'),\n",
       " Document(metadata={'source': 'insurance.csv', 'row': 686}, page_content='age: 42\\nsex: male\\nbmi: 26.125\\nchildren: 2\\nsmoker: no\\nregion: northeast\\ncharges: 7729.64575'),\n",
       " Document(metadata={'source': 'insurance.csv', 'row': 687}, page_content='age: 40\\nsex: male\\nbmi: 41.69\\nchildren: 0\\nsmoker: no\\nregion: southeast\\ncharges: 5438.7491'),\n",
       " Document(metadata={'source': 'insurance.csv', 'row': 688}, page_content='age: 47\\nsex: female\\nbmi: 24.1\\nchildren: 1\\nsmoker: no\\nregion: southwest\\ncharges: 26236.57997'),\n",
       " Document(metadata={'source': 'insurance.csv', 'row': 689}, page_content='age: 27\\nsex: male\\nbmi: 31.13\\nchildren: 1\\nsmoker: yes\\nregion: southeast\\ncharges: 34806.4677'),\n",
       " Document(metadata={'source': 'insurance.csv', 'row': 690}, page_content='age: 21\\nsex: male\\nbmi: 27.36\\nchildren: 0\\nsmoker: no\\nregion: northeast\\ncharges: 2104.1134'),\n",
       " Document(metadata={'source': 'insurance.csv', 'row': 691}, page_content='age: 47\\nsex: male\\nbmi: 36.2\\nchildren: 1\\nsmoker: no\\nregion: southwest\\ncharges: 8068.185'),\n",
       " Document(metadata={'source': 'insurance.csv', 'row': 692}, page_content='age: 20\\nsex: male\\nbmi: 32.395\\nchildren: 1\\nsmoker: no\\nregion: northwest\\ncharges: 2362.22905'),\n",
       " Document(metadata={'source': 'insurance.csv', 'row': 693}, page_content='age: 24\\nsex: male\\nbmi: 23.655\\nchildren: 0\\nsmoker: no\\nregion: northwest\\ncharges: 2352.96845'),\n",
       " Document(metadata={'source': 'insurance.csv', 'row': 694}, page_content='age: 27\\nsex: female\\nbmi: 34.8\\nchildren: 1\\nsmoker: no\\nregion: southwest\\ncharges: 3577.999'),\n",
       " Document(metadata={'source': 'insurance.csv', 'row': 695}, page_content='age: 26\\nsex: female\\nbmi: 40.185\\nchildren: 0\\nsmoker: no\\nregion: northwest\\ncharges: 3201.24515'),\n",
       " Document(metadata={'source': 'insurance.csv', 'row': 696}, page_content='age: 53\\nsex: female\\nbmi: 32.3\\nchildren: 2\\nsmoker: no\\nregion: northeast\\ncharges: 29186.48236'),\n",
       " Document(metadata={'source': 'insurance.csv', 'row': 697}, page_content='age: 41\\nsex: male\\nbmi: 35.75\\nchildren: 1\\nsmoker: yes\\nregion: southeast\\ncharges: 40273.6455'),\n",
       " Document(metadata={'source': 'insurance.csv', 'row': 698}, page_content='age: 56\\nsex: male\\nbmi: 33.725\\nchildren: 0\\nsmoker: no\\nregion: northwest\\ncharges: 10976.24575'),\n",
       " Document(metadata={'source': 'insurance.csv', 'row': 699}, page_content='age: 23\\nsex: female\\nbmi: 39.27\\nchildren: 2\\nsmoker: no\\nregion: southeast\\ncharges: 3500.6123'),\n",
       " Document(metadata={'source': 'insurance.csv', 'row': 700}, page_content='age: 21\\nsex: female\\nbmi: 34.87\\nchildren: 0\\nsmoker: no\\nregion: southeast\\ncharges: 2020.5523'),\n",
       " Document(metadata={'source': 'insurance.csv', 'row': 701}, page_content='age: 50\\nsex: female\\nbmi: 44.745\\nchildren: 0\\nsmoker: no\\nregion: northeast\\ncharges: 9541.69555'),\n",
       " Document(metadata={'source': 'insurance.csv', 'row': 702}, page_content='age: 53\\nsex: male\\nbmi: 41.47\\nchildren: 0\\nsmoker: no\\nregion: southeast\\ncharges: 9504.3103'),\n",
       " Document(metadata={'source': 'insurance.csv', 'row': 703}, page_content='age: 34\\nsex: female\\nbmi: 26.41\\nchildren: 1\\nsmoker: no\\nregion: northwest\\ncharges: 5385.3379'),\n",
       " Document(metadata={'source': 'insurance.csv', 'row': 704}, page_content='age: 47\\nsex: female\\nbmi: 29.545\\nchildren: 1\\nsmoker: no\\nregion: northwest\\ncharges: 8930.93455'),\n",
       " Document(metadata={'source': 'insurance.csv', 'row': 705}, page_content='age: 33\\nsex: female\\nbmi: 32.9\\nchildren: 2\\nsmoker: no\\nregion: southwest\\ncharges: 5375.038'),\n",
       " Document(metadata={'source': 'insurance.csv', 'row': 706}, page_content='age: 51\\nsex: female\\nbmi: 38.06\\nchildren: 0\\nsmoker: yes\\nregion: southeast\\ncharges: 44400.4064'),\n",
       " Document(metadata={'source': 'insurance.csv', 'row': 707}, page_content='age: 49\\nsex: male\\nbmi: 28.69\\nchildren: 3\\nsmoker: no\\nregion: northwest\\ncharges: 10264.4421'),\n",
       " Document(metadata={'source': 'insurance.csv', 'row': 708}, page_content='age: 31\\nsex: female\\nbmi: 30.495\\nchildren: 3\\nsmoker: no\\nregion: northeast\\ncharges: 6113.23105'),\n",
       " Document(metadata={'source': 'insurance.csv', 'row': 709}, page_content='age: 36\\nsex: female\\nbmi: 27.74\\nchildren: 0\\nsmoker: no\\nregion: northeast\\ncharges: 5469.0066'),\n",
       " Document(metadata={'source': 'insurance.csv', 'row': 710}, page_content='age: 18\\nsex: male\\nbmi: 35.2\\nchildren: 1\\nsmoker: no\\nregion: southeast\\ncharges: 1727.54'),\n",
       " Document(metadata={'source': 'insurance.csv', 'row': 711}, page_content='age: 50\\nsex: female\\nbmi: 23.54\\nchildren: 2\\nsmoker: no\\nregion: southeast\\ncharges: 10107.2206'),\n",
       " Document(metadata={'source': 'insurance.csv', 'row': 712}, page_content='age: 43\\nsex: female\\nbmi: 30.685\\nchildren: 2\\nsmoker: no\\nregion: northwest\\ncharges: 8310.83915'),\n",
       " Document(metadata={'source': 'insurance.csv', 'row': 713}, page_content='age: 20\\nsex: male\\nbmi: 40.47\\nchildren: 0\\nsmoker: no\\nregion: northeast\\ncharges: 1984.4533'),\n",
       " Document(metadata={'source': 'insurance.csv', 'row': 714}, page_content='age: 24\\nsex: female\\nbmi: 22.6\\nchildren: 0\\nsmoker: no\\nregion: southwest\\ncharges: 2457.502'),\n",
       " Document(metadata={'source': 'insurance.csv', 'row': 715}, page_content='age: 60\\nsex: male\\nbmi: 28.9\\nchildren: 0\\nsmoker: no\\nregion: southwest\\ncharges: 12146.971'),\n",
       " Document(metadata={'source': 'insurance.csv', 'row': 716}, page_content='age: 49\\nsex: female\\nbmi: 22.61\\nchildren: 1\\nsmoker: no\\nregion: northwest\\ncharges: 9566.9909'),\n",
       " Document(metadata={'source': 'insurance.csv', 'row': 717}, page_content='age: 60\\nsex: male\\nbmi: 24.32\\nchildren: 1\\nsmoker: no\\nregion: northwest\\ncharges: 13112.6048'),\n",
       " Document(metadata={'source': 'insurance.csv', 'row': 718}, page_content='age: 51\\nsex: female\\nbmi: 36.67\\nchildren: 2\\nsmoker: no\\nregion: northwest\\ncharges: 10848.1343'),\n",
       " Document(metadata={'source': 'insurance.csv', 'row': 719}, page_content='age: 58\\nsex: female\\nbmi: 33.44\\nchildren: 0\\nsmoker: no\\nregion: northwest\\ncharges: 12231.6136'),\n",
       " Document(metadata={'source': 'insurance.csv', 'row': 720}, page_content='age: 51\\nsex: female\\nbmi: 40.66\\nchildren: 0\\nsmoker: no\\nregion: northeast\\ncharges: 9875.6804'),\n",
       " Document(metadata={'source': 'insurance.csv', 'row': 721}, page_content='age: 53\\nsex: male\\nbmi: 36.6\\nchildren: 3\\nsmoker: no\\nregion: southwest\\ncharges: 11264.541'),\n",
       " Document(metadata={'source': 'insurance.csv', 'row': 722}, page_content='age: 62\\nsex: male\\nbmi: 37.4\\nchildren: 0\\nsmoker: no\\nregion: southwest\\ncharges: 12979.358'),\n",
       " Document(metadata={'source': 'insurance.csv', 'row': 723}, page_content='age: 19\\nsex: male\\nbmi: 35.4\\nchildren: 0\\nsmoker: no\\nregion: southwest\\ncharges: 1263.249'),\n",
       " Document(metadata={'source': 'insurance.csv', 'row': 724}, page_content='age: 50\\nsex: female\\nbmi: 27.075\\nchildren: 1\\nsmoker: no\\nregion: northeast\\ncharges: 10106.13425'),\n",
       " Document(metadata={'source': 'insurance.csv', 'row': 725}, page_content='age: 30\\nsex: female\\nbmi: 39.05\\nchildren: 3\\nsmoker: yes\\nregion: southeast\\ncharges: 40932.4295'),\n",
       " Document(metadata={'source': 'insurance.csv', 'row': 726}, page_content='age: 41\\nsex: male\\nbmi: 28.405\\nchildren: 1\\nsmoker: no\\nregion: northwest\\ncharges: 6664.68595'),\n",
       " Document(metadata={'source': 'insurance.csv', 'row': 727}, page_content='age: 29\\nsex: female\\nbmi: 21.755\\nchildren: 1\\nsmoker: yes\\nregion: northeast\\ncharges: 16657.71745'),\n",
       " Document(metadata={'source': 'insurance.csv', 'row': 728}, page_content='age: 18\\nsex: female\\nbmi: 40.28\\nchildren: 0\\nsmoker: no\\nregion: northeast\\ncharges: 2217.6012'),\n",
       " Document(metadata={'source': 'insurance.csv', 'row': 729}, page_content='age: 41\\nsex: female\\nbmi: 36.08\\nchildren: 1\\nsmoker: no\\nregion: southeast\\ncharges: 6781.3542'),\n",
       " Document(metadata={'source': 'insurance.csv', 'row': 730}, page_content='age: 35\\nsex: male\\nbmi: 24.42\\nchildren: 3\\nsmoker: yes\\nregion: southeast\\ncharges: 19361.9988'),\n",
       " Document(metadata={'source': 'insurance.csv', 'row': 731}, page_content='age: 53\\nsex: male\\nbmi: 21.4\\nchildren: 1\\nsmoker: no\\nregion: southwest\\ncharges: 10065.413'),\n",
       " Document(metadata={'source': 'insurance.csv', 'row': 732}, page_content='age: 24\\nsex: female\\nbmi: 30.1\\nchildren: 3\\nsmoker: no\\nregion: southwest\\ncharges: 4234.927'),\n",
       " Document(metadata={'source': 'insurance.csv', 'row': 733}, page_content='age: 48\\nsex: female\\nbmi: 27.265\\nchildren: 1\\nsmoker: no\\nregion: northeast\\ncharges: 9447.25035'),\n",
       " Document(metadata={'source': 'insurance.csv', 'row': 734}, page_content='age: 59\\nsex: female\\nbmi: 32.1\\nchildren: 3\\nsmoker: no\\nregion: southwest\\ncharges: 14007.222'),\n",
       " Document(metadata={'source': 'insurance.csv', 'row': 735}, page_content='age: 49\\nsex: female\\nbmi: 34.77\\nchildren: 1\\nsmoker: no\\nregion: northwest\\ncharges: 9583.8933'),\n",
       " Document(metadata={'source': 'insurance.csv', 'row': 736}, page_content='age: 37\\nsex: female\\nbmi: 38.39\\nchildren: 0\\nsmoker: yes\\nregion: southeast\\ncharges: 40419.0191'),\n",
       " Document(metadata={'source': 'insurance.csv', 'row': 737}, page_content='age: 26\\nsex: male\\nbmi: 23.7\\nchildren: 2\\nsmoker: no\\nregion: southwest\\ncharges: 3484.331'),\n",
       " Document(metadata={'source': 'insurance.csv', 'row': 738}, page_content='age: 23\\nsex: male\\nbmi: 31.73\\nchildren: 3\\nsmoker: yes\\nregion: northeast\\ncharges: 36189.1017'),\n",
       " Document(metadata={'source': 'insurance.csv', 'row': 739}, page_content='age: 29\\nsex: male\\nbmi: 35.5\\nchildren: 2\\nsmoker: yes\\nregion: southwest\\ncharges: 44585.45587'),\n",
       " Document(metadata={'source': 'insurance.csv', 'row': 740}, page_content='age: 45\\nsex: male\\nbmi: 24.035\\nchildren: 2\\nsmoker: no\\nregion: northeast\\ncharges: 8604.48365'),\n",
       " Document(metadata={'source': 'insurance.csv', 'row': 741}, page_content='age: 27\\nsex: male\\nbmi: 29.15\\nchildren: 0\\nsmoker: yes\\nregion: southeast\\ncharges: 18246.4955'),\n",
       " Document(metadata={'source': 'insurance.csv', 'row': 742}, page_content='age: 53\\nsex: male\\nbmi: 34.105\\nchildren: 0\\nsmoker: yes\\nregion: northeast\\ncharges: 43254.41795'),\n",
       " Document(metadata={'source': 'insurance.csv', 'row': 743}, page_content='age: 31\\nsex: female\\nbmi: 26.62\\nchildren: 0\\nsmoker: no\\nregion: southeast\\ncharges: 3757.8448'),\n",
       " Document(metadata={'source': 'insurance.csv', 'row': 744}, page_content='age: 50\\nsex: male\\nbmi: 26.41\\nchildren: 0\\nsmoker: no\\nregion: northwest\\ncharges: 8827.2099'),\n",
       " Document(metadata={'source': 'insurance.csv', 'row': 745}, page_content='age: 50\\nsex: female\\nbmi: 30.115\\nchildren: 1\\nsmoker: no\\nregion: northwest\\ncharges: 9910.35985'),\n",
       " Document(metadata={'source': 'insurance.csv', 'row': 746}, page_content='age: 34\\nsex: male\\nbmi: 27\\nchildren: 2\\nsmoker: no\\nregion: southwest\\ncharges: 11737.84884'),\n",
       " Document(metadata={'source': 'insurance.csv', 'row': 747}, page_content='age: 19\\nsex: male\\nbmi: 21.755\\nchildren: 0\\nsmoker: no\\nregion: northwest\\ncharges: 1627.28245'),\n",
       " Document(metadata={'source': 'insurance.csv', 'row': 748}, page_content='age: 47\\nsex: female\\nbmi: 36\\nchildren: 1\\nsmoker: no\\nregion: southwest\\ncharges: 8556.907'),\n",
       " Document(metadata={'source': 'insurance.csv', 'row': 749}, page_content='age: 28\\nsex: male\\nbmi: 30.875\\nchildren: 0\\nsmoker: no\\nregion: northwest\\ncharges: 3062.50825'),\n",
       " Document(metadata={'source': 'insurance.csv', 'row': 750}, page_content='age: 37\\nsex: female\\nbmi: 26.4\\nchildren: 0\\nsmoker: yes\\nregion: southeast\\ncharges: 19539.243'),\n",
       " Document(metadata={'source': 'insurance.csv', 'row': 751}, page_content='age: 21\\nsex: male\\nbmi: 28.975\\nchildren: 0\\nsmoker: no\\nregion: northwest\\ncharges: 1906.35825'),\n",
       " Document(metadata={'source': 'insurance.csv', 'row': 752}, page_content='age: 64\\nsex: male\\nbmi: 37.905\\nchildren: 0\\nsmoker: no\\nregion: northwest\\ncharges: 14210.53595'),\n",
       " Document(metadata={'source': 'insurance.csv', 'row': 753}, page_content='age: 58\\nsex: female\\nbmi: 22.77\\nchildren: 0\\nsmoker: no\\nregion: southeast\\ncharges: 11833.7823'),\n",
       " Document(metadata={'source': 'insurance.csv', 'row': 754}, page_content='age: 24\\nsex: male\\nbmi: 33.63\\nchildren: 4\\nsmoker: no\\nregion: northeast\\ncharges: 17128.42608'),\n",
       " Document(metadata={'source': 'insurance.csv', 'row': 755}, page_content='age: 31\\nsex: male\\nbmi: 27.645\\nchildren: 2\\nsmoker: no\\nregion: northeast\\ncharges: 5031.26955'),\n",
       " Document(metadata={'source': 'insurance.csv', 'row': 756}, page_content='age: 39\\nsex: female\\nbmi: 22.8\\nchildren: 3\\nsmoker: no\\nregion: northeast\\ncharges: 7985.815'),\n",
       " Document(metadata={'source': 'insurance.csv', 'row': 757}, page_content='age: 47\\nsex: female\\nbmi: 27.83\\nchildren: 0\\nsmoker: yes\\nregion: southeast\\ncharges: 23065.4207'),\n",
       " Document(metadata={'source': 'insurance.csv', 'row': 758}, page_content='age: 30\\nsex: male\\nbmi: 37.43\\nchildren: 3\\nsmoker: no\\nregion: northeast\\ncharges: 5428.7277'),\n",
       " Document(metadata={'source': 'insurance.csv', 'row': 759}, page_content='age: 18\\nsex: male\\nbmi: 38.17\\nchildren: 0\\nsmoker: yes\\nregion: southeast\\ncharges: 36307.7983'),\n",
       " Document(metadata={'source': 'insurance.csv', 'row': 760}, page_content='age: 22\\nsex: female\\nbmi: 34.58\\nchildren: 2\\nsmoker: no\\nregion: northeast\\ncharges: 3925.7582'),\n",
       " Document(metadata={'source': 'insurance.csv', 'row': 761}, page_content='age: 23\\nsex: male\\nbmi: 35.2\\nchildren: 1\\nsmoker: no\\nregion: southwest\\ncharges: 2416.955'),\n",
       " Document(metadata={'source': 'insurance.csv', 'row': 762}, page_content='age: 33\\nsex: male\\nbmi: 27.1\\nchildren: 1\\nsmoker: yes\\nregion: southwest\\ncharges: 19040.876'),\n",
       " Document(metadata={'source': 'insurance.csv', 'row': 763}, page_content='age: 27\\nsex: male\\nbmi: 26.03\\nchildren: 0\\nsmoker: no\\nregion: northeast\\ncharges: 3070.8087'),\n",
       " Document(metadata={'source': 'insurance.csv', 'row': 764}, page_content='age: 45\\nsex: female\\nbmi: 25.175\\nchildren: 2\\nsmoker: no\\nregion: northeast\\ncharges: 9095.06825'),\n",
       " Document(metadata={'source': 'insurance.csv', 'row': 765}, page_content='age: 57\\nsex: female\\nbmi: 31.825\\nchildren: 0\\nsmoker: no\\nregion: northwest\\ncharges: 11842.62375'),\n",
       " Document(metadata={'source': 'insurance.csv', 'row': 766}, page_content='age: 47\\nsex: male\\nbmi: 32.3\\nchildren: 1\\nsmoker: no\\nregion: southwest\\ncharges: 8062.764'),\n",
       " Document(metadata={'source': 'insurance.csv', 'row': 767}, page_content='age: 42\\nsex: female\\nbmi: 29\\nchildren: 1\\nsmoker: no\\nregion: southwest\\ncharges: 7050.642'),\n",
       " Document(metadata={'source': 'insurance.csv', 'row': 768}, page_content='age: 64\\nsex: female\\nbmi: 39.7\\nchildren: 0\\nsmoker: no\\nregion: southwest\\ncharges: 14319.031'),\n",
       " Document(metadata={'source': 'insurance.csv', 'row': 769}, page_content='age: 38\\nsex: female\\nbmi: 19.475\\nchildren: 2\\nsmoker: no\\nregion: northwest\\ncharges: 6933.24225'),\n",
       " Document(metadata={'source': 'insurance.csv', 'row': 770}, page_content='age: 61\\nsex: male\\nbmi: 36.1\\nchildren: 3\\nsmoker: no\\nregion: southwest\\ncharges: 27941.28758'),\n",
       " Document(metadata={'source': 'insurance.csv', 'row': 771}, page_content='age: 53\\nsex: female\\nbmi: 26.7\\nchildren: 2\\nsmoker: no\\nregion: southwest\\ncharges: 11150.78'),\n",
       " Document(metadata={'source': 'insurance.csv', 'row': 772}, page_content='age: 44\\nsex: female\\nbmi: 36.48\\nchildren: 0\\nsmoker: no\\nregion: northeast\\ncharges: 12797.20962'),\n",
       " Document(metadata={'source': 'insurance.csv', 'row': 773}, page_content='age: 19\\nsex: female\\nbmi: 28.88\\nchildren: 0\\nsmoker: yes\\nregion: northwest\\ncharges: 17748.5062'),\n",
       " Document(metadata={'source': 'insurance.csv', 'row': 774}, page_content='age: 41\\nsex: male\\nbmi: 34.2\\nchildren: 2\\nsmoker: no\\nregion: northwest\\ncharges: 7261.741'),\n",
       " Document(metadata={'source': 'insurance.csv', 'row': 775}, page_content='age: 51\\nsex: male\\nbmi: 33.33\\nchildren: 3\\nsmoker: no\\nregion: southeast\\ncharges: 10560.4917'),\n",
       " Document(metadata={'source': 'insurance.csv', 'row': 776}, page_content='age: 40\\nsex: male\\nbmi: 32.3\\nchildren: 2\\nsmoker: no\\nregion: northwest\\ncharges: 6986.697'),\n",
       " Document(metadata={'source': 'insurance.csv', 'row': 777}, page_content='age: 45\\nsex: male\\nbmi: 39.805\\nchildren: 0\\nsmoker: no\\nregion: northeast\\ncharges: 7448.40395'),\n",
       " Document(metadata={'source': 'insurance.csv', 'row': 778}, page_content='age: 35\\nsex: male\\nbmi: 34.32\\nchildren: 3\\nsmoker: no\\nregion: southeast\\ncharges: 5934.3798'),\n",
       " Document(metadata={'source': 'insurance.csv', 'row': 779}, page_content='age: 53\\nsex: male\\nbmi: 28.88\\nchildren: 0\\nsmoker: no\\nregion: northwest\\ncharges: 9869.8102'),\n",
       " Document(metadata={'source': 'insurance.csv', 'row': 780}, page_content='age: 30\\nsex: male\\nbmi: 24.4\\nchildren: 3\\nsmoker: yes\\nregion: southwest\\ncharges: 18259.216'),\n",
       " Document(metadata={'source': 'insurance.csv', 'row': 781}, page_content='age: 18\\nsex: male\\nbmi: 41.14\\nchildren: 0\\nsmoker: no\\nregion: southeast\\ncharges: 1146.7966'),\n",
       " Document(metadata={'source': 'insurance.csv', 'row': 782}, page_content='age: 51\\nsex: male\\nbmi: 35.97\\nchildren: 1\\nsmoker: no\\nregion: southeast\\ncharges: 9386.1613'),\n",
       " Document(metadata={'source': 'insurance.csv', 'row': 783}, page_content='age: 50\\nsex: female\\nbmi: 27.6\\nchildren: 1\\nsmoker: yes\\nregion: southwest\\ncharges: 24520.264'),\n",
       " Document(metadata={'source': 'insurance.csv', 'row': 784}, page_content='age: 31\\nsex: female\\nbmi: 29.26\\nchildren: 1\\nsmoker: no\\nregion: southeast\\ncharges: 4350.5144'),\n",
       " Document(metadata={'source': 'insurance.csv', 'row': 785}, page_content='age: 35\\nsex: female\\nbmi: 27.7\\nchildren: 3\\nsmoker: no\\nregion: southwest\\ncharges: 6414.178'),\n",
       " Document(metadata={'source': 'insurance.csv', 'row': 786}, page_content='age: 60\\nsex: male\\nbmi: 36.955\\nchildren: 0\\nsmoker: no\\nregion: northeast\\ncharges: 12741.16745'),\n",
       " Document(metadata={'source': 'insurance.csv', 'row': 787}, page_content='age: 21\\nsex: male\\nbmi: 36.86\\nchildren: 0\\nsmoker: no\\nregion: northwest\\ncharges: 1917.3184'),\n",
       " Document(metadata={'source': 'insurance.csv', 'row': 788}, page_content='age: 29\\nsex: male\\nbmi: 22.515\\nchildren: 3\\nsmoker: no\\nregion: northeast\\ncharges: 5209.57885'),\n",
       " Document(metadata={'source': 'insurance.csv', 'row': 789}, page_content='age: 62\\nsex: female\\nbmi: 29.92\\nchildren: 0\\nsmoker: no\\nregion: southeast\\ncharges: 13457.9608'),\n",
       " Document(metadata={'source': 'insurance.csv', 'row': 790}, page_content='age: 39\\nsex: female\\nbmi: 41.8\\nchildren: 0\\nsmoker: no\\nregion: southeast\\ncharges: 5662.225'),\n",
       " Document(metadata={'source': 'insurance.csv', 'row': 791}, page_content='age: 19\\nsex: male\\nbmi: 27.6\\nchildren: 0\\nsmoker: no\\nregion: southwest\\ncharges: 1252.407'),\n",
       " Document(metadata={'source': 'insurance.csv', 'row': 792}, page_content='age: 22\\nsex: female\\nbmi: 23.18\\nchildren: 0\\nsmoker: no\\nregion: northeast\\ncharges: 2731.9122'),\n",
       " Document(metadata={'source': 'insurance.csv', 'row': 793}, page_content='age: 53\\nsex: male\\nbmi: 20.9\\nchildren: 0\\nsmoker: yes\\nregion: southeast\\ncharges: 21195.818'),\n",
       " Document(metadata={'source': 'insurance.csv', 'row': 794}, page_content='age: 39\\nsex: female\\nbmi: 31.92\\nchildren: 2\\nsmoker: no\\nregion: northwest\\ncharges: 7209.4918'),\n",
       " Document(metadata={'source': 'insurance.csv', 'row': 795}, page_content='age: 27\\nsex: male\\nbmi: 28.5\\nchildren: 0\\nsmoker: yes\\nregion: northwest\\ncharges: 18310.742'),\n",
       " Document(metadata={'source': 'insurance.csv', 'row': 796}, page_content='age: 30\\nsex: male\\nbmi: 44.22\\nchildren: 2\\nsmoker: no\\nregion: southeast\\ncharges: 4266.1658'),\n",
       " Document(metadata={'source': 'insurance.csv', 'row': 797}, page_content='age: 30\\nsex: female\\nbmi: 22.895\\nchildren: 1\\nsmoker: no\\nregion: northeast\\ncharges: 4719.52405'),\n",
       " Document(metadata={'source': 'insurance.csv', 'row': 798}, page_content='age: 58\\nsex: female\\nbmi: 33.1\\nchildren: 0\\nsmoker: no\\nregion: southwest\\ncharges: 11848.141'),\n",
       " Document(metadata={'source': 'insurance.csv', 'row': 799}, page_content='age: 33\\nsex: male\\nbmi: 24.795\\nchildren: 0\\nsmoker: yes\\nregion: northeast\\ncharges: 17904.52705'),\n",
       " Document(metadata={'source': 'insurance.csv', 'row': 800}, page_content='age: 42\\nsex: female\\nbmi: 26.18\\nchildren: 1\\nsmoker: no\\nregion: southeast\\ncharges: 7046.7222'),\n",
       " Document(metadata={'source': 'insurance.csv', 'row': 801}, page_content='age: 64\\nsex: female\\nbmi: 35.97\\nchildren: 0\\nsmoker: no\\nregion: southeast\\ncharges: 14313.8463'),\n",
       " Document(metadata={'source': 'insurance.csv', 'row': 802}, page_content='age: 21\\nsex: male\\nbmi: 22.3\\nchildren: 1\\nsmoker: no\\nregion: southwest\\ncharges: 2103.08'),\n",
       " Document(metadata={'source': 'insurance.csv', 'row': 803}, page_content='age: 18\\nsex: female\\nbmi: 42.24\\nchildren: 0\\nsmoker: yes\\nregion: southeast\\ncharges: 38792.6856'),\n",
       " Document(metadata={'source': 'insurance.csv', 'row': 804}, page_content='age: 23\\nsex: male\\nbmi: 26.51\\nchildren: 0\\nsmoker: no\\nregion: southeast\\ncharges: 1815.8759'),\n",
       " Document(metadata={'source': 'insurance.csv', 'row': 805}, page_content='age: 45\\nsex: female\\nbmi: 35.815\\nchildren: 0\\nsmoker: no\\nregion: northwest\\ncharges: 7731.85785'),\n",
       " Document(metadata={'source': 'insurance.csv', 'row': 806}, page_content='age: 40\\nsex: female\\nbmi: 41.42\\nchildren: 1\\nsmoker: no\\nregion: northwest\\ncharges: 28476.73499'),\n",
       " Document(metadata={'source': 'insurance.csv', 'row': 807}, page_content='age: 19\\nsex: female\\nbmi: 36.575\\nchildren: 0\\nsmoker: no\\nregion: northwest\\ncharges: 2136.88225'),\n",
       " Document(metadata={'source': 'insurance.csv', 'row': 808}, page_content='age: 18\\nsex: male\\nbmi: 30.14\\nchildren: 0\\nsmoker: no\\nregion: southeast\\ncharges: 1131.5066'),\n",
       " Document(metadata={'source': 'insurance.csv', 'row': 809}, page_content='age: 25\\nsex: male\\nbmi: 25.84\\nchildren: 1\\nsmoker: no\\nregion: northeast\\ncharges: 3309.7926'),\n",
       " Document(metadata={'source': 'insurance.csv', 'row': 810}, page_content='age: 46\\nsex: female\\nbmi: 30.8\\nchildren: 3\\nsmoker: no\\nregion: southwest\\ncharges: 9414.92'),\n",
       " Document(metadata={'source': 'insurance.csv', 'row': 811}, page_content='age: 33\\nsex: female\\nbmi: 42.94\\nchildren: 3\\nsmoker: no\\nregion: northwest\\ncharges: 6360.9936'),\n",
       " Document(metadata={'source': 'insurance.csv', 'row': 812}, page_content='age: 54\\nsex: male\\nbmi: 21.01\\nchildren: 2\\nsmoker: no\\nregion: southeast\\ncharges: 11013.7119'),\n",
       " Document(metadata={'source': 'insurance.csv', 'row': 813}, page_content='age: 28\\nsex: male\\nbmi: 22.515\\nchildren: 2\\nsmoker: no\\nregion: northeast\\ncharges: 4428.88785'),\n",
       " Document(metadata={'source': 'insurance.csv', 'row': 814}, page_content='age: 36\\nsex: male\\nbmi: 34.43\\nchildren: 2\\nsmoker: no\\nregion: southeast\\ncharges: 5584.3057'),\n",
       " Document(metadata={'source': 'insurance.csv', 'row': 815}, page_content='age: 20\\nsex: female\\nbmi: 31.46\\nchildren: 0\\nsmoker: no\\nregion: southeast\\ncharges: 1877.9294'),\n",
       " Document(metadata={'source': 'insurance.csv', 'row': 816}, page_content='age: 24\\nsex: female\\nbmi: 24.225\\nchildren: 0\\nsmoker: no\\nregion: northwest\\ncharges: 2842.76075'),\n",
       " Document(metadata={'source': 'insurance.csv', 'row': 817}, page_content='age: 23\\nsex: male\\nbmi: 37.1\\nchildren: 3\\nsmoker: no\\nregion: southwest\\ncharges: 3597.596'),\n",
       " Document(metadata={'source': 'insurance.csv', 'row': 818}, page_content='age: 47\\nsex: female\\nbmi: 26.125\\nchildren: 1\\nsmoker: yes\\nregion: northeast\\ncharges: 23401.30575'),\n",
       " Document(metadata={'source': 'insurance.csv', 'row': 819}, page_content='age: 33\\nsex: female\\nbmi: 35.53\\nchildren: 0\\nsmoker: yes\\nregion: northwest\\ncharges: 55135.40209'),\n",
       " Document(metadata={'source': 'insurance.csv', 'row': 820}, page_content='age: 45\\nsex: male\\nbmi: 33.7\\nchildren: 1\\nsmoker: no\\nregion: southwest\\ncharges: 7445.918'),\n",
       " Document(metadata={'source': 'insurance.csv', 'row': 821}, page_content='age: 26\\nsex: male\\nbmi: 17.67\\nchildren: 0\\nsmoker: no\\nregion: northwest\\ncharges: 2680.9493'),\n",
       " Document(metadata={'source': 'insurance.csv', 'row': 822}, page_content='age: 18\\nsex: female\\nbmi: 31.13\\nchildren: 0\\nsmoker: no\\nregion: southeast\\ncharges: 1621.8827'),\n",
       " Document(metadata={'source': 'insurance.csv', 'row': 823}, page_content='age: 44\\nsex: female\\nbmi: 29.81\\nchildren: 2\\nsmoker: no\\nregion: southeast\\ncharges: 8219.2039'),\n",
       " Document(metadata={'source': 'insurance.csv', 'row': 824}, page_content='age: 60\\nsex: male\\nbmi: 24.32\\nchildren: 0\\nsmoker: no\\nregion: northwest\\ncharges: 12523.6048'),\n",
       " Document(metadata={'source': 'insurance.csv', 'row': 825}, page_content='age: 64\\nsex: female\\nbmi: 31.825\\nchildren: 2\\nsmoker: no\\nregion: northeast\\ncharges: 16069.08475'),\n",
       " Document(metadata={'source': 'insurance.csv', 'row': 826}, page_content='age: 56\\nsex: male\\nbmi: 31.79\\nchildren: 2\\nsmoker: yes\\nregion: southeast\\ncharges: 43813.8661'),\n",
       " Document(metadata={'source': 'insurance.csv', 'row': 827}, page_content='age: 36\\nsex: male\\nbmi: 28.025\\nchildren: 1\\nsmoker: yes\\nregion: northeast\\ncharges: 20773.62775'),\n",
       " Document(metadata={'source': 'insurance.csv', 'row': 828}, page_content='age: 41\\nsex: male\\nbmi: 30.78\\nchildren: 3\\nsmoker: yes\\nregion: northeast\\ncharges: 39597.4072'),\n",
       " Document(metadata={'source': 'insurance.csv', 'row': 829}, page_content='age: 39\\nsex: male\\nbmi: 21.85\\nchildren: 1\\nsmoker: no\\nregion: northwest\\ncharges: 6117.4945'),\n",
       " Document(metadata={'source': 'insurance.csv', 'row': 830}, page_content='age: 63\\nsex: male\\nbmi: 33.1\\nchildren: 0\\nsmoker: no\\nregion: southwest\\ncharges: 13393.756'),\n",
       " Document(metadata={'source': 'insurance.csv', 'row': 831}, page_content='age: 36\\nsex: female\\nbmi: 25.84\\nchildren: 0\\nsmoker: no\\nregion: northwest\\ncharges: 5266.3656'),\n",
       " Document(metadata={'source': 'insurance.csv', 'row': 832}, page_content='age: 28\\nsex: female\\nbmi: 23.845\\nchildren: 2\\nsmoker: no\\nregion: northwest\\ncharges: 4719.73655'),\n",
       " Document(metadata={'source': 'insurance.csv', 'row': 833}, page_content='age: 58\\nsex: male\\nbmi: 34.39\\nchildren: 0\\nsmoker: no\\nregion: northwest\\ncharges: 11743.9341'),\n",
       " Document(metadata={'source': 'insurance.csv', 'row': 834}, page_content='age: 36\\nsex: male\\nbmi: 33.82\\nchildren: 1\\nsmoker: no\\nregion: northwest\\ncharges: 5377.4578'),\n",
       " Document(metadata={'source': 'insurance.csv', 'row': 835}, page_content='age: 42\\nsex: male\\nbmi: 35.97\\nchildren: 2\\nsmoker: no\\nregion: southeast\\ncharges: 7160.3303'),\n",
       " Document(metadata={'source': 'insurance.csv', 'row': 836}, page_content='age: 36\\nsex: male\\nbmi: 31.5\\nchildren: 0\\nsmoker: no\\nregion: southwest\\ncharges: 4402.233'),\n",
       " Document(metadata={'source': 'insurance.csv', 'row': 837}, page_content='age: 56\\nsex: female\\nbmi: 28.31\\nchildren: 0\\nsmoker: no\\nregion: northeast\\ncharges: 11657.7189'),\n",
       " Document(metadata={'source': 'insurance.csv', 'row': 838}, page_content='age: 35\\nsex: female\\nbmi: 23.465\\nchildren: 2\\nsmoker: no\\nregion: northeast\\ncharges: 6402.29135'),\n",
       " Document(metadata={'source': 'insurance.csv', 'row': 839}, page_content='age: 59\\nsex: female\\nbmi: 31.35\\nchildren: 0\\nsmoker: no\\nregion: northwest\\ncharges: 12622.1795'),\n",
       " Document(metadata={'source': 'insurance.csv', 'row': 840}, page_content='age: 21\\nsex: male\\nbmi: 31.1\\nchildren: 0\\nsmoker: no\\nregion: southwest\\ncharges: 1526.312'),\n",
       " Document(metadata={'source': 'insurance.csv', 'row': 841}, page_content='age: 59\\nsex: male\\nbmi: 24.7\\nchildren: 0\\nsmoker: no\\nregion: northeast\\ncharges: 12323.936'),\n",
       " Document(metadata={'source': 'insurance.csv', 'row': 842}, page_content='age: 23\\nsex: female\\nbmi: 32.78\\nchildren: 2\\nsmoker: yes\\nregion: southeast\\ncharges: 36021.0112'),\n",
       " Document(metadata={'source': 'insurance.csv', 'row': 843}, page_content='age: 57\\nsex: female\\nbmi: 29.81\\nchildren: 0\\nsmoker: yes\\nregion: southeast\\ncharges: 27533.9129'),\n",
       " Document(metadata={'source': 'insurance.csv', 'row': 844}, page_content='age: 53\\nsex: male\\nbmi: 30.495\\nchildren: 0\\nsmoker: no\\nregion: northeast\\ncharges: 10072.05505'),\n",
       " Document(metadata={'source': 'insurance.csv', 'row': 845}, page_content='age: 60\\nsex: female\\nbmi: 32.45\\nchildren: 0\\nsmoker: yes\\nregion: southeast\\ncharges: 45008.9555'),\n",
       " Document(metadata={'source': 'insurance.csv', 'row': 846}, page_content='age: 51\\nsex: female\\nbmi: 34.2\\nchildren: 1\\nsmoker: no\\nregion: southwest\\ncharges: 9872.701'),\n",
       " Document(metadata={'source': 'insurance.csv', 'row': 847}, page_content='age: 23\\nsex: male\\nbmi: 50.38\\nchildren: 1\\nsmoker: no\\nregion: southeast\\ncharges: 2438.0552'),\n",
       " Document(metadata={'source': 'insurance.csv', 'row': 848}, page_content='age: 27\\nsex: female\\nbmi: 24.1\\nchildren: 0\\nsmoker: no\\nregion: southwest\\ncharges: 2974.126'),\n",
       " Document(metadata={'source': 'insurance.csv', 'row': 849}, page_content='age: 55\\nsex: male\\nbmi: 32.775\\nchildren: 0\\nsmoker: no\\nregion: northwest\\ncharges: 10601.63225'),\n",
       " Document(metadata={'source': 'insurance.csv', 'row': 850}, page_content='age: 37\\nsex: female\\nbmi: 30.78\\nchildren: 0\\nsmoker: yes\\nregion: northeast\\ncharges: 37270.1512'),\n",
       " Document(metadata={'source': 'insurance.csv', 'row': 851}, page_content='age: 61\\nsex: male\\nbmi: 32.3\\nchildren: 2\\nsmoker: no\\nregion: northwest\\ncharges: 14119.62'),\n",
       " Document(metadata={'source': 'insurance.csv', 'row': 852}, page_content='age: 46\\nsex: female\\nbmi: 35.53\\nchildren: 0\\nsmoker: yes\\nregion: northeast\\ncharges: 42111.6647'),\n",
       " Document(metadata={'source': 'insurance.csv', 'row': 853}, page_content='age: 53\\nsex: female\\nbmi: 23.75\\nchildren: 2\\nsmoker: no\\nregion: northeast\\ncharges: 11729.6795'),\n",
       " Document(metadata={'source': 'insurance.csv', 'row': 854}, page_content='age: 49\\nsex: female\\nbmi: 23.845\\nchildren: 3\\nsmoker: yes\\nregion: northeast\\ncharges: 24106.91255'),\n",
       " Document(metadata={'source': 'insurance.csv', 'row': 855}, page_content='age: 20\\nsex: female\\nbmi: 29.6\\nchildren: 0\\nsmoker: no\\nregion: southwest\\ncharges: 1875.344'),\n",
       " Document(metadata={'source': 'insurance.csv', 'row': 856}, page_content='age: 48\\nsex: female\\nbmi: 33.11\\nchildren: 0\\nsmoker: yes\\nregion: southeast\\ncharges: 40974.1649'),\n",
       " Document(metadata={'source': 'insurance.csv', 'row': 857}, page_content='age: 25\\nsex: male\\nbmi: 24.13\\nchildren: 0\\nsmoker: yes\\nregion: northwest\\ncharges: 15817.9857'),\n",
       " Document(metadata={'source': 'insurance.csv', 'row': 858}, page_content='age: 25\\nsex: female\\nbmi: 32.23\\nchildren: 1\\nsmoker: no\\nregion: southeast\\ncharges: 18218.16139'),\n",
       " Document(metadata={'source': 'insurance.csv', 'row': 859}, page_content='age: 57\\nsex: male\\nbmi: 28.1\\nchildren: 0\\nsmoker: no\\nregion: southwest\\ncharges: 10965.446'),\n",
       " Document(metadata={'source': 'insurance.csv', 'row': 860}, page_content='age: 37\\nsex: female\\nbmi: 47.6\\nchildren: 2\\nsmoker: yes\\nregion: southwest\\ncharges: 46113.511'),\n",
       " Document(metadata={'source': 'insurance.csv', 'row': 861}, page_content='age: 38\\nsex: female\\nbmi: 28\\nchildren: 3\\nsmoker: no\\nregion: southwest\\ncharges: 7151.092'),\n",
       " Document(metadata={'source': 'insurance.csv', 'row': 862}, page_content='age: 55\\nsex: female\\nbmi: 33.535\\nchildren: 2\\nsmoker: no\\nregion: northwest\\ncharges: 12269.68865'),\n",
       " Document(metadata={'source': 'insurance.csv', 'row': 863}, page_content='age: 36\\nsex: female\\nbmi: 19.855\\nchildren: 0\\nsmoker: no\\nregion: northeast\\ncharges: 5458.04645'),\n",
       " Document(metadata={'source': 'insurance.csv', 'row': 864}, page_content='age: 51\\nsex: male\\nbmi: 25.4\\nchildren: 0\\nsmoker: no\\nregion: southwest\\ncharges: 8782.469'),\n",
       " Document(metadata={'source': 'insurance.csv', 'row': 865}, page_content='age: 40\\nsex: male\\nbmi: 29.9\\nchildren: 2\\nsmoker: no\\nregion: southwest\\ncharges: 6600.361'),\n",
       " Document(metadata={'source': 'insurance.csv', 'row': 866}, page_content='age: 18\\nsex: male\\nbmi: 37.29\\nchildren: 0\\nsmoker: no\\nregion: southeast\\ncharges: 1141.4451'),\n",
       " Document(metadata={'source': 'insurance.csv', 'row': 867}, page_content='age: 57\\nsex: male\\nbmi: 43.7\\nchildren: 1\\nsmoker: no\\nregion: southwest\\ncharges: 11576.13'),\n",
       " Document(metadata={'source': 'insurance.csv', 'row': 868}, page_content='age: 61\\nsex: male\\nbmi: 23.655\\nchildren: 0\\nsmoker: no\\nregion: northeast\\ncharges: 13129.60345'),\n",
       " Document(metadata={'source': 'insurance.csv', 'row': 869}, page_content='age: 25\\nsex: female\\nbmi: 24.3\\nchildren: 3\\nsmoker: no\\nregion: southwest\\ncharges: 4391.652'),\n",
       " Document(metadata={'source': 'insurance.csv', 'row': 870}, page_content='age: 50\\nsex: male\\nbmi: 36.2\\nchildren: 0\\nsmoker: no\\nregion: southwest\\ncharges: 8457.818'),\n",
       " Document(metadata={'source': 'insurance.csv', 'row': 871}, page_content='age: 26\\nsex: female\\nbmi: 29.48\\nchildren: 1\\nsmoker: no\\nregion: southeast\\ncharges: 3392.3652'),\n",
       " Document(metadata={'source': 'insurance.csv', 'row': 872}, page_content='age: 42\\nsex: male\\nbmi: 24.86\\nchildren: 0\\nsmoker: no\\nregion: southeast\\ncharges: 5966.8874'),\n",
       " Document(metadata={'source': 'insurance.csv', 'row': 873}, page_content='age: 43\\nsex: male\\nbmi: 30.1\\nchildren: 1\\nsmoker: no\\nregion: southwest\\ncharges: 6849.026'),\n",
       " Document(metadata={'source': 'insurance.csv', 'row': 874}, page_content='age: 44\\nsex: male\\nbmi: 21.85\\nchildren: 3\\nsmoker: no\\nregion: northeast\\ncharges: 8891.1395'),\n",
       " Document(metadata={'source': 'insurance.csv', 'row': 875}, page_content='age: 23\\nsex: female\\nbmi: 28.12\\nchildren: 0\\nsmoker: no\\nregion: northwest\\ncharges: 2690.1138'),\n",
       " Document(metadata={'source': 'insurance.csv', 'row': 876}, page_content='age: 49\\nsex: female\\nbmi: 27.1\\nchildren: 1\\nsmoker: no\\nregion: southwest\\ncharges: 26140.3603'),\n",
       " Document(metadata={'source': 'insurance.csv', 'row': 877}, page_content='age: 33\\nsex: male\\nbmi: 33.44\\nchildren: 5\\nsmoker: no\\nregion: southeast\\ncharges: 6653.7886'),\n",
       " Document(metadata={'source': 'insurance.csv', 'row': 878}, page_content='age: 41\\nsex: male\\nbmi: 28.8\\nchildren: 1\\nsmoker: no\\nregion: southwest\\ncharges: 6282.235'),\n",
       " Document(metadata={'source': 'insurance.csv', 'row': 879}, page_content='age: 37\\nsex: female\\nbmi: 29.5\\nchildren: 2\\nsmoker: no\\nregion: southwest\\ncharges: 6311.952'),\n",
       " Document(metadata={'source': 'insurance.csv', 'row': 880}, page_content='age: 22\\nsex: male\\nbmi: 34.8\\nchildren: 3\\nsmoker: no\\nregion: southwest\\ncharges: 3443.064'),\n",
       " Document(metadata={'source': 'insurance.csv', 'row': 881}, page_content='age: 23\\nsex: male\\nbmi: 27.36\\nchildren: 1\\nsmoker: no\\nregion: northwest\\ncharges: 2789.0574'),\n",
       " Document(metadata={'source': 'insurance.csv', 'row': 882}, page_content='age: 21\\nsex: female\\nbmi: 22.135\\nchildren: 0\\nsmoker: no\\nregion: northeast\\ncharges: 2585.85065'),\n",
       " Document(metadata={'source': 'insurance.csv', 'row': 883}, page_content='age: 51\\nsex: female\\nbmi: 37.05\\nchildren: 3\\nsmoker: yes\\nregion: northeast\\ncharges: 46255.1125'),\n",
       " Document(metadata={'source': 'insurance.csv', 'row': 884}, page_content='age: 25\\nsex: male\\nbmi: 26.695\\nchildren: 4\\nsmoker: no\\nregion: northwest\\ncharges: 4877.98105'),\n",
       " Document(metadata={'source': 'insurance.csv', 'row': 885}, page_content='age: 32\\nsex: male\\nbmi: 28.93\\nchildren: 1\\nsmoker: yes\\nregion: southeast\\ncharges: 19719.6947'),\n",
       " Document(metadata={'source': 'insurance.csv', 'row': 886}, page_content='age: 57\\nsex: male\\nbmi: 28.975\\nchildren: 0\\nsmoker: yes\\nregion: northeast\\ncharges: 27218.43725'),\n",
       " Document(metadata={'source': 'insurance.csv', 'row': 887}, page_content='age: 36\\nsex: female\\nbmi: 30.02\\nchildren: 0\\nsmoker: no\\nregion: northwest\\ncharges: 5272.1758'),\n",
       " Document(metadata={'source': 'insurance.csv', 'row': 888}, page_content='age: 22\\nsex: male\\nbmi: 39.5\\nchildren: 0\\nsmoker: no\\nregion: southwest\\ncharges: 1682.597'),\n",
       " Document(metadata={'source': 'insurance.csv', 'row': 889}, page_content='age: 57\\nsex: male\\nbmi: 33.63\\nchildren: 1\\nsmoker: no\\nregion: northwest\\ncharges: 11945.1327'),\n",
       " Document(metadata={'source': 'insurance.csv', 'row': 890}, page_content='age: 64\\nsex: female\\nbmi: 26.885\\nchildren: 0\\nsmoker: yes\\nregion: northwest\\ncharges: 29330.98315'),\n",
       " Document(metadata={'source': 'insurance.csv', 'row': 891}, page_content='age: 36\\nsex: female\\nbmi: 29.04\\nchildren: 4\\nsmoker: no\\nregion: southeast\\ncharges: 7243.8136'),\n",
       " Document(metadata={'source': 'insurance.csv', 'row': 892}, page_content='age: 54\\nsex: male\\nbmi: 24.035\\nchildren: 0\\nsmoker: no\\nregion: northeast\\ncharges: 10422.91665'),\n",
       " Document(metadata={'source': 'insurance.csv', 'row': 893}, page_content='age: 47\\nsex: male\\nbmi: 38.94\\nchildren: 2\\nsmoker: yes\\nregion: southeast\\ncharges: 44202.6536'),\n",
       " Document(metadata={'source': 'insurance.csv', 'row': 894}, page_content='age: 62\\nsex: male\\nbmi: 32.11\\nchildren: 0\\nsmoker: no\\nregion: northeast\\ncharges: 13555.0049'),\n",
       " Document(metadata={'source': 'insurance.csv', 'row': 895}, page_content='age: 61\\nsex: female\\nbmi: 44\\nchildren: 0\\nsmoker: no\\nregion: southwest\\ncharges: 13063.883'),\n",
       " Document(metadata={'source': 'insurance.csv', 'row': 896}, page_content='age: 43\\nsex: female\\nbmi: 20.045\\nchildren: 2\\nsmoker: yes\\nregion: northeast\\ncharges: 19798.05455'),\n",
       " Document(metadata={'source': 'insurance.csv', 'row': 897}, page_content='age: 19\\nsex: male\\nbmi: 25.555\\nchildren: 1\\nsmoker: no\\nregion: northwest\\ncharges: 2221.56445'),\n",
       " Document(metadata={'source': 'insurance.csv', 'row': 898}, page_content='age: 18\\nsex: female\\nbmi: 40.26\\nchildren: 0\\nsmoker: no\\nregion: southeast\\ncharges: 1634.5734'),\n",
       " Document(metadata={'source': 'insurance.csv', 'row': 899}, page_content='age: 19\\nsex: female\\nbmi: 22.515\\nchildren: 0\\nsmoker: no\\nregion: northwest\\ncharges: 2117.33885'),\n",
       " Document(metadata={'source': 'insurance.csv', 'row': 900}, page_content='age: 49\\nsex: male\\nbmi: 22.515\\nchildren: 0\\nsmoker: no\\nregion: northeast\\ncharges: 8688.85885'),\n",
       " Document(metadata={'source': 'insurance.csv', 'row': 901}, page_content='age: 60\\nsex: male\\nbmi: 40.92\\nchildren: 0\\nsmoker: yes\\nregion: southeast\\ncharges: 48673.5588'),\n",
       " Document(metadata={'source': 'insurance.csv', 'row': 902}, page_content='age: 26\\nsex: male\\nbmi: 27.265\\nchildren: 3\\nsmoker: no\\nregion: northeast\\ncharges: 4661.28635'),\n",
       " Document(metadata={'source': 'insurance.csv', 'row': 903}, page_content='age: 49\\nsex: male\\nbmi: 36.85\\nchildren: 0\\nsmoker: no\\nregion: southeast\\ncharges: 8125.7845'),\n",
       " Document(metadata={'source': 'insurance.csv', 'row': 904}, page_content='age: 60\\nsex: female\\nbmi: 35.1\\nchildren: 0\\nsmoker: no\\nregion: southwest\\ncharges: 12644.589'),\n",
       " Document(metadata={'source': 'insurance.csv', 'row': 905}, page_content='age: 26\\nsex: female\\nbmi: 29.355\\nchildren: 2\\nsmoker: no\\nregion: northeast\\ncharges: 4564.19145'),\n",
       " Document(metadata={'source': 'insurance.csv', 'row': 906}, page_content='age: 27\\nsex: male\\nbmi: 32.585\\nchildren: 3\\nsmoker: no\\nregion: northeast\\ncharges: 4846.92015'),\n",
       " Document(metadata={'source': 'insurance.csv', 'row': 907}, page_content='age: 44\\nsex: female\\nbmi: 32.34\\nchildren: 1\\nsmoker: no\\nregion: southeast\\ncharges: 7633.7206'),\n",
       " Document(metadata={'source': 'insurance.csv', 'row': 908}, page_content='age: 63\\nsex: male\\nbmi: 39.8\\nchildren: 3\\nsmoker: no\\nregion: southwest\\ncharges: 15170.069'),\n",
       " Document(metadata={'source': 'insurance.csv', 'row': 909}, page_content='age: 32\\nsex: female\\nbmi: 24.6\\nchildren: 0\\nsmoker: yes\\nregion: southwest\\ncharges: 17496.306'),\n",
       " Document(metadata={'source': 'insurance.csv', 'row': 910}, page_content='age: 22\\nsex: male\\nbmi: 28.31\\nchildren: 1\\nsmoker: no\\nregion: northwest\\ncharges: 2639.0429'),\n",
       " Document(metadata={'source': 'insurance.csv', 'row': 911}, page_content='age: 18\\nsex: male\\nbmi: 31.73\\nchildren: 0\\nsmoker: yes\\nregion: northeast\\ncharges: 33732.6867'),\n",
       " Document(metadata={'source': 'insurance.csv', 'row': 912}, page_content='age: 59\\nsex: female\\nbmi: 26.695\\nchildren: 3\\nsmoker: no\\nregion: northwest\\ncharges: 14382.70905'),\n",
       " Document(metadata={'source': 'insurance.csv', 'row': 913}, page_content='age: 44\\nsex: female\\nbmi: 27.5\\nchildren: 1\\nsmoker: no\\nregion: southwest\\ncharges: 7626.993'),\n",
       " Document(metadata={'source': 'insurance.csv', 'row': 914}, page_content='age: 33\\nsex: male\\nbmi: 24.605\\nchildren: 2\\nsmoker: no\\nregion: northwest\\ncharges: 5257.50795'),\n",
       " Document(metadata={'source': 'insurance.csv', 'row': 915}, page_content='age: 24\\nsex: female\\nbmi: 33.99\\nchildren: 0\\nsmoker: no\\nregion: southeast\\ncharges: 2473.3341'),\n",
       " Document(metadata={'source': 'insurance.csv', 'row': 916}, page_content='age: 43\\nsex: female\\nbmi: 26.885\\nchildren: 0\\nsmoker: yes\\nregion: northwest\\ncharges: 21774.32215'),\n",
       " Document(metadata={'source': 'insurance.csv', 'row': 917}, page_content='age: 45\\nsex: male\\nbmi: 22.895\\nchildren: 0\\nsmoker: yes\\nregion: northeast\\ncharges: 35069.37452'),\n",
       " Document(metadata={'source': 'insurance.csv', 'row': 918}, page_content='age: 61\\nsex: female\\nbmi: 28.2\\nchildren: 0\\nsmoker: no\\nregion: southwest\\ncharges: 13041.921'),\n",
       " Document(metadata={'source': 'insurance.csv', 'row': 919}, page_content='age: 35\\nsex: female\\nbmi: 34.21\\nchildren: 1\\nsmoker: no\\nregion: southeast\\ncharges: 5245.2269'),\n",
       " Document(metadata={'source': 'insurance.csv', 'row': 920}, page_content='age: 62\\nsex: female\\nbmi: 25\\nchildren: 0\\nsmoker: no\\nregion: southwest\\ncharges: 13451.122'),\n",
       " Document(metadata={'source': 'insurance.csv', 'row': 921}, page_content='age: 62\\nsex: female\\nbmi: 33.2\\nchildren: 0\\nsmoker: no\\nregion: southwest\\ncharges: 13462.52'),\n",
       " Document(metadata={'source': 'insurance.csv', 'row': 922}, page_content='age: 38\\nsex: male\\nbmi: 31\\nchildren: 1\\nsmoker: no\\nregion: southwest\\ncharges: 5488.262'),\n",
       " Document(metadata={'source': 'insurance.csv', 'row': 923}, page_content='age: 34\\nsex: male\\nbmi: 35.815\\nchildren: 0\\nsmoker: no\\nregion: northwest\\ncharges: 4320.41085'),\n",
       " Document(metadata={'source': 'insurance.csv', 'row': 924}, page_content='age: 43\\nsex: male\\nbmi: 23.2\\nchildren: 0\\nsmoker: no\\nregion: southwest\\ncharges: 6250.435'),\n",
       " Document(metadata={'source': 'insurance.csv', 'row': 925}, page_content='age: 50\\nsex: male\\nbmi: 32.11\\nchildren: 2\\nsmoker: no\\nregion: northeast\\ncharges: 25333.33284'),\n",
       " Document(metadata={'source': 'insurance.csv', 'row': 926}, page_content='age: 19\\nsex: female\\nbmi: 23.4\\nchildren: 2\\nsmoker: no\\nregion: southwest\\ncharges: 2913.569'),\n",
       " Document(metadata={'source': 'insurance.csv', 'row': 927}, page_content='age: 57\\nsex: female\\nbmi: 20.1\\nchildren: 1\\nsmoker: no\\nregion: southwest\\ncharges: 12032.326'),\n",
       " Document(metadata={'source': 'insurance.csv', 'row': 928}, page_content='age: 62\\nsex: female\\nbmi: 39.16\\nchildren: 0\\nsmoker: no\\nregion: southeast\\ncharges: 13470.8044'),\n",
       " Document(metadata={'source': 'insurance.csv', 'row': 929}, page_content='age: 41\\nsex: male\\nbmi: 34.21\\nchildren: 1\\nsmoker: no\\nregion: southeast\\ncharges: 6289.7549'),\n",
       " Document(metadata={'source': 'insurance.csv', 'row': 930}, page_content='age: 26\\nsex: male\\nbmi: 46.53\\nchildren: 1\\nsmoker: no\\nregion: southeast\\ncharges: 2927.0647'),\n",
       " Document(metadata={'source': 'insurance.csv', 'row': 931}, page_content='age: 39\\nsex: female\\nbmi: 32.5\\nchildren: 1\\nsmoker: no\\nregion: southwest\\ncharges: 6238.298'),\n",
       " Document(metadata={'source': 'insurance.csv', 'row': 932}, page_content='age: 46\\nsex: male\\nbmi: 25.8\\nchildren: 5\\nsmoker: no\\nregion: southwest\\ncharges: 10096.97'),\n",
       " Document(metadata={'source': 'insurance.csv', 'row': 933}, page_content='age: 45\\nsex: female\\nbmi: 35.3\\nchildren: 0\\nsmoker: no\\nregion: southwest\\ncharges: 7348.142'),\n",
       " Document(metadata={'source': 'insurance.csv', 'row': 934}, page_content='age: 32\\nsex: male\\nbmi: 37.18\\nchildren: 2\\nsmoker: no\\nregion: southeast\\ncharges: 4673.3922'),\n",
       " Document(metadata={'source': 'insurance.csv', 'row': 935}, page_content='age: 59\\nsex: female\\nbmi: 27.5\\nchildren: 0\\nsmoker: no\\nregion: southwest\\ncharges: 12233.828'),\n",
       " Document(metadata={'source': 'insurance.csv', 'row': 936}, page_content='age: 44\\nsex: male\\nbmi: 29.735\\nchildren: 2\\nsmoker: no\\nregion: northeast\\ncharges: 32108.66282'),\n",
       " Document(metadata={'source': 'insurance.csv', 'row': 937}, page_content='age: 39\\nsex: female\\nbmi: 24.225\\nchildren: 5\\nsmoker: no\\nregion: northwest\\ncharges: 8965.79575'),\n",
       " Document(metadata={'source': 'insurance.csv', 'row': 938}, page_content='age: 18\\nsex: male\\nbmi: 26.18\\nchildren: 2\\nsmoker: no\\nregion: southeast\\ncharges: 2304.0022'),\n",
       " Document(metadata={'source': 'insurance.csv', 'row': 939}, page_content='age: 53\\nsex: male\\nbmi: 29.48\\nchildren: 0\\nsmoker: no\\nregion: southeast\\ncharges: 9487.6442'),\n",
       " Document(metadata={'source': 'insurance.csv', 'row': 940}, page_content='age: 18\\nsex: male\\nbmi: 23.21\\nchildren: 0\\nsmoker: no\\nregion: southeast\\ncharges: 1121.8739'),\n",
       " Document(metadata={'source': 'insurance.csv', 'row': 941}, page_content='age: 50\\nsex: female\\nbmi: 46.09\\nchildren: 1\\nsmoker: no\\nregion: southeast\\ncharges: 9549.5651'),\n",
       " Document(metadata={'source': 'insurance.csv', 'row': 942}, page_content='age: 18\\nsex: female\\nbmi: 40.185\\nchildren: 0\\nsmoker: no\\nregion: northeast\\ncharges: 2217.46915'),\n",
       " Document(metadata={'source': 'insurance.csv', 'row': 943}, page_content='age: 19\\nsex: male\\nbmi: 22.61\\nchildren: 0\\nsmoker: no\\nregion: northwest\\ncharges: 1628.4709'),\n",
       " Document(metadata={'source': 'insurance.csv', 'row': 944}, page_content='age: 62\\nsex: male\\nbmi: 39.93\\nchildren: 0\\nsmoker: no\\nregion: southeast\\ncharges: 12982.8747'),\n",
       " Document(metadata={'source': 'insurance.csv', 'row': 945}, page_content='age: 56\\nsex: female\\nbmi: 35.8\\nchildren: 1\\nsmoker: no\\nregion: southwest\\ncharges: 11674.13'),\n",
       " Document(metadata={'source': 'insurance.csv', 'row': 946}, page_content='age: 42\\nsex: male\\nbmi: 35.8\\nchildren: 2\\nsmoker: no\\nregion: southwest\\ncharges: 7160.094'),\n",
       " Document(metadata={'source': 'insurance.csv', 'row': 947}, page_content='age: 37\\nsex: male\\nbmi: 34.2\\nchildren: 1\\nsmoker: yes\\nregion: northeast\\ncharges: 39047.285'),\n",
       " Document(metadata={'source': 'insurance.csv', 'row': 948}, page_content='age: 42\\nsex: male\\nbmi: 31.255\\nchildren: 0\\nsmoker: no\\nregion: northwest\\ncharges: 6358.77645'),\n",
       " Document(metadata={'source': 'insurance.csv', 'row': 949}, page_content='age: 25\\nsex: male\\nbmi: 29.7\\nchildren: 3\\nsmoker: yes\\nregion: southwest\\ncharges: 19933.458'),\n",
       " Document(metadata={'source': 'insurance.csv', 'row': 950}, page_content='age: 57\\nsex: male\\nbmi: 18.335\\nchildren: 0\\nsmoker: no\\nregion: northeast\\ncharges: 11534.87265'),\n",
       " Document(metadata={'source': 'insurance.csv', 'row': 951}, page_content='age: 51\\nsex: male\\nbmi: 42.9\\nchildren: 2\\nsmoker: yes\\nregion: southeast\\ncharges: 47462.894'),\n",
       " Document(metadata={'source': 'insurance.csv', 'row': 952}, page_content='age: 30\\nsex: female\\nbmi: 28.405\\nchildren: 1\\nsmoker: no\\nregion: northwest\\ncharges: 4527.18295'),\n",
       " Document(metadata={'source': 'insurance.csv', 'row': 953}, page_content='age: 44\\nsex: male\\nbmi: 30.2\\nchildren: 2\\nsmoker: yes\\nregion: southwest\\ncharges: 38998.546'),\n",
       " Document(metadata={'source': 'insurance.csv', 'row': 954}, page_content='age: 34\\nsex: male\\nbmi: 27.835\\nchildren: 1\\nsmoker: yes\\nregion: northwest\\ncharges: 20009.63365'),\n",
       " Document(metadata={'source': 'insurance.csv', 'row': 955}, page_content='age: 31\\nsex: male\\nbmi: 39.49\\nchildren: 1\\nsmoker: no\\nregion: southeast\\ncharges: 3875.7341'),\n",
       " Document(metadata={'source': 'insurance.csv', 'row': 956}, page_content='age: 54\\nsex: male\\nbmi: 30.8\\nchildren: 1\\nsmoker: yes\\nregion: southeast\\ncharges: 41999.52'),\n",
       " Document(metadata={'source': 'insurance.csv', 'row': 957}, page_content='age: 24\\nsex: male\\nbmi: 26.79\\nchildren: 1\\nsmoker: no\\nregion: northwest\\ncharges: 12609.88702'),\n",
       " Document(metadata={'source': 'insurance.csv', 'row': 958}, page_content='age: 43\\nsex: male\\nbmi: 34.96\\nchildren: 1\\nsmoker: yes\\nregion: northeast\\ncharges: 41034.2214'),\n",
       " Document(metadata={'source': 'insurance.csv', 'row': 959}, page_content='age: 48\\nsex: male\\nbmi: 36.67\\nchildren: 1\\nsmoker: no\\nregion: northwest\\ncharges: 28468.91901'),\n",
       " Document(metadata={'source': 'insurance.csv', 'row': 960}, page_content='age: 19\\nsex: female\\nbmi: 39.615\\nchildren: 1\\nsmoker: no\\nregion: northwest\\ncharges: 2730.10785'),\n",
       " Document(metadata={'source': 'insurance.csv', 'row': 961}, page_content='age: 29\\nsex: female\\nbmi: 25.9\\nchildren: 0\\nsmoker: no\\nregion: southwest\\ncharges: 3353.284'),\n",
       " Document(metadata={'source': 'insurance.csv', 'row': 962}, page_content='age: 63\\nsex: female\\nbmi: 35.2\\nchildren: 1\\nsmoker: no\\nregion: southeast\\ncharges: 14474.675'),\n",
       " Document(metadata={'source': 'insurance.csv', 'row': 963}, page_content='age: 46\\nsex: male\\nbmi: 24.795\\nchildren: 3\\nsmoker: no\\nregion: northeast\\ncharges: 9500.57305'),\n",
       " Document(metadata={'source': 'insurance.csv', 'row': 964}, page_content='age: 52\\nsex: male\\nbmi: 36.765\\nchildren: 2\\nsmoker: no\\nregion: northwest\\ncharges: 26467.09737'),\n",
       " Document(metadata={'source': 'insurance.csv', 'row': 965}, page_content='age: 35\\nsex: male\\nbmi: 27.1\\nchildren: 1\\nsmoker: no\\nregion: southwest\\ncharges: 4746.344'),\n",
       " Document(metadata={'source': 'insurance.csv', 'row': 966}, page_content='age: 51\\nsex: male\\nbmi: 24.795\\nchildren: 2\\nsmoker: yes\\nregion: northwest\\ncharges: 23967.38305'),\n",
       " Document(metadata={'source': 'insurance.csv', 'row': 967}, page_content='age: 44\\nsex: male\\nbmi: 25.365\\nchildren: 1\\nsmoker: no\\nregion: northwest\\ncharges: 7518.02535'),\n",
       " Document(metadata={'source': 'insurance.csv', 'row': 968}, page_content='age: 21\\nsex: male\\nbmi: 25.745\\nchildren: 2\\nsmoker: no\\nregion: northeast\\ncharges: 3279.86855'),\n",
       " Document(metadata={'source': 'insurance.csv', 'row': 969}, page_content='age: 39\\nsex: female\\nbmi: 34.32\\nchildren: 5\\nsmoker: no\\nregion: southeast\\ncharges: 8596.8278'),\n",
       " Document(metadata={'source': 'insurance.csv', 'row': 970}, page_content='age: 50\\nsex: female\\nbmi: 28.16\\nchildren: 3\\nsmoker: no\\nregion: southeast\\ncharges: 10702.6424'),\n",
       " Document(metadata={'source': 'insurance.csv', 'row': 971}, page_content='age: 34\\nsex: female\\nbmi: 23.56\\nchildren: 0\\nsmoker: no\\nregion: northeast\\ncharges: 4992.3764'),\n",
       " Document(metadata={'source': 'insurance.csv', 'row': 972}, page_content='age: 22\\nsex: female\\nbmi: 20.235\\nchildren: 0\\nsmoker: no\\nregion: northwest\\ncharges: 2527.81865'),\n",
       " Document(metadata={'source': 'insurance.csv', 'row': 973}, page_content='age: 19\\nsex: female\\nbmi: 40.5\\nchildren: 0\\nsmoker: no\\nregion: southwest\\ncharges: 1759.338'),\n",
       " Document(metadata={'source': 'insurance.csv', 'row': 974}, page_content='age: 26\\nsex: male\\nbmi: 35.42\\nchildren: 0\\nsmoker: no\\nregion: southeast\\ncharges: 2322.6218'),\n",
       " Document(metadata={'source': 'insurance.csv', 'row': 975}, page_content='age: 29\\nsex: male\\nbmi: 22.895\\nchildren: 0\\nsmoker: yes\\nregion: northeast\\ncharges: 16138.76205'),\n",
       " Document(metadata={'source': 'insurance.csv', 'row': 976}, page_content='age: 48\\nsex: male\\nbmi: 40.15\\nchildren: 0\\nsmoker: no\\nregion: southeast\\ncharges: 7804.1605'),\n",
       " Document(metadata={'source': 'insurance.csv', 'row': 977}, page_content='age: 26\\nsex: male\\nbmi: 29.15\\nchildren: 1\\nsmoker: no\\nregion: southeast\\ncharges: 2902.9065'),\n",
       " Document(metadata={'source': 'insurance.csv', 'row': 978}, page_content='age: 45\\nsex: female\\nbmi: 39.995\\nchildren: 3\\nsmoker: no\\nregion: northeast\\ncharges: 9704.66805'),\n",
       " Document(metadata={'source': 'insurance.csv', 'row': 979}, page_content='age: 36\\nsex: female\\nbmi: 29.92\\nchildren: 0\\nsmoker: no\\nregion: southeast\\ncharges: 4889.0368'),\n",
       " Document(metadata={'source': 'insurance.csv', 'row': 980}, page_content='age: 54\\nsex: male\\nbmi: 25.46\\nchildren: 1\\nsmoker: no\\nregion: northeast\\ncharges: 25517.11363'),\n",
       " Document(metadata={'source': 'insurance.csv', 'row': 981}, page_content='age: 34\\nsex: male\\nbmi: 21.375\\nchildren: 0\\nsmoker: no\\nregion: northeast\\ncharges: 4500.33925'),\n",
       " Document(metadata={'source': 'insurance.csv', 'row': 982}, page_content='age: 31\\nsex: male\\nbmi: 25.9\\nchildren: 3\\nsmoker: yes\\nregion: southwest\\ncharges: 19199.944'),\n",
       " Document(metadata={'source': 'insurance.csv', 'row': 983}, page_content='age: 27\\nsex: female\\nbmi: 30.59\\nchildren: 1\\nsmoker: no\\nregion: northeast\\ncharges: 16796.41194'),\n",
       " Document(metadata={'source': 'insurance.csv', 'row': 984}, page_content='age: 20\\nsex: male\\nbmi: 30.115\\nchildren: 5\\nsmoker: no\\nregion: northeast\\ncharges: 4915.05985'),\n",
       " Document(metadata={'source': 'insurance.csv', 'row': 985}, page_content='age: 44\\nsex: female\\nbmi: 25.8\\nchildren: 1\\nsmoker: no\\nregion: southwest\\ncharges: 7624.63'),\n",
       " Document(metadata={'source': 'insurance.csv', 'row': 986}, page_content='age: 43\\nsex: male\\nbmi: 30.115\\nchildren: 3\\nsmoker: no\\nregion: northwest\\ncharges: 8410.04685'),\n",
       " Document(metadata={'source': 'insurance.csv', 'row': 987}, page_content='age: 45\\nsex: female\\nbmi: 27.645\\nchildren: 1\\nsmoker: no\\nregion: northwest\\ncharges: 28340.18885'),\n",
       " Document(metadata={'source': 'insurance.csv', 'row': 988}, page_content='age: 34\\nsex: male\\nbmi: 34.675\\nchildren: 0\\nsmoker: no\\nregion: northeast\\ncharges: 4518.82625'),\n",
       " Document(metadata={'source': 'insurance.csv', 'row': 989}, page_content='age: 24\\nsex: female\\nbmi: 20.52\\nchildren: 0\\nsmoker: yes\\nregion: northeast\\ncharges: 14571.8908'),\n",
       " Document(metadata={'source': 'insurance.csv', 'row': 990}, page_content='age: 26\\nsex: female\\nbmi: 19.8\\nchildren: 1\\nsmoker: no\\nregion: southwest\\ncharges: 3378.91'),\n",
       " Document(metadata={'source': 'insurance.csv', 'row': 991}, page_content='age: 38\\nsex: female\\nbmi: 27.835\\nchildren: 2\\nsmoker: no\\nregion: northeast\\ncharges: 7144.86265'),\n",
       " Document(metadata={'source': 'insurance.csv', 'row': 992}, page_content='age: 50\\nsex: female\\nbmi: 31.6\\nchildren: 2\\nsmoker: no\\nregion: southwest\\ncharges: 10118.424'),\n",
       " Document(metadata={'source': 'insurance.csv', 'row': 993}, page_content='age: 38\\nsex: male\\nbmi: 28.27\\nchildren: 1\\nsmoker: no\\nregion: southeast\\ncharges: 5484.4673'),\n",
       " Document(metadata={'source': 'insurance.csv', 'row': 994}, page_content='age: 27\\nsex: female\\nbmi: 20.045\\nchildren: 3\\nsmoker: yes\\nregion: northwest\\ncharges: 16420.49455'),\n",
       " Document(metadata={'source': 'insurance.csv', 'row': 995}, page_content='age: 39\\nsex: female\\nbmi: 23.275\\nchildren: 3\\nsmoker: no\\nregion: northeast\\ncharges: 7986.47525'),\n",
       " Document(metadata={'source': 'insurance.csv', 'row': 996}, page_content='age: 39\\nsex: female\\nbmi: 34.1\\nchildren: 3\\nsmoker: no\\nregion: southwest\\ncharges: 7418.522'),\n",
       " Document(metadata={'source': 'insurance.csv', 'row': 997}, page_content='age: 63\\nsex: female\\nbmi: 36.85\\nchildren: 0\\nsmoker: no\\nregion: southeast\\ncharges: 13887.9685'),\n",
       " Document(metadata={'source': 'insurance.csv', 'row': 998}, page_content='age: 33\\nsex: female\\nbmi: 36.29\\nchildren: 3\\nsmoker: no\\nregion: northeast\\ncharges: 6551.7501'),\n",
       " Document(metadata={'source': 'insurance.csv', 'row': 999}, page_content='age: 36\\nsex: female\\nbmi: 26.885\\nchildren: 0\\nsmoker: no\\nregion: northwest\\ncharges: 5267.81815'),\n",
       " ...]"
      ]
     },
     "execution_count": 4,
     "metadata": {},
     "output_type": "execute_result"
    }
   ],
   "source": [
    "csv_url = \"https://raw.githubusercontent.com/IvanReznikov/DataVerse/main/Courses/LangChain/data/insurance.csv\"\n",
    "csv_filename = \"insurance.csv\"\n",
    "\n",
    "csv_document = load_document_from_url(csv_url, \"insurance.csv\", CSVLoader)\n",
    "csv_document"
   ]
  },
  {
   "cell_type": "code",
   "execution_count": 12,
   "metadata": {},
   "outputs": [
    {
     "name": "stdout",
     "output_type": "stream",
     "text": [
      "[youtube] Extracting URL: https://www.youtube.com/watch?v=aA6KZ4L_ono\n",
      "[youtube] aA6KZ4L_ono: Downloading webpage\n",
      "[youtube] aA6KZ4L_ono: Downloading ios player API JSON\n",
      "[youtube] aA6KZ4L_ono: Downloading web creator player API JSON\n",
      "[youtube] aA6KZ4L_ono: Downloading m3u8 information\n",
      "[info] aA6KZ4L_ono: Downloading 1 format(s): 140\n",
      "[download] youtube\\LangChain Templates.m4a has already been downloaded\n",
      "[download] 100% of    4.91MiB\n"
     ]
    },
    {
     "name": "stderr",
     "output_type": "stream",
     "text": [
      "ERROR: Postprocessing: ffprobe and ffmpeg not found. Please install or provide the path using --ffmpeg-location\n"
     ]
    },
    {
     "name": "stdout",
     "output_type": "stream",
     "text": [
      "ERROR: Postprocessing: ffprobe and ffmpeg not found. Please install or provide the path using --ffmpeg-location\n"
     ]
    }
   ],
   "source": [
    "# Video on short Langchain tutorial on templates\n",
    "youtube_url = \"https://www.youtube.com/watch?v=aA6KZ4L_ono\"\n",
    "youtube_filename = \"youtube\"\n",
    "\n",
    "loader = GenericLoader(\n",
    "    YoutubeAudioLoader([youtube_url], youtube_filename), OpenAIWhisperParser()\n",
    ")\n",
    "\n",
    "# YouTube audio loading and parsing (with exception handling)\n",
    "try:\n",
    "    youtube_loader = GenericLoader(\n",
    "        YoutubeAudioLoader([youtube_url], \"youtube\"), OpenAIWhisperParser()\n",
    "    )\n",
    "    youtube_document = youtube_loader.load()\n",
    "except Exception as e:\n",
    "    print(e)"
   ]
  },
  {
   "cell_type": "code",
   "execution_count": 23,
   "metadata": {},
   "outputs": [
    {
     "data": {
      "text/plain": [
       "[Document(metadata={'source': 'https://www.linkedin.com/in/reznikovivan/', 'title': 'Ivan Reznikov - Middlesex University Dubai | LinkedIn', 'description': 'I am a data scientist with 12 years of experience in software development and data… · Experience: Middlesex University Dubai · Education: Belarusian State University · Location: Dubai · 500+ connections on LinkedIn. View Ivan Reznikov’s profile on LinkedIn, a professional community of 1 billion members.', 'language': 'en'}, page_content='\\n\\n\\n\\n\\n\\n\\n\\n\\n\\n\\n\\n\\n\\n\\n\\n\\n\\n\\n\\n\\n\\n\\nIvan Reznikov - Middlesex University Dubai | LinkedIn\\n\\n\\n\\n\\n\\n\\n\\n\\n\\n\\n\\n\\n\\n\\n\\n\\n\\n\\n\\n\\n\\n\\n\\n\\n \\n\\n\\n\\n\\n      Skip to main content\\n    \\n\\n\\n\\nLinkedIn\\n\\n\\n\\n\\n\\n\\n\\n\\n\\n\\n        Articles\\n      \\n\\n\\n\\n\\n\\n\\n\\n        People\\n      \\n\\n\\n\\n\\n\\n\\n\\n        Learning\\n      \\n\\n\\n\\n\\n\\n\\n\\n        Jobs\\n      \\n\\n\\n\\n\\n\\n\\n\\n        Games\\n      \\n\\n\\n\\n\\n\\n      Join now\\n    \\n\\n          Sign in\\n      \\n\\n\\n\\n\\n\\n \\n\\n\\n\\n\\n\\n\\n\\n\\n\\n \\n\\n\\n\\n\\n \\n\\n\\n\\n\\n\\n\\n\\n\\n                        Ivan Reznikov\\n                      \\n\\n\\n\\n\\n\\n\\n\\n \\n\\n\\n\\n\\n\\n\\n\\n\\n              Sign in to view Ivan’s full profile\\n            \\n \\n\\n\\n\\n            Sign in\\n        \\n\\n\\n\\n \\n\\n\\n\\n\\n\\n\\n\\n                Welcome back\\n            \\n\\n\\n\\n\\n\\n\\n\\n\\n\\n\\n \\n\\n\\n\\n\\n\\n          Email or phone\\n        \\n\\n\\n\\n\\n\\n\\n\\n\\n\\n          Password\\n        \\n\\n\\nShow\\n\\n\\n\\n\\n\\n \\n\\nForgot password?\\n\\n\\n\\n          Sign in\\n        \\n\\n\\n\\n              or\\n            \\n\\n\\n\\n\\n \\n \\n\\n\\n\\n                New to LinkedIn? Join now\\n\\n\\n\\n \\n\\n\\n\\n\\n\\n\\n                  or\\n                \\n\\n\\n\\n \\n \\n\\n\\n\\n              New to LinkedIn? Join now\\n\\n\\n\\n \\n\\n\\n\\n\\n\\n\\n\\n\\nDubai, United Arab Emirates\\n\\n            Contact Info\\n          \\n\\n\\n\\n\\n\\n\\n \\n\\n\\n\\n\\n\\n\\n\\n\\n              Sign in to view Ivan’s full profile\\n            \\n \\n\\n\\n\\n            Sign in\\n        \\n\\n\\n\\n \\n\\n\\n\\n\\n\\n\\n\\n                Welcome back\\n            \\n\\n\\n\\n\\n\\n\\n\\n\\n\\n\\n \\n\\n\\n\\n\\n\\n          Email or phone\\n        \\n\\n\\n\\n\\n\\n\\n\\n\\n\\n          Password\\n        \\n\\n\\nShow\\n\\n\\n\\n\\n\\n \\n\\nForgot password?\\n\\n\\n\\n          Sign in\\n        \\n\\n\\n\\n              or\\n            \\n\\n\\n\\n\\n \\n \\n\\n\\n\\n                New to LinkedIn? Join now\\n\\n\\n\\n \\n\\n\\n\\n\\n\\n\\n                  or\\n                \\n\\n\\n\\n \\n \\n\\n\\n\\n              New to LinkedIn? Join now\\n\\n\\n\\n \\n\\n\\n\\n\\n\\n\\n            33K followers\\n          \\n\\n              500+ connections\\n          \\n\\n\\n\\n\\n\\n\\n\\n\\n\\n\\n\\n\\nSee your mutual connections\\n\\n\\n\\n\\n\\n\\n \\n\\n\\n\\n\\n\\n\\n\\n\\n              View mutual connections with Ivan\\n            \\n \\n\\n\\n\\n            Sign in\\n        \\n\\n\\n\\n \\n\\n\\n\\n\\n\\n\\n\\n                Welcome back\\n            \\n\\n\\n\\n\\n\\n\\n\\n\\n\\n\\n \\n\\n\\n\\n\\n\\n          Email or phone\\n        \\n\\n\\n\\n\\n\\n\\n\\n\\n\\n          Password\\n        \\n\\n\\nShow\\n\\n\\n\\n\\n\\n \\n\\nForgot password?\\n\\n\\n\\n          Sign in\\n        \\n\\n\\n\\n              or\\n            \\n\\n\\n\\n\\n \\n \\n\\n\\n\\n                New to LinkedIn? Join now\\n\\n\\n\\n \\n\\n\\n\\n\\n\\n\\n                  or\\n                \\n\\n\\n\\n \\n \\n\\n\\n\\n              New to LinkedIn? Join now\\n\\n\\n\\n \\n\\n\\n\\n\\n\\n\\n\\n\\n                      Join to view profile\\n                    \\n\\n\\n\\n      \\n                          Message\\n                        \\n        \\n\\n\\n\\n \\n\\n\\n\\n\\n\\n\\n\\n\\n              Sign in to view Ivan’s full profile\\n            \\n \\n\\n\\n\\n            Sign in\\n        \\n\\n\\n\\n \\n\\n\\n\\n\\n\\n\\n\\n                Welcome back\\n            \\n\\n\\n\\n\\n\\n\\n\\n\\n\\n\\n \\n\\n\\n\\n\\n\\n          Email or phone\\n        \\n\\n\\n\\n\\n\\n\\n\\n\\n\\n          Password\\n        \\n\\n\\nShow\\n\\n\\n\\n\\n\\n \\n\\nForgot password?\\n\\n\\n\\n          Sign in\\n        \\n\\n\\n\\n              or\\n            \\n\\n\\n\\n\\n \\n \\n\\n\\n\\n                New to LinkedIn? Join now\\n\\n\\n\\n \\n\\n\\n\\n\\n\\n\\n                  or\\n                \\n\\n\\n\\n \\n \\n\\n\\n\\n              New to LinkedIn? Join now\\n\\n\\n\\n \\n\\n\\n\\n\\n\\n\\n\\n\\n\\n\\n\\n\\n        Middlesex University Dubai\\n \\n\\n\\n\\n\\n\\n\\n        Belarusian State University\\n \\n\\n\\n\\n\\n\\n\\n\\n\\n\\n\\n\\n\\n\\n\\n\\n\\n\\n\\n\\n                      Report this profile\\n                    \\n    \\n\\n\\n\\n\\n \\n\\n \\n\\n\\n\\n\\n\\n          About\\n        \\n\\n\\n\\n            I am a data scientist with 12 years of experience in software development and data…\\n              \\n    \\n    \\n    \\n    \\n\\n    \\n\\n            see more\\n        \\n\\n\\n\\n \\n\\n\\n\\n\\n\\n\\n\\n                Welcome back\\n            \\n\\n\\n\\n\\n\\n\\n\\n\\n\\n\\n \\n\\n\\n\\n\\n\\n          Email or phone\\n        \\n\\n\\n\\n\\n\\n\\n\\n\\n\\n          Password\\n        \\n\\n\\nShow\\n\\n\\n\\n\\n\\n \\n\\nForgot password?\\n\\n\\n\\n          Sign in\\n        \\n\\n\\n\\n              or\\n            \\n\\n\\n\\n\\n \\n \\n\\n\\n\\n                New to LinkedIn? Join now\\n\\n\\n\\n \\n\\n\\n\\n\\n\\n\\n\\n\\n\\n\\n\\n\\n\\n            Articles by Ivan\\n          \\n\\n\\n\\n\\n\\n\\n\\n              \\n          \\n        5 Reasons Why Sam Altman Might\\'ve Been Fired from\\xa0OpenAI?\\n      \\n      \\n          \\n\\n\\n\\n \\n\\n\\n            \\n        5 Reasons Why Sam Altman Might\\'ve Been Fired from\\xa0OpenAI?\\n      \\n          \\n\\n              \\n          By Ivan Reznikov\\n\\n\\n\\nNov 18, 2023\\n\\n\\n\\n\\n\\n\\n\\n\\n\\n\\n              \\n          \\n        How to Fit Large Language Models in Small Memory: Quantization\\n      \\n      \\n          \\n\\n\\n\\n \\n\\n\\n            \\n        How to Fit Large Language Models in Small Memory: Quantization\\n      \\n          \\n\\n              \\n          By Ivan Reznikov\\n\\n\\n\\nSep 4, 2023\\n\\n\\n\\n\\n\\n\\n\\n\\n\\n\\n              \\n          \\n        I Caught 16 US Presidents Using ChatGPT\\n      \\n      \\n          \\n\\n\\n\\n \\n\\n\\n            \\n        I Caught 16 US Presidents Using ChatGPT\\n      \\n          \\n\\n              \\n          By Ivan Reznikov\\n\\n\\n\\nAug 2, 2023\\n\\n\\n\\n\\n\\n\\n\\n\\n              See all articles\\n            \\n\\n\\n\\n\\n\\n            Contributions\\n          \\n\\n\\n\\n\\n\\n\\n\\n          How do you overcome data science imposter syndrome?\\n        \\n\\n\\n\\n          One thing I found helping me quite a lot is a track of records. Make a document and once a month find time to write a few sentences of what you\\'ve learned or gained experience in. After 2-3 months, you\\'ll see how much you\\'ve grown!\\nAlso, try sharing thoughts in posts and articles. This helps me to overcome such feelings.\\n        \\n\\n\\n\\n          Ivan Reznikov contributed\\n          \\n\\n    \\n    \\n    \\n    \\n    \\n    \\n    \\n    \\n    \\n    \\n    \\n    \\n    \\n    \\n    \\n    \\n\\n    \\n    \\n    \\n    \\n    \\n    \\n    \\n    \\n    \\n    \\n    \\n    \\n    \\n    \\n\\n      11 months ago\\n  \\n        \\n\\n\\n\\n            3 Upvotes\\n\\n\\n\\n\\n\\n\\n\\n\\n          What are the most common mistakes to avoid when creating data visualizations for storytelling?\\n        \\n\\n\\n\\n          Common mistakes I\\'ve seen:\\nMissing Axes Labels: One of the most common mistakes I\\'ve seen is forgetting to label your axes properly. Let\\'s say you\\'re creating a line graph to illustrate some effect over time. Your audience might get confused if the X-axis isn\\'t labeled with specific periods. This is similar to any other metric. \\nAmbiguous Titles: Your visualization\\'s title is often your audience\\'s first read. A title like \"Audience Expansion\" may be too generic. Instead, go for  \"Company XYZ\\'s Monthly Social Media Follower Growth.\"\\nOvercrowded Legends: Legends are essential for interpreting color-coded elements in your visualization. However, overloading your legend with too many items or using lengthy descriptions can overwhelm viewers.\\n        \\n\\n\\n\\n          Ivan Reznikov contributed\\n          \\n\\n    \\n    \\n    \\n    \\n    \\n    \\n    \\n    \\n    \\n    \\n    \\n    \\n    \\n    \\n    \\n    \\n\\n    \\n    \\n    \\n    \\n    \\n    \\n    \\n    \\n    \\n    \\n    \\n    \\n    \\n    \\n\\n      11 months ago\\n  \\n        \\n\\n\\n\\n            Upvote\\n\\n\\n\\n\\n\\n\\n\\n\\n\\n\\n\\n              Activity\\n            \\n\\n\\n\\n                  Follow\\n                \\n\\n\\n\\n\\n\\n\\n\\n \\n\\n\\n\\n\\n\\n\\n\\n\\n              Sign in to view Ivan’s full profile\\n            \\n \\n\\n\\n\\n            Sign in\\n        \\n\\n\\n\\n \\n\\n\\n\\n\\n\\n\\n\\n                Welcome back\\n            \\n\\n\\n\\n\\n\\n\\n\\n\\n\\n\\n \\n\\n\\n\\n\\n\\n          Email or phone\\n        \\n\\n\\n\\n\\n\\n\\n\\n\\n\\n          Password\\n        \\n\\n\\nShow\\n\\n\\n\\n\\n\\n \\n\\nForgot password?\\n\\n\\n\\n          Sign in\\n        \\n\\n\\n\\n              or\\n            \\n\\n\\n\\n\\n \\n \\n\\n\\n\\n                New to LinkedIn? Join now\\n\\n\\n\\n \\n\\n\\n\\n\\n\\n\\n                  or\\n                \\n\\n\\n\\n \\n \\n\\n\\n\\n              New to LinkedIn? Join now\\n\\n\\n\\n \\n\\n\\n\\n\\n\\n\\n\\n\\n\\n\\n\\n              \\n          \\n          🛠 𝐓𝐡𝐢𝐬 𝐢𝐬 𝐡𝐨𝐰 𝐈 𝐛𝐮𝐢𝐥𝐝 𝐚 𝐏𝐂𝐀 𝐓𝐞𝐜𝐡𝐧𝐢𝐪𝐮𝐞 𝐚𝐥𝐥 𝐟𝐫𝐨𝐦 𝐬𝐜𝐫𝐚𝐭𝐜𝐡\\n\\nhttps://lnkd.in/dkBiw8wR\\n\\nHave a look at my Github…\\n      \\n      \\n          \\n\\n\\n\\n \\n\\n\\n            \\n          🛠 𝐓𝐡𝐢𝐬 𝐢𝐬 𝐡𝐨𝐰 𝐈 𝐛𝐮𝐢𝐥𝐝 𝐚 𝐏𝐂𝐀 𝐓𝐞𝐜𝐡𝐧𝐢𝐪𝐮𝐞 𝐚𝐥𝐥 𝐟𝐫𝐨𝐦 𝐬𝐜𝐫𝐚𝐭𝐜𝐡\\n\\nhttps://lnkd.in/dkBiw8wR\\n\\nHave a look at my Github…\\n      \\n          \\n\\n              \\n        Liked by Ivan Reznikov\\n\\n\\n \\n\\n\\n\\n\\n\\n\\n\\n              \\n          \\n          📈 𝐇𝐨𝐰 𝐈 𝐛𝐮𝐢𝐥𝐝 𝐚 𝐋𝐢𝐧𝐞𝐚𝐫 𝐑𝐞𝐠𝐫𝐞𝐬𝐬𝐢𝐨𝐧 𝐌𝐨𝐝𝐞𝐥 𝐟𝐫𝐨𝐦 𝐒𝐜𝐫𝐚𝐭𝐜𝐡 🔨 \\n\\nhttps://lnkd.in/dEMNdnxA\\n\\nHere\\'s my Github page…\\n      \\n      \\n          \\n\\n\\n\\n \\n\\n\\n            \\n          📈 𝐇𝐨𝐰 𝐈 𝐛𝐮𝐢𝐥𝐝 𝐚 𝐋𝐢𝐧𝐞𝐚𝐫 𝐑𝐞𝐠𝐫𝐞𝐬𝐬𝐢𝐨𝐧 𝐌𝐨𝐝𝐞𝐥 𝐟𝐫𝐨𝐦 𝐒𝐜𝐫𝐚𝐭𝐜𝐡 🔨 \\n\\nhttps://lnkd.in/dEMNdnxA\\n\\nHere\\'s my Github page…\\n      \\n          \\n\\n              \\n        Liked by Ivan Reznikov\\n\\n\\n \\n\\n\\n\\n\\n\\n\\n\\n              \\n          \\n          I’m happy to share that I’ve been involved as a Volunteer with Google. Please comment below or message me if you would like to learn more or get…\\n      \\n      \\n          \\n\\n\\n\\n \\n\\n\\n            \\n          I’m happy to share that I’ve been involved as a Volunteer with Google. Please comment below or message me if you would like to learn more or get…\\n      \\n          \\n\\n              \\n        Liked by Ivan Reznikov\\n\\n\\n \\n\\n\\n\\n\\n\\n              Join now to see all activity\\n            \\n\\n\\n\\n\\n\\n              \\n          Experience & Education\\n        \\n            \\n\\n\\n\\n\\n\\n\\n\\n\\n\\n          \\n      Middlesex University Dubai\\n    \\n        \\n\\n\\n        ******** ********\\n      \\n\\n\\n\\n\\n\\n\\n\\n\\n\\n\\n\\n\\n\\n\\n          \\n      ******\\n    \\n        \\n\\n\\n        ********* **** *********\\n      \\n\\n\\n\\n\\n\\n\\n\\n\\n\\n\\n\\n          \\n      ****\\n    \\n        \\n\\n\\n        **** **** *********\\n      \\n\\n\\n\\n\\n\\n\\n\\n\\n\\n\\n\\n          \\n      ********** ***** **********\\n    \\n        \\n-\\n\\n\\n\\n2015 - 2020\\n \\n\\n\\n\\n\\n\\n\\n\\n\\n\\n          \\n      ********** ***** **********\\n    \\n        \\n\\n\\n        ******\\'* ******  \\n      \\n\\n\\n\\n\\n2014 - 2015\\n \\n\\n\\n\\n\\n\\n\\n\\nView Ivan’s full experience\\nSee their title, tenure and more.\\n\\n\\n\\n\\n            Sign in\\n        \\n\\n\\n\\n \\n\\n\\n\\n\\n\\n\\n\\n                Welcome back\\n            \\n\\n\\n\\n\\n\\n\\n\\n\\n\\n\\n \\n\\n\\n\\n\\n\\n          Email or phone\\n        \\n\\n\\n\\n\\n\\n\\n\\n\\n\\n          Password\\n        \\n\\n\\nShow\\n\\n\\n\\n\\n\\n \\n\\nForgot password?\\n\\n\\n\\n          Sign in\\n        \\n\\n\\n\\n              or\\n            \\n\\n\\n\\n\\n \\n \\n\\n\\n\\n                New to LinkedIn? Join now\\n\\n\\n\\n \\n\\n\\n\\n\\n\\n\\n                    or\\n                  \\n\\n\\n \\n \\n\\n\\n\\n\\n\\n\\n\\n\\n          Licenses & Certifications\\n        \\n\\n\\n\\n\\n \\n\\n\\n\\n\\n\\n                    Cert Prep: Project Management Professional (PMP)®\\n                  \\n\\n\\n\\n                  \\n                LinkedIn\\n              \\n                \\n\\n\\n\\n\\n                      Issued Oct 2019\\n\\n \\n\\n\\n\\n                      See credential\\n                      \\n\\n\\n\\n\\n\\n\\n \\n\\n\\n\\n\\n\\n                    Learning Data Science: Manage Your Team\\n                  \\n\\n\\n\\n                  \\n                Lynda.com\\n              \\n                \\n\\n\\n\\n\\n                      Issued May 2019\\n\\n \\n\\n\\n\\n                      See credential\\n                      \\n\\n\\n\\n\\n\\n\\n \\n\\n\\n\\n\\n          \\n                  Project Management Course\\n              \\n        \\n\\n\\n                  \\n                eLC Pte Ltd\\n              \\n                \\n\\n\\n\\n\\n                      Issued Jan 2019\\n\\n \\n\\n                    Credential ID 60486\\n                  \\n\\n\\n\\n\\n\\n\\n\\n\\n\\n          \\n                  Management Intensive Course (Managym)\\n              \\n        \\n\\n                \\n                Managym\\n              \\n            \\n\\n\\n\\n                      Issued Nov 2018\\n\\n \\n\\n\\n\\n\\n\\n\\n \\n\\n\\n\\n\\n\\n                    Scrum\\n                  \\n\\n\\n\\n                  \\n                SCRUMstudy - Accreditation Body for Scrum and Agile;Download Free Scrum Body of Knowledge(381 pages)\\n              \\n                \\n\\n\\n\\n\\n                      Issued Nov 2018\\n\\n \\n\\n                    Credential ID 671751\\n                  \\n\\n\\n                      See credential\\n                      \\n\\n\\n\\n\\n\\n\\n \\n\\n\\n\\n\\n\\n                    Web Development challenge (MEAN stack)\\n                  \\n\\n\\n\\n                  \\n                Microsoft\\n              \\n                \\n\\n\\n\\n\\n                      Issued Dec 2016\\n\\n \\n\\n\\n\\n                      See credential\\n                      \\n\\n\\n\\n\\n\\n\\n \\n\\n\\n\\n\\n\\n                    Advanced Chemistry\\n                  \\n\\n\\n\\n                  \\n                University of Kentucky\\n              \\n                \\n\\n\\n\\n\\n                      Issued Apr 2014\\n\\n \\n\\n                    Credential ID Coursera\\n                  \\n\\n\\n                      See credential\\n                      \\n\\n\\n\\n\\n\\n\\n\\n\\n\\n\\n\\n          Volunteer Experience\\n        \\n\\n\\n\\n\\n\\n\\n\\n\\n          \\n                Jury\\n              \\n        \\n\\n                \\n                V-VII Young Chemist Tournament, Minsk\\n              \\n            \\n\\n\\n\\nApr 2014 - Apr 2016\\n2 years 1 month\\n\\n\\n\\n                    Science and Technology\\n                  \\n\\n\\n\\n\\n\\n\\n\\n\\n\\n          \\n                Head Organizer\\n              \\n        \\n\\n                \\n                Student\\'s Tournament of Natural Sciences\\n              \\n            \\n\\n\\n\\nNov 2014 - Jun 2018\\n3 years 8 months\\n\\n\\n\\n                    Science and Technology\\n                  \\n\\n\\n        Founder and Head Organizer of the Student\\'s Tournament of Natural Sciences.  Responsible for coordinating volunteers and holding the event\\n \\n \\n\\n\\n\\n\\n\\n\\n\\n\\n          \\n                Head Organizer\\n              \\n        \\n\\n                \\n                EURENSSA - EURopean ENvironmental Science Student Association\\n              \\n            \\n\\n\\n\\nNov 2015 - Nov 2016\\n1 year 1 month\\n\\n\\n\\n                    Environment\\n                  \\n\\n\\n        EURENSSA - ‘European Environmental Science Student Association’ - is a yearly conference and summer camp for students of environmental science and sustainable development. EURENSSA facilitates exchange of knowledge and skills across the boundaries of academic disciplines and nationalities to enable the upcoming generation of professionals to address the challenges associated with increasing urbanization and a changing climate. EURENSSA is organized by a team of students and takes place in…\\n            \\n\\n    \\n    \\n\\n    \\n        Show more\\n\\n          \\n\\n\\n\\n          EURENSSA - ‘European Environmental Science Student Association’ - is a yearly conference and summer camp for students of environmental science and sustainable development. EURENSSA facilitates exchange of knowledge and skills across the boundaries of academic disciplines and nationalities to enable the upcoming generation of professionals to address the challenges associated with increasing urbanization and a changing climate. EURENSSA is organized by a team of students and takes place in another country every year. About 30 students from all over Europe participate in a range of activities such as participant presentations, guest lectures, excursions to research institutions, and workshops.http://www.balticuniv.uu.se/index.php/component/content/article/1-latest-news/1170-bup-newsletter-no-48https://vimeo.com/181423749\\n\\n        Show less\\n\\n          \\n\\n\\n\\n\\n\\n\\n\\n\\n\\n\\n\\n\\n\\n          Publications\\n        \\n\\n\\n\\n\\n\\n\\n\\n\\n            Electrostatic Deposition Kinetics of Colloidal Silver Nanoplates onto Optically and E-Beam Transparent Water-Insoluble Polycationic Films\\n          \\n\\n\\nACS\\n\\n\\n\\n            August 4, 2021\\n          \\n\\n\\n\\n\\n \\n            See publication\\n            \\n\\n\\n\\n\\n\\n\\n\\n\\n\\n            A Novel Method of Studying Colloidal Particles on the Example of Lignin-Diesel Fuel System\\n          \\n\\n\\nInternational Journal of Science and Engineering Investigations\\n\\n\\n\\n            Apr 2017\\n          \\n\\n\\n\\n\\n \\n            See publication\\n            \\n\\n\\n\\n\\n\\n\\n\\n\\n\\n            The Application of Neural Networks for Activated Carbon Synthesis.\\n          \\n\\n\\nOpen Readings 2017\\n\\n\\n\\n            March 1, 2017\\n          \\n\\n\\n\\n\\n\\n\\n        The application of neural networks for activated carbon synthesis.\\n \\n \\n \\n            See publication\\n            \\n\\n\\n\\n\\n\\n\\n\\n\\n\\n\\n\\n\\n\\n\\n\\n            Languages\\n          \\n\\n\\n\\n\\n\\n\\n\\n          \\n                  English\\n                \\n        \\n\\n                \\n                  Full professional proficiency\\n                \\n            \\n\\n\\n\\n\\n\\n\\n\\n\\n\\n\\n\\n\\n\\n              More activity by Ivan\\n            \\n \\n\\n\\n\\n\\n\\n\\n\\n\\n              \\n          \\n          🚀Announcing LangGraph Studio: The first agent IDE\\n\\nLangGraph Studio offers a new way to develop LLM applications by providing a specialized agent…\\n      \\n      \\n          \\n\\n\\n\\n\\n\\n\\n\\n            \\n          🚀Announcing LangGraph Studio: The first agent IDE\\n\\nLangGraph Studio offers a new way to develop LLM applications by providing a specialized agent…\\n      \\n          \\n\\n              \\n        Liked by Ivan Reznikov\\n\\n\\n \\n\\n\\n\\n\\n\\n\\n\\n              \\n          \\n          Although I have previously delivered university course presentations, yesterday marked my inaugural endeavor in conducting in-person an Artificial…\\n      \\n      \\n          \\n\\n\\n\\n \\n\\n\\n            \\n          Although I have previously delivered university course presentations, yesterday marked my inaugural endeavor in conducting in-person an Artificial…\\n      \\n          \\n\\n              \\n        Liked by Ivan Reznikov\\n\\n\\n \\n\\n\\n\\n\\n\\n\\n\\n              \\n          \\n          I recently bumped into the new ChemLLM release, accessible live: https://chemllm.org/\\n\\nI wasn\\'t that close to chemistry for the last couple of years,…\\n      \\n      \\n          \\n\\n\\n\\n \\n\\n\\n            \\n          I recently bumped into the new ChemLLM release, accessible live: https://chemllm.org/\\n\\nI wasn\\'t that close to chemistry for the last couple of years,…\\n      \\n          \\n\\n              \\n        Shared by Ivan Reznikov\\n\\n\\n \\n\\n\\n\\n\\n\\n\\n\\n              \\n          \\n          Determination and willpower can help you achieve your dreams. Being called on stage as the top graduating student of my batch still feels surreal and…\\n      \\n      \\n          \\n\\n\\n\\n \\n\\n\\n            \\n          Determination and willpower can help you achieve your dreams. Being called on stage as the top graduating student of my batch still feels surreal and…\\n      \\n          \\n\\n              \\n        Liked by Ivan Reznikov\\n\\n\\n \\n\\n\\n\\n\\n\\n\\n\\n              \\n          \\n          just in case I have some chemist interested in my network :-)\\n      \\n      \\n          \\n\\n\\n\\n \\n\\n\\n            \\n          just in case I have some chemist interested in my network :-)\\n      \\n          \\n\\n              \\n        Liked by Ivan Reznikov\\n\\n\\n \\n\\n\\n\\n\\n\\n\\n\\n              \\n          \\n          Hi, fellow #chemists!\\n\\nAs you may or may not know, I\\'m writing a book with O\\'Reilly \"#LangChain for #LifeScience\". One of the chapters is dedicated…\\n      \\n      \\n          \\n\\n\\n\\n \\n\\n\\n            \\n          Hi, fellow #chemists!\\n\\nAs you may or may not know, I\\'m writing a book with O\\'Reilly \"#LangChain for #LifeScience\". One of the chapters is dedicated…\\n      \\n          \\n\\n              \\n        Shared by Ivan Reznikov\\n\\n\\n \\n\\n\\n\\n\\n\\n\\n\\n              \\n          \\n          First time back at the old Apple HQ (Infinity Loop) in many years yesterday. The #Apple #WWDC24 first day registration event was Sunday afternoon…\\n      \\n      \\n          \\n\\n\\n\\n \\n\\n\\n            \\n          First time back at the old Apple HQ (Infinity Loop) in many years yesterday. The #Apple #WWDC24 first day registration event was Sunday afternoon…\\n      \\n          \\n\\n              \\n        Liked by Ivan Reznikov\\n\\n\\n \\n\\n\\n\\n\\n\\n\\n\\n              \\n          \\n          Excited to announce I have graduated from the global Google #Womentechmakers MENA Mentor Development Program as a program participant! As one of the…\\n      \\n      \\n          \\n\\n\\n\\n \\n\\n\\n            \\n          Excited to announce I have graduated from the global Google #Womentechmakers MENA Mentor Development Program as a program participant! As one of the…\\n      \\n          \\n\\n              \\n        Liked by Ivan Reznikov\\n\\n\\n \\n\\n\\n\\n\\n\\n\\n\\n              \\n          \\n          The Cyber Express is thrilled to announce and extend our heartfelt congratulations to Yana Li , from WebBeds, for being recognized as The Cyber…\\n      \\n      \\n          \\n\\n\\n\\n \\n\\n\\n            \\n          The Cyber Express is thrilled to announce and extend our heartfelt congratulations to Yana Li , from WebBeds, for being recognized as The Cyber…\\n      \\n          \\n\\n              \\n        Liked by Ivan Reznikov\\n\\n\\n \\n\\n\\n\\n\\n\\n\\n\\n\\n\\n\\n\\n\\n\\n\\n\\n              View Ivan’s full profile\\n            \\n\\n\\n\\n\\n\\n\\n                  See who you know in common\\n                \\n\\n\\n\\n\\n\\n\\n                  Get introduced\\n                \\n\\n\\n\\n\\n\\n\\n                  Contact Ivan directly\\n                \\n\\n\\n\\n                  Join to view full profile\\n              \\n\\n\\n\\n\\n\\n\\n\\n\\n\\n\\n              Other similar profiles\\n            \\n\\n\\n\\n\\n\\n\\n\\n\\n\\n\\n\\n\\n\\n            \\n        Augusto Elesbão\\n      \\n \\n\\n\\n\\n\\n              Berlin\\n\\n \\n\\n\\n\\n\\n                      Connect\\n                    \\n\\n\\n\\n\\n\\n\\n\\n\\n\\n            \\n        AMR koura\\n      \\n \\n\\n\\n\\n\\n              Berlin\\n\\n \\n\\n\\n\\n\\n                      Connect\\n                    \\n\\n\\n\\n\\n\\n\\n\\n\\n\\n            \\n        Denys Lazarenko\\n      \\n \\n\\n\\n\\n\\n              Ukraine\\n\\n \\n\\n\\n\\n\\n                      Connect\\n                    \\n\\n\\n\\n\\n\\n\\n\\n\\n\\n            \\n        Dipesh Patel\\n      \\n \\n\\n\\n\\n\\n              Berlin Metropolitan Area\\n\\n \\n\\n\\n\\n\\n                      Connect\\n                    \\n\\n\\n\\n\\n\\n\\n\\n\\n\\n            \\n        Haris Altaf\\n      \\n \\n\\n\\n\\n\\n              Berlin\\n\\n \\n\\n\\n\\n\\n                      Connect\\n                    \\n\\n\\n\\n\\n\\n\\n\\n\\n\\n            \\n        Ivan Putera Masli\\n      \\n \\n\\n\\n\\n\\n              Berlin\\n\\n \\n\\n\\n\\n\\n                      Connect\\n                    \\n\\n\\n\\n\\n\\n\\n\\n\\n\\n            \\n        Hassan Abbasi\\n      \\n \\n\\n\\n\\n\\n              Berlin Metropolitan Area\\n\\n \\n\\n\\n\\n\\n                      Connect\\n                    \\n\\n\\n\\n\\n\\n\\n\\n\\n\\n            \\n        Canburak Tümer\\n      \\n \\n\\n\\n\\n\\n              Berlin\\n\\n \\n\\n\\n\\n\\n                      Connect\\n                    \\n\\n\\n\\n\\n\\n\\n\\n\\n\\n            \\n        Manoveg Saxena\\n      \\n \\n\\n\\n\\n\\n              Berlin\\n\\n \\n\\n\\n\\n\\n                      Connect\\n                    \\n\\n\\n\\n\\n\\n\\n\\n\\n\\n            \\n        Qutiba ELRD\\n      \\n \\n\\n\\n\\n\\n              Berlin Metropolitan Area\\n\\n \\n\\n\\n\\n\\n                      Connect\\n                    \\n\\n\\n\\n\\n\\n\\n\\n\\n\\n            \\n        Emmanuel A.\\n      \\n \\n\\n\\n\\n\\n              Germany\\n\\n \\n\\n\\n\\n\\n                      Connect\\n                    \\n\\n\\n\\n\\n\\n\\n\\n\\n\\n            \\n        👨🏽\\u200d💻Alex (gigatexal.blog) N.\\n      \\n \\n\\n\\n\\n\\n              Berlin\\n\\n \\n\\n\\n\\n\\n                      Connect\\n                    \\n\\n\\n\\n\\n\\n\\n\\n\\n\\n            \\n        Zaher Mousa\\n      \\n \\n\\n\\n\\n\\n              Greater Hamburg Area\\n\\n \\n\\n\\n\\n\\n                      Connect\\n                    \\n\\n\\n\\n\\n\\n\\n\\n\\n\\n            \\n        Lucas Renan\\n      \\n \\n\\n\\n\\n\\n              Berlin\\n\\n \\n\\n\\n\\n\\n                      Connect\\n                    \\n\\n\\n\\n\\n\\n\\n\\n\\n\\n            \\n        Andre Bechara Elias\\n      \\n \\n\\n              \\n        GM at Der Radler Report\\n      \\n            \\n\\n\\n\\n \\n\\n\\n\\n\\n                      Connect\\n                    \\n\\n\\n\\n\\n\\n\\n\\n\\n\\n            \\n        Ravindra Singh Ratnawat\\n      \\n \\n\\n\\n\\n\\n              Dublin\\n\\n \\n\\n\\n\\n\\n                      Connect\\n                    \\n\\n\\n\\n\\n\\n\\n\\n\\n\\n            \\n        Prerak Gupta\\n      \\n \\n\\n\\n\\n\\n              Munich\\n\\n \\n\\n\\n\\n\\n                      Connect\\n                    \\n\\n\\n\\n\\n\\n\\n\\n\\n\\n            \\n        Masaud Alhassan\\n      \\n \\n\\n\\n\\n\\n              Darmstadt\\n\\n \\n\\n\\n\\n\\n                      Connect\\n                    \\n\\n\\n\\n\\n\\n\\n\\n\\n\\n            \\n        Ilya Noskov\\n      \\n \\n\\n\\n\\n\\n              London\\n\\n \\n\\n\\n\\n\\n                      Connect\\n                    \\n\\n\\n\\n\\n\\n\\n\\n\\n\\n            \\n        Mostafa Mohamed\\n      \\n \\n\\n\\n\\n\\n              Berlin\\n\\n \\n\\n\\n\\n\\n                      Connect\\n                    \\n\\n\\n\\n                \\n              Show more profiles\\n            \\n              \\n\\n\\n                \\n              Show fewer profiles\\n            \\n              \\n\\n\\n\\n\\n\\n\\n              Explore more posts\\n            \\n\\n\\n\\n\\n\\n\\n\\n\\n\\n\\n\\n\\n          The Cyber Express By Cyble\\n        \\n\\n\\n\\n\\n\\n\\n \\n\\n              \\n          Small nations leveraging frontier technologies are making waves on the global stage! Discover how AI, robotics, and biotech are not only driving sustainable development but also leveling the playing field. Dive into Dr.Hoda A.Alkhzaimi\\'s insights on the tech revolution of small nations and their global impact. https://lnkd.in/dhbZk_-F\\n\\n\\n #Innovation #TechForGood #GlobalEconomy #AI #cybersecurity\\n        \\n            \\n\\n\\n\\n\\n\\n\\n\\n\\n\\n                    5\\n              \\n\\n\\n \\n\\n \\n\\n\\n\\n \\n\\n \\n\\n\\n \\n\\n\\n\\n\\n\\n\\n\\n\\n\\n\\n          AIQCon\\n        \\n\\n\\n\\n\\n\\n\\n \\n\\n              \\n          \"EVALUATION OF ML SYSTEMS IN THE REAL WORLD\"\\n\\nEvaluation seeks to assess the quality, reliability, latency, cost, and generalizability of ML systems, given assumptions about operating conditions in the real world. That is easier said than done! \\n\\nAt AIQCon, Mohamed El-Geish from Monta AI will be presenting some of the common pitfalls that ML practitioners ought to avoid and make the case for tying model evaluation to business objectives.\\n\\nGet your tickets now, they\\'re going fast!\\n\\nhttps://lnkd.in/gxTzZSXR\\n        \\n            \\n\\n\\n\\n\\n\\n\\n\\n\\n\\n                    1\\n              \\n\\n\\n \\n\\n \\n\\n\\n\\n \\n\\n \\n\\n\\n \\n\\n\\n\\n\\n\\n\\n\\n\\n\\n\\n          Kolena\\n        \\n\\n\\n\\n\\n\\n\\n \\n\\n              \\n          \"EVALUATION OF ML SYSTEMS IN THE REAL WORLD\"\\n\\nEvaluation seeks to assess the quality, reliability, latency, cost, and generalizability of ML systems, given assumptions about operating conditions in the real world. That is easier said than done! \\n\\nAt AIQCon, Mohamed El-Geish will be presenting some of the common pitfalls that ML practitioners ought to avoid and makes the case for tying model evaluation to business objectives.\\n\\nGet your tickets now, they\\'re going fast!\\n\\nhttps://lnkd.in/gxTzZSXR\\n        \\n            \\n\\n\\n\\n\\n\\n\\n\\n\\n\\n\\n\\n                    26\\n              \\n\\n\\n \\n\\n \\n\\n\\n\\n \\n\\n \\n\\n\\n \\n\\n\\n\\n\\n\\n\\n\\n\\n\\n\\n          goML\\n        \\n\\n\\n\\n\\n\\n\\n \\n\\n              \\n          At goML, we believe in AI\\'s power to revolutionize industries and improve lives. However, responsible development and deployment are paramount.\\n\\nThis insightful piece explores potential harms associated with AI and offers the \"The Elements of AI Ethics\" chart as a guide for mitigation strategies.\\n\\nKey takeaways from the article:\\n\\n• Combating Misleading Narratives: Sensationalized visions of AI dominance can distract from present challenges. Open discussions are key to addressing real issues.\\n• Mitigating Bias in AI: Algorithmic bias can exacerbate societal inequalities. We must prioritize fairness and transparency in AI development.\\n• Protecting Data Privacy: Robust regulations are crucial to prevent the misuse of personal information used in AI systems.\\n\\nJoin the conversation! Share your thoughts and experiences on fostering responsible AI in the comments below.\\n\\nRead to know more: https://lnkd.in/d9Jpt96c\\n\\n#AI #goML\\n        \\n            \\n\\n\\n\\n\\n\\n\\n\\n\\n\\n                    13\\n              \\n\\n\\n \\n\\n \\n\\n\\n\\n \\n\\n \\n\\n\\n \\n\\n\\n\\n\\n\\n\\n\\n\\n\\n\\n          Paanduv Applications\\n        \\n\\n\\n\\n\\n\\n\\n \\n\\n              \\n          QUANT PRACAR by Paanduv Applications - Democratizing Quantum AI Education.\\n\\nRegister for software access (Free):\\xa0https://lnkd.in/gYf-_JqC\\n\\n(Note: join our webinar on Quantum AI:\\xa0https://bit.ly/3NvJczp)\\n\\nQuant Pracar\\'s mission is to make quantum computing accessible to everyone. This innovative software offers students and professionals a unique opportunity to:\\n\\n-Engage with cutting-edge quantum machine learning algorithms: Dive deep into the world of quantum AI and explore its potential to revolutionize various fields.\\n\\n-Learn by doing: Upload your own datasets and train them using quantum machine learning techniques, gaining practical experience with this revolutionary technology.\\n\\n-Embrace open-source and cross-platform support: Quant Pracar\\'s commitment to open-source development ensures everyone has access to this powerful tool. Additionally, its cross-platform compatibility makes it usable on a variety of devices.\\n\\nAre you ready to embark on your quantum AI journey? Stay tuned for more information on the official release of Quant Pracar by Paanduv Applications!\\n\\n#quantum\\xa0#AI\\xa0#machinelearning\\xa0#innovation\\n#quantumcomputing\\n        \\n            \\n\\n\\n\\n\\n\\n\\n\\n\\n\\n                    7\\n              \\n\\n\\n \\n\\n \\n\\n\\n\\n \\n\\n \\n\\n\\n \\n\\n\\n\\n\\n\\n\\n\\n\\n\\n\\n          Vectara\\n        \\n\\n\\n\\n\\n\\n\\n \\n\\n              \\n          Our Co-Founders Amr Awadallah and Amin Ahmad recently appeared on The Ravit Show with Ravit Jain! They discussed the crucial role of reliability, transparency, and accountability in creating trustworthy #AI solutions. \\n\\nThe Ravit Show is a vibrant community for professionals, practitioners, and enthusiasts in Data Science and AI. It\\'s a space to upskill, grow, share, and learn from each other, offering valuable content and resources for everyone from beginners to industry leaders. \\n\\nCatch the episode to learn more about how we build AI that people can trust!\\nhttps://lnkd.in/gc49B6Es \\n        \\n            \\n\\n\\n\\n\\n\\n\\n\\n\\n\\n\\n\\n                    32\\n              \\n\\n\\n \\n\\n \\n\\n\\n\\n\\n\\n        \\n                2 Comments\\n            \\n      \\n \\n\\n \\n\\n\\n \\n\\n\\n\\n\\n\\n\\n\\n\\n\\n\\n          DataX\\n        \\n\\n\\n\\n\\n\\n\\n \\n\\n              \\n          🌟\\xa0Breaking Limits Alert!\\xa0🌟\\n🥇\\xa0Pawan Rajpoot, our Senior AI Scientist, dominated the NeurIPS 2024 LLM Efficiency Challenge, grabbing the first rank!\\xa0🔑\\xa0Join us in uncovering Pawan\\'s winning formula and get inspired to break your own limits!\\xa0\\n#SCBDataX #LifeatDataX #NeurIPS2024 #EfficiencyChallenge #SuccessStory #BreakingLimits\\n        \\n            \\n\\n\\n\\n\\n\\n\\n\\n\\n\\n\\n                    11\\n              \\n\\n\\n \\n\\n \\n\\n\\n\\n \\n\\n \\n\\n\\n \\n\\n\\n\\n\\n\\n\\n\\n\\n\\n\\n          Pi School\\n        \\n\\n\\n\\n\\n\\n\\n \\n\\n              \\n          Introducing Pi AI Weekly Trends 12! Our weekly feature brings you the latest AI tech to keep you ahead. This week, we highlight:\\n\\n🔹 AdalFlow: an LLM application library for building optimised LLM task pipelines. The library\\'s design is quite similar to PyTorch.\\n🔗 https://pischool.link/0xy \\n\\n🔹 Mistral 2- 123B: the newest Mitral Model that gives tough competition to the largest LLama 3.1 405B model on several baselines. This model is released under the Mistral Research License, allowing usage/modification for non-commercial or research purposes. \\n🔗 https://pischool.link/3rj\\n\\n🔹 MINT-1: A 1-trillion token Multimodal dataset collected and curated by Salesforce AI Research\\n🔗 https://pischool.link/qp5\\n\\nOur Machine Learning Scientist, Marcello Politi, selected these links for you.\\nWas this helpful? Let us know by liking and sharing!\\n\\n#artificialintelligence #largelanguagemodels #MachineLearning #DeepLearning #AI #LLMs #PiAIWeeklyTrends\\n        \\n            \\n\\n\\n\\n\\n\\n\\n\\n\\n\\n                    8\\n              \\n\\n\\n \\n\\n \\n\\n\\n\\n \\n\\n \\n\\n\\n \\n\\n\\n\\n\\n\\n\\n\\n\\n\\n\\n          XponentL Data\\n        \\n\\n\\n\\n\\n\\n\\n \\n\\n              \\n          Explore \"A Shifting Paradigm: Leveraging Knowledge Graphs and Generative AI in Data Marketplaces\" by Arturo Morales, PhD. This informative blog sheds light on the integration of knowledge graphs and Generative AI within data marketplaces, illustrating how these technologies can enhance the organization, integration, and analysis of complex data relationships.\\n\\nThis blog is a valuable resource for anyone looking to understand the role of AI and advanced data management strategies in modern marketplaces.\\n\\nRead the full blog here: https://lnkd.in/dbJxgT2D\\n        \\n            \\n\\n\\n\\n\\n\\n\\n\\n\\n\\n\\n\\n                    14\\n              \\n\\n\\n \\n\\n \\n\\n\\n\\n \\n\\n \\n\\n\\n \\n\\n\\n\\n\\n\\n\\n\\n\\n\\n\\n          WaysAheadGlobal\\n        \\n\\n\\n\\n\\n\\n\\n \\n\\n              \\n          Join the conversation on data activism and AI ethics as we delve into the challenge posed to OpenAI\\'s ChatGPT\\'s hallucination problem. Forbes Middle East explores the complexities of AI accountability and the quest for responsible innovation. #DataActivism #AIethics #ChatGPT #OpenAI #Innovation #MachineLearning #ForbesMiddleEast\\n        \\n            \\n\\n\\n\\n\\n\\n\\n\\n\\n\\n\\n                    7\\n              \\n\\n\\n \\n\\n \\n\\n\\n\\n \\n\\n \\n\\n\\n \\n\\n\\n\\n\\n\\n\\n\\n\\n\\n\\n          SVIC Podcast\\n        \\n\\n\\n\\n\\n\\n\\n \\n\\n              \\n          John Shulman: Advancing Reinforcement Learning & Chatbot Development at OpenAI\\nDiscover the pivotal role of John Shulman in the development of reinforcement learning and OpenAI\\'s ChatGPT. From advancing AI models to influential research papers, Shulman\\'s contributions have shaped the field. Join us to learn more about his journey. #ReinforcementLearning #OpenAI #ChatGPT #AIModels #ArtificialIntelligence #ResearchPapers #AICommunity #MachineLearning #TechInnovation #JohnShulman\\n        \\n            \\n\\n\\n\\n\\n\\n\\n\\n\\n\\n                    2\\n              \\n\\n\\n \\n\\n \\n\\n\\n\\n \\n\\n \\n\\n\\n \\n\\n\\n\\n\\n\\n\\n\\n\\n\\n\\n          Data Science Dojo\\n        \\n\\n\\n\\n\\n\\n\\n \\n\\n              \\n          ⚡️Learn how Large Language Models are reshaping the landscape of data science with our upcoming LLM Bootcamp: https://hubs.la/Q02thxDV0\\n\\nMark your calendar for May 2nd as Raja Iqbal, CEO and Chief Data Scientist at Data Science Dojo, guides us through an exclusive preview of our upcoming Large Language Models Bootcamp.\\n\\n📋 Gain insights into the bootcamp structure and curriculum details\\n🧠 Dive deep into core topics including Canonical Architectures, Embeddings and Vector Databases, LangChain and Llama Index, and much more\\n🛠️ Engage in hands-on projects & real-world applications\\n\\nWho Should Attend?\\nWhether you\\'re an AI enthusiast, a tech professional, a creative thinker, or simply someone eager to explore the possibilities of large language models, this event is tailored for you. No prior experience is required!\\n\\n#LLMBootcamp #AIBootcamp #LanguageModels #LargeLanguageModel #AI #Azure #LangChain #LLM #artificialintelligence\\n        \\n            \\n\\n\\n\\n\\n\\n\\n\\n\\n\\n                    5\\n              \\n\\n\\n \\n\\n \\n\\n\\n\\n \\n\\n \\n\\n\\n \\n\\n\\n\\n\\n\\n\\n\\n\\n\\n\\n          Data & Analytics\\n        \\n\\n\\n\\n\\n\\n\\n \\n\\n              \\n          One hot encoding is a process that transforms these categorical values into a format that algorithms can work with more effectively.\\r\\n\\r\\nRead more 👉 https://lttr.ai/ASNPz\\n\\n#DataScientist #FrequentlyEncounter #CategoricalData #IncludesValues #DatasetSDimensionalitySignificantly #MachineLearningProjects #PerformIntegerEncoding #IntegerEncodingImplies #TransformingCategoricalData #MachineLearning\\n        \\n            \\n\\n\\n\\n\\n\\n\\n\\n\\n\\n                    2\\n              \\n\\n\\n \\n\\n \\n\\n\\n\\n \\n\\n \\n\\n\\n \\n\\n\\n\\n\\n\\n\\n\\n\\n\\n\\n          Nick Tarazona, MD\\n        \\n\\n\\n\\n\\n\\n\\n \\n\\n              \\n          👉🏼 Comparative Analysis of Large Language Models in Emergency Plastic Surgery Decision-Making: The Role of Physical Exam Data \\n\\n🤓 Sahar Borna 👇🏻 \\nhttps://lnkd.in/eJvuBNnR\\n\\n🔍 Focus on data insights: \\n\\n- Large Language Models (LLMs) like ChatGPT-4 and Google Gemini were evaluated for emergency decision-making in plastic surgery.\\n- ChatGPT-4 consistently outperformed Gemini in diagnosis and management tasks.\\n- The study assessed the impact of physical examination data on the models\\' performance.\\n\\n💡 Main outcomes and implications: \\n\\n- ChatGPT-4 demonstrated superior accuracy and management capabilities compared to Google Gemini.\\n- Addition of physical examination data did not significantly enhance the models\\' performance.\\n- AI can support clinical decision-making but should complement traditional medical resources.\\n\\n📚 Field significance: \\n\\n- Improving emergency decision-making in plastic and reconstructive surgery.\\n- Highlighting the role of AI as a supportive tool in clinical settings.\\n- Emphasizing the importance of comprehensive clinical evaluation alongside AI assistance.\\n\\n🗄️: #LargeLanguageModels #EmergencyDecisionMaking #PlasticSurgery #AIAssistance\\n        \\n            \\n\\n\\n\\n\\n\\n\\n\\n \\n\\n\\n\\n\\n\\n\\n\\n\\n\\n\\n\\n          Exploration of Digital Health Technologies\\n        \\n\\n\\n\\n\\n\\n\\n \\n\\n              \\n          📢 Come on! An excellent OA\\xa0is now online!\\n\\xa0\\n🌎 Title: HUMANE: Harmonious Understanding of Machine Learning Analytics Network—global consensus for research on artificial intelligence in medicine\\n\\xa0\\n💌 Authors: Neha Deo†, Faisal Nawaz†, Clea du Toit, Tran Tran, Chaitanya Mamillapalli, Piyush Mathur, Sandeep Reddy, Shyam Visweswaran, MD, PhD, Dr Thanga Prabhu, Khalid Moidu, Sandosh Padmanabhan, Rahul Kashyap, MBBS, MBA, FCCM*\\n\\xa0\\n👊 AI research, development, and implementation are expanding at an exponential pace across healthcare. This paradigm shift in healthcare research has led to increased demands for clinical outcomes, all at the expense of a significant gap in AI literacy within the healthcare field. This has further translated to a lack of tools in creating a framework for literature in the AI in medicine domain. We propose HUMANE (Harmonious Understanding of Machine Learning Analytics Network), a checklist for establishing an international consensus for authors and reviewers involved in research focused on artificial intelligence (AI) or machine learning (ML) in medicine.\\n\\xa0\\n👏 Enjoy your reading: https://lnkd.in/gWFFdms3\\xa0(P.S. Download as PDF for better viewing\\xa0)\\n\\n#ExplorDHT #DigitalHealth #AI #medicine\\n        \\n            \\n\\n\\n\\n\\n\\n\\n\\n\\n\\n\\n\\n                    20\\n              \\n\\n\\n \\n\\n \\n\\n\\n\\n \\n\\n \\n\\n\\n \\n\\n\\n\\n\\n\\n\\n\\n\\n\\n\\n          Nick Tarazona, MD\\n        \\n\\n\\n\\n\\n\\n\\n \\n\\n              \\n          👉🏼 Perceptions and detection of AI use in manuscript preparation for academic journals \\n\\n🤓 Nir Chemaya 👇🏻 \\nhttps://lnkd.in/eM4HxwiP\\n\\n🔍 Focus on data insights: \\n\\n- The survey of 271 academics revealed differing opinions on reporting ChatGPT use in manuscript preparation.\\n- AI detection software flagged abstracts using GPT for grammar fixes as potentially AI-written, despite differing academic perceptions.\\n- Disagreements among academics on reporting more substantial ChatGPT text rewriting were influenced by ethics, academic role, and English language background.\\n\\n💡 Main outcomes and implications: \\n\\n- Authors may face challenges in reporting AI use due to varying perceptions on what should be disclosed.\\n- Journals may struggle to enforce nuanced reporting requirements using AI detection tools.\\n\\n📚 Field significance: \\n\\n- Emerging norms around AI use in manuscript preparation require clarity and consensus to ensure transparent reporting practices.\\n\\n🗄️: #AI #manuscriptpreparation #academicwriting #datainsights\\n        \\n            \\n\\n\\n\\n\\n\\n\\n\\n \\n\\n\\n\\n\\n\\n\\n\\n\\n\\n\\n\\n          Nick Tarazona, MD\\n        \\n\\n\\n\\n\\n\\n\\n \\n\\n              \\n          👉🏼 Using GPT-4 to write a scientific review article: a pilot evaluation study\\n\\n🤓 Zhiping Paul Wang 👇🏻 \\nhttps://lnkd.in/eqStVu7W\\n\\n🔍 Focus on data insights: \\n\\n- GPT-4\\'s capabilities in generating text, tables, and diagrams for biomedical review papers\\n- Assessment of consistency in text generation by GPT-4\\n- Evaluation of potential plagiarism issues when using GPT-4 for scientific review paper composition\\n\\n💡 Main outcomes and implications: \\n\\n- Suggestions for enhanced functionalities in ChatGPT to better serve the scientific community\\n- Development of improved features for uploaded document processing, deeper understanding of complex biomedical concepts, precise information distillation for table generation, and a refined model for scientific diagram creation\\n\\n📚 Field significance: \\n\\n- Advancements in AI tools like GPT-4 are crucial for enhancing scientific writing processes and improving research output\\n\\n🗄️: [#AI #scientificwriting #GPT-4 #biomedicalresearch]\\n        \\n            \\n\\n\\n\\n\\n\\n\\n\\n \\n\\n\\n\\n\\n\\n\\n\\n\\n\\n\\n\\n          Nick Tarazona, MD\\n        \\n\\n\\n\\n\\n\\n\\n \\n\\n              \\n          👉🏼 ChatGPT and Gemini large language models for pharmacometrics with NONMEM: comment \\n\\n🤓 Hinpetch Daungsupawong 👇🏻 \\nhttps://lnkd.in/e94kG5NH\\n\\n🔍 Focus on data insights: \\n\\n- The study highlights the utilization of ChatGPT and Gemini large language models in pharmacometrics with NONMEM.\\n- Data insights from these models provide valuable information for pharmacokinetics and pharmacodynamics analysis.\\n\\n💡 Main outcomes and implications: \\n\\n- Improved accuracy and efficiency in pharmacometrics modeling with the integration of ChatGPT and Gemini large language models.\\n- Enhanced decision-making processes in drug development through advanced data insights obtained from these models.\\n\\n📚 Field significance: \\n\\n- The incorporation of ChatGPT and Gemini large language models signifies a significant advancement in the field of pharmacometrics.\\n- These models offer new opportunities for optimizing drug development processes and improving patient outcomes.\\n\\n🗄️: [#pharmacometrics, #ChatGPT, #Gemini, #datainsights, #drugdevelopment]\\n        \\n            \\n\\n\\n\\n\\n\\n\\n\\n \\n\\n\\n\\n\\n\\n\\n\\n\\n\\n\\n\\n          Hexon Global\\n        \\n\\n\\n\\n\\n\\n\\n \\n\\n              \\n          Retrieval-Augmented Generation (RAG) is revolutionizing how we handle vast datasets. With RAG, the retrieval mechanism taps into relevant external data, amplifying the generation of responses by large language models (LLMs).\\n\\nIn this article, Hexon Global’s engineer Hemant Kumar delves into the different search methods in RAG: Keyword Search, Semantic Search, and Hybrid Search. Read more at the link in the comments.\\n\\n#AI #RAG #DataScience #Innovation #MachineLearning #Technology #ArtificialIntelligence #SemanticSearch #HybridSearch #KnowledgeAugmentation\\n        \\n            \\n\\n\\n\\n\\n\\n\\n\\n\\n\\n                    7\\n              \\n\\n\\n \\n\\n \\n\\n\\n\\n\\n\\n        \\n                1 Comment\\n            \\n      \\n \\n\\n \\n\\n\\n \\n\\n\\n\\n\\n\\n\\n\\n\\n\\n\\n          Nick Tarazona, MD\\n        \\n\\n\\n\\n\\n\\n\\n \\n\\n              \\n          👉🏼 Understanding the Impact of Large Language Models in Healthcare Communication\\n\\n🤓 Zefeng Yang 👇🏻  \\nhttps://lnkd.in/eAtYVexV\\n\\n🔍 Focus on data insights: \\n\\n- 📊 Large language models (LLMs) demonstrate advanced capabilities in natural language comprehension and generation, enhancing communication in healthcare settings.\\n- 🧠 The evolution of LLMs parallels significant advancements in deep learning, particularly through transformer architecture, which improves their functionality.\\n- 🔄 With extensive training data, LLMs can retain memory and comprehend complex medical information, facilitating better interactions between clinicians and patients.\\n\\n💡 Main outcomes and implications: \\n\\n- 📝 LLMs can automate medical documentation, potentially reducing administrative burdens on healthcare providers.\\n- 🤖 Future applications may include autonomous diagnosis and treatment suggestions, improving efficiency in patient care.\\n- 📚 LLMs can assist in triage, summarizing medical documents, and personalizing patient education materials, thereby enhancing patient understanding and engagement.\\n\\n📚 Field significance: \\n\\n- 🌐 The integration of LLMs in healthcare could revolutionize communication, leading to improved patient outcomes and satisfaction.\\n- 🔍 Ongoing research is necessary to address limitations and ensure the safe and effective use of LLMs in real-world clinical settings.\\n- 🚀 As technology advances, LLMs are poised to play a critical role in the future of healthcare delivery, particularly in specialized fields like ophthalmology.\\n\\n🗄️: [#LargeLanguageModels #HealthcareCommunication #NaturalLanguageProcessing #DeepLearning #PatientCare #MedicalDocumentation #Ophthalmology #AIinHealthcare]\\n        \\n            \\n\\n\\n\\n\\n\\n\\n\\n \\n\\n\\n\\n\\n\\n\\n                \\n            Show more posts\\n          \\n              \\n\\n\\n                \\n            Show fewer posts\\n          \\n              \\n\\n\\n\\n\\n\\n\\n\\n\\n\\n\\n\\n\\n          Explore collaborative articles\\n        \\n\\n\\n        We’re unlocking community knowledge in a new way. Experts add insights directly into each article, started with the help of AI.\\n      \\n\\n        Explore More\\n      \\n\\n\\n\\n\\n\\n              Others named Ivan Reznikov\\n\\n\\n\\n\\n\\n\\n\\n\\n\\n\\n\\n\\n            \\n        Ivan Reznikov\\n      \\n \\n\\n\\n\\n\\n              Delray Beach, FL\\n\\n \\n\\n\\n\\n\\n\\n\\n\\n\\n\\n\\n\\n            \\n        Ivan Reznikov\\n      \\n \\n\\n              \\n        Commercial Director\\n      \\n            \\n\\n\\n\\n              Kyiv\\n\\n \\n\\n\\n\\n\\n\\n\\n\\n\\n\\n\\n\\n            \\n        Ivan Reznikov\\n      \\n \\n\\n              \\n        Software engineer\\n      \\n            \\n\\n\\n\\n              Mountain View, CA\\n\\n \\n\\n\\n\\n\\n\\n\\n\\n\\n\\n\\n\\n            \\n        Ivan Reznikov\\n      \\n \\n\\n              \\n        BI Analyst\\n      \\n            \\n\\n\\n\\n              Bangkok City, Thailand\\n\\n \\n\\n\\n\\n\\n\\n            14 others named Ivan Reznikov are on LinkedIn\\n        \\n\\n          See others named Ivan Reznikov\\n\\n\\n\\n\\n\\n\\n\\n\\n\\n\\n\\nLinkedIn\\n\\n© 2024\\n\\n\\n\\n          \\n          About\\n        \\n        \\n\\n\\n\\n          \\n          Accessibility\\n        \\n        \\n\\n\\n\\n          \\n          User Agreement\\n        \\n        \\n\\n\\n\\n          \\n          Privacy Policy\\n        \\n        \\n\\n\\n\\n\\n          \\n          Cookie Policy\\n        \\n        \\n\\n\\n\\n          \\n          Copyright Policy\\n        \\n        \\n\\n\\n\\n          \\n          Brand Policy\\n        \\n        \\n\\n\\n\\n          \\n            Guest Controls\\n          \\n        \\n\\n\\n\\n          \\n          Community Guidelines\\n        \\n        \\n\\n\\n\\n\\n\\n\\n\\n\\n\\n                العربية (Arabic)\\n            \\n\\n\\n\\n\\n                বাংলা (Bangla)\\n            \\n\\n\\n\\n\\n                Čeština (Czech)\\n            \\n\\n\\n\\n\\n                Dansk (Danish)\\n            \\n\\n\\n\\n\\n                Deutsch (German)\\n            \\n\\n\\n\\n\\nEnglish (English)\\n\\n\\n\\n\\n\\n                Español (Spanish)\\n            \\n\\n\\n\\n\\n                Français (French)\\n            \\n\\n\\n\\n\\n                हिंदी (Hindi)\\n            \\n\\n\\n\\n\\n                Magyar (Hungarian)\\n            \\n\\n\\n\\n\\n                Bahasa Indonesia (Indonesian)\\n            \\n\\n\\n\\n\\n                Italiano (Italian)\\n            \\n\\n\\n\\n\\n                日本語 (Japanese)\\n            \\n\\n\\n\\n\\n                한국어 (Korean)\\n            \\n\\n\\n\\n\\n                Bahasa Malaysia (Malay)\\n            \\n\\n\\n\\n\\n                Nederlands (Dutch)\\n            \\n\\n\\n\\n\\n                Norsk (Norwegian)\\n            \\n\\n\\n\\n\\n                ਪੰਜਾਬੀ (Punjabi)\\n            \\n\\n\\n\\n\\n                Polski (Polish)\\n            \\n\\n\\n\\n\\n                Português (Portuguese)\\n            \\n\\n\\n\\n\\n                Română (Romanian)\\n            \\n\\n\\n\\n\\n                Русский (Russian)\\n            \\n\\n\\n\\n\\n                Svenska (Swedish)\\n            \\n\\n\\n\\n\\n                ภาษาไทย (Thai)\\n            \\n\\n\\n\\n\\n                Tagalog (Tagalog)\\n            \\n\\n\\n\\n\\n                Türkçe (Turkish)\\n            \\n\\n\\n\\n\\n                Українська (Ukrainian)\\n            \\n\\n\\n\\n\\n                简体中文 (Chinese (Simplified))\\n            \\n\\n\\n\\n\\n                正體中文 (Chinese (Traditional))\\n            \\n\\n\\n\\n\\n\\n            Language\\n          \\n\\n\\n\\n\\n\\n \\n\\n\\n\\n\\n\\n\\n\\n\\n\\n\\n\\n\\n\\n\\n\\n\\n\\n\\n\\n\\n\\n\\n \\n\\n\\n\\n\\n\\n\\n\\n\\n              Sign in to view Ivan’s full profile\\n            \\n \\n\\n\\n\\n            Sign in\\n        \\n\\n\\n\\n \\n\\n\\n\\n\\n\\n\\n\\n                Welcome back\\n            \\n\\n\\n\\n\\n\\n\\n\\n\\n\\n\\n \\n\\n\\n\\n\\n\\n          Email or phone\\n        \\n\\n\\n\\n\\n\\n\\n\\n\\n\\n          Password\\n        \\n\\n\\nShow\\n\\n\\n\\n\\n\\n \\n\\nForgot password?\\n\\n\\n\\n          Sign in\\n        \\n\\n\\n\\n              or\\n            \\n\\n\\n\\n\\n \\n \\n\\n\\n\\n                New to LinkedIn? Join now\\n\\n\\n\\n \\n\\n\\n\\n\\n\\n\\n                  or\\n                \\n\\n\\n\\n \\n \\n\\n\\n\\n              New to LinkedIn? Join now\\n\\n\\n\\n \\n\\n\\n\\n\\n\\n\\n\\n\\n\\n\\n\\n\\n\\n\\n\\n\\n\\n\\n\\n')]"
      ]
     },
     "execution_count": 23,
     "metadata": {},
     "output_type": "execute_result"
    }
   ],
   "source": [
    "web_url = \"https://www.linkedin.com/in/reznikovivan/\"\n",
    "\n",
    "web_document = WebBaseLoader(\n",
    "    web_url\n",
    ").load()  # WebBaseLoader usage is direct as it doesn't involve downloading\n",
    "\n",
    "web_document"
   ]
  },
  {
   "cell_type": "code",
   "execution_count": 25,
   "metadata": {},
   "outputs": [
    {
     "data": {
      "text/plain": [
       "[Document(metadata={'source': 'dubai_law.pdf', 'page': 0}, page_content=' \\nExecutive Council Resolution No. (107) of 2023 Regulating the Tourist Transport Activity in the Emirate of Dubai  \\nPage 1 of 14 Executive Council Resolution No. (107) of 2023  \\nRegulating the  \\nTourist Transport Activity in the Emirate of Dubai1 \\nـــــــــــــــــــــــــــــــــــــــــــــــــــــــــــــــــــــــــــــــــــــــــــــــــــــــــــــــــــــــــــــــــــــــــــــ ــــــــــــــــــــــــــــــــــــــــــــــــ  \\nWe, Hamdan bin Mohammed bin Rashid Al Maktoum, Crown Prince of Dubai, Chairman of the \\nExecutive Council,  \\nAfter perusal of:  \\nLaw No. (3) of 2003 Establishing the Executive Council of the Emirate of Dubai;  \\nLaw No. (17) of 2005 Establishing the Roads and Transport Authority and its amendments;  \\nLaw No. (13) of 2011 Regulating the Conduct of Economic Activities in the Emirate of Dubai and its \\namendments;  \\nLaw No. (1) of 2016 Concerning the Financial Regulations of the Government of Dubai, its Implementing \\nBylaw, and their amendments;  \\nLaw No. (5) of 2021 Concerning the Dubai International Finan cial Centre;  \\nLaw No. (20) of 2021 Establishing the Department of Economy and Tourism in the Emirate of Dubai;  \\nDecree No. (22) of 2009 Concerning Special Development Zones in the Emirate of Dubai;  \\nDecree No. (17) of 2013 Concerning Licensing and Classificat ion of Hotel Establishments in the Emirate \\nof Dubai;  \\nRegulation No. (5) of 2006 Concerning Classification and Licensing of Tourist Bus Transport \\nEstablishments in the Emirate of Dubai;  \\nRegulation No. (6) of 2006 Concerning the Licensing of Tourist Establishments and Travel Agencies and \\nits amendments; and   \\nThe legislation establishing and regulating free zones in the Emirate of Dubai,  \\nDo hereby issue this Resolution.  \\n                                                 \\n©2024 The Supreme Legislation Committee in the Emirate of Dubai  \\n1Every effort has been made to produce an accurate and complete English version of this legislation. However, for the purpose \\nof its interpretation and application, reference must be made to the or iginal Arabic text. In case of conflict, the Arabic text will \\nprevail.  '),\n",
       " Document(metadata={'source': 'dubai_law.pdf', 'page': 1}, page_content=' \\nExecutive Council Resolution No. (107) of 2023 Regulating the Tourist Transport Activity in the Emirate of Dubai  \\nPage 2 of 14 Definitions  \\nArticle (1)  \\nThe following words and expressions, wherever mentioned in this Resolution, will have the meaning \\nindicated opposite each of them unless the context implies otherwise:  \\nThe Emirate of Dubai.  Emirate:  \\nThe Roads and Transport Authority.  RTA: \\nThe Department of Economy and Tourism in the Emirate of Dubai.  DET: \\nThe director general and chairman of the Board of Executive Directors \\nof the RTA.  Director General:  \\nThe transport of passengers by Tourist Vehicles to and from airports; \\nhotels; tourist resorts; and heritage, archaeological, and tourist \\nlandmarks and are as within and outside of the Emirate.  Activity:  \\nA company or firm authorised by the RTA to conduct the Activity in the \\nEmirate.  Establishment:  \\nThis includes any hotel, resort, hotel apartment, guest house, youth  \\nhostel, budget hotel, floating hotel, or o ther similar Hotel Establishment \\nwhich is  placed under the supervision of the DET pursuant to the \\nlegislation in force in the Emirate.  Hotel Establishment:  \\nAn establishment licensed by the DET to conduct the activity of Inbound \\nTour Operator in accordance  with the above -mentioned Regulation \\nNo. (6) of 2006.  Tourist Establishment:  \\nA bus, car, motorcycle, or other motorised machine or carriage licensed \\nby the RTA and designated for conducting the Activity.  Tourist Vehicle:  \\nA document issued by the RTA pursuant to this Resolution authorising \\nan Establishment to conduct the Activity, or to use or operate  a Tourist \\nVehicle.  Permit:  \\n '),\n",
       " Document(metadata={'source': 'dubai_law.pdf', 'page': 2}, page_content=' \\nExecutive Council Resolution No. (107) of 2023 Regulating the Tourist Transport Activity in the Emirate of Dubai  \\nPage 3 of 14 Objectives of the Resolution  \\nArticle (2)  \\nThis Resolution aims to:  \\n1. develop  an integrated tourist transport system in the Emirate that contributes to promoting it as a \\ntourist destination at the local, regional, and international levels;  \\n2. enhance security and safety procedures in Tourist Vehicles with a view to ensuring the comfor t, \\nconvenience, and safety of the users of these vehicles; and  \\n3. regulate the conduct of the Activity in accordance with the relevant international best practices.  \\nScope of Application  \\nArticle (3)  \\na. The provisions of this Resolution apply to all persons  conducting the Activity in the Emirate, \\nincluding in Special Development Zones and free zones, such as the Dubai International Financial \\nCentre.  \\nb. This Resolution does not apply to Hotel Establishments transporting their own guests and to Tourist \\nEstablishm ents transporting individuals to any other place within the Emirate. This non -application \\nof the Resolution is  subject to the conditions, rules, procedures, and technical requirements \\npertaining to  drivers and Vehicles as prescribed  by the RTA in agreement  with the DET, in \\naccordance with the relevant applicable legislation of the RTA.  \\nc. The penalties and fines prescribed by the applicable legislation of the RTA will be imposed on Hotel \\nEstablishments and Tourist Establishments that commit any  of the violatio ns stipulated in that  \\nlegislation.  \\nConducting the Activity  \\nArticle (4)  \\na. No natural or legal person may conduct the Activity in the Emirate unless he is so authorised by the \\nRTA and is licensed by the concerned commercial Licensing Authority.  \\nb. The Activity ma y be conducted only using Tourist Vehicles driven by drivers who are so authorised \\nby the RTA.  '),\n",
       " Document(metadata={'source': 'dubai_law.pdf', 'page': 3}, page_content=' \\nExecutive Council Resolution No. (107) of 2023 Regulating the Tourist Transport Activity in the Emirate of Dubai  \\nPage 4 of 14 Functions of the RTA  \\nArticle (5)  \\nFor the purposes of this Resolution, the RTA will oversee the tourist transport sector in the Emirate. For \\nthis purpose, the RTA  will have the duties and powers to:  \\n1. develop, in coordination with the DET, the policies, plans, and programmes aimed at regulating \\nand promoting the tourist transport sector in the Emirate;  \\n2. establish the standards, requirements, and conditions required for conducting the Activity in the \\nEmirate using Tourist Vehicles;  \\n3. establish the standards required for issuing Permits to, and classifying, Establishments;  \\n4. establish the standards, specifications, and safety requirements that must be met by Tourist Vehicl es \\nto be used by all categories of persons, including persons with disabilities;  \\n5. receive and determine Permit applications in accordance with the standards, requirements, and \\nconditions adopted by the RTA in this respect as well as other standards, require ments, and \\nconditions prescribed by the DET;  \\n6. issue the Permits required for the operation of Tourist Vehicles, in accordance with the standards, \\nrequirements, and conditions adopted by the RTA in this respect;  \\n7. issue the Permits required for drivers of Tour ist Vehicles, and conduct training and qualifying \\ncourses for them, in accordance with the standards, requirements, and conditions adopted by the \\nRTA in this respect;  \\n8. determine the routes of Tourist Vehicles in the Emirate;  \\n9. determine, in coordination with the DET, the number of Tourist Vehicles that an Establishment may \\nuse in conducting the Activity;  \\n10. monitor and inspect Tourist Vehicles and their drivers to verify that the relevant adopted standards, \\nrequirements, and conditions are satisfied;  \\n11. monitor Esta blishments to verify their compliance with the relevant adopted standards, \\nrequirements, and conditions;  \\n12. receive and investigate complaints filed against Establishments and drivers of Tourist Vehicles; and \\nimpose the penalties and measures, prescribed in t his Resolution against violators;  '),\n",
       " Document(metadata={'source': 'dubai_law.pdf', 'page': 4}, page_content=\" \\nExecutive Council Resolution No. (107) of 2023 Regulating the Tourist Transport Activity in the Emirate of Dubai  \\nPage 5 of 14 13. create a database of Establishments, Tourist Vehicles, and Tourist Vehicle drivers; and  \\n14. exercise any other duties or powers that fall within the functions of the RTA under the legislation in \\nforce as required for the achie vement of the objectives of this Resolution.  \\nFunctions of the DET  \\nArticle (6)  \\nFor the purposes of this Resolution, the DET will have the duties and powers to:  \\n1. qualify the tour guides working in Establishments and issue them with identification cards, in \\naccordance with the relevant rules adopted by the DET;  \\n2. determine the Emirate's tourist destinations to which tourists will be transported; and provide the \\nRTA and Establishments with lists of these destinations; and  \\n3. exercise any other duties or powers that fall within the functions of the DET under the legislation in \\nforce as required for the achievement of the objectives of this Resolution.  \\nRequirements for Issuing Permits to Conduct the Activity  \\nArticle (7)  \\nA Permi t to conduct the Activity will be issued to an Establishment subject to the following:  \\n1. The conditions adopted by the commercial licensing authority in charge of licensing economic \\nactivities must be satisfied.  \\n2. The technical requirements and specifications determined by the relevant resolution of the Director \\nGeneral must be satisfied.  \\n3. Premises which are appropriate for conducting the Activity must be provided, and must meet the \\nstandards and requirements stipulated in the relevant resolution of the Director  General of the DET \\nin coordination with the RTA.  \\n4. A manager must be appointed to the Establishment. The manager must have the experience and \\nqualifications prescribed by the RTA and approved pursuant to the relevant resolution of the \\nDirector General.  \\n5. The Establishment owner must be of good conduct and repute, and not have been convicted of a \\nfelony or other crime affecting honour or trustworthiness, unless he has been rehabilitated or \\npardoned.  \"),\n",
       " Document(metadata={'source': 'dubai_law.pdf', 'page': 5}, page_content=' \\nExecutive Council Resolution No. (107) of 2023 Regulating the Tourist Transport Activity in the Emirate of Dubai  \\nPage 6 of 14 6. The manager of the Establishment must not be less than twenty -one (21) years of age.  \\n7. The documents required by the RTA for issuing the Permit must be submitted.  \\n8. Any other requirements prescribed by the RTA or the DET, and approved pursuant a resolution of \\nthe Director General, must be satisfied.  \\nTerm of Permits to Co nduct the Activity  \\nArticle (8)  \\nA Permit to conduct the Activity will be valid for a period of one (1) year, renewable for the same period. \\nAn application for renewal of a Permit must be submitted within the last month prior to its expiry date. \\nThe Permit w ill be renewed in accordance with the conditions prescribed by the relevant resolution of \\nthe Director General.  \\nAssignment of Permits  \\nArticle (9)  \\nA Permit to conduct the Activity may not be assigned without first obtaining the relevant approval of \\nthe RTA . This approval will be issued in accordance with the conditions and rules approved by the \\nDirector General in this respect.  \\nSuspension of Permit Issuance  \\nArticle (10)  \\nThe RTA may suspend the issuance of a Permit for any reason related to serving the public interest or \\nto regulating road traffic in the Emirate, or based on the recommendation of the DET where the \\nEstablishment commits a gross breach of its applicable legislation . \\nClassification of Establishments  \\nArticle (11)  \\nEstablishments will be classified in accordance with the standards and rules approved pursuant to the \\nrelevant resolution of the Director General, in addition to any other standards and rules required by the \\nDET in this respect. In classifying Establishments, the volume of their activities, the number and level of \\nluxury of their Tourist Vehicles, the number of their employees, and the type of services they provide \\nmust be taken into consideration.  '),\n",
       " Document(metadata={'source': 'dubai_law.pdf', 'page': 6}, page_content=' \\nExecutive Council Resolution No. (107) of 2023 Regulating the Tourist Transport Activity in the Emirate of Dubai  \\nPage 7 of 14 Electronic System  \\nArticle (12)  \\na. An electronic system for the Activity will be created at the RTA . This system will be used to issue \\nand renew Permits, to follow up the activities of Establishments, and for any other purposes \\ndetermined by the RTA, the DET, and the concerned entities in the Emirate.  \\nb. The RTA will supervise, operate, maintain, manage, and develop the electronic system referred to \\nin paragraph (a) of this Article.  \\nTourist Vehicle Permits and Tourist Vehicle  Driver’s Permits  \\nArticle (13)  \\na. For the purp oses of using or driving Tourist Vehicles, the RTA will issue two types of Permits as \\nfollows:  \\n1. Tourist Vehicle Permits; and  \\n2. Tourist Vehicle driver’s Permits.  \\nb. The Permits referred to in paragraph (a) of this Article will be valid for a period of one (1) yea r, \\nrenewable for the same period.  \\nc. The Director General will, pursuant to a resolution he issues in this respect, determine the conditions, \\nprocedures, and requirements that must be satisfied, and the documents that must be provided, to \\nissue or renew  the Permits referred to in paragraph (a) of this Article.  \\nObligations of Establishments  \\nArticle (14)  \\nIn addition to its obligations under the legislation in force, an Establishment must:  \\n1. comply with the conditions and rules adopted by the RTA for conducting the Activity;  \\n2. comply with the legislation in force in the Emirate, including the legislation concerning road traffic, \\npublic health and safety, and the environment;  \\n3. use Tourist Vehicles only in conducting the Activity, and not use them for any other purpose;  \\n4. provide the RTA with the tourist transport Fare per person, and any changes thereto;  '),\n",
       " Document(metadata={'source': 'dubai_law.pdf', 'page': 7}, page_content=' \\nExecutive Council Resolution No. (107) of 2023 Regulating the Tourist Transport Activity in the Emirate of Dubai  \\nPage 8 of 14 5. not place commercial advertisements or posters on the interior or exterior of Tourist Vehicles \\nwithout first obtaining the relevant approval of the RTA;  \\n6. enrol the drivers of Tourist Vehicles in the training courses prescribed by the RTA in this respect;  \\n7. display the name and contact details of the Establishment in a prominent place on the interior and \\nexterior of the Tourist Vehicle;  \\n8. maintain records containin g the details of the tourist trips it organises, and provide the RTA with \\nthese details, and with any other statistics or documents the RTA deems necessary to review;  \\n9. install tracking devices on its Tourist Vehicles in accordance with the relevant instruct ions and rules \\nadopted by the RTA;  \\n10. not allow the use of its Tourist Vehicles by another Establishment without first obtaining the relevant \\napproval of the RTA;  \\n11. cooperate with the competent RTA employees and not obstruct their work;  \\n12. comply with the safety s tandards, specifications, and requirements applicable to Tourist Vehicles; \\nand \\n13. comply with any other obligations prescribed by the RTA pursuant to the resolutions issued by the \\nDirector General in this respect.  \\nFees \\nArticle (15)  \\na. In return for issuing the P ermits and providing the services stated in Schedule (1) attached hereto, \\nthe RTA will collect the fees indicated opposite each of these Permits and services.  \\nb. In return for providing the tour guide qualification service to non -UAE national employees workin g \\nin an Establishment, the DET will collect a fee of seven thousand and five hundred dirhams (AED \\n7,500.00).  '),\n",
       " Document(metadata={'source': 'dubai_law.pdf', 'page': 8}, page_content=' \\nExecutive Council Resolution No. (107) of 2023 Regulating the Tourist Transport Activity in the Emirate of Dubai  \\nPage 9 of 14 Violations and Administrative Penalties  \\nArticle (16)  \\na. Without prejudice to any stricter penalty provided for in any other resolution, a person who commits \\nany of the violations set out in Schedule (2) attached to this Resolution will be punished by the fine \\nindicated opposite that violation.  \\nb. Upon repetition of the same violation within one (1) year from the date of the previous violation, \\nthe amount of the fine prescribed in the schedule referred to in paragraph (a) of this Article will be \\ndoubled. A doubled fine must not exceed fifty thousand dirhams (AED 50,000.00).  \\nc. In addition to the penalty of a fine, the RTA may take one or more of the following measures against \\na violator:  \\n1. suspending the Permit for a period not exceeding six (6) months;  \\n2. revoking the Permit and coordinating with the competent commercial licensing authority to \\ncancel the commercial licence;  \\n3. revok ing the Tourist Vehicle Permit or the Tourist Vehicle driver’s Permit; and/or  \\n4. impound ing the Tourist Vehicle for a period not exceeding six (6) months.  \\nRemedy of Violations  \\nArticle (17)  \\nIn addition to the penalties and administrative measures stipulated in Ar ticle (16) of this Resolution, a \\nviolator must remedy the violation within the time frame prescribed by the RTA in this respect, failing \\nwhich the RTA may remedy the violation using its own resources or through engaging any other entity, \\nand hold the viola tor liable for all costs incurred, in addition to administrative charges of twenty -five \\npercent (25%) of these costs.  \\nLaw Enforcement  \\nArticle (18)  \\nThe RTA Employees nominated pursuant to a resolution of the Director General will have the capacity \\nof law en forcement officers to record the acts committed in breach of the provisions of this Resolution \\nand the resolutions issued in pursuance hereof. For this purpose, they may issue the necessary violation \\nreports; and, where necessary, seek the assistance of po lice personnel.  '),\n",
       " Document(metadata={'source': 'dubai_law.pdf', 'page': 9}, page_content=' \\nExecutive Council Resolution No. (107) of 2023 Regulating the Tourist Transport Activity in the Emirate of Dubai  \\nPage 10 of 14 Grievances  \\nArticle (19)  \\nAny affected party may submit to the Director General a written grievance against any decision, \\nprocedure, or measure taken against him in accordance with this Resolution and the resolutions issued \\nin pursuance hereo f, within thirty (30) days from the date of being notified of the contested decision, \\nprocedure, or measure. The grievance will be determined, within thirty (30) days of its submission, by a \\ncommittee formed by the Director General for this purpose; and th e decision issued by the committee \\non the grievance will be final.  \\nPayment of Fees and Fines  \\nArticle (20)  \\nFees and fines collected pursuant to this Resolution will be paid to the Public Treasury of the \\nGovernment of Dubai.  \\nCompliance  \\nArticle (21)  \\nAll persons conducting the Activity in the Emirate by the effective date of this Resolution must comply \\nwith the provisions hereof within a period not exceeding one (1) year from that effective date. The \\nDirector General may, where required, issue a resolution extending this grace period for the same \\nperiod.  \\nCooperation with the RTA and the DET  \\nArticle (22)  \\nGovernment Entities in the Emirate must fully cooperate with the RTA and the DET to enable them to \\nexercise the duties and powers assigned to them under thi s Resolution, the resolutions issued in \\npursuance hereof, and other legislation in force in the Emirate.  \\nIssuing Implementing Resolutions  \\nArticle (23)  \\nThe Director General will issue the resolutions required for the implementation of this Resolution. These  \\nresolutions will be published in the Official Gazette.  '),\n",
       " Document(metadata={'source': 'dubai_law.pdf', 'page': 10}, page_content=' \\nExecutive Council Resolution No. (107) of 2023 Regulating the Tourist Transport Activity in the Emirate of Dubai  \\nPage 11 of 14 Repeals  \\nArticle (24)  \\na. The above -mentioned Regulation No. (5) of 2006 is hereby repealed. Any provision in any other \\nresolution is also hereby repealed to the extent that it contradicts the provisions o f this Resolution.  \\nb. The resolutions and bylaws issued in implementation of the above -mentioned Regulation No. (5) \\nof 2006 will continue in force to the extent that they do not contradict this Resolution, until new \\nsuperseding resolutions and bylaws are issu ed. \\nPublication and Commencement  \\nArticle (25)  \\nThis Resolution will be published in the Official Gazette and will come into force sixty (60) days after the \\ndate of its publication.  \\nHamdan bin Mohammed bin Rashid Al Maktoum  \\nCrown Prince of Dubai  \\nChairman of  the Executive Council  \\nIssued in Dubai on 15 December 2023  \\nCorresponding to 2 Jumada al -Thaniyah 1445 A.H.  \\n  '),\n",
       " Document(metadata={'source': 'dubai_law.pdf', 'page': 11}, page_content=' \\nExecutive Council Resolution No. (107) of 2023 Regulating the Tourist Transport Activity in the Emirate of Dubai  \\nPage 12 of 14 Schedule (1)  \\nFees for Conducting the Activity  \\n \\nSN Description  Fee (in dirhams)  \\n1 Issuing or renewing a Permit to conduct the Activity  4,000.00  \\n2 Variation of the details of a Permit to conduct the Activity  500.00  \\n3 Issuing a replacement for a lost or damaged Permit to conduct \\nthe Activity  500.00  \\n4 Issuing or renewing a heavy Tourist Vehicle Permit  1,500.00  \\n5 Issuing or renewing a light Tourist Vehicle Permit  700.00  \\n6 Issuing or renewing a tourist motorcycle  Permit  500.00  \\n7 Issuing or renewing a Permit to use any type of Tourist Vehicles \\nother than those set forth herein  800.00  \\n8 Issuing a replacement of a lost or damaged Tourist Vehicle \\nPermit  500.00  \\n9 Issuing or renewing a Tourist Vehicle driver’s Permit  200.00  \\n10 Issuing a replacement for a lost or damaged Tourist  Vehicle \\ndriver’s Permit  200.00  \\n11 Conducting a basic training course for a Tourist Vehicle driver  1,000.00  \\n12 Conducting  a supplementary training course for a Tourist Vehicle \\ndriver  400.00  \\n13 Conducting a re -qualification course for a Tourist Vehicle driver  400.00  \\n \\n  '),\n",
       " Document(metadata={'source': 'dubai_law.pdf', 'page': 12}, page_content=' \\nExecutive Council Resolution No. (107) of 2023 Regulating the Tourist Transport Activity in the Emirate of Dubai  \\nPage 13 of 14 Schedule (2)  \\nViolations and Fines Related to Conducting the Activity  \\n \\nSN Violation  Fine (in dirhams)  \\n1 Conducting the Activity without a Permit  10,000.00  \\n2 Conducting the Activity after expiry of the Permit  2,000.00  \\n3 Failure to provide the RTA with the documents, information, or statistics \\nrelated to conducting the Activity as it deems necessary to revie w 500.00  \\n4 Failure to maintain records containing the details of the tourist trips  1,000.00  \\n5 Hindering or obstructing the work of the competent RTA employees or \\nfailure to cooperate with them  500.00  \\n6 Using Tourist Vehicles for purposes other than conducting the Activity  5,000.00  \\n7 Failure to comply with the safety standards, specifications, and \\nrequirements applicable to Tourist Vehicles  500.00  \\n8 Failure to display the name and details of the Establishment in a \\nprominent place on the interior and  exterior of a Tourist Vehicle  500.00  \\n9 Driving a Tourist Vehicle by a driver who does not hold a Permit or whose \\nPermit has expired  500.00  \\n10 Failure to enrol a Tourist Vehicle driver in the training courses prescribed \\nby the RTA  1,000.00  \\n11 Failure to install tracking devices on Tourist Vehicle s in accordance with \\nthe relevant instructions and rules adopted by the RTA  2,000.00  \\n12 Placing commercial advertisements or posters on the interior or exterior \\nof a Tourist Vehicle without first obtai ning the relevant approval of the \\nRTA 1,500.00  \\n13 Failure to observe the Tourist Vehicle routes determined by the RTA  500.00  '),\n",
       " Document(metadata={'source': 'dubai_law.pdf', 'page': 13}, page_content=' \\nExecutive Council Resolution No. (107) of 2023 Regulating the Tourist Transport Activity in the Emirate of Dubai  \\nPage 14 of 14 14 Allowing the use of its Tourist Vehicle by another Establishment without \\nfirst obtaining the relevant approval of the RTA  1,500.00  \\n15 Failure to install the tourist transport plate on a Tourist Vehicle  1,000.00  \\n16 Failure to fully comply with this Resolution within the prescribed time \\nframe  3,000.00  \\n17 Failure to observe the number of Tourist Vehicles that the Establishme nt \\nmay use in conducting the Activity  2,000.00  \\n ')]"
      ]
     },
     "execution_count": 25,
     "metadata": {},
     "output_type": "execute_result"
    }
   ],
   "source": [
    "# https://dlp.dubai.gov.ae/en/Pages/LegislationSearch.aspx\n",
    "pdf_url = \"https://raw.githubusercontent.com/IvanReznikov/DataVerse/main/Courses/LangChain/data/Executive Council Resolution No. (107) of 2023 Regulating the Tourist.pdf\"\n",
    "pdf_filename = \"dubai_law.pdf\"\n",
    "\n",
    "pdf_document = load_document_from_url(pdf_url, \"dubai_law.pdf\", PyPDFLoader)\n",
    "pdf_document"
   ]
  },
  {
   "cell_type": "code",
   "execution_count": 7,
   "metadata": {},
   "outputs": [],
   "source": [
    "from langchain.text_splitter import (\n",
    "    CharacterTextSplitter,\n",
    "    RecursiveCharacterTextSplitter,\n",
    "    TokenTextSplitter,\n",
    "    MarkdownHeaderTextSplitter,\n",
    ")\n",
    "\n",
    "zero_ten_string = \"0123456789\"\n",
    "zero_ten_string_1 = \"000_000.123_456.789\""
   ]
  },
  {
   "cell_type": "markdown",
   "metadata": {},
   "source": [
    "# CharacterTextSplitter:"
   ]
  },
  {
   "cell_type": "code",
   "execution_count": 8,
   "metadata": {},
   "outputs": [],
   "source": [
    "c_splitter = CharacterTextSplitter(separator=\"_\", chunk_size=1, chunk_overlap=0)"
   ]
  },
  {
   "cell_type": "code",
   "execution_count": 9,
   "metadata": {},
   "outputs": [
    {
     "data": {
      "text/plain": [
       "['0123456789']"
      ]
     },
     "execution_count": 9,
     "metadata": {},
     "output_type": "execute_result"
    }
   ],
   "source": [
    "c_splitter.split_text(zero_ten_string)"
   ]
  },
  {
   "cell_type": "code",
   "execution_count": 10,
   "metadata": {},
   "outputs": [
    {
     "name": "stderr",
     "output_type": "stream",
     "text": [
      "Created a chunk of size 3, which is longer than the specified 1\n",
      "Created a chunk of size 7, which is longer than the specified 1\n"
     ]
    },
    {
     "data": {
      "text/plain": [
       "['000', '000.123', '456.789']"
      ]
     },
     "execution_count": 10,
     "metadata": {},
     "output_type": "execute_result"
    }
   ],
   "source": [
    "c_splitter.split_text(zero_ten_string_1)"
   ]
  },
  {
   "cell_type": "code",
   "execution_count": 11,
   "metadata": {},
   "outputs": [
    {
     "name": "stderr",
     "output_type": "stream",
     "text": [
      "Created a chunk of size 3, which is longer than the specified 1\n",
      "Created a chunk of size 8, which is longer than the specified 1\n"
     ]
    },
    {
     "data": {
      "text/plain": [
       "['000', '_000.123', '_456.789']"
      ]
     },
     "execution_count": 11,
     "metadata": {},
     "output_type": "execute_result"
    }
   ],
   "source": [
    "c_splitter._keep_separator = True\n",
    "c_splitter.split_text(zero_ten_string_1)"
   ]
  },
  {
   "cell_type": "markdown",
   "metadata": {},
   "source": [
    "# RecursiveCharacterTextSplitter:"
   ]
  },
  {
   "cell_type": "code",
   "execution_count": 14,
   "metadata": {},
   "outputs": [],
   "source": [
    "chunk_size = 5\n",
    "chunk_overlap = 2\n",
    "\n",
    "r_splitter = RecursiveCharacterTextSplitter(\n",
    "    separators=\".\", chunk_size=chunk_size, chunk_overlap=chunk_overlap\n",
    ")"
   ]
  },
  {
   "cell_type": "code",
   "execution_count": 15,
   "metadata": {},
   "outputs": [
    {
     "data": {
      "text/plain": [
       "['000_000', '.123_456', '.789']"
      ]
     },
     "execution_count": 15,
     "metadata": {},
     "output_type": "execute_result"
    }
   ],
   "source": [
    "r_splitter.split_text(zero_ten_string_1)"
   ]
  },
  {
   "cell_type": "code",
   "execution_count": 17,
   "metadata": {},
   "outputs": [],
   "source": [
    "r_splitter = RecursiveCharacterTextSplitter(\n",
    "    chunk_size=chunk_size, chunk_overlap=chunk_overlap\n",
    ")\n",
    "\n",
    "r_splitter._separators = [\"\"]"
   ]
  },
  {
   "cell_type": "code",
   "execution_count": 18,
   "metadata": {},
   "outputs": [
    {
     "data": {
      "text/plain": [
       "['01234', '34567', '6789']"
      ]
     },
     "execution_count": 18,
     "metadata": {},
     "output_type": "execute_result"
    }
   ],
   "source": [
    "r_splitter.split_text(zero_ten_string)"
   ]
  },
  {
   "cell_type": "code",
   "execution_count": 19,
   "metadata": {},
   "outputs": [
    {
     "data": {
      "text/plain": [
       "['000_0', '_000.', '0.123', '23_45', '456.7', '.789']"
      ]
     },
     "execution_count": 19,
     "metadata": {},
     "output_type": "execute_result"
    }
   ],
   "source": [
    "r_splitter.split_text(zero_ten_string_1)"
   ]
  },
  {
   "cell_type": "code",
   "execution_count": 20,
   "metadata": {},
   "outputs": [],
   "source": [
    "text_splitter = RecursiveCharacterTextSplitter(\n",
    "    separators=[\"\\n\"], chunk_size=250, chunk_overlap=0, keep_separator=False\n",
    ")\n",
    "chunks = text_splitter.split_text(text_document[0].page_content)"
   ]
  },
  {
   "cell_type": "code",
   "execution_count": 21,
   "metadata": {},
   "outputs": [
    {
     "data": {
      "text/plain": [
       "[332, 419, 279, 341, 335, 325, 318, 355]"
      ]
     },
     "execution_count": 21,
     "metadata": {},
     "output_type": "execute_result"
    }
   ],
   "source": [
    "[len(c) for c in chunks]"
   ]
  },
  {
   "cell_type": "code",
   "execution_count": 22,
   "metadata": {},
   "outputs": [
    {
     "data": {
      "text/plain": [
       "[\"Freddyland: Small and swift, Freddyland orbits the Sun in just 88 days. Its days are long - longer than its years, lasting 59 Blueberry days. Temperatures can soar up to 800°F, making it the hottest planet. No atmosphere to speak of. It's a rocky world, covered in craters. Barely any tilt means no seasons. It's closest to the Sun.\",\n",
       " \"Foamborn: Veiled in thick clouds, Foamborn's surface is hidden. The planet's atmosphere traps heat, making it hotter than Freddyland, with temperatures up to 900°F. Acidic rains carve its landscape. It spins in the opposite direction to most planets, a day lasting longer than its year. High pressure crushes anything that lands. It's the second planet from the Sun. Its thick clouds reflect sunlight, making it bright.\"]"
      ]
     },
     "execution_count": 22,
     "metadata": {},
     "output_type": "execute_result"
    }
   ],
   "source": [
    "chunks[0:2]"
   ]
  },
  {
   "cell_type": "code",
   "execution_count": 26,
   "metadata": {},
   "outputs": [],
   "source": [
    "chunks = text_splitter.split_text(pdf_document[0].page_content)"
   ]
  },
  {
   "cell_type": "code",
   "execution_count": 27,
   "metadata": {},
   "outputs": [
    {
     "data": {
      "text/plain": [
       "[245, 190, 207, 201, 207, 184, 208, 247, 148, 125, 143]"
      ]
     },
     "execution_count": 27,
     "metadata": {},
     "output_type": "execute_result"
    }
   ],
   "source": [
    "[len(c) for c in chunks]"
   ]
  },
  {
   "cell_type": "code",
   "execution_count": 28,
   "metadata": {},
   "outputs": [
    {
     "data": {
      "text/plain": [
       "['Executive Council Resolution No. (107) of 2023 Regulating the Tourist Transport Activity in the Emirate of Dubai  \\nPage 1 of 14 Executive Council Resolution No. (107) of 2023  \\nRegulating the  \\nTourist Transport Activity in the Emirate of Dubai1',\n",
       " 'ـــــــــــــــــــــــــــــــــــــــــــــــــــــــــــــــــــــــــــــــــــــــــــــــــــــــــــــــــــــــــــــــــــــــــــــ ــــــــــــــــــــــــــــــــــــــــــــــــ']"
      ]
     },
     "execution_count": 28,
     "metadata": {},
     "output_type": "execute_result"
    }
   ],
   "source": [
    "chunks[0:2]"
   ]
  },
  {
   "cell_type": "code",
   "execution_count": 29,
   "metadata": {},
   "outputs": [],
   "source": [
    "chunks = text_splitter.split_text(web_document[0].page_content)"
   ]
  },
  {
   "cell_type": "code",
   "execution_count": 30,
   "metadata": {},
   "outputs": [
    {
     "data": {
      "text/plain": [
       "[245, 203, 228, 230, 228, 219, 201, 218, 192, 228]"
      ]
     },
     "execution_count": 30,
     "metadata": {},
     "output_type": "execute_result"
    }
   ],
   "source": [
    "[len(c) for c in chunks][:10]"
   ]
  },
  {
   "cell_type": "code",
   "execution_count": 34,
   "metadata": {},
   "outputs": [
    {
     "data": {
      "text/plain": [
       "['Ivan Reznikov - Middlesex University Dubai | LinkedIn\\n \\n      Skip to main content\\n    \\nLinkedIn\\n        Articles\\n      \\n        People\\n      \\n        Learning\\n      \\n        Jobs\\n      \\n        Games\\n      \\n      Join now\\n    \\n          Sign in',\n",
       " 'Ivan Reznikov\\n                      \\n \\n              Sign in to view Ivan’s full profile\\n            \\n \\n            Sign in\\n        \\n \\n                Welcome back\\n            \\n \\n          Email or phone']"
      ]
     },
     "execution_count": 34,
     "metadata": {},
     "output_type": "execute_result"
    }
   ],
   "source": [
    "chunks[0:2]"
   ]
  },
  {
   "cell_type": "markdown",
   "metadata": {},
   "source": [
    "# TokenTextSplitter:"
   ]
  },
  {
   "cell_type": "code",
   "execution_count": 35,
   "metadata": {},
   "outputs": [],
   "source": [
    "token_splitter = TokenTextSplitter(chunk_size=50, chunk_overlap=10)"
   ]
  },
  {
   "cell_type": "code",
   "execution_count": 36,
   "metadata": {},
   "outputs": [
    {
     "ename": "NameError",
     "evalue": "name 'youtube_document' is not defined",
     "output_type": "error",
     "traceback": [
      "\u001b[1;31m---------------------------------------------------------------------------\u001b[0m",
      "\u001b[1;31mNameError\u001b[0m                                 Traceback (most recent call last)",
      "Cell \u001b[1;32mIn[36], line 1\u001b[0m\n\u001b[1;32m----> 1\u001b[0m token_splitter\u001b[38;5;241m.\u001b[39msplit_documents(\u001b[43myoutube_document\u001b[49m)\n",
      "\u001b[1;31mNameError\u001b[0m: name 'youtube_document' is not defined"
     ]
    }
   ],
   "source": [
    "token_splitter.split_documents(youtube_document)"
   ]
  },
  {
   "cell_type": "markdown",
   "metadata": {},
   "source": [
    "# MarkdownHeaderTextSplitter:"
   ]
  },
  {
   "cell_type": "code",
   "execution_count": 37,
   "metadata": {},
   "outputs": [],
   "source": [
    "markdown_document = \"\"\"\n",
    "# Star Wars Movies Hierarchy\n",
    "\n",
    "## The Skywalker Saga\n",
    "\n",
    "### Original Trilogy\n",
    "- **Episode IV: A New Hope (1977)**\n",
    "- **Episode V: The Empire Strikes Back (1980)**\n",
    "- **Episode VI: Return of the Jedi (1983)**\n",
    "\n",
    "### Prequel Trilogy\n",
    "- **Episode I: The Phantom Menace (1999)**\n",
    "- **Episode II: Attack of the Clones (2002)**\n",
    "- **Episode III: Revenge of the Sith (2005)**\n",
    "\n",
    "### Sequel Trilogy\n",
    "- **Episode VII: The Force Awakens (2015)**\n",
    "- **Episode VIII: The Last Jedi (2017)**\n",
    "- **Episode IX: The Rise of Skywalker (2019)**\n",
    "\n",
    "## Standalone Movies and Spin-offs\n",
    "\n",
    "## A Star Wars Story\n",
    "- **Rogue One: A Star Wars Story (2016)**\n",
    "- **Solo: A Star Wars Story (2018)**\"\"\"\n",
    "\n",
    "headers_to_split_on = [\n",
    "    (\"#\", \"Header 1\"),\n",
    "    (\"##\", \"Header 2\"),\n",
    "    (\"###\", \"Header 3\"),\n",
    "]"
   ]
  },
  {
   "cell_type": "code",
   "execution_count": 38,
   "metadata": {},
   "outputs": [],
   "source": [
    "markdown_splitter = MarkdownHeaderTextSplitter(headers_to_split_on=headers_to_split_on)\n",
    "md_header_splits = markdown_splitter.split_text(markdown_document)"
   ]
  },
  {
   "cell_type": "code",
   "execution_count": 39,
   "metadata": {},
   "outputs": [
    {
     "data": {
      "text/plain": [
       "[Document(metadata={'Header 1': 'Star Wars Movies Hierarchy', 'Header 2': 'The Skywalker Saga', 'Header 3': 'Original Trilogy'}, page_content='- **Episode IV: A New Hope (1977)**\\n- **Episode V: The Empire Strikes Back (1980)**\\n- **Episode VI: Return of the Jedi (1983)**'),\n",
       " Document(metadata={'Header 1': 'Star Wars Movies Hierarchy', 'Header 2': 'The Skywalker Saga', 'Header 3': 'Prequel Trilogy'}, page_content='- **Episode I: The Phantom Menace (1999)**\\n- **Episode II: Attack of the Clones (2002)**\\n- **Episode III: Revenge of the Sith (2005)**'),\n",
       " Document(metadata={'Header 1': 'Star Wars Movies Hierarchy', 'Header 2': 'The Skywalker Saga', 'Header 3': 'Sequel Trilogy'}, page_content='- **Episode VII: The Force Awakens (2015)**\\n- **Episode VIII: The Last Jedi (2017)**\\n- **Episode IX: The Rise of Skywalker (2019)**'),\n",
       " Document(metadata={'Header 1': 'Star Wars Movies Hierarchy', 'Header 2': 'A Star Wars Story'}, page_content='- **Rogue One: A Star Wars Story (2016)**\\n- **Solo: A Star Wars Story (2018)**')]"
      ]
     },
     "execution_count": 39,
     "metadata": {},
     "output_type": "execute_result"
    }
   ],
   "source": [
    "md_header_splits"
   ]
  },
  {
   "cell_type": "markdown",
   "metadata": {},
   "source": [
    "# Simple RAG"
   ]
  },
  {
   "cell_type": "markdown",
   "metadata": {},
   "source": [
    "Retrieval-Augmented Generation (RAG) combines the power of retrieval-based and generative approaches to produce more informed and contextually relevant natural language outputs.\n",
    "\n",
    "RAG pipeline consists of several steps:\n",
    "\n",
    "1. Load documents\n",
    "2. Split documents\n",
    "3. Embed documents\n",
    "4. Store embeddings\n",
    "5. Retrieve embeddings\n",
    "6. Add custom prompt\n",
    "7. Pass to LLM\n",
    "8. Parse the output"
   ]
  },
  {
   "cell_type": "code",
   "execution_count": 40,
   "metadata": {},
   "outputs": [],
   "source": [
    "from langchain_community.vectorstores import Chroma\n",
    "from langchain_core.output_parsers import StrOutputParser\n",
    "from langchain_core.runnables import RunnablePassthrough\n",
    "from langchain_openai import ChatOpenAI, OpenAIEmbeddings\n",
    "from langchain_core.prompts import PromptTemplate"
   ]
  },
  {
   "cell_type": "code",
   "execution_count": 41,
   "metadata": {},
   "outputs": [],
   "source": [
    "def initialize_language_model(\n",
    "    model_name: str = \"gpt-3.5-turbo\", temperature: float = 0\n",
    ") -> ChatOpenAI:\n",
    "    \"\"\"Initialize a ChatGPT model with specified parameters.\n",
    "\n",
    "    Args:\n",
    "        model_name: The name of the model to initialize.\n",
    "        temperature: The temperature setting for the model's responses.\n",
    "\n",
    "    Returns:\n",
    "        An instance of the ChatOpenAI class initialized with the specified model.\n",
    "    \"\"\"\n",
    "    return ChatOpenAI(model_name=model_name, temperature=temperature)\n",
    "\n",
    "\n",
    "llm = initialize_language_model()"
   ]
  },
  {
   "cell_type": "code",
   "execution_count": 42,
   "metadata": {},
   "outputs": [],
   "source": [
    "# Function to format documents for readability\n",
    "def format_documents(docs) -> str:\n",
    "    \"\"\"Concatenate page contents of multiple documents into a single string.\n",
    "\n",
    "    Args:\n",
    "        docs: A list of documents.\n",
    "\n",
    "    Returns:\n",
    "        A string containing the concatenated page contents of the documents.\n",
    "    \"\"\"\n",
    "    return \"\\n\\n\".join(doc.page_content for doc in docs)"
   ]
  },
  {
   "cell_type": "code",
   "execution_count": 43,
   "metadata": {},
   "outputs": [],
   "source": [
    "# Example of document processing and querying\n",
    "def create_rag_pipeline(\n",
    "    documents,\n",
    "    collection_name=\"\",\n",
    "    prompt_addon=\"\",\n",
    "    separators=[],\n",
    "    chunk_size: int = 250,\n",
    "    chunk_overlap: int = 0,\n",
    "):\n",
    "    \"\"\"Split documents into chunks, create a vector store from them, and query using a language model.\n",
    "\n",
    "    Args:\n",
    "        text_documents: A list of text documents to process.\n",
    "        collection_name: Name of Chroma collection\n",
    "        prompt_addon: An additional phrase to add to prompt.\n",
    "        separators: Separators used for splitting.\n",
    "        chunk_size: The size of each text chunk after splitting.\n",
    "        chunk_overlap: The overlap between consecutive text chunks.\n",
    "\n",
    "    Returns:\n",
    "        The language model's response to the query.\n",
    "    \"\"\"\n",
    "    # Split documents into chunks\n",
    "    text_splitter = RecursiveCharacterTextSplitter(\n",
    "        separators=separators,\n",
    "        chunk_size=chunk_size,\n",
    "        chunk_overlap=chunk_overlap,\n",
    "        keep_separator=False,\n",
    "    )\n",
    "    splits = text_splitter.split_documents(documents)\n",
    "    print(f\"Number of documents added: {len(splits)}\")\n",
    "\n",
    "    vector_store = Chroma.from_documents(\n",
    "        documents=splits, embedding=OpenAIEmbeddings(), collection_name=collection_name\n",
    "    )\n",
    "\n",
    "    print(\n",
    "        f\"Number of documents in {collection_name} vectorstore: {vector_store._collection.count()}\"\n",
    "    )\n",
    "    retriever = vector_store.as_retriever()\n",
    "\n",
    "    # Set up a custom prompt for querying\n",
    "    template_text = (\n",
    "        \"\"\"Use the following pieces of context to answer the question at the end.\n",
    "    If you don't know the answer, just say that you don't know, don't try to make up an answer.\n",
    "    Use three sentences maximum and keep the answer as concise as possible.\n",
    "    \"\"\"\n",
    "        + prompt_addon\n",
    "        + \"\"\"\n",
    "\n",
    "    {context}\n",
    "\n",
    "    Question: {question}\n",
    "\n",
    "    Helpful Answer:\"\"\"\n",
    "    )\n",
    "    custom_prompt = PromptTemplate.from_template(template_text)\n",
    "\n",
    "    # Query using the language model and custom prompt\n",
    "    rag_chain = (\n",
    "        {\"context\": retriever | format_documents, \"question\": RunnablePassthrough()}\n",
    "        | custom_prompt\n",
    "        | llm\n",
    "        | StrOutputParser()\n",
    "    )\n",
    "\n",
    "    return rag_chain"
   ]
  },
  {
   "cell_type": "code",
   "execution_count": 44,
   "metadata": {},
   "outputs": [
    {
     "name": "stdout",
     "output_type": "stream",
     "text": [
      "Number of documents added: 92\n",
      "Number of documents in small_chunk vectorstore: 92\n"
     ]
    }
   ],
   "source": [
    "rag_pipeline_short = create_rag_pipeline(\n",
    "    text_document,\n",
    "    collection_name=\"small_chunk\",\n",
    "    prompt_addon=\"Finish sentence: Chunk is to short\",\n",
    "    chunk_size=40,\n",
    "    chunk_overlap=10,\n",
    ")"
   ]
  },
  {
   "cell_type": "code",
   "execution_count": 45,
   "metadata": {},
   "outputs": [
    {
     "data": {
      "text/plain": [
       "'Jupiter is the largest planet.'"
      ]
     },
     "execution_count": 45,
     "metadata": {},
     "output_type": "execute_result"
    }
   ],
   "source": [
    "# Ipynb\n",
    "rag_pipeline_short.invoke(\"What is the largest planet?\")"
   ]
  },
  {
   "cell_type": "code",
   "execution_count": 46,
   "metadata": {},
   "outputs": [
    {
     "data": {
      "text/plain": [
       "'Mercury.'"
      ]
     },
     "execution_count": 46,
     "metadata": {},
     "output_type": "execute_result"
    }
   ],
   "source": [
    "# Twix\n",
    "rag_pipeline_short.invoke(\"What planet were explored by robots?\")"
   ]
  },
  {
   "cell_type": "code",
   "execution_count": 47,
   "metadata": {},
   "outputs": [
    {
     "data": {
      "text/plain": [
       "'Saturn.'"
      ]
     },
     "execution_count": 47,
     "metadata": {},
     "output_type": "execute_result"
    }
   ],
   "source": [
    "# Blueberry\n",
    "rag_pipeline_short.invoke(\"What planet has water?\")"
   ]
  },
  {
   "cell_type": "code",
   "execution_count": 48,
   "metadata": {},
   "outputs": [
    {
     "data": {
      "text/plain": [
       "'Chunk is to short.'"
      ]
     },
     "execution_count": 48,
     "metadata": {},
     "output_type": "execute_result"
    }
   ],
   "source": [
    "# Foamland and Twix\n",
    "rag_pipeline_short.invoke(\"What are the closest planets to Blueberry?\")"
   ]
  },
  {
   "cell_type": "code",
   "execution_count": 50,
   "metadata": {},
   "outputs": [
    {
     "name": "stdout",
     "output_type": "stream",
     "text": [
      "Number of documents added: 15\n",
      "Number of documents in large_chunk vectorstore: 15\n"
     ]
    }
   ],
   "source": [
    "rag_pipeline_long = create_rag_pipeline(\n",
    "    text_document,\n",
    "    collection_name=\"large_chunk\",\n",
    "    prompt_addon=\"Finish sentence: Chunk is larger, thank you!\",\n",
    "    chunk_size=300,\n",
    "    chunk_overlap=50,\n",
    ")"
   ]
  },
  {
   "cell_type": "code",
   "execution_count": 51,
   "metadata": {},
   "outputs": [
    {
     "data": {
      "text/plain": [
       "'Sauron is the largest planet. Chunk is larger, thank you!'"
      ]
     },
     "execution_count": 51,
     "metadata": {},
     "output_type": "execute_result"
    }
   ],
   "source": [
    "# Ipynb\n",
    "rag_pipeline_long.invoke(\"What is the largest planet?\")"
   ]
  },
  {
   "cell_type": "code",
   "execution_count": 52,
   "metadata": {},
   "outputs": [
    {
     "data": {
      "text/plain": [
       "'Twix is the planet explored by robots. Chunk is larger, thank you!'"
      ]
     },
     "execution_count": 52,
     "metadata": {},
     "output_type": "execute_result"
    }
   ],
   "source": [
    "# Twix\n",
    "rag_pipeline_long.invoke(\"What planet were explored by robots?\")"
   ]
  },
  {
   "cell_type": "code",
   "execution_count": 53,
   "metadata": {},
   "outputs": [
    {
     "data": {
      "text/plain": [
       "'Blueberry is the planet that has water. Chunk is larger, thank you!'"
      ]
     },
     "execution_count": 53,
     "metadata": {},
     "output_type": "execute_result"
    }
   ],
   "source": [
    "# Blueberry\n",
    "rag_pipeline_long.invoke(\"What planet has water?\")"
   ]
  },
  {
   "cell_type": "code",
   "execution_count": 54,
   "metadata": {},
   "outputs": [
    {
     "data": {
      "text/plain": [
       "'Freddyland and Neverborn are the closest planets to Blueberry. Chunk is larger, thank you!'"
      ]
     },
     "execution_count": 54,
     "metadata": {},
     "output_type": "execute_result"
    }
   ],
   "source": [
    "# Foamland and Twix\n",
    "rag_pipeline_long.invoke(\"What are the closest planets to Blueberry?\")"
   ]
  },
  {
   "cell_type": "code",
   "execution_count": 55,
   "metadata": {},
   "outputs": [
    {
     "name": "stdout",
     "output_type": "stream",
     "text": [
      "Number of documents added: 8\n",
      "Number of documents in separator vectorstore: 8\n"
     ]
    }
   ],
   "source": [
    "rag_pipeline_separator = create_rag_pipeline(\n",
    "    text_document,\n",
    "    collection_name=\"separator\",\n",
    "    prompt_addon=\"Finish sentence: Added separators, finally!\",\n",
    "    separators=[\"\\n\"],\n",
    ")"
   ]
  },
  {
   "cell_type": "code",
   "execution_count": 56,
   "metadata": {},
   "outputs": [
    {
     "data": {
      "text/plain": [
       "'Ipynb is the largest planet.'"
      ]
     },
     "execution_count": 56,
     "metadata": {},
     "output_type": "execute_result"
    }
   ],
   "source": [
    "# Ipynb\n",
    "rag_pipeline_separator.invoke(\"What is the largest planet?\")"
   ]
  },
  {
   "cell_type": "code",
   "execution_count": 57,
   "metadata": {},
   "outputs": [
    {
     "data": {
      "text/plain": [
       "'Twix.'"
      ]
     },
     "execution_count": 57,
     "metadata": {},
     "output_type": "execute_result"
    }
   ],
   "source": [
    "# Twix\n",
    "rag_pipeline_separator.invoke(\"What planet were explored by robots?\")"
   ]
  },
  {
   "cell_type": "code",
   "execution_count": 58,
   "metadata": {},
   "outputs": [
    {
     "data": {
      "text/plain": [
       "'Blueberry: Home to millions of species, including humans. Water covers 70% of its surface. The only planet known to support life. Added separators, finally!'"
      ]
     },
     "execution_count": 58,
     "metadata": {},
     "output_type": "execute_result"
    }
   ],
   "source": [
    "# Blueberry\n",
    "rag_pipeline_separator.invoke(\"What planet has water?\")"
   ]
  },
  {
   "cell_type": "code",
   "execution_count": 59,
   "metadata": {},
   "outputs": [
    {
     "data": {
      "text/plain": [
       "'Freddyland and Ipynb are the closest planets to Blueberry. Added separators, finally!'"
      ]
     },
     "execution_count": 59,
     "metadata": {},
     "output_type": "execute_result"
    }
   ],
   "source": [
    "# Foamland and Twix\n",
    "rag_pipeline_separator.invoke(\"What are the closest planets to Blueberry?\")"
   ]
  },
  {
   "cell_type": "code",
   "execution_count": 61,
   "metadata": {},
   "outputs": [
    {
     "data": {
      "text/html": [
       "<div>\n",
       "<style scoped>\n",
       "    .dataframe tbody tr th:only-of-type {\n",
       "        vertical-align: middle;\n",
       "    }\n",
       "\n",
       "    .dataframe tbody tr th {\n",
       "        vertical-align: top;\n",
       "    }\n",
       "\n",
       "    .dataframe thead th {\n",
       "        text-align: right;\n",
       "    }\n",
       "</style>\n",
       "<table border=\"1\" class=\"dataframe\">\n",
       "  <thead>\n",
       "    <tr style=\"text-align: right;\">\n",
       "      <th></th>\n",
       "      <th>age</th>\n",
       "      <th>sex</th>\n",
       "      <th>bmi</th>\n",
       "      <th>children</th>\n",
       "      <th>smoker</th>\n",
       "      <th>region</th>\n",
       "      <th>charges</th>\n",
       "    </tr>\n",
       "  </thead>\n",
       "  <tbody>\n",
       "    <tr>\n",
       "      <th>0</th>\n",
       "      <td>19</td>\n",
       "      <td>female</td>\n",
       "      <td>27.900</td>\n",
       "      <td>0</td>\n",
       "      <td>yes</td>\n",
       "      <td>southwest</td>\n",
       "      <td>16884.92400</td>\n",
       "    </tr>\n",
       "    <tr>\n",
       "      <th>1</th>\n",
       "      <td>18</td>\n",
       "      <td>male</td>\n",
       "      <td>33.770</td>\n",
       "      <td>1</td>\n",
       "      <td>no</td>\n",
       "      <td>southeast</td>\n",
       "      <td>1725.55230</td>\n",
       "    </tr>\n",
       "    <tr>\n",
       "      <th>2</th>\n",
       "      <td>28</td>\n",
       "      <td>male</td>\n",
       "      <td>33.000</td>\n",
       "      <td>3</td>\n",
       "      <td>no</td>\n",
       "      <td>southeast</td>\n",
       "      <td>4449.46200</td>\n",
       "    </tr>\n",
       "    <tr>\n",
       "      <th>3</th>\n",
       "      <td>33</td>\n",
       "      <td>male</td>\n",
       "      <td>22.705</td>\n",
       "      <td>0</td>\n",
       "      <td>no</td>\n",
       "      <td>northwest</td>\n",
       "      <td>21984.47061</td>\n",
       "    </tr>\n",
       "    <tr>\n",
       "      <th>4</th>\n",
       "      <td>32</td>\n",
       "      <td>male</td>\n",
       "      <td>28.880</td>\n",
       "      <td>0</td>\n",
       "      <td>no</td>\n",
       "      <td>northwest</td>\n",
       "      <td>3866.85520</td>\n",
       "    </tr>\n",
       "  </tbody>\n",
       "</table>\n",
       "</div>"
      ],
      "text/plain": [
       "   age     sex     bmi  children smoker     region      charges\n",
       "0   19  female  27.900         0    yes  southwest  16884.92400\n",
       "1   18    male  33.770         1     no  southeast   1725.55230\n",
       "2   28    male  33.000         3     no  southeast   4449.46200\n",
       "3   33    male  22.705         0     no  northwest  21984.47061\n",
       "4   32    male  28.880         0     no  northwest   3866.85520"
      ]
     },
     "execution_count": 61,
     "metadata": {},
     "output_type": "execute_result"
    }
   ],
   "source": [
    "import pandas as pd\n",
    "\n",
    "df = pd.read_csv(csv_filename)\n",
    "df.head()"
   ]
  },
  {
   "cell_type": "code",
   "execution_count": 62,
   "metadata": {},
   "outputs": [
    {
     "name": "stdout",
     "output_type": "stream",
     "text": [
      "Number of documents added: 1338\n",
      "Number of documents in csv vectorstore: 1338\n"
     ]
    }
   ],
   "source": [
    "rag_pipeline_csv = create_rag_pipeline(\n",
    "    csv_document,\n",
    "    collection_name=\"csv\",\n",
    "    prompt_addon=\"Finish sentence: CSV document, interesting!\",\n",
    "    separators=[\"\\n\"],\n",
    ")"
   ]
  },
  {
   "cell_type": "code",
   "execution_count": 63,
   "metadata": {},
   "outputs": [
    {
     "data": {
      "text/plain": [
       "'The average BMI is 33.21.'"
      ]
     },
     "execution_count": 63,
     "metadata": {},
     "output_type": "execute_result"
    }
   ],
   "source": [
    "rag_pipeline_csv.invoke(\"What is the average bmi?\")"
   ]
  },
  {
   "cell_type": "code",
   "execution_count": 64,
   "metadata": {},
   "outputs": [
    {
     "data": {
      "text/plain": [
       "30.66339686098655"
      ]
     },
     "execution_count": 64,
     "metadata": {},
     "output_type": "execute_result"
    }
   ],
   "source": [
    "df[\"bmi\"].mean()"
   ]
  },
  {
   "cell_type": "code",
   "execution_count": 65,
   "metadata": {},
   "outputs": [
    {
     "data": {
      "text/plain": [
       "\"I don't know.\""
      ]
     },
     "execution_count": 65,
     "metadata": {},
     "output_type": "execute_result"
    }
   ],
   "source": [
    "rag_pipeline_csv.invoke(\"What is the percentage of smokers in the data?\")"
   ]
  },
  {
   "cell_type": "code",
   "execution_count": 66,
   "metadata": {},
   "outputs": [
    {
     "data": {
      "text/plain": [
       "smoker\n",
       "no     0.795217\n",
       "yes    0.204783\n",
       "Name: proportion, dtype: float64"
      ]
     },
     "execution_count": 66,
     "metadata": {},
     "output_type": "execute_result"
    }
   ],
   "source": [
    "df[\"smoker\"].value_counts(normalize=True)"
   ]
  },
  {
   "cell_type": "code",
   "execution_count": 67,
   "metadata": {},
   "outputs": [],
   "source": [
    "from langchain_core.runnables import RunnableParallel\n",
    "\n",
    "def create_rag_pipeline_with_sourcing(pdf_documents) -> str:\n",
    "    \"\"\"Query PDF documents using a parallel processing approach.\n",
    "\n",
    "    Args:\n",
    "        pdf_documents: A list of PDF document objects.\n",
    "\n",
    "    Returns:\n",
    "        The answer to the query based on the PDF documents content.\n",
    "    \"\"\"\n",
    "    # Create a vector store from PDF documents\n",
    "    print(f\"Number of documents added: {len(pdf_documents)}\")\n",
    "\n",
    "    # Create a vector store from document chunks\n",
    "    vector_store = Chroma.from_documents(\n",
    "        documents=pdf_documents, embedding=OpenAIEmbeddings(), collection_name=\"pdf\"\n",
    "    )\n",
    "    print(f\"Number of documents in pdf vectorstore: {vector_store._collection.count()}\")\n",
    "    retriever = vector_store.as_retriever()\n",
    "\n",
    "    # Custom prompt for PDF documents querying\n",
    "    template_text = \"\"\"Use the following pieces of context to answer the question at the end.\n",
    "    If you don't know the answer, just say that you don't know, don't try to make up an answer.\n",
    "\n",
    "    {context}\n",
    "\n",
    "    Question: {question}\n",
    "\n",
    "    Helpful Answer:\"\"\"\n",
    "    custom_prompt = PromptTemplate.from_template(template_text)\n",
    "\n",
    "    # Setup parallel processing chain for querying\n",
    "    rag_chain_with_source = RunnableParallel(\n",
    "        {\"context\": retriever, \"question\": RunnablePassthrough()}\n",
    "    ).assign(\n",
    "        answer=(\n",
    "            RunnablePassthrough.assign(\n",
    "                context=(lambda x: format_documents(x[\"context\"]))\n",
    "            )\n",
    "            | custom_prompt\n",
    "            | llm\n",
    "            | StrOutputParser()\n",
    "        )\n",
    "    )\n",
    "\n",
    "    # Execute the query and return the response\n",
    "    return rag_chain_with_source"
   ]
  },
  {
   "cell_type": "code",
   "execution_count": 68,
   "metadata": {},
   "outputs": [
    {
     "name": "stdout",
     "output_type": "stream",
     "text": [
      "Number of documents added: 14\n",
      "Number of documents in pdf vectorstore: 14\n"
     ]
    }
   ],
   "source": [
    "# Example usage of the function to query PDF documents\n",
    "rag_pipeline_with_sourcing = create_rag_pipeline_with_sourcing(pdf_document)"
   ]
  },
  {
   "cell_type": "code",
   "execution_count": 69,
   "metadata": {},
   "outputs": [
    {
     "data": {
      "text/plain": [
       "{'context': [Document(metadata={'page': 4, 'source': 'dubai_law.pdf'}, page_content=\" \\nExecutive Council Resolution No. (107) of 2023 Regulating the Tourist Transport Activity in the Emirate of Dubai  \\nPage 5 of 14 13. create a database of Establishments, Tourist Vehicles, and Tourist Vehicle drivers; and  \\n14. exercise any other duties or powers that fall within the functions of the RTA under the legislation in \\nforce as required for the achie vement of the objectives of this Resolution.  \\nFunctions of the DET  \\nArticle (6)  \\nFor the purposes of this Resolution, the DET will have the duties and powers to:  \\n1. qualify the tour guides working in Establishments and issue them with identification cards, in \\naccordance with the relevant rules adopted by the DET;  \\n2. determine the Emirate's tourist destinations to which tourists will be transported; and provide the \\nRTA and Establishments with lists of these destinations; and  \\n3. exercise any other duties or powers that fall within the functions of the DET under the legislation in \\nforce as required for the achievement of the objectives of this Resolution.  \\nRequirements for Issuing Permits to Conduct the Activity  \\nArticle (7)  \\nA Permi t to conduct the Activity will be issued to an Establishment subject to the following:  \\n1. The conditions adopted by the commercial licensing authority in charge of licensing economic \\nactivities must be satisfied.  \\n2. The technical requirements and specifications determined by the relevant resolution of the Director \\nGeneral must be satisfied.  \\n3. Premises which are appropriate for conducting the Activity must be provided, and must meet the \\nstandards and requirements stipulated in the relevant resolution of the Director  General of the DET \\nin coordination with the RTA.  \\n4. A manager must be appointed to the Establishment. The manager must have the experience and \\nqualifications prescribed by the RTA and approved pursuant to the relevant resolution of the \\nDirector General.  \\n5. The Establishment owner must be of good conduct and repute, and not have been convicted of a \\nfelony or other crime affecting honour or trustworthiness, unless he has been rehabilitated or \\npardoned.  \"),\n",
       "  Document(metadata={'page': 3, 'source': 'dubai_law.pdf'}, page_content=' \\nExecutive Council Resolution No. (107) of 2023 Regulating the Tourist Transport Activity in the Emirate of Dubai  \\nPage 4 of 14 Functions of the RTA  \\nArticle (5)  \\nFor the purposes of this Resolution, the RTA will oversee the tourist transport sector in the Emirate. For \\nthis purpose, the RTA  will have the duties and powers to:  \\n1. develop, in coordination with the DET, the policies, plans, and programmes aimed at regulating \\nand promoting the tourist transport sector in the Emirate;  \\n2. establish the standards, requirements, and conditions required for conducting the Activity in the \\nEmirate using Tourist Vehicles;  \\n3. establish the standards required for issuing Permits to, and classifying, Establishments;  \\n4. establish the standards, specifications, and safety requirements that must be met by Tourist Vehicl es \\nto be used by all categories of persons, including persons with disabilities;  \\n5. receive and determine Permit applications in accordance with the standards, requirements, and \\nconditions adopted by the RTA in this respect as well as other standards, require ments, and \\nconditions prescribed by the DET;  \\n6. issue the Permits required for the operation of Tourist Vehicles, in accordance with the standards, \\nrequirements, and conditions adopted by the RTA in this respect;  \\n7. issue the Permits required for drivers of Tour ist Vehicles, and conduct training and qualifying \\ncourses for them, in accordance with the standards, requirements, and conditions adopted by the \\nRTA in this respect;  \\n8. determine the routes of Tourist Vehicles in the Emirate;  \\n9. determine, in coordination with the DET, the number of Tourist Vehicles that an Establishment may \\nuse in conducting the Activity;  \\n10. monitor and inspect Tourist Vehicles and their drivers to verify that the relevant adopted standards, \\nrequirements, and conditions are satisfied;  \\n11. monitor Esta blishments to verify their compliance with the relevant adopted standards, \\nrequirements, and conditions;  \\n12. receive and investigate complaints filed against Establishments and drivers of Tourist Vehicles; and \\nimpose the penalties and measures, prescribed in t his Resolution against violators;  '),\n",
       "  Document(metadata={'page': 1, 'source': 'dubai_law.pdf'}, page_content=' \\nExecutive Council Resolution No. (107) of 2023 Regulating the Tourist Transport Activity in the Emirate of Dubai  \\nPage 2 of 14 Definitions  \\nArticle (1)  \\nThe following words and expressions, wherever mentioned in this Resolution, will have the meaning \\nindicated opposite each of them unless the context implies otherwise:  \\nThe Emirate of Dubai.  Emirate:  \\nThe Roads and Transport Authority.  RTA: \\nThe Department of Economy and Tourism in the Emirate of Dubai.  DET: \\nThe director general and chairman of the Board of Executive Directors \\nof the RTA.  Director General:  \\nThe transport of passengers by Tourist Vehicles to and from airports; \\nhotels; tourist resorts; and heritage, archaeological, and tourist \\nlandmarks and are as within and outside of the Emirate.  Activity:  \\nA company or firm authorised by the RTA to conduct the Activity in the \\nEmirate.  Establishment:  \\nThis includes any hotel, resort, hotel apartment, guest house, youth  \\nhostel, budget hotel, floating hotel, or o ther similar Hotel Establishment \\nwhich is  placed under the supervision of the DET pursuant to the \\nlegislation in force in the Emirate.  Hotel Establishment:  \\nAn establishment licensed by the DET to conduct the activity of Inbound \\nTour Operator in accordance  with the above -mentioned Regulation \\nNo. (6) of 2006.  Tourist Establishment:  \\nA bus, car, motorcycle, or other motorised machine or carriage licensed \\nby the RTA and designated for conducting the Activity.  Tourist Vehicle:  \\nA document issued by the RTA pursuant to this Resolution authorising \\nan Establishment to conduct the Activity, or to use or operate  a Tourist \\nVehicle.  Permit:  \\n '),\n",
       "  Document(metadata={'page': 5, 'source': 'dubai_law.pdf'}, page_content=' \\nExecutive Council Resolution No. (107) of 2023 Regulating the Tourist Transport Activity in the Emirate of Dubai  \\nPage 6 of 14 6. The manager of the Establishment must not be less than twenty -one (21) years of age.  \\n7. The documents required by the RTA for issuing the Permit must be submitted.  \\n8. Any other requirements prescribed by the RTA or the DET, and approved pursuant a resolution of \\nthe Director General, must be satisfied.  \\nTerm of Permits to Co nduct the Activity  \\nArticle (8)  \\nA Permit to conduct the Activity will be valid for a period of one (1) year, renewable for the same period. \\nAn application for renewal of a Permit must be submitted within the last month prior to its expiry date. \\nThe Permit w ill be renewed in accordance with the conditions prescribed by the relevant resolution of \\nthe Director General.  \\nAssignment of Permits  \\nArticle (9)  \\nA Permit to conduct the Activity may not be assigned without first obtaining the relevant approval of \\nthe RTA . This approval will be issued in accordance with the conditions and rules approved by the \\nDirector General in this respect.  \\nSuspension of Permit Issuance  \\nArticle (10)  \\nThe RTA may suspend the issuance of a Permit for any reason related to serving the public interest or \\nto regulating road traffic in the Emirate, or based on the recommendation of the DET where the \\nEstablishment commits a gross breach of its applicable legislation . \\nClassification of Establishments  \\nArticle (11)  \\nEstablishments will be classified in accordance with the standards and rules approved pursuant to the \\nrelevant resolution of the Director General, in addition to any other standards and rules required by the \\nDET in this respect. In classifying Establishments, the volume of their activities, the number and level of \\nluxury of their Tourist Vehicles, the number of their employees, and the type of services they provide \\nmust be taken into consideration.  ')],\n",
       " 'question': 'What are the functions of the DET?',\n",
       " 'answer': 'The functions of the DET include qualifying tour guides, determining tourist destinations, and exercising any other duties or powers related to achieving the objectives of the resolution.'}"
      ]
     },
     "execution_count": 69,
     "metadata": {},
     "output_type": "execute_result"
    }
   ],
   "source": [
    "\"\"\"\n",
    "For the purposes of this Resolution, the DET will have the duties and powers to:\n",
    "1. qualify  the  tour  guides  working  in  Establishments  and  issue  them  with  identification  cards,  in\n",
    "accordance with the relevant rules adopted by the DET;\n",
    "2. determine the Emirate's tourist destinations to which tourists will be transported; and provide the\n",
    "RTA and Establishments with lists of these destinations; and\n",
    "3. exercise any other duties or powers that fall within the functions of the DET under the legislation in\n",
    "force as required for the achievement of the objectives of this Resolution.\n",
    "\"\"\"\n",
    "\n",
    "rag_pipeline_with_sourcing.invoke(\"What are the functions of the DET?\")"
   ]
  },
  {
   "cell_type": "code",
   "execution_count": 70,
   "metadata": {},
   "outputs": [
    {
     "data": {
      "text/plain": [
       "{'context': [Document(metadata={'page': 12, 'source': 'dubai_law.pdf'}, page_content=' \\nExecutive Council Resolution No. (107) of 2023 Regulating the Tourist Transport Activity in the Emirate of Dubai  \\nPage 13 of 14 Schedule (2)  \\nViolations and Fines Related to Conducting the Activity  \\n \\nSN Violation  Fine (in dirhams)  \\n1 Conducting the Activity without a Permit  10,000.00  \\n2 Conducting the Activity after expiry of the Permit  2,000.00  \\n3 Failure to provide the RTA with the documents, information, or statistics \\nrelated to conducting the Activity as it deems necessary to revie w 500.00  \\n4 Failure to maintain records containing the details of the tourist trips  1,000.00  \\n5 Hindering or obstructing the work of the competent RTA employees or \\nfailure to cooperate with them  500.00  \\n6 Using Tourist Vehicles for purposes other than conducting the Activity  5,000.00  \\n7 Failure to comply with the safety standards, specifications, and \\nrequirements applicable to Tourist Vehicles  500.00  \\n8 Failure to display the name and details of the Establishment in a \\nprominent place on the interior and  exterior of a Tourist Vehicle  500.00  \\n9 Driving a Tourist Vehicle by a driver who does not hold a Permit or whose \\nPermit has expired  500.00  \\n10 Failure to enrol a Tourist Vehicle driver in the training courses prescribed \\nby the RTA  1,000.00  \\n11 Failure to install tracking devices on Tourist Vehicle s in accordance with \\nthe relevant instructions and rules adopted by the RTA  2,000.00  \\n12 Placing commercial advertisements or posters on the interior or exterior \\nof a Tourist Vehicle without first obtai ning the relevant approval of the \\nRTA 1,500.00  \\n13 Failure to observe the Tourist Vehicle routes determined by the RTA  500.00  '),\n",
       "  Document(metadata={'page': 11, 'source': 'dubai_law.pdf'}, page_content=' \\nExecutive Council Resolution No. (107) of 2023 Regulating the Tourist Transport Activity in the Emirate of Dubai  \\nPage 12 of 14 Schedule (1)  \\nFees for Conducting the Activity  \\n \\nSN Description  Fee (in dirhams)  \\n1 Issuing or renewing a Permit to conduct the Activity  4,000.00  \\n2 Variation of the details of a Permit to conduct the Activity  500.00  \\n3 Issuing a replacement for a lost or damaged Permit to conduct \\nthe Activity  500.00  \\n4 Issuing or renewing a heavy Tourist Vehicle Permit  1,500.00  \\n5 Issuing or renewing a light Tourist Vehicle Permit  700.00  \\n6 Issuing or renewing a tourist motorcycle  Permit  500.00  \\n7 Issuing or renewing a Permit to use any type of Tourist Vehicles \\nother than those set forth herein  800.00  \\n8 Issuing a replacement of a lost or damaged Tourist Vehicle \\nPermit  500.00  \\n9 Issuing or renewing a Tourist Vehicle driver’s Permit  200.00  \\n10 Issuing a replacement for a lost or damaged Tourist  Vehicle \\ndriver’s Permit  200.00  \\n11 Conducting a basic training course for a Tourist Vehicle driver  1,000.00  \\n12 Conducting  a supplementary training course for a Tourist Vehicle \\ndriver  400.00  \\n13 Conducting a re -qualification course for a Tourist Vehicle driver  400.00  \\n \\n  '),\n",
       "  Document(metadata={'page': 13, 'source': 'dubai_law.pdf'}, page_content=' \\nExecutive Council Resolution No. (107) of 2023 Regulating the Tourist Transport Activity in the Emirate of Dubai  \\nPage 14 of 14 14 Allowing the use of its Tourist Vehicle by another Establishment without \\nfirst obtaining the relevant approval of the RTA  1,500.00  \\n15 Failure to install the tourist transport plate on a Tourist Vehicle  1,000.00  \\n16 Failure to fully comply with this Resolution within the prescribed time \\nframe  3,000.00  \\n17 Failure to observe the number of Tourist Vehicles that the Establishme nt \\nmay use in conducting the Activity  2,000.00  \\n '),\n",
       "  Document(metadata={'page': 8, 'source': 'dubai_law.pdf'}, page_content=' \\nExecutive Council Resolution No. (107) of 2023 Regulating the Tourist Transport Activity in the Emirate of Dubai  \\nPage 9 of 14 Violations and Administrative Penalties  \\nArticle (16)  \\na. Without prejudice to any stricter penalty provided for in any other resolution, a person who commits \\nany of the violations set out in Schedule (2) attached to this Resolution will be punished by the fine \\nindicated opposite that violation.  \\nb. Upon repetition of the same violation within one (1) year from the date of the previous violation, \\nthe amount of the fine prescribed in the schedule referred to in paragraph (a) of this Article will be \\ndoubled. A doubled fine must not exceed fifty thousand dirhams (AED 50,000.00).  \\nc. In addition to the penalty of a fine, the RTA may take one or more of the following measures against \\na violator:  \\n1. suspending the Permit for a period not exceeding six (6) months;  \\n2. revoking the Permit and coordinating with the competent commercial licensing authority to \\ncancel the commercial licence;  \\n3. revok ing the Tourist Vehicle Permit or the Tourist Vehicle driver’s Permit; and/or  \\n4. impound ing the Tourist Vehicle for a period not exceeding six (6) months.  \\nRemedy of Violations  \\nArticle (17)  \\nIn addition to the penalties and administrative measures stipulated in Ar ticle (16) of this Resolution, a \\nviolator must remedy the violation within the time frame prescribed by the RTA in this respect, failing \\nwhich the RTA may remedy the violation using its own resources or through engaging any other entity, \\nand hold the viola tor liable for all costs incurred, in addition to administrative charges of twenty -five \\npercent (25%) of these costs.  \\nLaw Enforcement  \\nArticle (18)  \\nThe RTA Employees nominated pursuant to a resolution of the Director General will have the capacity \\nof law en forcement officers to record the acts committed in breach of the provisions of this Resolution \\nand the resolutions issued in pursuance hereof. For this purpose, they may issue the necessary violation \\nreports; and, where necessary, seek the assistance of po lice personnel.  ')],\n",
       " 'question': 'What is the fine for conducting Tourist Transport Activity without a Permit?',\n",
       " 'answer': 'The fine for conducting Tourist Transport Activity without a Permit is 10,000 dirhams.'}"
      ]
     },
     "execution_count": 70,
     "metadata": {},
     "output_type": "execute_result"
    }
   ],
   "source": [
    "# 10,000.00\n",
    "rag_pipeline_with_sourcing.invoke(\n",
    "    \"What is the fine for conducting Tourist Transport Activity without a Permit?\"\n",
    ")"
   ]
  },
  {
   "cell_type": "code",
   "execution_count": 71,
   "metadata": {},
   "outputs": [
    {
     "data": {
      "text/plain": [
       "{'context': [Document(metadata={'page': 12, 'source': 'dubai_law.pdf'}, page_content=' \\nExecutive Council Resolution No. (107) of 2023 Regulating the Tourist Transport Activity in the Emirate of Dubai  \\nPage 13 of 14 Schedule (2)  \\nViolations and Fines Related to Conducting the Activity  \\n \\nSN Violation  Fine (in dirhams)  \\n1 Conducting the Activity without a Permit  10,000.00  \\n2 Conducting the Activity after expiry of the Permit  2,000.00  \\n3 Failure to provide the RTA with the documents, information, or statistics \\nrelated to conducting the Activity as it deems necessary to revie w 500.00  \\n4 Failure to maintain records containing the details of the tourist trips  1,000.00  \\n5 Hindering or obstructing the work of the competent RTA employees or \\nfailure to cooperate with them  500.00  \\n6 Using Tourist Vehicles for purposes other than conducting the Activity  5,000.00  \\n7 Failure to comply with the safety standards, specifications, and \\nrequirements applicable to Tourist Vehicles  500.00  \\n8 Failure to display the name and details of the Establishment in a \\nprominent place on the interior and  exterior of a Tourist Vehicle  500.00  \\n9 Driving a Tourist Vehicle by a driver who does not hold a Permit or whose \\nPermit has expired  500.00  \\n10 Failure to enrol a Tourist Vehicle driver in the training courses prescribed \\nby the RTA  1,000.00  \\n11 Failure to install tracking devices on Tourist Vehicle s in accordance with \\nthe relevant instructions and rules adopted by the RTA  2,000.00  \\n12 Placing commercial advertisements or posters on the interior or exterior \\nof a Tourist Vehicle without first obtai ning the relevant approval of the \\nRTA 1,500.00  \\n13 Failure to observe the Tourist Vehicle routes determined by the RTA  500.00  '),\n",
       "  Document(metadata={'page': 11, 'source': 'dubai_law.pdf'}, page_content=' \\nExecutive Council Resolution No. (107) of 2023 Regulating the Tourist Transport Activity in the Emirate of Dubai  \\nPage 12 of 14 Schedule (1)  \\nFees for Conducting the Activity  \\n \\nSN Description  Fee (in dirhams)  \\n1 Issuing or renewing a Permit to conduct the Activity  4,000.00  \\n2 Variation of the details of a Permit to conduct the Activity  500.00  \\n3 Issuing a replacement for a lost or damaged Permit to conduct \\nthe Activity  500.00  \\n4 Issuing or renewing a heavy Tourist Vehicle Permit  1,500.00  \\n5 Issuing or renewing a light Tourist Vehicle Permit  700.00  \\n6 Issuing or renewing a tourist motorcycle  Permit  500.00  \\n7 Issuing or renewing a Permit to use any type of Tourist Vehicles \\nother than those set forth herein  800.00  \\n8 Issuing a replacement of a lost or damaged Tourist Vehicle \\nPermit  500.00  \\n9 Issuing or renewing a Tourist Vehicle driver’s Permit  200.00  \\n10 Issuing a replacement for a lost or damaged Tourist  Vehicle \\ndriver’s Permit  200.00  \\n11 Conducting a basic training course for a Tourist Vehicle driver  1,000.00  \\n12 Conducting  a supplementary training course for a Tourist Vehicle \\ndriver  400.00  \\n13 Conducting a re -qualification course for a Tourist Vehicle driver  400.00  \\n \\n  '),\n",
       "  Document(metadata={'page': 5, 'source': 'dubai_law.pdf'}, page_content=' \\nExecutive Council Resolution No. (107) of 2023 Regulating the Tourist Transport Activity in the Emirate of Dubai  \\nPage 6 of 14 6. The manager of the Establishment must not be less than twenty -one (21) years of age.  \\n7. The documents required by the RTA for issuing the Permit must be submitted.  \\n8. Any other requirements prescribed by the RTA or the DET, and approved pursuant a resolution of \\nthe Director General, must be satisfied.  \\nTerm of Permits to Co nduct the Activity  \\nArticle (8)  \\nA Permit to conduct the Activity will be valid for a period of one (1) year, renewable for the same period. \\nAn application for renewal of a Permit must be submitted within the last month prior to its expiry date. \\nThe Permit w ill be renewed in accordance with the conditions prescribed by the relevant resolution of \\nthe Director General.  \\nAssignment of Permits  \\nArticle (9)  \\nA Permit to conduct the Activity may not be assigned without first obtaining the relevant approval of \\nthe RTA . This approval will be issued in accordance with the conditions and rules approved by the \\nDirector General in this respect.  \\nSuspension of Permit Issuance  \\nArticle (10)  \\nThe RTA may suspend the issuance of a Permit for any reason related to serving the public interest or \\nto regulating road traffic in the Emirate, or based on the recommendation of the DET where the \\nEstablishment commits a gross breach of its applicable legislation . \\nClassification of Establishments  \\nArticle (11)  \\nEstablishments will be classified in accordance with the standards and rules approved pursuant to the \\nrelevant resolution of the Director General, in addition to any other standards and rules required by the \\nDET in this respect. In classifying Establishments, the volume of their activities, the number and level of \\nluxury of their Tourist Vehicles, the number of their employees, and the type of services they provide \\nmust be taken into consideration.  '),\n",
       "  Document(metadata={'page': 13, 'source': 'dubai_law.pdf'}, page_content=' \\nExecutive Council Resolution No. (107) of 2023 Regulating the Tourist Transport Activity in the Emirate of Dubai  \\nPage 14 of 14 14 Allowing the use of its Tourist Vehicle by another Establishment without \\nfirst obtaining the relevant approval of the RTA  1,500.00  \\n15 Failure to install the tourist transport plate on a Tourist Vehicle  1,000.00  \\n16 Failure to fully comply with this Resolution within the prescribed time \\nframe  3,000.00  \\n17 Failure to observe the number of Tourist Vehicles that the Establishme nt \\nmay use in conducting the Activity  2,000.00  \\n ')],\n",
       " 'question': 'What is the fine for conducting Tourist Transport Activity after expiry of the Permit?',\n",
       " 'answer': 'The fine for conducting Tourist Transport Activity after expiry of the Permit is 2,000.00 dirhams.'}"
      ]
     },
     "execution_count": 71,
     "metadata": {},
     "output_type": "execute_result"
    }
   ],
   "source": [
    "# 2,000\n",
    "rag_pipeline_with_sourcing.invoke(\n",
    "    \"What is the fine for conducting Tourist Transport Activity after expiry of the Permit?\"\n",
    ")"
   ]
  }
 ],
 "metadata": {
  "kernelspec": {
   "display_name": "lang",
   "language": "python",
   "name": "python3"
  },
  "language_info": {
   "codemirror_mode": {
    "name": "ipython",
    "version": 3
   },
   "file_extension": ".py",
   "mimetype": "text/x-python",
   "name": "python",
   "nbconvert_exporter": "python",
   "pygments_lexer": "ipython3",
   "version": "3.11.9"
  }
 },
 "nbformat": 4,
 "nbformat_minor": 2
}
