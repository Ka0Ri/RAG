{
 "cells": [
  {
   "cell_type": "code",
   "execution_count": 1,
   "metadata": {},
   "outputs": [],
   "source": [
    "import random\n",
    "\n",
    "import torch\n",
    "from datasets import Dataset, load_dataset\n",
    "from transformers import (\n",
    "    AutoModelForSequenceClassification,\n",
    "    AutoTokenizer,\n",
    "    TrainingArguments,\n",
    ")\n",
    "from trl import RewardTrainer\n",
    "     "
   ]
  },
  {
   "cell_type": "code",
   "execution_count": 2,
   "metadata": {},
   "outputs": [],
   "source": [
    "random.seed(42)"
   ]
  },
  {
   "cell_type": "code",
   "execution_count": 3,
   "metadata": {},
   "outputs": [
    {
     "data": {
      "application/vnd.jupyter.widget-view+json": {
       "model_id": "77da39a54e5649b7b45fbab5ec8a4e35",
       "version_major": 2,
       "version_minor": 0
      },
      "text/plain": [
       "Downloading readme:   0%|          | 0.00/1.03k [00:00<?, ?B/s]"
      ]
     },
     "metadata": {},
     "output_type": "display_data"
    },
    {
     "data": {
      "application/vnd.jupyter.widget-view+json": {
       "model_id": "0e2ee3bb131b4033aea23d11dadddae5",
       "version_major": 2,
       "version_minor": 0
      },
      "text/plain": [
       "Downloading data:   0%|          | 0.00/6.60M [00:00<?, ?B/s]"
      ]
     },
     "metadata": {},
     "output_type": "display_data"
    },
    {
     "data": {
      "application/vnd.jupyter.widget-view+json": {
       "model_id": "ffbb5885464140109d7289f507e0c74d",
       "version_major": 2,
       "version_minor": 0
      },
      "text/plain": [
       "Generating train split:   0%|          | 0/7401 [00:00<?, ? examples/s]"
      ]
     },
     "metadata": {},
     "output_type": "display_data"
    }
   ],
   "source": [
    "\n",
    "hf_dataset = load_dataset(\n",
    "    \"argilla/dolly-curated-comparison-falcon-7b-instruct\", split=\"train\"\n",
    ")"
   ]
  },
  {
   "cell_type": "code",
   "execution_count": 4,
   "metadata": {},
   "outputs": [
    {
     "data": {
      "text/html": [
       "<div>\n",
       "<style scoped>\n",
       "    .dataframe tbody tr th:only-of-type {\n",
       "        vertical-align: middle;\n",
       "    }\n",
       "\n",
       "    .dataframe tbody tr th {\n",
       "        vertical-align: top;\n",
       "    }\n",
       "\n",
       "    .dataframe thead th {\n",
       "        text-align: right;\n",
       "    }\n",
       "</style>\n",
       "<table border=\"1\" class=\"dataframe\">\n",
       "  <thead>\n",
       "    <tr style=\"text-align: right;\">\n",
       "      <th></th>\n",
       "      <th>prompt</th>\n",
       "      <th>response-1</th>\n",
       "      <th>response-2</th>\n",
       "      <th>category</th>\n",
       "      <th>original_response</th>\n",
       "      <th>external_id</th>\n",
       "    </tr>\n",
       "  </thead>\n",
       "  <tbody>\n",
       "    <tr>\n",
       "      <th>0</th>\n",
       "      <td>What is Depreciation</td>\n",
       "      <td>What is Depreciation – 10 Important Facts to K...</td>\n",
       "      <td>What is Depreciation on a Car?\\nDepreciation i...</td>\n",
       "      <td>open_qa</td>\n",
       "      <td>Depreciation is the drop in value of an asset ...</td>\n",
       "      <td>518</td>\n",
       "    </tr>\n",
       "    <tr>\n",
       "      <th>1</th>\n",
       "      <td>What do you know about the city of Aberdeen in...</td>\n",
       "      <td>Aberdeen, the city in which I've lived for the...</td>\n",
       "      <td>As an AI language model, I don't have personal...</td>\n",
       "      <td>open_qa</td>\n",
       "      <td>Aberdeen is a city located in the North East o...</td>\n",
       "      <td>351</td>\n",
       "    </tr>\n",
       "    <tr>\n",
       "      <th>2</th>\n",
       "      <td>Describe thunderstorm season in the United Sta...</td>\n",
       "      <td>Describe thunderstorm season in the United Sta...</td>\n",
       "      <td>Describe thunderstorm season in the United Sta...</td>\n",
       "      <td>information_extraction</td>\n",
       "      <td>Thunderstorm season in the United States and C...</td>\n",
       "      <td>10567</td>\n",
       "    </tr>\n",
       "    <tr>\n",
       "      <th>3</th>\n",
       "      <td>When did Peloton IPO?\\nOn September 26, 2019, ...</td>\n",
       "      <td>When did Peloton IPO?\\nPeloton launched its in...</td>\n",
       "      <td>When did Peloton IPO?\\nPeloton IPO'd on May 26...</td>\n",
       "      <td>closed_qa</td>\n",
       "      <td>Peloton became a public company via an initial...</td>\n",
       "      <td>12412</td>\n",
       "    </tr>\n",
       "    <tr>\n",
       "      <th>4</th>\n",
       "      <td>What is the best way to answer an interview qu...</td>\n",
       "      <td>The best way to answer an interview question m...</td>\n",
       "      <td>Some of the best ways to answer an interview q...</td>\n",
       "      <td>creative_writing</td>\n",
       "      <td>The first recommended step is to ask clarifyin...</td>\n",
       "      <td>2521</td>\n",
       "    </tr>\n",
       "    <tr>\n",
       "      <th>...</th>\n",
       "      <td>...</td>\n",
       "      <td>...</td>\n",
       "      <td>...</td>\n",
       "      <td>...</td>\n",
       "      <td>...</td>\n",
       "      <td>...</td>\n",
       "    </tr>\n",
       "    <tr>\n",
       "      <th>7396</th>\n",
       "      <td>How do i accept the change</td>\n",
       "      <td>How do i accept the change in my life\\nAccepti...</td>\n",
       "      <td>I's a great opportunity to improve. The only t...</td>\n",
       "      <td>brainstorming</td>\n",
       "      <td>Embrace the change and see the difference</td>\n",
       "      <td>15010</td>\n",
       "    </tr>\n",
       "    <tr>\n",
       "      <th>7397</th>\n",
       "      <td>Extract the teams that the footballer Sócrates...</td>\n",
       "      <td>Extract the teams that the footballer Sócrates...</td>\n",
       "      <td>Extract the teams that the footballer Sócrates...</td>\n",
       "      <td>information_extraction</td>\n",
       "      <td>Brazil, Botafogo-SP, Corinthians, Fiorentina</td>\n",
       "      <td>9970</td>\n",
       "    </tr>\n",
       "    <tr>\n",
       "      <th>7398</th>\n",
       "      <td>Without quoting directly from the text give me...</td>\n",
       "      <td>Without quoting directly from the text give me...</td>\n",
       "      <td>Without quoting directly from the text give me...</td>\n",
       "      <td>summarization</td>\n",
       "      <td>Brendon Small is a  stand-up comedian, Creator...</td>\n",
       "      <td>14205</td>\n",
       "    </tr>\n",
       "    <tr>\n",
       "      <th>7399</th>\n",
       "      <td>Is Killing is Sin ? Is it ture</td>\n",
       "      <td>Is Killing is Sin ? Is it ture?\\nKilling can b...</td>\n",
       "      <td>Is Killing is Sin ? Is it ture?\\nKilling is no...</td>\n",
       "      <td>brainstorming</td>\n",
       "      <td>Killing a human being should not be sin becaus...</td>\n",
       "      <td>11253</td>\n",
       "    </tr>\n",
       "    <tr>\n",
       "      <th>7400</th>\n",
       "      <td>Who was Otto von Bismarck?\\nOtto, Prince of Bi...</td>\n",
       "      <td>Who was Otto von Bismarck?\\nOtto von Bismarck ...</td>\n",
       "      <td>Who was Otto von Bismarck?\\nOtto von Bismarck ...</td>\n",
       "      <td>information_extraction</td>\n",
       "      <td>Otto von Bismarck was a Prussian and German so...</td>\n",
       "      <td>12872</td>\n",
       "    </tr>\n",
       "  </tbody>\n",
       "</table>\n",
       "<p>7401 rows × 6 columns</p>\n",
       "</div>"
      ],
      "text/plain": [
       "                                                 prompt  \\\n",
       "0                                  What is Depreciation   \n",
       "1     What do you know about the city of Aberdeen in...   \n",
       "2     Describe thunderstorm season in the United Sta...   \n",
       "3     When did Peloton IPO?\\nOn September 26, 2019, ...   \n",
       "4     What is the best way to answer an interview qu...   \n",
       "...                                                 ...   \n",
       "7396                         How do i accept the change   \n",
       "7397  Extract the teams that the footballer Sócrates...   \n",
       "7398  Without quoting directly from the text give me...   \n",
       "7399                     Is Killing is Sin ? Is it ture   \n",
       "7400  Who was Otto von Bismarck?\\nOtto, Prince of Bi...   \n",
       "\n",
       "                                             response-1  \\\n",
       "0     What is Depreciation – 10 Important Facts to K...   \n",
       "1     Aberdeen, the city in which I've lived for the...   \n",
       "2     Describe thunderstorm season in the United Sta...   \n",
       "3     When did Peloton IPO?\\nPeloton launched its in...   \n",
       "4     The best way to answer an interview question m...   \n",
       "...                                                 ...   \n",
       "7396  How do i accept the change in my life\\nAccepti...   \n",
       "7397  Extract the teams that the footballer Sócrates...   \n",
       "7398  Without quoting directly from the text give me...   \n",
       "7399  Is Killing is Sin ? Is it ture?\\nKilling can b...   \n",
       "7400  Who was Otto von Bismarck?\\nOtto von Bismarck ...   \n",
       "\n",
       "                                             response-2  \\\n",
       "0     What is Depreciation on a Car?\\nDepreciation i...   \n",
       "1     As an AI language model, I don't have personal...   \n",
       "2     Describe thunderstorm season in the United Sta...   \n",
       "3     When did Peloton IPO?\\nPeloton IPO'd on May 26...   \n",
       "4     Some of the best ways to answer an interview q...   \n",
       "...                                                 ...   \n",
       "7396  I's a great opportunity to improve. The only t...   \n",
       "7397  Extract the teams that the footballer Sócrates...   \n",
       "7398  Without quoting directly from the text give me...   \n",
       "7399  Is Killing is Sin ? Is it ture?\\nKilling is no...   \n",
       "7400  Who was Otto von Bismarck?\\nOtto von Bismarck ...   \n",
       "\n",
       "                    category  \\\n",
       "0                    open_qa   \n",
       "1                    open_qa   \n",
       "2     information_extraction   \n",
       "3                  closed_qa   \n",
       "4           creative_writing   \n",
       "...                      ...   \n",
       "7396           brainstorming   \n",
       "7397  information_extraction   \n",
       "7398           summarization   \n",
       "7399           brainstorming   \n",
       "7400  information_extraction   \n",
       "\n",
       "                                      original_response  external_id  \n",
       "0     Depreciation is the drop in value of an asset ...          518  \n",
       "1     Aberdeen is a city located in the North East o...          351  \n",
       "2     Thunderstorm season in the United States and C...        10567  \n",
       "3     Peloton became a public company via an initial...        12412  \n",
       "4     The first recommended step is to ask clarifyin...         2521  \n",
       "...                                                 ...          ...  \n",
       "7396          Embrace the change and see the difference        15010  \n",
       "7397       Brazil, Botafogo-SP, Corinthians, Fiorentina         9970  \n",
       "7398  Brendon Small is a  stand-up comedian, Creator...        14205  \n",
       "7399  Killing a human being should not be sin becaus...        11253  \n",
       "7400  Otto von Bismarck was a Prussian and German so...        12872  \n",
       "\n",
       "[7401 rows x 6 columns]"
      ]
     },
     "execution_count": 4,
     "metadata": {},
     "output_type": "execute_result"
    }
   ],
   "source": [
    "df = hf_dataset.to_pandas()\n",
    "df"
   ]
  },
  {
   "cell_type": "code",
   "execution_count": 5,
   "metadata": {},
   "outputs": [],
   "source": [
    "# List of response options\n",
    "responses = [\"response-1\", \"response-2\"]\n",
    "\n",
    "\n",
    "def get_chosen_and_not_chosen(responses):\n",
    "    \"\"\"\n",
    "    Given a list of responses, randomly selects one and returns it along with the non-selected response.\n",
    "\n",
    "    Args:\n",
    "        responses (list): List of response options.\n",
    "\n",
    "    Returns:\n",
    "        tuple: A tuple containing the chosen response, non-chosen response, and the index of the chosen response.\n",
    "    \"\"\"\n",
    "    chosen_id = random.randint(0, len(responses) - 1)\n",
    "    not_chosen_id = 1 - chosen_id\n",
    "\n",
    "    return responses[chosen_id], responses[not_chosen_id], chosen_id\n",
    "\n",
    "\n",
    "# List to store rows of data\n",
    "rows = []\n",
    "\n",
    "# Iterate through the hf_dataset\n",
    "for record in hf_dataset:\n",
    "    chosen, not_chosen, chosen_id = get_chosen_and_not_chosen(responses)\n",
    "    chosen_from_falcon, _, _ = get_chosen_and_not_chosen(responses)\n",
    "\n",
    "    # Append a new row to the 'rows' list\n",
    "    rows.append(\n",
    "        {\n",
    "            \"instruction\": record[\"prompt\"],\n",
    "            \"chosen_response\": record[chosen],\n",
    "            \"rejected_response\": record[not_chosen],\n",
    "        }\n",
    "    )"
   ]
  },
  {
   "cell_type": "code",
   "execution_count": 6,
   "metadata": {},
   "outputs": [
    {
     "data": {
      "text/html": [
       "<div>\n",
       "<style scoped>\n",
       "    .dataframe tbody tr th:only-of-type {\n",
       "        vertical-align: middle;\n",
       "    }\n",
       "\n",
       "    .dataframe tbody tr th {\n",
       "        vertical-align: top;\n",
       "    }\n",
       "\n",
       "    .dataframe thead th {\n",
       "        text-align: right;\n",
       "    }\n",
       "</style>\n",
       "<table border=\"1\" class=\"dataframe\">\n",
       "  <thead>\n",
       "    <tr style=\"text-align: right;\">\n",
       "      <th></th>\n",
       "      <th>instruction</th>\n",
       "      <th>chosen_response</th>\n",
       "      <th>rejected_response</th>\n",
       "    </tr>\n",
       "  </thead>\n",
       "  <tbody>\n",
       "    <tr>\n",
       "      <th>0</th>\n",
       "      <td>What is Depreciation</td>\n",
       "      <td>What is Depreciation – 10 Important Facts to K...</td>\n",
       "      <td>What is Depreciation on a Car?\\nDepreciation i...</td>\n",
       "    </tr>\n",
       "    <tr>\n",
       "      <th>1</th>\n",
       "      <td>What do you know about the city of Aberdeen in...</td>\n",
       "      <td>As an AI language model, I don't have personal...</td>\n",
       "      <td>Aberdeen, the city in which I've lived for the...</td>\n",
       "    </tr>\n",
       "    <tr>\n",
       "      <th>2</th>\n",
       "      <td>Describe thunderstorm season in the United Sta...</td>\n",
       "      <td>Describe thunderstorm season in the United Sta...</td>\n",
       "      <td>Describe thunderstorm season in the United Sta...</td>\n",
       "    </tr>\n",
       "    <tr>\n",
       "      <th>3</th>\n",
       "      <td>When did Peloton IPO?\\nOn September 26, 2019, ...</td>\n",
       "      <td>When did Peloton IPO?\\nPeloton launched its in...</td>\n",
       "      <td>When did Peloton IPO?\\nPeloton IPO'd on May 26...</td>\n",
       "    </tr>\n",
       "    <tr>\n",
       "      <th>4</th>\n",
       "      <td>What is the best way to answer an interview qu...</td>\n",
       "      <td>Some of the best ways to answer an interview q...</td>\n",
       "      <td>The best way to answer an interview question m...</td>\n",
       "    </tr>\n",
       "    <tr>\n",
       "      <th>...</th>\n",
       "      <td>...</td>\n",
       "      <td>...</td>\n",
       "      <td>...</td>\n",
       "    </tr>\n",
       "    <tr>\n",
       "      <th>7396</th>\n",
       "      <td>How do i accept the change</td>\n",
       "      <td>I's a great opportunity to improve. The only t...</td>\n",
       "      <td>How do i accept the change in my life\\nAccepti...</td>\n",
       "    </tr>\n",
       "    <tr>\n",
       "      <th>7397</th>\n",
       "      <td>Extract the teams that the footballer Sócrates...</td>\n",
       "      <td>Extract the teams that the footballer Sócrates...</td>\n",
       "      <td>Extract the teams that the footballer Sócrates...</td>\n",
       "    </tr>\n",
       "    <tr>\n",
       "      <th>7398</th>\n",
       "      <td>Without quoting directly from the text give me...</td>\n",
       "      <td>Without quoting directly from the text give me...</td>\n",
       "      <td>Without quoting directly from the text give me...</td>\n",
       "    </tr>\n",
       "    <tr>\n",
       "      <th>7399</th>\n",
       "      <td>Is Killing is Sin ? Is it ture</td>\n",
       "      <td>Is Killing is Sin ? Is it ture?\\nKilling can b...</td>\n",
       "      <td>Is Killing is Sin ? Is it ture?\\nKilling is no...</td>\n",
       "    </tr>\n",
       "    <tr>\n",
       "      <th>7400</th>\n",
       "      <td>Who was Otto von Bismarck?\\nOtto, Prince of Bi...</td>\n",
       "      <td>Who was Otto von Bismarck?\\nOtto von Bismarck ...</td>\n",
       "      <td>Who was Otto von Bismarck?\\nOtto von Bismarck ...</td>\n",
       "    </tr>\n",
       "  </tbody>\n",
       "</table>\n",
       "<p>7401 rows × 3 columns</p>\n",
       "</div>"
      ],
      "text/plain": [
       "                                            instruction  \\\n",
       "0                                  What is Depreciation   \n",
       "1     What do you know about the city of Aberdeen in...   \n",
       "2     Describe thunderstorm season in the United Sta...   \n",
       "3     When did Peloton IPO?\\nOn September 26, 2019, ...   \n",
       "4     What is the best way to answer an interview qu...   \n",
       "...                                                 ...   \n",
       "7396                         How do i accept the change   \n",
       "7397  Extract the teams that the footballer Sócrates...   \n",
       "7398  Without quoting directly from the text give me...   \n",
       "7399                     Is Killing is Sin ? Is it ture   \n",
       "7400  Who was Otto von Bismarck?\\nOtto, Prince of Bi...   \n",
       "\n",
       "                                        chosen_response  \\\n",
       "0     What is Depreciation – 10 Important Facts to K...   \n",
       "1     As an AI language model, I don't have personal...   \n",
       "2     Describe thunderstorm season in the United Sta...   \n",
       "3     When did Peloton IPO?\\nPeloton launched its in...   \n",
       "4     Some of the best ways to answer an interview q...   \n",
       "...                                                 ...   \n",
       "7396  I's a great opportunity to improve. The only t...   \n",
       "7397  Extract the teams that the footballer Sócrates...   \n",
       "7398  Without quoting directly from the text give me...   \n",
       "7399  Is Killing is Sin ? Is it ture?\\nKilling can b...   \n",
       "7400  Who was Otto von Bismarck?\\nOtto von Bismarck ...   \n",
       "\n",
       "                                      rejected_response  \n",
       "0     What is Depreciation on a Car?\\nDepreciation i...  \n",
       "1     Aberdeen, the city in which I've lived for the...  \n",
       "2     Describe thunderstorm season in the United Sta...  \n",
       "3     When did Peloton IPO?\\nPeloton IPO'd on May 26...  \n",
       "4     The best way to answer an interview question m...  \n",
       "...                                                 ...  \n",
       "7396  How do i accept the change in my life\\nAccepti...  \n",
       "7397  Extract the teams that the footballer Sócrates...  \n",
       "7398  Without quoting directly from the text give me...  \n",
       "7399  Is Killing is Sin ? Is it ture?\\nKilling is no...  \n",
       "7400  Who was Otto von Bismarck?\\nOtto von Bismarck ...  \n",
       "\n",
       "[7401 rows x 3 columns]"
      ]
     },
     "execution_count": 6,
     "metadata": {},
     "output_type": "execute_result"
    }
   ],
   "source": [
    "prepared_dataset = Dataset.from_list(rows)\n",
    "prepared_dataset.to_pandas()"
   ]
  },
  {
   "cell_type": "code",
   "execution_count": 7,
   "metadata": {},
   "outputs": [
    {
     "data": {
      "text/plain": [
       "Dataset({\n",
       "    features: ['instruction', 'chosen_response', 'rejected_response'],\n",
       "    num_rows: 7401\n",
       "})"
      ]
     },
     "execution_count": 7,
     "metadata": {},
     "output_type": "execute_result"
    }
   ],
   "source": [
    "prepared_dataset"
   ]
  },
  {
   "cell_type": "code",
   "execution_count": 8,
   "metadata": {},
   "outputs": [],
   "source": [
    "prepared_dataset_mini = prepared_dataset.select(range(1000))"
   ]
  },
  {
   "cell_type": "code",
   "execution_count": 9,
   "metadata": {},
   "outputs": [
    {
     "data": {
      "text/plain": [
       "Dataset({\n",
       "    features: ['instruction', 'chosen_response', 'rejected_response'],\n",
       "    num_rows: 1000\n",
       "})"
      ]
     },
     "execution_count": 9,
     "metadata": {},
     "output_type": "execute_result"
    }
   ],
   "source": [
    "prepared_dataset_mini"
   ]
  },
  {
   "cell_type": "code",
   "execution_count": 10,
   "metadata": {},
   "outputs": [
    {
     "data": {
      "application/vnd.jupyter.widget-view+json": {
       "model_id": "868258defcba4a549d1bd633a140e060",
       "version_major": 2,
       "version_minor": 0
      },
      "text/plain": [
       "tokenizer_config.json:   0%|          | 0.00/685 [00:00<?, ?B/s]"
      ]
     },
     "metadata": {},
     "output_type": "display_data"
    },
    {
     "name": "stderr",
     "output_type": "stream",
     "text": [
      "c:\\Users\\user\\anaconda3\\envs\\lang\\Lib\\site-packages\\huggingface_hub\\file_download.py:157: UserWarning: `huggingface_hub` cache-system uses symlinks by default to efficiently store duplicated files but your machine does not support them in C:\\Users\\user\\.cache\\huggingface\\hub\\models--facebook--opt-350m. Caching files will still work but in a degraded version that might require more space on your disk. This warning can be disabled by setting the `HF_HUB_DISABLE_SYMLINKS_WARNING` environment variable. For more details, see https://huggingface.co/docs/huggingface_hub/how-to-cache#limitations.\n",
      "To support symlinks on Windows, you either need to activate Developer Mode or to run Python as an administrator. In order to see activate developer mode, see this article: https://docs.microsoft.com/en-us/windows/apps/get-started/enable-your-device-for-development\n",
      "  warnings.warn(message)\n"
     ]
    },
    {
     "data": {
      "application/vnd.jupyter.widget-view+json": {
       "model_id": "7d3cd61b4daa4523b4f62b71cbf11858",
       "version_major": 2,
       "version_minor": 0
      },
      "text/plain": [
       "config.json:   0%|          | 0.00/644 [00:00<?, ?B/s]"
      ]
     },
     "metadata": {},
     "output_type": "display_data"
    },
    {
     "data": {
      "application/vnd.jupyter.widget-view+json": {
       "model_id": "31ac60ee2f4d41c6810fdaf47e5cd77f",
       "version_major": 2,
       "version_minor": 0
      },
      "text/plain": [
       "vocab.json:   0%|          | 0.00/899k [00:00<?, ?B/s]"
      ]
     },
     "metadata": {},
     "output_type": "display_data"
    },
    {
     "data": {
      "application/vnd.jupyter.widget-view+json": {
       "model_id": "57142206031d417db0bdf0dbec103db4",
       "version_major": 2,
       "version_minor": 0
      },
      "text/plain": [
       "merges.txt:   0%|          | 0.00/456k [00:00<?, ?B/s]"
      ]
     },
     "metadata": {},
     "output_type": "display_data"
    },
    {
     "data": {
      "application/vnd.jupyter.widget-view+json": {
       "model_id": "a13a092b6c964c87bdde1b44b5da5fb7",
       "version_major": 2,
       "version_minor": 0
      },
      "text/plain": [
       "special_tokens_map.json:   0%|          | 0.00/441 [00:00<?, ?B/s]"
      ]
     },
     "metadata": {},
     "output_type": "display_data"
    },
    {
     "name": "stderr",
     "output_type": "stream",
     "text": [
      "c:\\Users\\user\\anaconda3\\envs\\lang\\Lib\\site-packages\\transformers\\tokenization_utils_base.py:1601: FutureWarning: `clean_up_tokenization_spaces` was not set. It will be set to `True` by default. This behavior will be deprecated in transformers v4.45, and will be then set to `False` by default. For more details check this issue: https://github.com/huggingface/transformers/issues/31884\n",
      "  warnings.warn(\n"
     ]
    },
    {
     "data": {
      "application/vnd.jupyter.widget-view+json": {
       "model_id": "56d257f222ce4c8d9598a02127ca3bbc",
       "version_major": 2,
       "version_minor": 0
      },
      "text/plain": [
       "pytorch_model.bin:   0%|          | 0.00/663M [00:00<?, ?B/s]"
      ]
     },
     "metadata": {},
     "output_type": "display_data"
    },
    {
     "name": "stderr",
     "output_type": "stream",
     "text": [
      "Some weights of OPTForSequenceClassification were not initialized from the model checkpoint at facebook/opt-350m and are newly initialized: ['score.weight']\n",
      "You should probably TRAIN this model on a down-stream task to be able to use it for predictions and inference.\n"
     ]
    }
   ],
   "source": [
    "from transformers import (\n",
    "    AutoModelForSequenceClassification,\n",
    "    BitsAndBytesConfig,\n",
    "    AutoTokenizer,\n",
    ")\n",
    "\n",
    "# Load tokenizer for the \"facebook/opt-350m\" model\n",
    "tokenizer = AutoTokenizer.from_pretrained(\"facebook/opt-350m\")\n",
    "\n",
    "# Prepare quantization parameters\n",
    "quantization_config = BitsAndBytesConfig(load_in_8bit=False, load_in_4bit=True)\n",
    "\n",
    "# Initialize the sequence classification model\n",
    "model = AutoModelForSequenceClassification.from_pretrained(\n",
    "    \"facebook/opt-350m\",\n",
    "    quantization_config=quantization_config,  # Apply the quantization configuration\n",
    "    device_map={\"\": 0},  # Assign the model to device 0\n",
    "    trust_remote_code=True,  # Trust remote code\n",
    "    num_labels=1,  # Set the number of labels for classification (in this case, 1)\n",
    ")\n",
    "\n",
    "# Disable cache in model configuration\n",
    "model.config.use_cache = False"
   ]
  },
  {
   "cell_type": "code",
   "execution_count": 11,
   "metadata": {},
   "outputs": [
    {
     "data": {
      "application/vnd.jupyter.widget-view+json": {
       "model_id": "ed93b1b775c64b51a73835bab020d46e",
       "version_major": 2,
       "version_minor": 0
      },
      "text/plain": [
       "Map:   0%|          | 0/1000 [00:00<?, ? examples/s]"
      ]
     },
     "metadata": {},
     "output_type": "display_data"
    }
   ],
   "source": [
    "# If the tokenizer's pad_token is not set, use eos_token as pad_token and update model's pad_token_id\n",
    "if tokenizer.pad_token is None:\n",
    "    tokenizer.pad_token = tokenizer.eos_token\n",
    "    model.config.pad_token_id = model.config.eos_token_id\n",
    "\n",
    "\n",
    "# Define a formatting function for processing examples\n",
    "def formatting_func(examples):\n",
    "    kwargs = {\n",
    "        \"padding\": \"max_length\",\n",
    "        \"truncation\": True,\n",
    "        \"max_length\": 512,\n",
    "        \"return_tensors\": \"pt\",\n",
    "    }\n",
    "\n",
    "    # Prepend the instruction and a line break to the chosen_response and rejected_response fields.\n",
    "    prompt_plus_chosen_response = (\n",
    "        examples[\"instruction\"] + \"\\n\" + examples[\"chosen_response\"]\n",
    "    )\n",
    "    prompt_plus_rejected_response = (\n",
    "        examples[\"instruction\"] + \"\\n\" + examples[\"rejected_response\"]\n",
    "    )\n",
    "\n",
    "    # Tokenize the modified fields.\n",
    "    tokens_chosen = tokenizer.encode_plus(prompt_plus_chosen_response, **kwargs)\n",
    "    tokens_rejected = tokenizer.encode_plus(prompt_plus_rejected_response, **kwargs)\n",
    "\n",
    "    return {\n",
    "        \"input_ids_chosen\": tokens_chosen[\"input_ids\"][0],\n",
    "        \"attention_mask_chosen\": tokens_chosen[\"attention_mask\"][0],\n",
    "        \"input_ids_rejected\": tokens_rejected[\"input_ids\"][0],\n",
    "        \"attention_mask_rejected\": tokens_rejected[\"attention_mask\"][0],\n",
    "    }\n",
    "\n",
    "\n",
    "# Apply the formatting function to the prepared dataset\n",
    "formatted_dataset = prepared_dataset_mini.map(formatting_func)\n",
    "\n",
    "# Split the formatted dataset into training and testing sets\n",
    "formatted_dataset = formatted_dataset.train_test_split()"
   ]
  },
  {
   "cell_type": "code",
   "execution_count": 13,
   "metadata": {},
   "outputs": [
    {
     "name": "stderr",
     "output_type": "stream",
     "text": [
      "max_steps is given, it will override any value given in num_train_epochs\n"
     ]
    },
    {
     "data": {
      "application/vnd.jupyter.widget-view+json": {
       "model_id": "ed1f314b1b17455a8362a63e3240bef8",
       "version_major": 2,
       "version_minor": 0
      },
      "text/plain": [
       "  0%|          | 0/100 [00:00<?, ?it/s]"
      ]
     },
     "metadata": {},
     "output_type": "display_data"
    },
    {
     "name": "stderr",
     "output_type": "stream",
     "text": [
      "You're using a GPT2TokenizerFast tokenizer. Please note that with a fast tokenizer, using the `__call__` method is faster than using a method to encode the text followed by a call to the `pad` method to get a padded encoding.\n",
      "c:\\Users\\user\\anaconda3\\envs\\lang\\Lib\\site-packages\\transformers\\tokenization_utils_base.py:2888: UserWarning: `max_length` is ignored when `padding`=`True` and there is no truncation strategy. To pad to max length, use `padding='max_length'`.\n",
      "  warnings.warn(\n",
      "Could not estimate the number of tokens of the input, floating-point operations will not be computed\n"
     ]
    },
    {
     "name": "stdout",
     "output_type": "stream",
     "text": [
      "{'loss': 0.9291, 'grad_norm': 13.680692672729492, 'learning_rate': 9e-05, 'epoch': 0.05}\n"
     ]
    },
    {
     "data": {
      "text/html": [
       "<pre style=\"white-space:pre;overflow-x:auto;line-height:normal;font-family:Menlo,'DejaVu Sans Mono',consolas,'Courier New',monospace\">┏━━━━━━━━━━━━━━━━━━━━━━━━━━━━━━━━━━━━━━━━━━━━━━━┳━━━━━━━━━━━━━━━━━━━━━━━━━━━━━━━━━━━━━━━━━━━━━━┳━━━━━━━━━━━━━━━━━━┓\n",
       "┃<span style=\"font-weight: bold\"> chosen_text                                   </span>┃<span style=\"font-weight: bold\"> rejected_text                                </span>┃<span style=\"font-weight: bold\"> logits           </span>┃\n",
       "┡━━━━━━━━━━━━━━━━━━━━━━━━━━━━━━━━━━━━━━━━━━━━━━━╇━━━━━━━━━━━━━━━━━━━━━━━━━━━━━━━━━━━━━━━━━━━━━━╇━━━━━━━━━━━━━━━━━━┩\n",
       "│ Which is bigger, a lion or a house cat?       │ Which is bigger, a lion or a house cat?      │ [0.4486, 0.5514] │\n",
       "│ A lion is bigger as it is a species of big    │ A house cat is bigger than a lion. The       │                  │\n",
       "│ cats while a house cat is a type of           │ average male lion can weigh about            │                  │\n",
       "│ domesticated animal.                          │ 1,300-2,000 lbs, while the average house cat │                  │\n",
       "│                                               │ can range from 8-15 lbs depending on the     │                  │\n",
       "│                                               │ breed.                                       │                  │\n",
       "├───────────────────────────────────────────────┼──────────────────────────────────────────────┼──────────────────┤\n",
       "│ Why do we feel lighter in weight in a         │ Why do we feel lighter in weight in a        │ [0.1968, 0.8032] │\n",
       "│ swimming pool?                                │ swimming pool?                               │                  │\n",
       "│ The weight you feel lighter in a swimming     │ In a swimming pool, you might feel lighter   │                  │\n",
       "│ pool due to buoyancy. When you enter a        │ due to buoyancy effects. When you push up    │                  │\n",
       "│ swimming pool, the water surrounding you      │ against the bottom of a pool, the water is   │                  │\n",
       "│ pushes you up against the surface of the      │ forced to move upwards and thus creates      │                  │\n",
       "│ pool. This force is equal to your weight, so  │ upward forces on your body. This upward      │                  │\n",
       "│ you feel heavier in the water. However, if    │ force can make you feel lighter, as it takes │                  │\n",
       "│ you float on the surface of the water, you    │ some pressure off your feet and back, and    │                  │\n",
       "│ can actually feel lighter. This is why you    │ can make you feel like you're swimming more  │                  │\n",
       "│ can breathe more easily in water compared to  │ easily.                                      │                  │\n",
       "│ out of water. Additionally, when you dive     │                                              │                  │\n",
       "│ underwater, the pressure on your body is      │                                              │                  │\n",
       "│ increased, which causes you to inhale more    │                                              │                  │\n",
       "│ air and become more buoyant, resulting in a   │                                              │                  │\n",
       "│ feeling of weightlessness.                    │                                              │                  │\n",
       "├───────────────────────────────────────────────┼──────────────────────────────────────────────┼──────────────────┤\n",
       "│ If someone is tall, what sport should they    │ If someone is tall, what sport should they   │ [0.547, 0.453]   │\n",
       "│ try?                                          │ try?                                         │                  │\n",
       "│ If someone is tall, they may have a natural   │ It really depends on the person's            │                  │\n",
       "│ advantage in sports like basketball,          │ preferences, but generally basketball and    │                  │\n",
       "│ volleyball, and swimming. However, there are  │ volleyball are good choices for tall         │                  │\n",
       "│ many other sports that can be beneficial      │ individuals. Other sports that could be      │                  │\n",
       "│ based on their height, such as tennis or      │ suitable are swimming, soccer, and tennis.   │                  │\n",
       "│ gymnastics.                                   │ It's also important to remember that height  │                  │\n",
       "│                                               │ does not necessarily define someone's        │                  │\n",
       "│                                               │ athletic abilities and there are many        │                  │\n",
       "│                                               │ successful individuals in various sports     │                  │\n",
       "│                                               │ regardless of their height.                  │                  │\n",
       "├───────────────────────────────────────────────┼──────────────────────────────────────────────┼──────────────────┤\n",
       "│ Which coin of U.S currency has the most       │ Which coin of U.S currency has the most      │ [0.2584, 0.7416] │\n",
       "│ ridges.                                       │ ridges.                                      │                  │\n",
       "│ The penny.                                    │ The penny. It has the most ridges.           │                  │\n",
       "└───────────────────────────────────────────────┴──────────────────────────────────────────────┴──────────────────┘\n",
       "</pre>\n"
      ],
      "text/plain": [
       "┏━━━━━━━━━━━━━━━━━━━━━━━━━━━━━━━━━━━━━━━━━━━━━━━┳━━━━━━━━━━━━━━━━━━━━━━━━━━━━━━━━━━━━━━━━━━━━━━┳━━━━━━━━━━━━━━━━━━┓\n",
       "┃\u001b[1m \u001b[0m\u001b[1mchosen_text                                  \u001b[0m\u001b[1m \u001b[0m┃\u001b[1m \u001b[0m\u001b[1mrejected_text                               \u001b[0m\u001b[1m \u001b[0m┃\u001b[1m \u001b[0m\u001b[1mlogits          \u001b[0m\u001b[1m \u001b[0m┃\n",
       "┡━━━━━━━━━━━━━━━━━━━━━━━━━━━━━━━━━━━━━━━━━━━━━━━╇━━━━━━━━━━━━━━━━━━━━━━━━━━━━━━━━━━━━━━━━━━━━━━╇━━━━━━━━━━━━━━━━━━┩\n",
       "│ Which is bigger, a lion or a house cat?       │ Which is bigger, a lion or a house cat?      │ [0.4486, 0.5514] │\n",
       "│ A lion is bigger as it is a species of big    │ A house cat is bigger than a lion. The       │                  │\n",
       "│ cats while a house cat is a type of           │ average male lion can weigh about            │                  │\n",
       "│ domesticated animal.                          │ 1,300-2,000 lbs, while the average house cat │                  │\n",
       "│                                               │ can range from 8-15 lbs depending on the     │                  │\n",
       "│                                               │ breed.                                       │                  │\n",
       "├───────────────────────────────────────────────┼──────────────────────────────────────────────┼──────────────────┤\n",
       "│ Why do we feel lighter in weight in a         │ Why do we feel lighter in weight in a        │ [0.1968, 0.8032] │\n",
       "│ swimming pool?                                │ swimming pool?                               │                  │\n",
       "│ The weight you feel lighter in a swimming     │ In a swimming pool, you might feel lighter   │                  │\n",
       "│ pool due to buoyancy. When you enter a        │ due to buoyancy effects. When you push up    │                  │\n",
       "│ swimming pool, the water surrounding you      │ against the bottom of a pool, the water is   │                  │\n",
       "│ pushes you up against the surface of the      │ forced to move upwards and thus creates      │                  │\n",
       "│ pool. This force is equal to your weight, so  │ upward forces on your body. This upward      │                  │\n",
       "│ you feel heavier in the water. However, if    │ force can make you feel lighter, as it takes │                  │\n",
       "│ you float on the surface of the water, you    │ some pressure off your feet and back, and    │                  │\n",
       "│ can actually feel lighter. This is why you    │ can make you feel like you're swimming more  │                  │\n",
       "│ can breathe more easily in water compared to  │ easily.                                      │                  │\n",
       "│ out of water. Additionally, when you dive     │                                              │                  │\n",
       "│ underwater, the pressure on your body is      │                                              │                  │\n",
       "│ increased, which causes you to inhale more    │                                              │                  │\n",
       "│ air and become more buoyant, resulting in a   │                                              │                  │\n",
       "│ feeling of weightlessness.                    │                                              │                  │\n",
       "├───────────────────────────────────────────────┼──────────────────────────────────────────────┼──────────────────┤\n",
       "│ If someone is tall, what sport should they    │ If someone is tall, what sport should they   │ [0.547, 0.453]   │\n",
       "│ try?                                          │ try?                                         │                  │\n",
       "│ If someone is tall, they may have a natural   │ It really depends on the person's            │                  │\n",
       "│ advantage in sports like basketball,          │ preferences, but generally basketball and    │                  │\n",
       "│ volleyball, and swimming. However, there are  │ volleyball are good choices for tall         │                  │\n",
       "│ many other sports that can be beneficial      │ individuals. Other sports that could be      │                  │\n",
       "│ based on their height, such as tennis or      │ suitable are swimming, soccer, and tennis.   │                  │\n",
       "│ gymnastics.                                   │ It's also important to remember that height  │                  │\n",
       "│                                               │ does not necessarily define someone's        │                  │\n",
       "│                                               │ athletic abilities and there are many        │                  │\n",
       "│                                               │ successful individuals in various sports     │                  │\n",
       "│                                               │ regardless of their height.                  │                  │\n",
       "├───────────────────────────────────────────────┼──────────────────────────────────────────────┼──────────────────┤\n",
       "│ Which coin of U.S currency has the most       │ Which coin of U.S currency has the most      │ [0.2584, 0.7416] │\n",
       "│ ridges.                                       │ ridges.                                      │                  │\n",
       "│ The penny.                                    │ The penny. It has the most ridges.           │                  │\n",
       "└───────────────────────────────────────────────┴──────────────────────────────────────────────┴──────────────────┘\n"
      ]
     },
     "metadata": {},
     "output_type": "display_data"
    },
    {
     "name": "stderr",
     "output_type": "stream",
     "text": [
      "c:\\Users\\user\\anaconda3\\envs\\lang\\Lib\\site-packages\\transformers\\tokenization_utils_base.py:2888: UserWarning: `max_length` is ignored when `padding`=`True` and there is no truncation strategy. To pad to max length, use `padding='max_length'`.\n",
      "  warnings.warn(\n"
     ]
    },
    {
     "data": {
      "application/vnd.jupyter.widget-view+json": {
       "model_id": "1c6fdbc073f344129a70d969cc676702",
       "version_major": 2,
       "version_minor": 0
      },
      "text/plain": [
       "  0%|          | 0/32 [00:00<?, ?it/s]"
      ]
     },
     "metadata": {},
     "output_type": "display_data"
    },
    {
     "name": "stderr",
     "output_type": "stream",
     "text": [
      "c:\\Users\\user\\anaconda3\\envs\\lang\\Lib\\site-packages\\trl\\trainer\\utils.py:657: UserWarning: There are 15 out of 250 instances where the predictions for both options are equal. As a consequence the accuracy can be misleading.\n",
      "  warnings.warn(\n"
     ]
    },
    {
     "name": "stdout",
     "output_type": "stream",
     "text": [
      "{'eval_loss': 0.8174980282783508, 'eval_accuracy': 0.528, 'eval_runtime': 22.1518, 'eval_samples_per_second': 11.286, 'eval_steps_per_second': 1.445, 'epoch': 0.05}\n",
      "{'loss': 0.8748, 'grad_norm': 11.649340629577637, 'learning_rate': 8e-05, 'epoch': 0.11}\n"
     ]
    },
    {
     "data": {
      "text/html": [
       "<pre style=\"white-space:pre;overflow-x:auto;line-height:normal;font-family:Menlo,'DejaVu Sans Mono',consolas,'Courier New',monospace\">┏━━━━━━━━━━━━━━━━━━━━━━━━━━━━━━━━━━━━━━━━━━━━━━━┳━━━━━━━━━━━━━━━━━━━━━━━━━━━━━━━━━━━━━━━━━━━━━━┳━━━━━━━━━━━━━━━━━━┓\n",
       "┃<span style=\"font-weight: bold\"> chosen_text                                   </span>┃<span style=\"font-weight: bold\"> rejected_text                                </span>┃<span style=\"font-weight: bold\"> logits           </span>┃\n",
       "┡━━━━━━━━━━━━━━━━━━━━━━━━━━━━━━━━━━━━━━━━━━━━━━━╇━━━━━━━━━━━━━━━━━━━━━━━━━━━━━━━━━━━━━━━━━━━━━━╇━━━━━━━━━━━━━━━━━━┩\n",
       "│ Which is bigger, a lion or a house cat?       │ Which is bigger, a lion or a house cat?      │ [0.5262, 0.4738] │\n",
       "│ A lion is bigger as it is a species of big    │ A house cat is bigger than a lion. The       │                  │\n",
       "│ cats while a house cat is a type of           │ average male lion can weigh about            │                  │\n",
       "│ domesticated animal.                          │ 1,300-2,000 lbs, while the average house cat │                  │\n",
       "│                                               │ can range from 8-15 lbs depending on the     │                  │\n",
       "│                                               │ breed.                                       │                  │\n",
       "├───────────────────────────────────────────────┼──────────────────────────────────────────────┼──────────────────┤\n",
       "│ Why do we feel lighter in weight in a         │ Why do we feel lighter in weight in a        │ [0.494, 0.506]   │\n",
       "│ swimming pool?                                │ swimming pool?                               │                  │\n",
       "│ The weight you feel lighter in a swimming     │ In a swimming pool, you might feel lighter   │                  │\n",
       "│ pool due to buoyancy. When you enter a        │ due to buoyancy effects. When you push up    │                  │\n",
       "│ swimming pool, the water surrounding you      │ against the bottom of a pool, the water is   │                  │\n",
       "│ pushes you up against the surface of the      │ forced to move upwards and thus creates      │                  │\n",
       "│ pool. This force is equal to your weight, so  │ upward forces on your body. This upward      │                  │\n",
       "│ you feel heavier in the water. However, if    │ force can make you feel lighter, as it takes │                  │\n",
       "│ you float on the surface of the water, you    │ some pressure off your feet and back, and    │                  │\n",
       "│ can actually feel lighter. This is why you    │ can make you feel like you're swimming more  │                  │\n",
       "│ can breathe more easily in water compared to  │ easily.                                      │                  │\n",
       "│ out of water. Additionally, when you dive     │                                              │                  │\n",
       "│ underwater, the pressure on your body is      │                                              │                  │\n",
       "│ increased, which causes you to inhale more    │                                              │                  │\n",
       "│ air and become more buoyant, resulting in a   │                                              │                  │\n",
       "│ feeling of weightlessness.                    │                                              │                  │\n",
       "├───────────────────────────────────────────────┼──────────────────────────────────────────────┼──────────────────┤\n",
       "│ If someone is tall, what sport should they    │ If someone is tall, what sport should they   │ [0.5846, 0.4154] │\n",
       "│ try?                                          │ try?                                         │                  │\n",
       "│ If someone is tall, they may have a natural   │ It really depends on the person's            │                  │\n",
       "│ advantage in sports like basketball,          │ preferences, but generally basketball and    │                  │\n",
       "│ volleyball, and swimming. However, there are  │ volleyball are good choices for tall         │                  │\n",
       "│ many other sports that can be beneficial      │ individuals. Other sports that could be      │                  │\n",
       "│ based on their height, such as tennis or      │ suitable are swimming, soccer, and tennis.   │                  │\n",
       "│ gymnastics.                                   │ It's also important to remember that height  │                  │\n",
       "│                                               │ does not necessarily define someone's        │                  │\n",
       "│                                               │ athletic abilities and there are many        │                  │\n",
       "│                                               │ successful individuals in various sports     │                  │\n",
       "│                                               │ regardless of their height.                  │                  │\n",
       "├───────────────────────────────────────────────┼──────────────────────────────────────────────┼──────────────────┤\n",
       "│ Which coin of U.S currency has the most       │ Which coin of U.S currency has the most      │ [0.5223, 0.4777] │\n",
       "│ ridges.                                       │ ridges.                                      │                  │\n",
       "│ The penny.                                    │ The penny. It has the most ridges.           │                  │\n",
       "└───────────────────────────────────────────────┴──────────────────────────────────────────────┴──────────────────┘\n",
       "</pre>\n"
      ],
      "text/plain": [
       "┏━━━━━━━━━━━━━━━━━━━━━━━━━━━━━━━━━━━━━━━━━━━━━━━┳━━━━━━━━━━━━━━━━━━━━━━━━━━━━━━━━━━━━━━━━━━━━━━┳━━━━━━━━━━━━━━━━━━┓\n",
       "┃\u001b[1m \u001b[0m\u001b[1mchosen_text                                  \u001b[0m\u001b[1m \u001b[0m┃\u001b[1m \u001b[0m\u001b[1mrejected_text                               \u001b[0m\u001b[1m \u001b[0m┃\u001b[1m \u001b[0m\u001b[1mlogits          \u001b[0m\u001b[1m \u001b[0m┃\n",
       "┡━━━━━━━━━━━━━━━━━━━━━━━━━━━━━━━━━━━━━━━━━━━━━━━╇━━━━━━━━━━━━━━━━━━━━━━━━━━━━━━━━━━━━━━━━━━━━━━╇━━━━━━━━━━━━━━━━━━┩\n",
       "│ Which is bigger, a lion or a house cat?       │ Which is bigger, a lion or a house cat?      │ [0.5262, 0.4738] │\n",
       "│ A lion is bigger as it is a species of big    │ A house cat is bigger than a lion. The       │                  │\n",
       "│ cats while a house cat is a type of           │ average male lion can weigh about            │                  │\n",
       "│ domesticated animal.                          │ 1,300-2,000 lbs, while the average house cat │                  │\n",
       "│                                               │ can range from 8-15 lbs depending on the     │                  │\n",
       "│                                               │ breed.                                       │                  │\n",
       "├───────────────────────────────────────────────┼──────────────────────────────────────────────┼──────────────────┤\n",
       "│ Why do we feel lighter in weight in a         │ Why do we feel lighter in weight in a        │ [0.494, 0.506]   │\n",
       "│ swimming pool?                                │ swimming pool?                               │                  │\n",
       "│ The weight you feel lighter in a swimming     │ In a swimming pool, you might feel lighter   │                  │\n",
       "│ pool due to buoyancy. When you enter a        │ due to buoyancy effects. When you push up    │                  │\n",
       "│ swimming pool, the water surrounding you      │ against the bottom of a pool, the water is   │                  │\n",
       "│ pushes you up against the surface of the      │ forced to move upwards and thus creates      │                  │\n",
       "│ pool. This force is equal to your weight, so  │ upward forces on your body. This upward      │                  │\n",
       "│ you feel heavier in the water. However, if    │ force can make you feel lighter, as it takes │                  │\n",
       "│ you float on the surface of the water, you    │ some pressure off your feet and back, and    │                  │\n",
       "│ can actually feel lighter. This is why you    │ can make you feel like you're swimming more  │                  │\n",
       "│ can breathe more easily in water compared to  │ easily.                                      │                  │\n",
       "│ out of water. Additionally, when you dive     │                                              │                  │\n",
       "│ underwater, the pressure on your body is      │                                              │                  │\n",
       "│ increased, which causes you to inhale more    │                                              │                  │\n",
       "│ air and become more buoyant, resulting in a   │                                              │                  │\n",
       "│ feeling of weightlessness.                    │                                              │                  │\n",
       "├───────────────────────────────────────────────┼──────────────────────────────────────────────┼──────────────────┤\n",
       "│ If someone is tall, what sport should they    │ If someone is tall, what sport should they   │ [0.5846, 0.4154] │\n",
       "│ try?                                          │ try?                                         │                  │\n",
       "│ If someone is tall, they may have a natural   │ It really depends on the person's            │                  │\n",
       "│ advantage in sports like basketball,          │ preferences, but generally basketball and    │                  │\n",
       "│ volleyball, and swimming. However, there are  │ volleyball are good choices for tall         │                  │\n",
       "│ many other sports that can be beneficial      │ individuals. Other sports that could be      │                  │\n",
       "│ based on their height, such as tennis or      │ suitable are swimming, soccer, and tennis.   │                  │\n",
       "│ gymnastics.                                   │ It's also important to remember that height  │                  │\n",
       "│                                               │ does not necessarily define someone's        │                  │\n",
       "│                                               │ athletic abilities and there are many        │                  │\n",
       "│                                               │ successful individuals in various sports     │                  │\n",
       "│                                               │ regardless of their height.                  │                  │\n",
       "├───────────────────────────────────────────────┼──────────────────────────────────────────────┼──────────────────┤\n",
       "│ Which coin of U.S currency has the most       │ Which coin of U.S currency has the most      │ [0.5223, 0.4777] │\n",
       "│ ridges.                                       │ ridges.                                      │                  │\n",
       "│ The penny.                                    │ The penny. It has the most ridges.           │                  │\n",
       "└───────────────────────────────────────────────┴──────────────────────────────────────────────┴──────────────────┘\n"
      ]
     },
     "metadata": {},
     "output_type": "display_data"
    },
    {
     "name": "stderr",
     "output_type": "stream",
     "text": [
      "c:\\Users\\user\\anaconda3\\envs\\lang\\Lib\\site-packages\\transformers\\tokenization_utils_base.py:2888: UserWarning: `max_length` is ignored when `padding`=`True` and there is no truncation strategy. To pad to max length, use `padding='max_length'`.\n",
      "  warnings.warn(\n"
     ]
    },
    {
     "data": {
      "application/vnd.jupyter.widget-view+json": {
       "model_id": "7d764530485d424c961c1c53f495e2ce",
       "version_major": 2,
       "version_minor": 0
      },
      "text/plain": [
       "  0%|          | 0/32 [00:00<?, ?it/s]"
      ]
     },
     "metadata": {},
     "output_type": "display_data"
    },
    {
     "name": "stderr",
     "output_type": "stream",
     "text": [
      "c:\\Users\\user\\anaconda3\\envs\\lang\\Lib\\site-packages\\trl\\trainer\\utils.py:657: UserWarning: There are 15 out of 250 instances where the predictions for both options are equal. As a consequence the accuracy can be misleading.\n",
      "  warnings.warn(\n"
     ]
    },
    {
     "name": "stdout",
     "output_type": "stream",
     "text": [
      "{'eval_loss': 0.8144992589950562, 'eval_accuracy': 0.52, 'eval_runtime': 23.3753, 'eval_samples_per_second': 10.695, 'eval_steps_per_second': 1.369, 'epoch': 0.11}\n",
      "{'loss': 0.6286, 'grad_norm': 13.038911819458008, 'learning_rate': 7e-05, 'epoch': 0.16}\n"
     ]
    },
    {
     "data": {
      "text/html": [
       "<pre style=\"white-space:pre;overflow-x:auto;line-height:normal;font-family:Menlo,'DejaVu Sans Mono',consolas,'Courier New',monospace\">┏━━━━━━━━━━━━━━━━━━━━━━━━━━━━━━━━━━━━━━━━━━━━━━━┳━━━━━━━━━━━━━━━━━━━━━━━━━━━━━━━━━━━━━━━━━━━━━━┳━━━━━━━━━━━━━━━━━━┓\n",
       "┃<span style=\"font-weight: bold\"> chosen_text                                   </span>┃<span style=\"font-weight: bold\"> rejected_text                                </span>┃<span style=\"font-weight: bold\"> logits           </span>┃\n",
       "┡━━━━━━━━━━━━━━━━━━━━━━━━━━━━━━━━━━━━━━━━━━━━━━━╇━━━━━━━━━━━━━━━━━━━━━━━━━━━━━━━━━━━━━━━━━━━━━━╇━━━━━━━━━━━━━━━━━━┩\n",
       "│ Which is bigger, a lion or a house cat?       │ Which is bigger, a lion or a house cat?      │ [0.3388, 0.6612] │\n",
       "│ A lion is bigger as it is a species of big    │ A house cat is bigger than a lion. The       │                  │\n",
       "│ cats while a house cat is a type of           │ average male lion can weigh about            │                  │\n",
       "│ domesticated animal.                          │ 1,300-2,000 lbs, while the average house cat │                  │\n",
       "│                                               │ can range from 8-15 lbs depending on the     │                  │\n",
       "│                                               │ breed.                                       │                  │\n",
       "├───────────────────────────────────────────────┼──────────────────────────────────────────────┼──────────────────┤\n",
       "│ Why do we feel lighter in weight in a         │ Why do we feel lighter in weight in a        │ [0.4352, 0.5648] │\n",
       "│ swimming pool?                                │ swimming pool?                               │                  │\n",
       "│ The weight you feel lighter in a swimming     │ In a swimming pool, you might feel lighter   │                  │\n",
       "│ pool due to buoyancy. When you enter a        │ due to buoyancy effects. When you push up    │                  │\n",
       "│ swimming pool, the water surrounding you      │ against the bottom of a pool, the water is   │                  │\n",
       "│ pushes you up against the surface of the      │ forced to move upwards and thus creates      │                  │\n",
       "│ pool. This force is equal to your weight, so  │ upward forces on your body. This upward      │                  │\n",
       "│ you feel heavier in the water. However, if    │ force can make you feel lighter, as it takes │                  │\n",
       "│ you float on the surface of the water, you    │ some pressure off your feet and back, and    │                  │\n",
       "│ can actually feel lighter. This is why you    │ can make you feel like you're swimming more  │                  │\n",
       "│ can breathe more easily in water compared to  │ easily.                                      │                  │\n",
       "│ out of water. Additionally, when you dive     │                                              │                  │\n",
       "│ underwater, the pressure on your body is      │                                              │                  │\n",
       "│ increased, which causes you to inhale more    │                                              │                  │\n",
       "│ air and become more buoyant, resulting in a   │                                              │                  │\n",
       "│ feeling of weightlessness.                    │                                              │                  │\n",
       "├───────────────────────────────────────────────┼──────────────────────────────────────────────┼──────────────────┤\n",
       "│ If someone is tall, what sport should they    │ If someone is tall, what sport should they   │ [0.3691, 0.6309] │\n",
       "│ try?                                          │ try?                                         │                  │\n",
       "│ If someone is tall, they may have a natural   │ It really depends on the person's            │                  │\n",
       "│ advantage in sports like basketball,          │ preferences, but generally basketball and    │                  │\n",
       "│ volleyball, and swimming. However, there are  │ volleyball are good choices for tall         │                  │\n",
       "│ many other sports that can be beneficial      │ individuals. Other sports that could be      │                  │\n",
       "│ based on their height, such as tennis or      │ suitable are swimming, soccer, and tennis.   │                  │\n",
       "│ gymnastics.                                   │ It's also important to remember that height  │                  │\n",
       "│                                               │ does not necessarily define someone's        │                  │\n",
       "│                                               │ athletic abilities and there are many        │                  │\n",
       "│                                               │ successful individuals in various sports     │                  │\n",
       "│                                               │ regardless of their height.                  │                  │\n",
       "├───────────────────────────────────────────────┼──────────────────────────────────────────────┼──────────────────┤\n",
       "│ Which coin of U.S currency has the most       │ Which coin of U.S currency has the most      │ [0.3416, 0.6584] │\n",
       "│ ridges.                                       │ ridges.                                      │                  │\n",
       "│ The penny.                                    │ The penny. It has the most ridges.           │                  │\n",
       "└───────────────────────────────────────────────┴──────────────────────────────────────────────┴──────────────────┘\n",
       "</pre>\n"
      ],
      "text/plain": [
       "┏━━━━━━━━━━━━━━━━━━━━━━━━━━━━━━━━━━━━━━━━━━━━━━━┳━━━━━━━━━━━━━━━━━━━━━━━━━━━━━━━━━━━━━━━━━━━━━━┳━━━━━━━━━━━━━━━━━━┓\n",
       "┃\u001b[1m \u001b[0m\u001b[1mchosen_text                                  \u001b[0m\u001b[1m \u001b[0m┃\u001b[1m \u001b[0m\u001b[1mrejected_text                               \u001b[0m\u001b[1m \u001b[0m┃\u001b[1m \u001b[0m\u001b[1mlogits          \u001b[0m\u001b[1m \u001b[0m┃\n",
       "┡━━━━━━━━━━━━━━━━━━━━━━━━━━━━━━━━━━━━━━━━━━━━━━━╇━━━━━━━━━━━━━━━━━━━━━━━━━━━━━━━━━━━━━━━━━━━━━━╇━━━━━━━━━━━━━━━━━━┩\n",
       "│ Which is bigger, a lion or a house cat?       │ Which is bigger, a lion or a house cat?      │ [0.3388, 0.6612] │\n",
       "│ A lion is bigger as it is a species of big    │ A house cat is bigger than a lion. The       │                  │\n",
       "│ cats while a house cat is a type of           │ average male lion can weigh about            │                  │\n",
       "│ domesticated animal.                          │ 1,300-2,000 lbs, while the average house cat │                  │\n",
       "│                                               │ can range from 8-15 lbs depending on the     │                  │\n",
       "│                                               │ breed.                                       │                  │\n",
       "├───────────────────────────────────────────────┼──────────────────────────────────────────────┼──────────────────┤\n",
       "│ Why do we feel lighter in weight in a         │ Why do we feel lighter in weight in a        │ [0.4352, 0.5648] │\n",
       "│ swimming pool?                                │ swimming pool?                               │                  │\n",
       "│ The weight you feel lighter in a swimming     │ In a swimming pool, you might feel lighter   │                  │\n",
       "│ pool due to buoyancy. When you enter a        │ due to buoyancy effects. When you push up    │                  │\n",
       "│ swimming pool, the water surrounding you      │ against the bottom of a pool, the water is   │                  │\n",
       "│ pushes you up against the surface of the      │ forced to move upwards and thus creates      │                  │\n",
       "│ pool. This force is equal to your weight, so  │ upward forces on your body. This upward      │                  │\n",
       "│ you feel heavier in the water. However, if    │ force can make you feel lighter, as it takes │                  │\n",
       "│ you float on the surface of the water, you    │ some pressure off your feet and back, and    │                  │\n",
       "│ can actually feel lighter. This is why you    │ can make you feel like you're swimming more  │                  │\n",
       "│ can breathe more easily in water compared to  │ easily.                                      │                  │\n",
       "│ out of water. Additionally, when you dive     │                                              │                  │\n",
       "│ underwater, the pressure on your body is      │                                              │                  │\n",
       "│ increased, which causes you to inhale more    │                                              │                  │\n",
       "│ air and become more buoyant, resulting in a   │                                              │                  │\n",
       "│ feeling of weightlessness.                    │                                              │                  │\n",
       "├───────────────────────────────────────────────┼──────────────────────────────────────────────┼──────────────────┤\n",
       "│ If someone is tall, what sport should they    │ If someone is tall, what sport should they   │ [0.3691, 0.6309] │\n",
       "│ try?                                          │ try?                                         │                  │\n",
       "│ If someone is tall, they may have a natural   │ It really depends on the person's            │                  │\n",
       "│ advantage in sports like basketball,          │ preferences, but generally basketball and    │                  │\n",
       "│ volleyball, and swimming. However, there are  │ volleyball are good choices for tall         │                  │\n",
       "│ many other sports that can be beneficial      │ individuals. Other sports that could be      │                  │\n",
       "│ based on their height, such as tennis or      │ suitable are swimming, soccer, and tennis.   │                  │\n",
       "│ gymnastics.                                   │ It's also important to remember that height  │                  │\n",
       "│                                               │ does not necessarily define someone's        │                  │\n",
       "│                                               │ athletic abilities and there are many        │                  │\n",
       "│                                               │ successful individuals in various sports     │                  │\n",
       "│                                               │ regardless of their height.                  │                  │\n",
       "├───────────────────────────────────────────────┼──────────────────────────────────────────────┼──────────────────┤\n",
       "│ Which coin of U.S currency has the most       │ Which coin of U.S currency has the most      │ [0.3416, 0.6584] │\n",
       "│ ridges.                                       │ ridges.                                      │                  │\n",
       "│ The penny.                                    │ The penny. It has the most ridges.           │                  │\n",
       "└───────────────────────────────────────────────┴──────────────────────────────────────────────┴──────────────────┘\n"
      ]
     },
     "metadata": {},
     "output_type": "display_data"
    },
    {
     "name": "stderr",
     "output_type": "stream",
     "text": [
      "c:\\Users\\user\\anaconda3\\envs\\lang\\Lib\\site-packages\\transformers\\tokenization_utils_base.py:2888: UserWarning: `max_length` is ignored when `padding`=`True` and there is no truncation strategy. To pad to max length, use `padding='max_length'`.\n",
      "  warnings.warn(\n"
     ]
    },
    {
     "data": {
      "application/vnd.jupyter.widget-view+json": {
       "model_id": "5e42015d8a8f42b184d2f502a55e939b",
       "version_major": 2,
       "version_minor": 0
      },
      "text/plain": [
       "  0%|          | 0/32 [00:00<?, ?it/s]"
      ]
     },
     "metadata": {},
     "output_type": "display_data"
    },
    {
     "name": "stderr",
     "output_type": "stream",
     "text": [
      "c:\\Users\\user\\anaconda3\\envs\\lang\\Lib\\site-packages\\trl\\trainer\\utils.py:657: UserWarning: There are 15 out of 250 instances where the predictions for both options are equal. As a consequence the accuracy can be misleading.\n",
      "  warnings.warn(\n"
     ]
    },
    {
     "name": "stdout",
     "output_type": "stream",
     "text": [
      "{'eval_loss': 0.8088310360908508, 'eval_accuracy': 0.528, 'eval_runtime': 22.9674, 'eval_samples_per_second': 10.885, 'eval_steps_per_second': 1.393, 'epoch': 0.16}\n",
      "{'loss': 0.8749, 'grad_norm': 21.221256256103516, 'learning_rate': 6e-05, 'epoch': 0.21}\n"
     ]
    },
    {
     "data": {
      "text/html": [
       "<pre style=\"white-space:pre;overflow-x:auto;line-height:normal;font-family:Menlo,'DejaVu Sans Mono',consolas,'Courier New',monospace\">┏━━━━━━━━━━━━━━━━━━━━━━━━━━━━━━━━━━━━━━━━━━━━━━━┳━━━━━━━━━━━━━━━━━━━━━━━━━━━━━━━━━━━━━━━━━━━━━━┳━━━━━━━━━━━━━━━━━━┓\n",
       "┃<span style=\"font-weight: bold\"> chosen_text                                   </span>┃<span style=\"font-weight: bold\"> rejected_text                                </span>┃<span style=\"font-weight: bold\"> logits           </span>┃\n",
       "┡━━━━━━━━━━━━━━━━━━━━━━━━━━━━━━━━━━━━━━━━━━━━━━━╇━━━━━━━━━━━━━━━━━━━━━━━━━━━━━━━━━━━━━━━━━━━━━━╇━━━━━━━━━━━━━━━━━━┩\n",
       "│ Which is bigger, a lion or a house cat?       │ Which is bigger, a lion or a house cat?      │ [0.3867, 0.6133] │\n",
       "│ A lion is bigger as it is a species of big    │ A house cat is bigger than a lion. The       │                  │\n",
       "│ cats while a house cat is a type of           │ average male lion can weigh about            │                  │\n",
       "│ domesticated animal.                          │ 1,300-2,000 lbs, while the average house cat │                  │\n",
       "│                                               │ can range from 8-15 lbs depending on the     │                  │\n",
       "│                                               │ breed.                                       │                  │\n",
       "├───────────────────────────────────────────────┼──────────────────────────────────────────────┼──────────────────┤\n",
       "│ Why do we feel lighter in weight in a         │ Why do we feel lighter in weight in a        │ [0.6833, 0.3167] │\n",
       "│ swimming pool?                                │ swimming pool?                               │                  │\n",
       "│ The weight you feel lighter in a swimming     │ In a swimming pool, you might feel lighter   │                  │\n",
       "│ pool due to buoyancy. When you enter a        │ due to buoyancy effects. When you push up    │                  │\n",
       "│ swimming pool, the water surrounding you      │ against the bottom of a pool, the water is   │                  │\n",
       "│ pushes you up against the surface of the      │ forced to move upwards and thus creates      │                  │\n",
       "│ pool. This force is equal to your weight, so  │ upward forces on your body. This upward      │                  │\n",
       "│ you feel heavier in the water. However, if    │ force can make you feel lighter, as it takes │                  │\n",
       "│ you float on the surface of the water, you    │ some pressure off your feet and back, and    │                  │\n",
       "│ can actually feel lighter. This is why you    │ can make you feel like you're swimming more  │                  │\n",
       "│ can breathe more easily in water compared to  │ easily.                                      │                  │\n",
       "│ out of water. Additionally, when you dive     │                                              │                  │\n",
       "│ underwater, the pressure on your body is      │                                              │                  │\n",
       "│ increased, which causes you to inhale more    │                                              │                  │\n",
       "│ air and become more buoyant, resulting in a   │                                              │                  │\n",
       "│ feeling of weightlessness.                    │                                              │                  │\n",
       "├───────────────────────────────────────────────┼──────────────────────────────────────────────┼──────────────────┤\n",
       "│ If someone is tall, what sport should they    │ If someone is tall, what sport should they   │ [0.3138, 0.6862] │\n",
       "│ try?                                          │ try?                                         │                  │\n",
       "│ If someone is tall, they may have a natural   │ It really depends on the person's            │                  │\n",
       "│ advantage in sports like basketball,          │ preferences, but generally basketball and    │                  │\n",
       "│ volleyball, and swimming. However, there are  │ volleyball are good choices for tall         │                  │\n",
       "│ many other sports that can be beneficial      │ individuals. Other sports that could be      │                  │\n",
       "│ based on their height, such as tennis or      │ suitable are swimming, soccer, and tennis.   │                  │\n",
       "│ gymnastics.                                   │ It's also important to remember that height  │                  │\n",
       "│                                               │ does not necessarily define someone's        │                  │\n",
       "│                                               │ athletic abilities and there are many        │                  │\n",
       "│                                               │ successful individuals in various sports     │                  │\n",
       "│                                               │ regardless of their height.                  │                  │\n",
       "├───────────────────────────────────────────────┼──────────────────────────────────────────────┼──────────────────┤\n",
       "│ Which coin of U.S currency has the most       │ Which coin of U.S currency has the most      │ [0.202, 0.798]   │\n",
       "│ ridges.                                       │ ridges.                                      │                  │\n",
       "│ The penny.                                    │ The penny. It has the most ridges.           │                  │\n",
       "└───────────────────────────────────────────────┴──────────────────────────────────────────────┴──────────────────┘\n",
       "</pre>\n"
      ],
      "text/plain": [
       "┏━━━━━━━━━━━━━━━━━━━━━━━━━━━━━━━━━━━━━━━━━━━━━━━┳━━━━━━━━━━━━━━━━━━━━━━━━━━━━━━━━━━━━━━━━━━━━━━┳━━━━━━━━━━━━━━━━━━┓\n",
       "┃\u001b[1m \u001b[0m\u001b[1mchosen_text                                  \u001b[0m\u001b[1m \u001b[0m┃\u001b[1m \u001b[0m\u001b[1mrejected_text                               \u001b[0m\u001b[1m \u001b[0m┃\u001b[1m \u001b[0m\u001b[1mlogits          \u001b[0m\u001b[1m \u001b[0m┃\n",
       "┡━━━━━━━━━━━━━━━━━━━━━━━━━━━━━━━━━━━━━━━━━━━━━━━╇━━━━━━━━━━━━━━━━━━━━━━━━━━━━━━━━━━━━━━━━━━━━━━╇━━━━━━━━━━━━━━━━━━┩\n",
       "│ Which is bigger, a lion or a house cat?       │ Which is bigger, a lion or a house cat?      │ [0.3867, 0.6133] │\n",
       "│ A lion is bigger as it is a species of big    │ A house cat is bigger than a lion. The       │                  │\n",
       "│ cats while a house cat is a type of           │ average male lion can weigh about            │                  │\n",
       "│ domesticated animal.                          │ 1,300-2,000 lbs, while the average house cat │                  │\n",
       "│                                               │ can range from 8-15 lbs depending on the     │                  │\n",
       "│                                               │ breed.                                       │                  │\n",
       "├───────────────────────────────────────────────┼──────────────────────────────────────────────┼──────────────────┤\n",
       "│ Why do we feel lighter in weight in a         │ Why do we feel lighter in weight in a        │ [0.6833, 0.3167] │\n",
       "│ swimming pool?                                │ swimming pool?                               │                  │\n",
       "│ The weight you feel lighter in a swimming     │ In a swimming pool, you might feel lighter   │                  │\n",
       "│ pool due to buoyancy. When you enter a        │ due to buoyancy effects. When you push up    │                  │\n",
       "│ swimming pool, the water surrounding you      │ against the bottom of a pool, the water is   │                  │\n",
       "│ pushes you up against the surface of the      │ forced to move upwards and thus creates      │                  │\n",
       "│ pool. This force is equal to your weight, so  │ upward forces on your body. This upward      │                  │\n",
       "│ you feel heavier in the water. However, if    │ force can make you feel lighter, as it takes │                  │\n",
       "│ you float on the surface of the water, you    │ some pressure off your feet and back, and    │                  │\n",
       "│ can actually feel lighter. This is why you    │ can make you feel like you're swimming more  │                  │\n",
       "│ can breathe more easily in water compared to  │ easily.                                      │                  │\n",
       "│ out of water. Additionally, when you dive     │                                              │                  │\n",
       "│ underwater, the pressure on your body is      │                                              │                  │\n",
       "│ increased, which causes you to inhale more    │                                              │                  │\n",
       "│ air and become more buoyant, resulting in a   │                                              │                  │\n",
       "│ feeling of weightlessness.                    │                                              │                  │\n",
       "├───────────────────────────────────────────────┼──────────────────────────────────────────────┼──────────────────┤\n",
       "│ If someone is tall, what sport should they    │ If someone is tall, what sport should they   │ [0.3138, 0.6862] │\n",
       "│ try?                                          │ try?                                         │                  │\n",
       "│ If someone is tall, they may have a natural   │ It really depends on the person's            │                  │\n",
       "│ advantage in sports like basketball,          │ preferences, but generally basketball and    │                  │\n",
       "│ volleyball, and swimming. However, there are  │ volleyball are good choices for tall         │                  │\n",
       "│ many other sports that can be beneficial      │ individuals. Other sports that could be      │                  │\n",
       "│ based on their height, such as tennis or      │ suitable are swimming, soccer, and tennis.   │                  │\n",
       "│ gymnastics.                                   │ It's also important to remember that height  │                  │\n",
       "│                                               │ does not necessarily define someone's        │                  │\n",
       "│                                               │ athletic abilities and there are many        │                  │\n",
       "│                                               │ successful individuals in various sports     │                  │\n",
       "│                                               │ regardless of their height.                  │                  │\n",
       "├───────────────────────────────────────────────┼──────────────────────────────────────────────┼──────────────────┤\n",
       "│ Which coin of U.S currency has the most       │ Which coin of U.S currency has the most      │ [0.202, 0.798]   │\n",
       "│ ridges.                                       │ ridges.                                      │                  │\n",
       "│ The penny.                                    │ The penny. It has the most ridges.           │                  │\n",
       "└───────────────────────────────────────────────┴──────────────────────────────────────────────┴──────────────────┘\n"
      ]
     },
     "metadata": {},
     "output_type": "display_data"
    },
    {
     "name": "stderr",
     "output_type": "stream",
     "text": [
      "c:\\Users\\user\\anaconda3\\envs\\lang\\Lib\\site-packages\\transformers\\tokenization_utils_base.py:2888: UserWarning: `max_length` is ignored when `padding`=`True` and there is no truncation strategy. To pad to max length, use `padding='max_length'`.\n",
      "  warnings.warn(\n"
     ]
    },
    {
     "data": {
      "application/vnd.jupyter.widget-view+json": {
       "model_id": "c0b0b11e225d4083b14b5c2599d231ed",
       "version_major": 2,
       "version_minor": 0
      },
      "text/plain": [
       "  0%|          | 0/32 [00:00<?, ?it/s]"
      ]
     },
     "metadata": {},
     "output_type": "display_data"
    },
    {
     "name": "stderr",
     "output_type": "stream",
     "text": [
      "c:\\Users\\user\\anaconda3\\envs\\lang\\Lib\\site-packages\\trl\\trainer\\utils.py:657: UserWarning: There are 15 out of 250 instances where the predictions for both options are equal. As a consequence the accuracy can be misleading.\n",
      "  warnings.warn(\n"
     ]
    },
    {
     "name": "stdout",
     "output_type": "stream",
     "text": [
      "{'eval_loss': 0.8099480867385864, 'eval_accuracy': 0.536, 'eval_runtime': 15.6362, 'eval_samples_per_second': 15.989, 'eval_steps_per_second': 2.047, 'epoch': 0.21}\n",
      "{'loss': 0.8359, 'grad_norm': 11.300799369812012, 'learning_rate': 5e-05, 'epoch': 0.27}\n"
     ]
    },
    {
     "data": {
      "text/html": [
       "<pre style=\"white-space:pre;overflow-x:auto;line-height:normal;font-family:Menlo,'DejaVu Sans Mono',consolas,'Courier New',monospace\">┏━━━━━━━━━━━━━━━━━━━━━━━━━━━━━━━━━━━━━━━━━━━━━━━┳━━━━━━━━━━━━━━━━━━━━━━━━━━━━━━━━━━━━━━━━━━━━━━┳━━━━━━━━━━━━━━━━━━┓\n",
       "┃<span style=\"font-weight: bold\"> chosen_text                                   </span>┃<span style=\"font-weight: bold\"> rejected_text                                </span>┃<span style=\"font-weight: bold\"> logits           </span>┃\n",
       "┡━━━━━━━━━━━━━━━━━━━━━━━━━━━━━━━━━━━━━━━━━━━━━━━╇━━━━━━━━━━━━━━━━━━━━━━━━━━━━━━━━━━━━━━━━━━━━━━╇━━━━━━━━━━━━━━━━━━┩\n",
       "│ Which is bigger, a lion or a house cat?       │ Which is bigger, a lion or a house cat?      │ [0.3142, 0.6858] │\n",
       "│ A lion is bigger as it is a species of big    │ A house cat is bigger than a lion. The       │                  │\n",
       "│ cats while a house cat is a type of           │ average male lion can weigh about            │                  │\n",
       "│ domesticated animal.                          │ 1,300-2,000 lbs, while the average house cat │                  │\n",
       "│                                               │ can range from 8-15 lbs depending on the     │                  │\n",
       "│                                               │ breed.                                       │                  │\n",
       "├───────────────────────────────────────────────┼──────────────────────────────────────────────┼──────────────────┤\n",
       "│ Why do we feel lighter in weight in a         │ Why do we feel lighter in weight in a        │ [0.4252, 0.5748] │\n",
       "│ swimming pool?                                │ swimming pool?                               │                  │\n",
       "│ The weight you feel lighter in a swimming     │ In a swimming pool, you might feel lighter   │                  │\n",
       "│ pool due to buoyancy. When you enter a        │ due to buoyancy effects. When you push up    │                  │\n",
       "│ swimming pool, the water surrounding you      │ against the bottom of a pool, the water is   │                  │\n",
       "│ pushes you up against the surface of the      │ forced to move upwards and thus creates      │                  │\n",
       "│ pool. This force is equal to your weight, so  │ upward forces on your body. This upward      │                  │\n",
       "│ you feel heavier in the water. However, if    │ force can make you feel lighter, as it takes │                  │\n",
       "│ you float on the surface of the water, you    │ some pressure off your feet and back, and    │                  │\n",
       "│ can actually feel lighter. This is why you    │ can make you feel like you're swimming more  │                  │\n",
       "│ can breathe more easily in water compared to  │ easily.                                      │                  │\n",
       "│ out of water. Additionally, when you dive     │                                              │                  │\n",
       "│ underwater, the pressure on your body is      │                                              │                  │\n",
       "│ increased, which causes you to inhale more    │                                              │                  │\n",
       "│ air and become more buoyant, resulting in a   │                                              │                  │\n",
       "│ feeling of weightlessness.                    │                                              │                  │\n",
       "├───────────────────────────────────────────────┼──────────────────────────────────────────────┼──────────────────┤\n",
       "│ If someone is tall, what sport should they    │ If someone is tall, what sport should they   │ [0.5159, 0.4841] │\n",
       "│ try?                                          │ try?                                         │                  │\n",
       "│ If someone is tall, they may have a natural   │ It really depends on the person's            │                  │\n",
       "│ advantage in sports like basketball,          │ preferences, but generally basketball and    │                  │\n",
       "│ volleyball, and swimming. However, there are  │ volleyball are good choices for tall         │                  │\n",
       "│ many other sports that can be beneficial      │ individuals. Other sports that could be      │                  │\n",
       "│ based on their height, such as tennis or      │ suitable are swimming, soccer, and tennis.   │                  │\n",
       "│ gymnastics.                                   │ It's also important to remember that height  │                  │\n",
       "│                                               │ does not necessarily define someone's        │                  │\n",
       "│                                               │ athletic abilities and there are many        │                  │\n",
       "│                                               │ successful individuals in various sports     │                  │\n",
       "│                                               │ regardless of their height.                  │                  │\n",
       "├───────────────────────────────────────────────┼──────────────────────────────────────────────┼──────────────────┤\n",
       "│ Which coin of U.S currency has the most       │ Which coin of U.S currency has the most      │ [0.4993, 0.5007] │\n",
       "│ ridges.                                       │ ridges.                                      │                  │\n",
       "│ The penny.                                    │ The penny. It has the most ridges.           │                  │\n",
       "└───────────────────────────────────────────────┴──────────────────────────────────────────────┴──────────────────┘\n",
       "</pre>\n"
      ],
      "text/plain": [
       "┏━━━━━━━━━━━━━━━━━━━━━━━━━━━━━━━━━━━━━━━━━━━━━━━┳━━━━━━━━━━━━━━━━━━━━━━━━━━━━━━━━━━━━━━━━━━━━━━┳━━━━━━━━━━━━━━━━━━┓\n",
       "┃\u001b[1m \u001b[0m\u001b[1mchosen_text                                  \u001b[0m\u001b[1m \u001b[0m┃\u001b[1m \u001b[0m\u001b[1mrejected_text                               \u001b[0m\u001b[1m \u001b[0m┃\u001b[1m \u001b[0m\u001b[1mlogits          \u001b[0m\u001b[1m \u001b[0m┃\n",
       "┡━━━━━━━━━━━━━━━━━━━━━━━━━━━━━━━━━━━━━━━━━━━━━━━╇━━━━━━━━━━━━━━━━━━━━━━━━━━━━━━━━━━━━━━━━━━━━━━╇━━━━━━━━━━━━━━━━━━┩\n",
       "│ Which is bigger, a lion or a house cat?       │ Which is bigger, a lion or a house cat?      │ [0.3142, 0.6858] │\n",
       "│ A lion is bigger as it is a species of big    │ A house cat is bigger than a lion. The       │                  │\n",
       "│ cats while a house cat is a type of           │ average male lion can weigh about            │                  │\n",
       "│ domesticated animal.                          │ 1,300-2,000 lbs, while the average house cat │                  │\n",
       "│                                               │ can range from 8-15 lbs depending on the     │                  │\n",
       "│                                               │ breed.                                       │                  │\n",
       "├───────────────────────────────────────────────┼──────────────────────────────────────────────┼──────────────────┤\n",
       "│ Why do we feel lighter in weight in a         │ Why do we feel lighter in weight in a        │ [0.4252, 0.5748] │\n",
       "│ swimming pool?                                │ swimming pool?                               │                  │\n",
       "│ The weight you feel lighter in a swimming     │ In a swimming pool, you might feel lighter   │                  │\n",
       "│ pool due to buoyancy. When you enter a        │ due to buoyancy effects. When you push up    │                  │\n",
       "│ swimming pool, the water surrounding you      │ against the bottom of a pool, the water is   │                  │\n",
       "│ pushes you up against the surface of the      │ forced to move upwards and thus creates      │                  │\n",
       "│ pool. This force is equal to your weight, so  │ upward forces on your body. This upward      │                  │\n",
       "│ you feel heavier in the water. However, if    │ force can make you feel lighter, as it takes │                  │\n",
       "│ you float on the surface of the water, you    │ some pressure off your feet and back, and    │                  │\n",
       "│ can actually feel lighter. This is why you    │ can make you feel like you're swimming more  │                  │\n",
       "│ can breathe more easily in water compared to  │ easily.                                      │                  │\n",
       "│ out of water. Additionally, when you dive     │                                              │                  │\n",
       "│ underwater, the pressure on your body is      │                                              │                  │\n",
       "│ increased, which causes you to inhale more    │                                              │                  │\n",
       "│ air and become more buoyant, resulting in a   │                                              │                  │\n",
       "│ feeling of weightlessness.                    │                                              │                  │\n",
       "├───────────────────────────────────────────────┼──────────────────────────────────────────────┼──────────────────┤\n",
       "│ If someone is tall, what sport should they    │ If someone is tall, what sport should they   │ [0.5159, 0.4841] │\n",
       "│ try?                                          │ try?                                         │                  │\n",
       "│ If someone is tall, they may have a natural   │ It really depends on the person's            │                  │\n",
       "│ advantage in sports like basketball,          │ preferences, but generally basketball and    │                  │\n",
       "│ volleyball, and swimming. However, there are  │ volleyball are good choices for tall         │                  │\n",
       "│ many other sports that can be beneficial      │ individuals. Other sports that could be      │                  │\n",
       "│ based on their height, such as tennis or      │ suitable are swimming, soccer, and tennis.   │                  │\n",
       "│ gymnastics.                                   │ It's also important to remember that height  │                  │\n",
       "│                                               │ does not necessarily define someone's        │                  │\n",
       "│                                               │ athletic abilities and there are many        │                  │\n",
       "│                                               │ successful individuals in various sports     │                  │\n",
       "│                                               │ regardless of their height.                  │                  │\n",
       "├───────────────────────────────────────────────┼──────────────────────────────────────────────┼──────────────────┤\n",
       "│ Which coin of U.S currency has the most       │ Which coin of U.S currency has the most      │ [0.4993, 0.5007] │\n",
       "│ ridges.                                       │ ridges.                                      │                  │\n",
       "│ The penny.                                    │ The penny. It has the most ridges.           │                  │\n",
       "└───────────────────────────────────────────────┴──────────────────────────────────────────────┴──────────────────┘\n"
      ]
     },
     "metadata": {},
     "output_type": "display_data"
    },
    {
     "name": "stderr",
     "output_type": "stream",
     "text": [
      "c:\\Users\\user\\anaconda3\\envs\\lang\\Lib\\site-packages\\transformers\\tokenization_utils_base.py:2888: UserWarning: `max_length` is ignored when `padding`=`True` and there is no truncation strategy. To pad to max length, use `padding='max_length'`.\n",
      "  warnings.warn(\n"
     ]
    },
    {
     "data": {
      "application/vnd.jupyter.widget-view+json": {
       "model_id": "029fb382b2954b41aa0a9aa2643f2184",
       "version_major": 2,
       "version_minor": 0
      },
      "text/plain": [
       "  0%|          | 0/32 [00:00<?, ?it/s]"
      ]
     },
     "metadata": {},
     "output_type": "display_data"
    },
    {
     "name": "stderr",
     "output_type": "stream",
     "text": [
      "c:\\Users\\user\\anaconda3\\envs\\lang\\Lib\\site-packages\\trl\\trainer\\utils.py:657: UserWarning: There are 15 out of 250 instances where the predictions for both options are equal. As a consequence the accuracy can be misleading.\n",
      "  warnings.warn(\n"
     ]
    },
    {
     "name": "stdout",
     "output_type": "stream",
     "text": [
      "{'eval_loss': 0.8059431314468384, 'eval_accuracy': 0.532, 'eval_runtime': 15.0841, 'eval_samples_per_second': 16.574, 'eval_steps_per_second': 2.121, 'epoch': 0.27}\n"
     ]
    },
    {
     "name": "stderr",
     "output_type": "stream",
     "text": [
      "c:\\Users\\user\\anaconda3\\envs\\lang\\Lib\\site-packages\\transformers\\tokenization_utils_base.py:2888: UserWarning: `max_length` is ignored when `padding`=`True` and there is no truncation strategy. To pad to max length, use `padding='max_length'`.\n",
      "  warnings.warn(\n"
     ]
    },
    {
     "name": "stdout",
     "output_type": "stream",
     "text": [
      "{'loss': 1.0357, 'grad_norm': 36.503135681152344, 'learning_rate': 4e-05, 'epoch': 0.32}\n"
     ]
    },
    {
     "data": {
      "text/html": [
       "<pre style=\"white-space:pre;overflow-x:auto;line-height:normal;font-family:Menlo,'DejaVu Sans Mono',consolas,'Courier New',monospace\">┏━━━━━━━━━━━━━━━━━━━━━━━━━━━━━━━━━━━━━━━━━━━━━━━┳━━━━━━━━━━━━━━━━━━━━━━━━━━━━━━━━━━━━━━━━━━━━━━┳━━━━━━━━━━━━━━━━━━┓\n",
       "┃<span style=\"font-weight: bold\"> chosen_text                                   </span>┃<span style=\"font-weight: bold\"> rejected_text                                </span>┃<span style=\"font-weight: bold\"> logits           </span>┃\n",
       "┡━━━━━━━━━━━━━━━━━━━━━━━━━━━━━━━━━━━━━━━━━━━━━━━╇━━━━━━━━━━━━━━━━━━━━━━━━━━━━━━━━━━━━━━━━━━━━━━╇━━━━━━━━━━━━━━━━━━┩\n",
       "│ Which is bigger, a lion or a house cat?       │ Which is bigger, a lion or a house cat?      │ [0.1887, 0.8113] │\n",
       "│ A lion is bigger as it is a species of big    │ A house cat is bigger than a lion. The       │                  │\n",
       "│ cats while a house cat is a type of           │ average male lion can weigh about            │                  │\n",
       "│ domesticated animal.                          │ 1,300-2,000 lbs, while the average house cat │                  │\n",
       "│                                               │ can range from 8-15 lbs depending on the     │                  │\n",
       "│                                               │ breed.                                       │                  │\n",
       "├───────────────────────────────────────────────┼──────────────────────────────────────────────┼──────────────────┤\n",
       "│ Why do we feel lighter in weight in a         │ Why do we feel lighter in weight in a        │ [0.6728, 0.3272] │\n",
       "│ swimming pool?                                │ swimming pool?                               │                  │\n",
       "│ The weight you feel lighter in a swimming     │ In a swimming pool, you might feel lighter   │                  │\n",
       "│ pool due to buoyancy. When you enter a        │ due to buoyancy effects. When you push up    │                  │\n",
       "│ swimming pool, the water surrounding you      │ against the bottom of a pool, the water is   │                  │\n",
       "│ pushes you up against the surface of the      │ forced to move upwards and thus creates      │                  │\n",
       "│ pool. This force is equal to your weight, so  │ upward forces on your body. This upward      │                  │\n",
       "│ you feel heavier in the water. However, if    │ force can make you feel lighter, as it takes │                  │\n",
       "│ you float on the surface of the water, you    │ some pressure off your feet and back, and    │                  │\n",
       "│ can actually feel lighter. This is why you    │ can make you feel like you're swimming more  │                  │\n",
       "│ can breathe more easily in water compared to  │ easily.                                      │                  │\n",
       "│ out of water. Additionally, when you dive     │                                              │                  │\n",
       "│ underwater, the pressure on your body is      │                                              │                  │\n",
       "│ increased, which causes you to inhale more    │                                              │                  │\n",
       "│ air and become more buoyant, resulting in a   │                                              │                  │\n",
       "│ feeling of weightlessness.                    │                                              │                  │\n",
       "├───────────────────────────────────────────────┼──────────────────────────────────────────────┼──────────────────┤\n",
       "│ If someone is tall, what sport should they    │ If someone is tall, what sport should they   │ [0.4683, 0.5317] │\n",
       "│ try?                                          │ try?                                         │                  │\n",
       "│ If someone is tall, they may have a natural   │ It really depends on the person's            │                  │\n",
       "│ advantage in sports like basketball,          │ preferences, but generally basketball and    │                  │\n",
       "│ volleyball, and swimming. However, there are  │ volleyball are good choices for tall         │                  │\n",
       "│ many other sports that can be beneficial      │ individuals. Other sports that could be      │                  │\n",
       "│ based on their height, such as tennis or      │ suitable are swimming, soccer, and tennis.   │                  │\n",
       "│ gymnastics.                                   │ It's also important to remember that height  │                  │\n",
       "│                                               │ does not necessarily define someone's        │                  │\n",
       "│                                               │ athletic abilities and there are many        │                  │\n",
       "│                                               │ successful individuals in various sports     │                  │\n",
       "│                                               │ regardless of their height.                  │                  │\n",
       "├───────────────────────────────────────────────┼──────────────────────────────────────────────┼──────────────────┤\n",
       "│ Which coin of U.S currency has the most       │ Which coin of U.S currency has the most      │ [0.5983, 0.4017] │\n",
       "│ ridges.                                       │ ridges.                                      │                  │\n",
       "│ The penny.                                    │ The penny. It has the most ridges.           │                  │\n",
       "└───────────────────────────────────────────────┴──────────────────────────────────────────────┴──────────────────┘\n",
       "</pre>\n"
      ],
      "text/plain": [
       "┏━━━━━━━━━━━━━━━━━━━━━━━━━━━━━━━━━━━━━━━━━━━━━━━┳━━━━━━━━━━━━━━━━━━━━━━━━━━━━━━━━━━━━━━━━━━━━━━┳━━━━━━━━━━━━━━━━━━┓\n",
       "┃\u001b[1m \u001b[0m\u001b[1mchosen_text                                  \u001b[0m\u001b[1m \u001b[0m┃\u001b[1m \u001b[0m\u001b[1mrejected_text                               \u001b[0m\u001b[1m \u001b[0m┃\u001b[1m \u001b[0m\u001b[1mlogits          \u001b[0m\u001b[1m \u001b[0m┃\n",
       "┡━━━━━━━━━━━━━━━━━━━━━━━━━━━━━━━━━━━━━━━━━━━━━━━╇━━━━━━━━━━━━━━━━━━━━━━━━━━━━━━━━━━━━━━━━━━━━━━╇━━━━━━━━━━━━━━━━━━┩\n",
       "│ Which is bigger, a lion or a house cat?       │ Which is bigger, a lion or a house cat?      │ [0.1887, 0.8113] │\n",
       "│ A lion is bigger as it is a species of big    │ A house cat is bigger than a lion. The       │                  │\n",
       "│ cats while a house cat is a type of           │ average male lion can weigh about            │                  │\n",
       "│ domesticated animal.                          │ 1,300-2,000 lbs, while the average house cat │                  │\n",
       "│                                               │ can range from 8-15 lbs depending on the     │                  │\n",
       "│                                               │ breed.                                       │                  │\n",
       "├───────────────────────────────────────────────┼──────────────────────────────────────────────┼──────────────────┤\n",
       "│ Why do we feel lighter in weight in a         │ Why do we feel lighter in weight in a        │ [0.6728, 0.3272] │\n",
       "│ swimming pool?                                │ swimming pool?                               │                  │\n",
       "│ The weight you feel lighter in a swimming     │ In a swimming pool, you might feel lighter   │                  │\n",
       "│ pool due to buoyancy. When you enter a        │ due to buoyancy effects. When you push up    │                  │\n",
       "│ swimming pool, the water surrounding you      │ against the bottom of a pool, the water is   │                  │\n",
       "│ pushes you up against the surface of the      │ forced to move upwards and thus creates      │                  │\n",
       "│ pool. This force is equal to your weight, so  │ upward forces on your body. This upward      │                  │\n",
       "│ you feel heavier in the water. However, if    │ force can make you feel lighter, as it takes │                  │\n",
       "│ you float on the surface of the water, you    │ some pressure off your feet and back, and    │                  │\n",
       "│ can actually feel lighter. This is why you    │ can make you feel like you're swimming more  │                  │\n",
       "│ can breathe more easily in water compared to  │ easily.                                      │                  │\n",
       "│ out of water. Additionally, when you dive     │                                              │                  │\n",
       "│ underwater, the pressure on your body is      │                                              │                  │\n",
       "│ increased, which causes you to inhale more    │                                              │                  │\n",
       "│ air and become more buoyant, resulting in a   │                                              │                  │\n",
       "│ feeling of weightlessness.                    │                                              │                  │\n",
       "├───────────────────────────────────────────────┼──────────────────────────────────────────────┼──────────────────┤\n",
       "│ If someone is tall, what sport should they    │ If someone is tall, what sport should they   │ [0.4683, 0.5317] │\n",
       "│ try?                                          │ try?                                         │                  │\n",
       "│ If someone is tall, they may have a natural   │ It really depends on the person's            │                  │\n",
       "│ advantage in sports like basketball,          │ preferences, but generally basketball and    │                  │\n",
       "│ volleyball, and swimming. However, there are  │ volleyball are good choices for tall         │                  │\n",
       "│ many other sports that can be beneficial      │ individuals. Other sports that could be      │                  │\n",
       "│ based on their height, such as tennis or      │ suitable are swimming, soccer, and tennis.   │                  │\n",
       "│ gymnastics.                                   │ It's also important to remember that height  │                  │\n",
       "│                                               │ does not necessarily define someone's        │                  │\n",
       "│                                               │ athletic abilities and there are many        │                  │\n",
       "│                                               │ successful individuals in various sports     │                  │\n",
       "│                                               │ regardless of their height.                  │                  │\n",
       "├───────────────────────────────────────────────┼──────────────────────────────────────────────┼──────────────────┤\n",
       "│ Which coin of U.S currency has the most       │ Which coin of U.S currency has the most      │ [0.5983, 0.4017] │\n",
       "│ ridges.                                       │ ridges.                                      │                  │\n",
       "│ The penny.                                    │ The penny. It has the most ridges.           │                  │\n",
       "└───────────────────────────────────────────────┴──────────────────────────────────────────────┴──────────────────┘\n"
      ]
     },
     "metadata": {},
     "output_type": "display_data"
    },
    {
     "name": "stderr",
     "output_type": "stream",
     "text": [
      "c:\\Users\\user\\anaconda3\\envs\\lang\\Lib\\site-packages\\transformers\\tokenization_utils_base.py:2888: UserWarning: `max_length` is ignored when `padding`=`True` and there is no truncation strategy. To pad to max length, use `padding='max_length'`.\n",
      "  warnings.warn(\n"
     ]
    },
    {
     "data": {
      "application/vnd.jupyter.widget-view+json": {
       "model_id": "df372d0574314d2c9f94ea2a127570a7",
       "version_major": 2,
       "version_minor": 0
      },
      "text/plain": [
       "  0%|          | 0/32 [00:00<?, ?it/s]"
      ]
     },
     "metadata": {},
     "output_type": "display_data"
    },
    {
     "name": "stderr",
     "output_type": "stream",
     "text": [
      "c:\\Users\\user\\anaconda3\\envs\\lang\\Lib\\site-packages\\trl\\trainer\\utils.py:657: UserWarning: There are 15 out of 250 instances where the predictions for both options are equal. As a consequence the accuracy can be misleading.\n",
      "  warnings.warn(\n"
     ]
    },
    {
     "name": "stdout",
     "output_type": "stream",
     "text": [
      "{'eval_loss': 0.8036197423934937, 'eval_accuracy': 0.544, 'eval_runtime': 15.1673, 'eval_samples_per_second': 16.483, 'eval_steps_per_second': 2.11, 'epoch': 0.32}\n",
      "{'loss': 0.7083, 'grad_norm': 7.724880695343018, 'learning_rate': 3e-05, 'epoch': 0.37}\n"
     ]
    },
    {
     "data": {
      "text/html": [
       "<pre style=\"white-space:pre;overflow-x:auto;line-height:normal;font-family:Menlo,'DejaVu Sans Mono',consolas,'Courier New',monospace\">┏━━━━━━━━━━━━━━━━━━━━━━━━━━━━━━━━━━━━━━━━━━━━━━━┳━━━━━━━━━━━━━━━━━━━━━━━━━━━━━━━━━━━━━━━━━━━━━━┳━━━━━━━━━━━━━━━━━━┓\n",
       "┃<span style=\"font-weight: bold\"> chosen_text                                   </span>┃<span style=\"font-weight: bold\"> rejected_text                                </span>┃<span style=\"font-weight: bold\"> logits           </span>┃\n",
       "┡━━━━━━━━━━━━━━━━━━━━━━━━━━━━━━━━━━━━━━━━━━━━━━━╇━━━━━━━━━━━━━━━━━━━━━━━━━━━━━━━━━━━━━━━━━━━━━━╇━━━━━━━━━━━━━━━━━━┩\n",
       "│ Which is bigger, a lion or a house cat?       │ Which is bigger, a lion or a house cat?      │ [0.5768, 0.4232] │\n",
       "│ A lion is bigger as it is a species of big    │ A house cat is bigger than a lion. The       │                  │\n",
       "│ cats while a house cat is a type of           │ average male lion can weigh about            │                  │\n",
       "│ domesticated animal.                          │ 1,300-2,000 lbs, while the average house cat │                  │\n",
       "│                                               │ can range from 8-15 lbs depending on the     │                  │\n",
       "│                                               │ breed.                                       │                  │\n",
       "├───────────────────────────────────────────────┼──────────────────────────────────────────────┼──────────────────┤\n",
       "│ Why do we feel lighter in weight in a         │ Why do we feel lighter in weight in a        │ [0.4695, 0.5305] │\n",
       "│ swimming pool?                                │ swimming pool?                               │                  │\n",
       "│ The weight you feel lighter in a swimming     │ In a swimming pool, you might feel lighter   │                  │\n",
       "│ pool due to buoyancy. When you enter a        │ due to buoyancy effects. When you push up    │                  │\n",
       "│ swimming pool, the water surrounding you      │ against the bottom of a pool, the water is   │                  │\n",
       "│ pushes you up against the surface of the      │ forced to move upwards and thus creates      │                  │\n",
       "│ pool. This force is equal to your weight, so  │ upward forces on your body. This upward      │                  │\n",
       "│ you feel heavier in the water. However, if    │ force can make you feel lighter, as it takes │                  │\n",
       "│ you float on the surface of the water, you    │ some pressure off your feet and back, and    │                  │\n",
       "│ can actually feel lighter. This is why you    │ can make you feel like you're swimming more  │                  │\n",
       "│ can breathe more easily in water compared to  │ easily.                                      │                  │\n",
       "│ out of water. Additionally, when you dive     │                                              │                  │\n",
       "│ underwater, the pressure on your body is      │                                              │                  │\n",
       "│ increased, which causes you to inhale more    │                                              │                  │\n",
       "│ air and become more buoyant, resulting in a   │                                              │                  │\n",
       "│ feeling of weightlessness.                    │                                              │                  │\n",
       "├───────────────────────────────────────────────┼──────────────────────────────────────────────┼──────────────────┤\n",
       "│ If someone is tall, what sport should they    │ If someone is tall, what sport should they   │ [0.629, 0.371]   │\n",
       "│ try?                                          │ try?                                         │                  │\n",
       "│ If someone is tall, they may have a natural   │ It really depends on the person's            │                  │\n",
       "│ advantage in sports like basketball,          │ preferences, but generally basketball and    │                  │\n",
       "│ volleyball, and swimming. However, there are  │ volleyball are good choices for tall         │                  │\n",
       "│ many other sports that can be beneficial      │ individuals. Other sports that could be      │                  │\n",
       "│ based on their height, such as tennis or      │ suitable are swimming, soccer, and tennis.   │                  │\n",
       "│ gymnastics.                                   │ It's also important to remember that height  │                  │\n",
       "│                                               │ does not necessarily define someone's        │                  │\n",
       "│                                               │ athletic abilities and there are many        │                  │\n",
       "│                                               │ successful individuals in various sports     │                  │\n",
       "│                                               │ regardless of their height.                  │                  │\n",
       "├───────────────────────────────────────────────┼──────────────────────────────────────────────┼──────────────────┤\n",
       "│ Which coin of U.S currency has the most       │ Which coin of U.S currency has the most      │ [0.4297, 0.5703] │\n",
       "│ ridges.                                       │ ridges.                                      │                  │\n",
       "│ The penny.                                    │ The penny. It has the most ridges.           │                  │\n",
       "└───────────────────────────────────────────────┴──────────────────────────────────────────────┴──────────────────┘\n",
       "</pre>\n"
      ],
      "text/plain": [
       "┏━━━━━━━━━━━━━━━━━━━━━━━━━━━━━━━━━━━━━━━━━━━━━━━┳━━━━━━━━━━━━━━━━━━━━━━━━━━━━━━━━━━━━━━━━━━━━━━┳━━━━━━━━━━━━━━━━━━┓\n",
       "┃\u001b[1m \u001b[0m\u001b[1mchosen_text                                  \u001b[0m\u001b[1m \u001b[0m┃\u001b[1m \u001b[0m\u001b[1mrejected_text                               \u001b[0m\u001b[1m \u001b[0m┃\u001b[1m \u001b[0m\u001b[1mlogits          \u001b[0m\u001b[1m \u001b[0m┃\n",
       "┡━━━━━━━━━━━━━━━━━━━━━━━━━━━━━━━━━━━━━━━━━━━━━━━╇━━━━━━━━━━━━━━━━━━━━━━━━━━━━━━━━━━━━━━━━━━━━━━╇━━━━━━━━━━━━━━━━━━┩\n",
       "│ Which is bigger, a lion or a house cat?       │ Which is bigger, a lion or a house cat?      │ [0.5768, 0.4232] │\n",
       "│ A lion is bigger as it is a species of big    │ A house cat is bigger than a lion. The       │                  │\n",
       "│ cats while a house cat is a type of           │ average male lion can weigh about            │                  │\n",
       "│ domesticated animal.                          │ 1,300-2,000 lbs, while the average house cat │                  │\n",
       "│                                               │ can range from 8-15 lbs depending on the     │                  │\n",
       "│                                               │ breed.                                       │                  │\n",
       "├───────────────────────────────────────────────┼──────────────────────────────────────────────┼──────────────────┤\n",
       "│ Why do we feel lighter in weight in a         │ Why do we feel lighter in weight in a        │ [0.4695, 0.5305] │\n",
       "│ swimming pool?                                │ swimming pool?                               │                  │\n",
       "│ The weight you feel lighter in a swimming     │ In a swimming pool, you might feel lighter   │                  │\n",
       "│ pool due to buoyancy. When you enter a        │ due to buoyancy effects. When you push up    │                  │\n",
       "│ swimming pool, the water surrounding you      │ against the bottom of a pool, the water is   │                  │\n",
       "│ pushes you up against the surface of the      │ forced to move upwards and thus creates      │                  │\n",
       "│ pool. This force is equal to your weight, so  │ upward forces on your body. This upward      │                  │\n",
       "│ you feel heavier in the water. However, if    │ force can make you feel lighter, as it takes │                  │\n",
       "│ you float on the surface of the water, you    │ some pressure off your feet and back, and    │                  │\n",
       "│ can actually feel lighter. This is why you    │ can make you feel like you're swimming more  │                  │\n",
       "│ can breathe more easily in water compared to  │ easily.                                      │                  │\n",
       "│ out of water. Additionally, when you dive     │                                              │                  │\n",
       "│ underwater, the pressure on your body is      │                                              │                  │\n",
       "│ increased, which causes you to inhale more    │                                              │                  │\n",
       "│ air and become more buoyant, resulting in a   │                                              │                  │\n",
       "│ feeling of weightlessness.                    │                                              │                  │\n",
       "├───────────────────────────────────────────────┼──────────────────────────────────────────────┼──────────────────┤\n",
       "│ If someone is tall, what sport should they    │ If someone is tall, what sport should they   │ [0.629, 0.371]   │\n",
       "│ try?                                          │ try?                                         │                  │\n",
       "│ If someone is tall, they may have a natural   │ It really depends on the person's            │                  │\n",
       "│ advantage in sports like basketball,          │ preferences, but generally basketball and    │                  │\n",
       "│ volleyball, and swimming. However, there are  │ volleyball are good choices for tall         │                  │\n",
       "│ many other sports that can be beneficial      │ individuals. Other sports that could be      │                  │\n",
       "│ based on their height, such as tennis or      │ suitable are swimming, soccer, and tennis.   │                  │\n",
       "│ gymnastics.                                   │ It's also important to remember that height  │                  │\n",
       "│                                               │ does not necessarily define someone's        │                  │\n",
       "│                                               │ athletic abilities and there are many        │                  │\n",
       "│                                               │ successful individuals in various sports     │                  │\n",
       "│                                               │ regardless of their height.                  │                  │\n",
       "├───────────────────────────────────────────────┼──────────────────────────────────────────────┼──────────────────┤\n",
       "│ Which coin of U.S currency has the most       │ Which coin of U.S currency has the most      │ [0.4297, 0.5703] │\n",
       "│ ridges.                                       │ ridges.                                      │                  │\n",
       "│ The penny.                                    │ The penny. It has the most ridges.           │                  │\n",
       "└───────────────────────────────────────────────┴──────────────────────────────────────────────┴──────────────────┘\n"
      ]
     },
     "metadata": {},
     "output_type": "display_data"
    },
    {
     "name": "stderr",
     "output_type": "stream",
     "text": [
      "c:\\Users\\user\\anaconda3\\envs\\lang\\Lib\\site-packages\\transformers\\tokenization_utils_base.py:2888: UserWarning: `max_length` is ignored when `padding`=`True` and there is no truncation strategy. To pad to max length, use `padding='max_length'`.\n",
      "  warnings.warn(\n"
     ]
    },
    {
     "data": {
      "application/vnd.jupyter.widget-view+json": {
       "model_id": "4145cf61037a49dfac6818f39a991895",
       "version_major": 2,
       "version_minor": 0
      },
      "text/plain": [
       "  0%|          | 0/32 [00:00<?, ?it/s]"
      ]
     },
     "metadata": {},
     "output_type": "display_data"
    },
    {
     "name": "stderr",
     "output_type": "stream",
     "text": [
      "c:\\Users\\user\\anaconda3\\envs\\lang\\Lib\\site-packages\\trl\\trainer\\utils.py:657: UserWarning: There are 15 out of 250 instances where the predictions for both options are equal. As a consequence the accuracy can be misleading.\n",
      "  warnings.warn(\n"
     ]
    },
    {
     "name": "stdout",
     "output_type": "stream",
     "text": [
      "{'eval_loss': 0.8040581345558167, 'eval_accuracy': 0.54, 'eval_runtime': 15.0918, 'eval_samples_per_second': 16.565, 'eval_steps_per_second': 2.12, 'epoch': 0.37}\n",
      "{'loss': 0.7626, 'grad_norm': 11.918915748596191, 'learning_rate': 2e-05, 'epoch': 0.43}\n"
     ]
    },
    {
     "data": {
      "text/html": [
       "<pre style=\"white-space:pre;overflow-x:auto;line-height:normal;font-family:Menlo,'DejaVu Sans Mono',consolas,'Courier New',monospace\">┏━━━━━━━━━━━━━━━━━━━━━━━━━━━━━━━━━━━━━━━━━━━━━━━┳━━━━━━━━━━━━━━━━━━━━━━━━━━━━━━━━━━━━━━━━━━━━━━┳━━━━━━━━━━━━━━━━━━┓\n",
       "┃<span style=\"font-weight: bold\"> chosen_text                                   </span>┃<span style=\"font-weight: bold\"> rejected_text                                </span>┃<span style=\"font-weight: bold\"> logits           </span>┃\n",
       "┡━━━━━━━━━━━━━━━━━━━━━━━━━━━━━━━━━━━━━━━━━━━━━━━╇━━━━━━━━━━━━━━━━━━━━━━━━━━━━━━━━━━━━━━━━━━━━━━╇━━━━━━━━━━━━━━━━━━┩\n",
       "│ Which is bigger, a lion or a house cat?       │ Which is bigger, a lion or a house cat?      │ [0.5352, 0.4648] │\n",
       "│ A lion is bigger as it is a species of big    │ A house cat is bigger than a lion. The       │                  │\n",
       "│ cats while a house cat is a type of           │ average male lion can weigh about            │                  │\n",
       "│ domesticated animal.                          │ 1,300-2,000 lbs, while the average house cat │                  │\n",
       "│                                               │ can range from 8-15 lbs depending on the     │                  │\n",
       "│                                               │ breed.                                       │                  │\n",
       "├───────────────────────────────────────────────┼──────────────────────────────────────────────┼──────────────────┤\n",
       "│ Why do we feel lighter in weight in a         │ Why do we feel lighter in weight in a        │ [0.4813, 0.5187] │\n",
       "│ swimming pool?                                │ swimming pool?                               │                  │\n",
       "│ The weight you feel lighter in a swimming     │ In a swimming pool, you might feel lighter   │                  │\n",
       "│ pool due to buoyancy. When you enter a        │ due to buoyancy effects. When you push up    │                  │\n",
       "│ swimming pool, the water surrounding you      │ against the bottom of a pool, the water is   │                  │\n",
       "│ pushes you up against the surface of the      │ forced to move upwards and thus creates      │                  │\n",
       "│ pool. This force is equal to your weight, so  │ upward forces on your body. This upward      │                  │\n",
       "│ you feel heavier in the water. However, if    │ force can make you feel lighter, as it takes │                  │\n",
       "│ you float on the surface of the water, you    │ some pressure off your feet and back, and    │                  │\n",
       "│ can actually feel lighter. This is why you    │ can make you feel like you're swimming more  │                  │\n",
       "│ can breathe more easily in water compared to  │ easily.                                      │                  │\n",
       "│ out of water. Additionally, when you dive     │                                              │                  │\n",
       "│ underwater, the pressure on your body is      │                                              │                  │\n",
       "│ increased, which causes you to inhale more    │                                              │                  │\n",
       "│ air and become more buoyant, resulting in a   │                                              │                  │\n",
       "│ feeling of weightlessness.                    │                                              │                  │\n",
       "├───────────────────────────────────────────────┼──────────────────────────────────────────────┼──────────────────┤\n",
       "│ If someone is tall, what sport should they    │ If someone is tall, what sport should they   │ [0.3254, 0.6746] │\n",
       "│ try?                                          │ try?                                         │                  │\n",
       "│ If someone is tall, they may have a natural   │ It really depends on the person's            │                  │\n",
       "│ advantage in sports like basketball,          │ preferences, but generally basketball and    │                  │\n",
       "│ volleyball, and swimming. However, there are  │ volleyball are good choices for tall         │                  │\n",
       "│ many other sports that can be beneficial      │ individuals. Other sports that could be      │                  │\n",
       "│ based on their height, such as tennis or      │ suitable are swimming, soccer, and tennis.   │                  │\n",
       "│ gymnastics.                                   │ It's also important to remember that height  │                  │\n",
       "│                                               │ does not necessarily define someone's        │                  │\n",
       "│                                               │ athletic abilities and there are many        │                  │\n",
       "│                                               │ successful individuals in various sports     │                  │\n",
       "│                                               │ regardless of their height.                  │                  │\n",
       "├───────────────────────────────────────────────┼──────────────────────────────────────────────┼──────────────────┤\n",
       "│ Which coin of U.S currency has the most       │ Which coin of U.S currency has the most      │ [0.5212, 0.4788] │\n",
       "│ ridges.                                       │ ridges.                                      │                  │\n",
       "│ The penny.                                    │ The penny. It has the most ridges.           │                  │\n",
       "└───────────────────────────────────────────────┴──────────────────────────────────────────────┴──────────────────┘\n",
       "</pre>\n"
      ],
      "text/plain": [
       "┏━━━━━━━━━━━━━━━━━━━━━━━━━━━━━━━━━━━━━━━━━━━━━━━┳━━━━━━━━━━━━━━━━━━━━━━━━━━━━━━━━━━━━━━━━━━━━━━┳━━━━━━━━━━━━━━━━━━┓\n",
       "┃\u001b[1m \u001b[0m\u001b[1mchosen_text                                  \u001b[0m\u001b[1m \u001b[0m┃\u001b[1m \u001b[0m\u001b[1mrejected_text                               \u001b[0m\u001b[1m \u001b[0m┃\u001b[1m \u001b[0m\u001b[1mlogits          \u001b[0m\u001b[1m \u001b[0m┃\n",
       "┡━━━━━━━━━━━━━━━━━━━━━━━━━━━━━━━━━━━━━━━━━━━━━━━╇━━━━━━━━━━━━━━━━━━━━━━━━━━━━━━━━━━━━━━━━━━━━━━╇━━━━━━━━━━━━━━━━━━┩\n",
       "│ Which is bigger, a lion or a house cat?       │ Which is bigger, a lion or a house cat?      │ [0.5352, 0.4648] │\n",
       "│ A lion is bigger as it is a species of big    │ A house cat is bigger than a lion. The       │                  │\n",
       "│ cats while a house cat is a type of           │ average male lion can weigh about            │                  │\n",
       "│ domesticated animal.                          │ 1,300-2,000 lbs, while the average house cat │                  │\n",
       "│                                               │ can range from 8-15 lbs depending on the     │                  │\n",
       "│                                               │ breed.                                       │                  │\n",
       "├───────────────────────────────────────────────┼──────────────────────────────────────────────┼──────────────────┤\n",
       "│ Why do we feel lighter in weight in a         │ Why do we feel lighter in weight in a        │ [0.4813, 0.5187] │\n",
       "│ swimming pool?                                │ swimming pool?                               │                  │\n",
       "│ The weight you feel lighter in a swimming     │ In a swimming pool, you might feel lighter   │                  │\n",
       "│ pool due to buoyancy. When you enter a        │ due to buoyancy effects. When you push up    │                  │\n",
       "│ swimming pool, the water surrounding you      │ against the bottom of a pool, the water is   │                  │\n",
       "│ pushes you up against the surface of the      │ forced to move upwards and thus creates      │                  │\n",
       "│ pool. This force is equal to your weight, so  │ upward forces on your body. This upward      │                  │\n",
       "│ you feel heavier in the water. However, if    │ force can make you feel lighter, as it takes │                  │\n",
       "│ you float on the surface of the water, you    │ some pressure off your feet and back, and    │                  │\n",
       "│ can actually feel lighter. This is why you    │ can make you feel like you're swimming more  │                  │\n",
       "│ can breathe more easily in water compared to  │ easily.                                      │                  │\n",
       "│ out of water. Additionally, when you dive     │                                              │                  │\n",
       "│ underwater, the pressure on your body is      │                                              │                  │\n",
       "│ increased, which causes you to inhale more    │                                              │                  │\n",
       "│ air and become more buoyant, resulting in a   │                                              │                  │\n",
       "│ feeling of weightlessness.                    │                                              │                  │\n",
       "├───────────────────────────────────────────────┼──────────────────────────────────────────────┼──────────────────┤\n",
       "│ If someone is tall, what sport should they    │ If someone is tall, what sport should they   │ [0.3254, 0.6746] │\n",
       "│ try?                                          │ try?                                         │                  │\n",
       "│ If someone is tall, they may have a natural   │ It really depends on the person's            │                  │\n",
       "│ advantage in sports like basketball,          │ preferences, but generally basketball and    │                  │\n",
       "│ volleyball, and swimming. However, there are  │ volleyball are good choices for tall         │                  │\n",
       "│ many other sports that can be beneficial      │ individuals. Other sports that could be      │                  │\n",
       "│ based on their height, such as tennis or      │ suitable are swimming, soccer, and tennis.   │                  │\n",
       "│ gymnastics.                                   │ It's also important to remember that height  │                  │\n",
       "│                                               │ does not necessarily define someone's        │                  │\n",
       "│                                               │ athletic abilities and there are many        │                  │\n",
       "│                                               │ successful individuals in various sports     │                  │\n",
       "│                                               │ regardless of their height.                  │                  │\n",
       "├───────────────────────────────────────────────┼──────────────────────────────────────────────┼──────────────────┤\n",
       "│ Which coin of U.S currency has the most       │ Which coin of U.S currency has the most      │ [0.5212, 0.4788] │\n",
       "│ ridges.                                       │ ridges.                                      │                  │\n",
       "│ The penny.                                    │ The penny. It has the most ridges.           │                  │\n",
       "└───────────────────────────────────────────────┴──────────────────────────────────────────────┴──────────────────┘\n"
      ]
     },
     "metadata": {},
     "output_type": "display_data"
    },
    {
     "name": "stderr",
     "output_type": "stream",
     "text": [
      "c:\\Users\\user\\anaconda3\\envs\\lang\\Lib\\site-packages\\transformers\\tokenization_utils_base.py:2888: UserWarning: `max_length` is ignored when `padding`=`True` and there is no truncation strategy. To pad to max length, use `padding='max_length'`.\n",
      "  warnings.warn(\n"
     ]
    },
    {
     "data": {
      "application/vnd.jupyter.widget-view+json": {
       "model_id": "edadba1604d04408a5b1abc036e9c630",
       "version_major": 2,
       "version_minor": 0
      },
      "text/plain": [
       "  0%|          | 0/32 [00:00<?, ?it/s]"
      ]
     },
     "metadata": {},
     "output_type": "display_data"
    },
    {
     "name": "stderr",
     "output_type": "stream",
     "text": [
      "c:\\Users\\user\\anaconda3\\envs\\lang\\Lib\\site-packages\\trl\\trainer\\utils.py:657: UserWarning: There are 15 out of 250 instances where the predictions for both options are equal. As a consequence the accuracy can be misleading.\n",
      "  warnings.warn(\n"
     ]
    },
    {
     "name": "stdout",
     "output_type": "stream",
     "text": [
      "{'eval_loss': 0.8047124743461609, 'eval_accuracy': 0.528, 'eval_runtime': 15.0719, 'eval_samples_per_second': 16.587, 'eval_steps_per_second': 2.123, 'epoch': 0.43}\n",
      "{'loss': 0.818, 'grad_norm': 6.543140411376953, 'learning_rate': 1e-05, 'epoch': 0.48}\n"
     ]
    },
    {
     "data": {
      "text/html": [
       "<pre style=\"white-space:pre;overflow-x:auto;line-height:normal;font-family:Menlo,'DejaVu Sans Mono',consolas,'Courier New',monospace\">┏━━━━━━━━━━━━━━━━━━━━━━━━━━━━━━━━━━━━━━━━━━━━━━━┳━━━━━━━━━━━━━━━━━━━━━━━━━━━━━━━━━━━━━━━━━━━━━━┳━━━━━━━━━━━━━━━━━━┓\n",
       "┃<span style=\"font-weight: bold\"> chosen_text                                   </span>┃<span style=\"font-weight: bold\"> rejected_text                                </span>┃<span style=\"font-weight: bold\"> logits           </span>┃\n",
       "┡━━━━━━━━━━━━━━━━━━━━━━━━━━━━━━━━━━━━━━━━━━━━━━━╇━━━━━━━━━━━━━━━━━━━━━━━━━━━━━━━━━━━━━━━━━━━━━━╇━━━━━━━━━━━━━━━━━━┩\n",
       "│ Which is bigger, a lion or a house cat?       │ Which is bigger, a lion or a house cat?      │ [0.2372, 0.7628] │\n",
       "│ A lion is bigger as it is a species of big    │ A house cat is bigger than a lion. The       │                  │\n",
       "│ cats while a house cat is a type of           │ average male lion can weigh about            │                  │\n",
       "│ domesticated animal.                          │ 1,300-2,000 lbs, while the average house cat │                  │\n",
       "│                                               │ can range from 8-15 lbs depending on the     │                  │\n",
       "│                                               │ breed.                                       │                  │\n",
       "├───────────────────────────────────────────────┼──────────────────────────────────────────────┼──────────────────┤\n",
       "│ Why do we feel lighter in weight in a         │ Why do we feel lighter in weight in a        │ [0.3627, 0.6373] │\n",
       "│ swimming pool?                                │ swimming pool?                               │                  │\n",
       "│ The weight you feel lighter in a swimming     │ In a swimming pool, you might feel lighter   │                  │\n",
       "│ pool due to buoyancy. When you enter a        │ due to buoyancy effects. When you push up    │                  │\n",
       "│ swimming pool, the water surrounding you      │ against the bottom of a pool, the water is   │                  │\n",
       "│ pushes you up against the surface of the      │ forced to move upwards and thus creates      │                  │\n",
       "│ pool. This force is equal to your weight, so  │ upward forces on your body. This upward      │                  │\n",
       "│ you feel heavier in the water. However, if    │ force can make you feel lighter, as it takes │                  │\n",
       "│ you float on the surface of the water, you    │ some pressure off your feet and back, and    │                  │\n",
       "│ can actually feel lighter. This is why you    │ can make you feel like you're swimming more  │                  │\n",
       "│ can breathe more easily in water compared to  │ easily.                                      │                  │\n",
       "│ out of water. Additionally, when you dive     │                                              │                  │\n",
       "│ underwater, the pressure on your body is      │                                              │                  │\n",
       "│ increased, which causes you to inhale more    │                                              │                  │\n",
       "│ air and become more buoyant, resulting in a   │                                              │                  │\n",
       "│ feeling of weightlessness.                    │                                              │                  │\n",
       "├───────────────────────────────────────────────┼──────────────────────────────────────────────┼──────────────────┤\n",
       "│ If someone is tall, what sport should they    │ If someone is tall, what sport should they   │ [0.3896, 0.6104] │\n",
       "│ try?                                          │ try?                                         │                  │\n",
       "│ If someone is tall, they may have a natural   │ It really depends on the person's            │                  │\n",
       "│ advantage in sports like basketball,          │ preferences, but generally basketball and    │                  │\n",
       "│ volleyball, and swimming. However, there are  │ volleyball are good choices for tall         │                  │\n",
       "│ many other sports that can be beneficial      │ individuals. Other sports that could be      │                  │\n",
       "│ based on their height, such as tennis or      │ suitable are swimming, soccer, and tennis.   │                  │\n",
       "│ gymnastics.                                   │ It's also important to remember that height  │                  │\n",
       "│                                               │ does not necessarily define someone's        │                  │\n",
       "│                                               │ athletic abilities and there are many        │                  │\n",
       "│                                               │ successful individuals in various sports     │                  │\n",
       "│                                               │ regardless of their height.                  │                  │\n",
       "├───────────────────────────────────────────────┼──────────────────────────────────────────────┼──────────────────┤\n",
       "│ Which coin of U.S currency has the most       │ Which coin of U.S currency has the most      │ [0.3658, 0.6342] │\n",
       "│ ridges.                                       │ ridges.                                      │                  │\n",
       "│ The penny.                                    │ The penny. It has the most ridges.           │                  │\n",
       "└───────────────────────────────────────────────┴──────────────────────────────────────────────┴──────────────────┘\n",
       "</pre>\n"
      ],
      "text/plain": [
       "┏━━━━━━━━━━━━━━━━━━━━━━━━━━━━━━━━━━━━━━━━━━━━━━━┳━━━━━━━━━━━━━━━━━━━━━━━━━━━━━━━━━━━━━━━━━━━━━━┳━━━━━━━━━━━━━━━━━━┓\n",
       "┃\u001b[1m \u001b[0m\u001b[1mchosen_text                                  \u001b[0m\u001b[1m \u001b[0m┃\u001b[1m \u001b[0m\u001b[1mrejected_text                               \u001b[0m\u001b[1m \u001b[0m┃\u001b[1m \u001b[0m\u001b[1mlogits          \u001b[0m\u001b[1m \u001b[0m┃\n",
       "┡━━━━━━━━━━━━━━━━━━━━━━━━━━━━━━━━━━━━━━━━━━━━━━━╇━━━━━━━━━━━━━━━━━━━━━━━━━━━━━━━━━━━━━━━━━━━━━━╇━━━━━━━━━━━━━━━━━━┩\n",
       "│ Which is bigger, a lion or a house cat?       │ Which is bigger, a lion or a house cat?      │ [0.2372, 0.7628] │\n",
       "│ A lion is bigger as it is a species of big    │ A house cat is bigger than a lion. The       │                  │\n",
       "│ cats while a house cat is a type of           │ average male lion can weigh about            │                  │\n",
       "│ domesticated animal.                          │ 1,300-2,000 lbs, while the average house cat │                  │\n",
       "│                                               │ can range from 8-15 lbs depending on the     │                  │\n",
       "│                                               │ breed.                                       │                  │\n",
       "├───────────────────────────────────────────────┼──────────────────────────────────────────────┼──────────────────┤\n",
       "│ Why do we feel lighter in weight in a         │ Why do we feel lighter in weight in a        │ [0.3627, 0.6373] │\n",
       "│ swimming pool?                                │ swimming pool?                               │                  │\n",
       "│ The weight you feel lighter in a swimming     │ In a swimming pool, you might feel lighter   │                  │\n",
       "│ pool due to buoyancy. When you enter a        │ due to buoyancy effects. When you push up    │                  │\n",
       "│ swimming pool, the water surrounding you      │ against the bottom of a pool, the water is   │                  │\n",
       "│ pushes you up against the surface of the      │ forced to move upwards and thus creates      │                  │\n",
       "│ pool. This force is equal to your weight, so  │ upward forces on your body. This upward      │                  │\n",
       "│ you feel heavier in the water. However, if    │ force can make you feel lighter, as it takes │                  │\n",
       "│ you float on the surface of the water, you    │ some pressure off your feet and back, and    │                  │\n",
       "│ can actually feel lighter. This is why you    │ can make you feel like you're swimming more  │                  │\n",
       "│ can breathe more easily in water compared to  │ easily.                                      │                  │\n",
       "│ out of water. Additionally, when you dive     │                                              │                  │\n",
       "│ underwater, the pressure on your body is      │                                              │                  │\n",
       "│ increased, which causes you to inhale more    │                                              │                  │\n",
       "│ air and become more buoyant, resulting in a   │                                              │                  │\n",
       "│ feeling of weightlessness.                    │                                              │                  │\n",
       "├───────────────────────────────────────────────┼──────────────────────────────────────────────┼──────────────────┤\n",
       "│ If someone is tall, what sport should they    │ If someone is tall, what sport should they   │ [0.3896, 0.6104] │\n",
       "│ try?                                          │ try?                                         │                  │\n",
       "│ If someone is tall, they may have a natural   │ It really depends on the person's            │                  │\n",
       "│ advantage in sports like basketball,          │ preferences, but generally basketball and    │                  │\n",
       "│ volleyball, and swimming. However, there are  │ volleyball are good choices for tall         │                  │\n",
       "│ many other sports that can be beneficial      │ individuals. Other sports that could be      │                  │\n",
       "│ based on their height, such as tennis or      │ suitable are swimming, soccer, and tennis.   │                  │\n",
       "│ gymnastics.                                   │ It's also important to remember that height  │                  │\n",
       "│                                               │ does not necessarily define someone's        │                  │\n",
       "│                                               │ athletic abilities and there are many        │                  │\n",
       "│                                               │ successful individuals in various sports     │                  │\n",
       "│                                               │ regardless of their height.                  │                  │\n",
       "├───────────────────────────────────────────────┼──────────────────────────────────────────────┼──────────────────┤\n",
       "│ Which coin of U.S currency has the most       │ Which coin of U.S currency has the most      │ [0.3658, 0.6342] │\n",
       "│ ridges.                                       │ ridges.                                      │                  │\n",
       "│ The penny.                                    │ The penny. It has the most ridges.           │                  │\n",
       "└───────────────────────────────────────────────┴──────────────────────────────────────────────┴──────────────────┘\n"
      ]
     },
     "metadata": {},
     "output_type": "display_data"
    },
    {
     "name": "stderr",
     "output_type": "stream",
     "text": [
      "c:\\Users\\user\\anaconda3\\envs\\lang\\Lib\\site-packages\\transformers\\tokenization_utils_base.py:2888: UserWarning: `max_length` is ignored when `padding`=`True` and there is no truncation strategy. To pad to max length, use `padding='max_length'`.\n",
      "  warnings.warn(\n"
     ]
    },
    {
     "data": {
      "application/vnd.jupyter.widget-view+json": {
       "model_id": "8b513654551b4e389a72471ee06adcb1",
       "version_major": 2,
       "version_minor": 0
      },
      "text/plain": [
       "  0%|          | 0/32 [00:00<?, ?it/s]"
      ]
     },
     "metadata": {},
     "output_type": "display_data"
    },
    {
     "name": "stderr",
     "output_type": "stream",
     "text": [
      "c:\\Users\\user\\anaconda3\\envs\\lang\\Lib\\site-packages\\trl\\trainer\\utils.py:657: UserWarning: There are 15 out of 250 instances where the predictions for both options are equal. As a consequence the accuracy can be misleading.\n",
      "  warnings.warn(\n"
     ]
    },
    {
     "name": "stdout",
     "output_type": "stream",
     "text": [
      "{'eval_loss': 0.8037313222885132, 'eval_accuracy': 0.524, 'eval_runtime': 15.0922, 'eval_samples_per_second': 16.565, 'eval_steps_per_second': 2.12, 'epoch': 0.48}\n",
      "{'loss': 0.9804, 'grad_norm': 44.76912307739258, 'learning_rate': 0.0, 'epoch': 0.53}\n"
     ]
    },
    {
     "data": {
      "text/html": [
       "<pre style=\"white-space:pre;overflow-x:auto;line-height:normal;font-family:Menlo,'DejaVu Sans Mono',consolas,'Courier New',monospace\">┏━━━━━━━━━━━━━━━━━━━━━━━━━━━━━━━━━━━━━━━━━━━━━━━┳━━━━━━━━━━━━━━━━━━━━━━━━━━━━━━━━━━━━━━━━━━━━━━┳━━━━━━━━━━━━━━━━━━┓\n",
       "┃<span style=\"font-weight: bold\"> chosen_text                                   </span>┃<span style=\"font-weight: bold\"> rejected_text                                </span>┃<span style=\"font-weight: bold\"> logits           </span>┃\n",
       "┡━━━━━━━━━━━━━━━━━━━━━━━━━━━━━━━━━━━━━━━━━━━━━━━╇━━━━━━━━━━━━━━━━━━━━━━━━━━━━━━━━━━━━━━━━━━━━━━╇━━━━━━━━━━━━━━━━━━┩\n",
       "│ Which is bigger, a lion or a house cat?       │ Which is bigger, a lion or a house cat?      │ [0.3397, 0.6603] │\n",
       "│ A lion is bigger as it is a species of big    │ A house cat is bigger than a lion. The       │                  │\n",
       "│ cats while a house cat is a type of           │ average male lion can weigh about            │                  │\n",
       "│ domesticated animal.                          │ 1,300-2,000 lbs, while the average house cat │                  │\n",
       "│                                               │ can range from 8-15 lbs depending on the     │                  │\n",
       "│                                               │ breed.                                       │                  │\n",
       "├───────────────────────────────────────────────┼──────────────────────────────────────────────┼──────────────────┤\n",
       "│ Why do we feel lighter in weight in a         │ Why do we feel lighter in weight in a        │ [0.4033, 0.5967] │\n",
       "│ swimming pool?                                │ swimming pool?                               │                  │\n",
       "│ The weight you feel lighter in a swimming     │ In a swimming pool, you might feel lighter   │                  │\n",
       "│ pool due to buoyancy. When you enter a        │ due to buoyancy effects. When you push up    │                  │\n",
       "│ swimming pool, the water surrounding you      │ against the bottom of a pool, the water is   │                  │\n",
       "│ pushes you up against the surface of the      │ forced to move upwards and thus creates      │                  │\n",
       "│ pool. This force is equal to your weight, so  │ upward forces on your body. This upward      │                  │\n",
       "│ you feel heavier in the water. However, if    │ force can make you feel lighter, as it takes │                  │\n",
       "│ you float on the surface of the water, you    │ some pressure off your feet and back, and    │                  │\n",
       "│ can actually feel lighter. This is why you    │ can make you feel like you're swimming more  │                  │\n",
       "│ can breathe more easily in water compared to  │ easily.                                      │                  │\n",
       "│ out of water. Additionally, when you dive     │                                              │                  │\n",
       "│ underwater, the pressure on your body is      │                                              │                  │\n",
       "│ increased, which causes you to inhale more    │                                              │                  │\n",
       "│ air and become more buoyant, resulting in a   │                                              │                  │\n",
       "│ feeling of weightlessness.                    │                                              │                  │\n",
       "├───────────────────────────────────────────────┼──────────────────────────────────────────────┼──────────────────┤\n",
       "│ If someone is tall, what sport should they    │ If someone is tall, what sport should they   │ [0.4644, 0.5356] │\n",
       "│ try?                                          │ try?                                         │                  │\n",
       "│ If someone is tall, they may have a natural   │ It really depends on the person's            │                  │\n",
       "│ advantage in sports like basketball,          │ preferences, but generally basketball and    │                  │\n",
       "│ volleyball, and swimming. However, there are  │ volleyball are good choices for tall         │                  │\n",
       "│ many other sports that can be beneficial      │ individuals. Other sports that could be      │                  │\n",
       "│ based on their height, such as tennis or      │ suitable are swimming, soccer, and tennis.   │                  │\n",
       "│ gymnastics.                                   │ It's also important to remember that height  │                  │\n",
       "│                                               │ does not necessarily define someone's        │                  │\n",
       "│                                               │ athletic abilities and there are many        │                  │\n",
       "│                                               │ successful individuals in various sports     │                  │\n",
       "│                                               │ regardless of their height.                  │                  │\n",
       "├───────────────────────────────────────────────┼──────────────────────────────────────────────┼──────────────────┤\n",
       "│ Which coin of U.S currency has the most       │ Which coin of U.S currency has the most      │ [0.5798, 0.4202] │\n",
       "│ ridges.                                       │ ridges.                                      │                  │\n",
       "│ The penny.                                    │ The penny. It has the most ridges.           │                  │\n",
       "└───────────────────────────────────────────────┴──────────────────────────────────────────────┴──────────────────┘\n",
       "</pre>\n"
      ],
      "text/plain": [
       "┏━━━━━━━━━━━━━━━━━━━━━━━━━━━━━━━━━━━━━━━━━━━━━━━┳━━━━━━━━━━━━━━━━━━━━━━━━━━━━━━━━━━━━━━━━━━━━━━┳━━━━━━━━━━━━━━━━━━┓\n",
       "┃\u001b[1m \u001b[0m\u001b[1mchosen_text                                  \u001b[0m\u001b[1m \u001b[0m┃\u001b[1m \u001b[0m\u001b[1mrejected_text                               \u001b[0m\u001b[1m \u001b[0m┃\u001b[1m \u001b[0m\u001b[1mlogits          \u001b[0m\u001b[1m \u001b[0m┃\n",
       "┡━━━━━━━━━━━━━━━━━━━━━━━━━━━━━━━━━━━━━━━━━━━━━━━╇━━━━━━━━━━━━━━━━━━━━━━━━━━━━━━━━━━━━━━━━━━━━━━╇━━━━━━━━━━━━━━━━━━┩\n",
       "│ Which is bigger, a lion or a house cat?       │ Which is bigger, a lion or a house cat?      │ [0.3397, 0.6603] │\n",
       "│ A lion is bigger as it is a species of big    │ A house cat is bigger than a lion. The       │                  │\n",
       "│ cats while a house cat is a type of           │ average male lion can weigh about            │                  │\n",
       "│ domesticated animal.                          │ 1,300-2,000 lbs, while the average house cat │                  │\n",
       "│                                               │ can range from 8-15 lbs depending on the     │                  │\n",
       "│                                               │ breed.                                       │                  │\n",
       "├───────────────────────────────────────────────┼──────────────────────────────────────────────┼──────────────────┤\n",
       "│ Why do we feel lighter in weight in a         │ Why do we feel lighter in weight in a        │ [0.4033, 0.5967] │\n",
       "│ swimming pool?                                │ swimming pool?                               │                  │\n",
       "│ The weight you feel lighter in a swimming     │ In a swimming pool, you might feel lighter   │                  │\n",
       "│ pool due to buoyancy. When you enter a        │ due to buoyancy effects. When you push up    │                  │\n",
       "│ swimming pool, the water surrounding you      │ against the bottom of a pool, the water is   │                  │\n",
       "│ pushes you up against the surface of the      │ forced to move upwards and thus creates      │                  │\n",
       "│ pool. This force is equal to your weight, so  │ upward forces on your body. This upward      │                  │\n",
       "│ you feel heavier in the water. However, if    │ force can make you feel lighter, as it takes │                  │\n",
       "│ you float on the surface of the water, you    │ some pressure off your feet and back, and    │                  │\n",
       "│ can actually feel lighter. This is why you    │ can make you feel like you're swimming more  │                  │\n",
       "│ can breathe more easily in water compared to  │ easily.                                      │                  │\n",
       "│ out of water. Additionally, when you dive     │                                              │                  │\n",
       "│ underwater, the pressure on your body is      │                                              │                  │\n",
       "│ increased, which causes you to inhale more    │                                              │                  │\n",
       "│ air and become more buoyant, resulting in a   │                                              │                  │\n",
       "│ feeling of weightlessness.                    │                                              │                  │\n",
       "├───────────────────────────────────────────────┼──────────────────────────────────────────────┼──────────────────┤\n",
       "│ If someone is tall, what sport should they    │ If someone is tall, what sport should they   │ [0.4644, 0.5356] │\n",
       "│ try?                                          │ try?                                         │                  │\n",
       "│ If someone is tall, they may have a natural   │ It really depends on the person's            │                  │\n",
       "│ advantage in sports like basketball,          │ preferences, but generally basketball and    │                  │\n",
       "│ volleyball, and swimming. However, there are  │ volleyball are good choices for tall         │                  │\n",
       "│ many other sports that can be beneficial      │ individuals. Other sports that could be      │                  │\n",
       "│ based on their height, such as tennis or      │ suitable are swimming, soccer, and tennis.   │                  │\n",
       "│ gymnastics.                                   │ It's also important to remember that height  │                  │\n",
       "│                                               │ does not necessarily define someone's        │                  │\n",
       "│                                               │ athletic abilities and there are many        │                  │\n",
       "│                                               │ successful individuals in various sports     │                  │\n",
       "│                                               │ regardless of their height.                  │                  │\n",
       "├───────────────────────────────────────────────┼──────────────────────────────────────────────┼──────────────────┤\n",
       "│ Which coin of U.S currency has the most       │ Which coin of U.S currency has the most      │ [0.5798, 0.4202] │\n",
       "│ ridges.                                       │ ridges.                                      │                  │\n",
       "│ The penny.                                    │ The penny. It has the most ridges.           │                  │\n",
       "└───────────────────────────────────────────────┴──────────────────────────────────────────────┴──────────────────┘\n"
      ]
     },
     "metadata": {},
     "output_type": "display_data"
    },
    {
     "name": "stderr",
     "output_type": "stream",
     "text": [
      "c:\\Users\\user\\anaconda3\\envs\\lang\\Lib\\site-packages\\transformers\\tokenization_utils_base.py:2888: UserWarning: `max_length` is ignored when `padding`=`True` and there is no truncation strategy. To pad to max length, use `padding='max_length'`.\n",
      "  warnings.warn(\n"
     ]
    },
    {
     "data": {
      "application/vnd.jupyter.widget-view+json": {
       "model_id": "c1a8a79f6c224411b3c7bf8d6a4a521f",
       "version_major": 2,
       "version_minor": 0
      },
      "text/plain": [
       "  0%|          | 0/32 [00:00<?, ?it/s]"
      ]
     },
     "metadata": {},
     "output_type": "display_data"
    },
    {
     "name": "stderr",
     "output_type": "stream",
     "text": [
      "c:\\Users\\user\\anaconda3\\envs\\lang\\Lib\\site-packages\\trl\\trainer\\utils.py:657: UserWarning: There are 15 out of 250 instances where the predictions for both options are equal. As a consequence the accuracy can be misleading.\n",
      "  warnings.warn(\n"
     ]
    },
    {
     "name": "stdout",
     "output_type": "stream",
     "text": [
      "{'eval_loss': 0.8033300638198853, 'eval_accuracy': 0.524, 'eval_runtime': 15.0616, 'eval_samples_per_second': 16.599, 'eval_steps_per_second': 2.125, 'epoch': 0.53}\n",
      "{'train_runtime': 255.7765, 'train_samples_per_second': 1.564, 'train_steps_per_second': 0.391, 'train_loss': 0.8448475694656372, 'epoch': 0.53}\n"
     ]
    }
   ],
   "source": [
    "from transformers import TrainingArguments\n",
    "from peft import LoraConfig\n",
    "from trl import RewardTrainer\n",
    "\n",
    "# Prepare training parameters\n",
    "training_args = TrainingArguments(\n",
    "    output_dir=\"./train_logs\",  # Output folder\n",
    "    max_steps=100,  # Maximum number of training steps\n",
    "    per_device_train_batch_size=4,  # Batch size per GPU for training\n",
    "    gradient_accumulation_steps=1,  # Number of steps to accumulate gradients\n",
    "    learning_rate=1.0e-4,  # Learning rate\n",
    "    optim=\"adamw_torch\",  # Optimizer\n",
    "    save_steps=50,  # How often to save checkpoints\n",
    "    logging_steps=10,  # How often to log training information\n",
    "    # report_to=\"tensorboard\",  # Reporting method (in this case, TensorBoard)\n",
    "    remove_unused_columns=False,  # Whether to remove unused columns\n",
    "    evaluation_strategy=\"steps\",  # Evaluation strategy\n",
    "    num_train_epochs=5,  # Number of training epochs\n",
    ")\n",
    "\n",
    "# Prepare PEFT parameters\n",
    "peft_config = LoraConfig(\n",
    "    r=16,  # Value of r\n",
    "    lora_alpha=16,  # Value of lora_alpha\n",
    "    bias=\"none\",  # Bias setting\n",
    "    task_type=\"SEQ_CLS\",  # Task type (Sequence Classification)\n",
    "    modules_to_save=[\"scores\"],  # Modules to save\n",
    ")\n",
    "\n",
    "# Prepare RewardTrainer\n",
    "trainer = RewardTrainer(\n",
    "    model=model,  # The model for reinforcement learning\n",
    "    tokenizer=tokenizer,  # The tokenizer for processing input data\n",
    "    args=training_args,  # Training arguments\n",
    "    train_dataset=formatted_dataset[\"train\"],  # Training dataset\n",
    "    eval_dataset=formatted_dataset[\"test\"],  # Evaluation dataset\n",
    "    peft_config=peft_config,  # PEFT configuration\n",
    "    max_length=512,  # Maximum length of input\n",
    ")\n",
    "\n",
    "# Execute training\n",
    "trainer.train()\n",
    "\n",
    "# Save the pretrained reward model\n",
    "trainer.model.save_pretrained(\"./reward_model\")"
   ]
  },
  {
   "cell_type": "code",
   "execution_count": 14,
   "metadata": {},
   "outputs": [],
   "source": [
    "import torch\n",
    "\n",
    "\n",
    "def get_score(model, tokenizer, prompt, response):\n",
    "    \"\"\"\n",
    "    Computes a score for a given prompt and response using a provided model and tokenizer.\n",
    "\n",
    "    Args:\n",
    "        model (nn.Module): The model for scoring.\n",
    "        tokenizer: The tokenizer for processing input data.\n",
    "        prompt (str): The prompt text.\n",
    "        response (str): The response text.\n",
    "\n",
    "    Returns:\n",
    "        float: The computed score.\n",
    "    \"\"\"\n",
    "    # Tokenize the input sequences\n",
    "    inputs = tokenizer.encode_plus(\n",
    "        prompt,\n",
    "        response,\n",
    "        truncation=True,\n",
    "        padding=\"max_length\",\n",
    "        max_length=512,\n",
    "        return_tensors=\"pt\",\n",
    "    ).to(\"cuda:0\")\n",
    "\n",
    "    # Perform forward pass\n",
    "    with torch.no_grad():\n",
    "        outputs = model(**inputs)\n",
    "\n",
    "    # Extract the logits\n",
    "    logits = outputs.logits\n",
    "\n",
    "    return logits.item()"
   ]
  },
  {
   "cell_type": "code",
   "execution_count": 15,
   "metadata": {},
   "outputs": [
    {
     "data": {
      "text/plain": [
       "{'instruction': 'Given this paragraph about WWII, how many fatalities happened?\\n\"World War II or the Second World War, often abbreviated as WWII or WW2, was a global conflict that lasted from 1939 to 1945. The vast majority of the world\\'s countries, including all of the great powers, fought as part of two opposing military alliances: the Allies and the Axis. Many participants threw their economic, industrial, and scientific capabilities behind this total war, blurring the distinction between civilian and military resources. Aircraft played a major role, enabling the strategic bombing of population centres and the delivery of the only two nuclear weapons ever used in war.\\n\\nWorld War II was by far the deadliest conflict in history; it resulted in an estimated 70 to 85 million fatalities, mostly among civilians. Tens of millions died due to genocides (including the Holocaust), starvation, massacres, and disease. In the wake of the Axis defeat, Germany and Japan were occupied, and war crimes tribunals were conducted against German and Japanese leaders.\\n\\nThe causes of World War II are debated, but contributing factors included the Second Italo-Ethiopian War, Spanish Civil War, Second Sino-Japanese War, Soviet–Japanese border conflicts, the rise of fascism in Europe, and European tensions in the aftermath of World War I. World War II is generally considered to have begun on 1 September 1939, when Nazi Germany, under Adolf Hitler, invaded Poland. The United Kingdom and France subsequently declared war on Germany on 3 September. Under the Molotov–Ribbentrop Pact of August 1939, Germany and the Soviet Union had partitioned Poland and marked out their \"\"spheres of influence\"\" across Finland, Estonia, Latvia, Lithuania and Romania. From late 1939 to early 1941, in a series of campaigns and treaties, Germany conquered or controlled much of continental Europe, in a military alliance with Italy, Japan and other countries called the Axis. Following the onset of campaigns in North Africa and East Africa, and the fall of France in mid-1940, the war continued primarily between the European Axis powers and the British Empire, with war in the Balkans, the aerial Battle of Britain, the Blitz of the United Kingdom, and the Battle of the Atlantic. On 22 June 1941, Germany led the European Axis powers in an invasion of the Soviet Union, opening the Eastern Front, the largest land theatre of war in history.\"',\n",
       " 'chosen_response': 'Given this paragraph about WWII, how many fatalities happened?\\nApproximately 75 million fatalities happened during World War II.',\n",
       " 'rejected_response': 'Given this paragraph about WWII, how many fatalities happened?\\nApproximately 6.6 million fatalities happened during World War II.'}"
      ]
     },
     "execution_count": 15,
     "metadata": {},
     "output_type": "execute_result"
    }
   ],
   "source": [
    "x = 4242\n",
    "prepared_dataset[x]"
   ]
  },
  {
   "cell_type": "code",
   "execution_count": 16,
   "metadata": {},
   "outputs": [
    {
     "name": "stdout",
     "output_type": "stream",
     "text": [
      "Score for less preferred response: -3.486865282058716\n",
      "Score for preferred response: -3.5882911682128906\n"
     ]
    }
   ],
   "source": [
    "# Get the prompt and responses for the example\n",
    "prompt = prepared_dataset[x][\"instruction\"]\n",
    "rejected_response = prepared_dataset[x][\"rejected_response\"]\n",
    "chosen_response = prepared_dataset[x][\"chosen_response\"]\n",
    "\n",
    "# Get the score for the example with the less preferred response\n",
    "score_less_pref = get_score(model, tokenizer, prompt, rejected_response)\n",
    "print(f\"Score for less preferred response: {score_less_pref}\")\n",
    "\n",
    "# Get the score for the example with the preferred response\n",
    "score_pref = get_score(model, tokenizer, prompt, chosen_response)\n",
    "print(f\"Score for preferred response: {score_pref}\")"
   ]
  }
 ],
 "metadata": {
  "kernelspec": {
   "display_name": "lang",
   "language": "python",
   "name": "python3"
  },
  "language_info": {
   "codemirror_mode": {
    "name": "ipython",
    "version": 3
   },
   "file_extension": ".py",
   "mimetype": "text/x-python",
   "name": "python",
   "nbconvert_exporter": "python",
   "pygments_lexer": "ipython3",
   "version": "3.11.9"
  }
 },
 "nbformat": 4,
 "nbformat_minor": 2
}
