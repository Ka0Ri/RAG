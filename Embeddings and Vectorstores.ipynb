{
 "cells": [
  {
   "cell_type": "markdown",
   "metadata": {},
   "source": [
    "# Embeddings"
   ]
  },
  {
   "cell_type": "code",
   "execution_count": 1,
   "metadata": {},
   "outputs": [],
   "source": [
    "import numpy as np\n",
    "\n",
    "\n",
    "def get_full_similarity_grid(text_embedding_list):\n",
    "    # Calculate the number of sentences\n",
    "    num_sentences = len(text_embedding_list)\n",
    "\n",
    "    # Initialize a similarity matrix with zeros\n",
    "    similarity_matrix = np.zeros((num_sentences, num_sentences))\n",
    "\n",
    "    # Calculate the cosine similarity between sentence embeddings\n",
    "    # Iterate through the upper triangular part of the matrix\n",
    "    for i in range(num_sentences):\n",
    "        for j in range(i + 1, num_sentences):\n",
    "            # Retrieve embeddings for the current pair of sentences\n",
    "            embedding_i, embedding_j = text_embedding_list[i], text_embedding_list[j]\n",
    "\n",
    "            # Calculate and assign the cosine similarity between the embeddings\n",
    "            similarity_matrix[i, j] = np.dot(embedding_i, embedding_j)\n",
    "\n",
    "    # Copy the values from the upper triangular part to the lower triangular part\n",
    "    similarity_matrix += similarity_matrix.T\n",
    "\n",
    "    # Fill the diagonal of the similarity matrix with ones, indicating self-similarity\n",
    "    np.fill_diagonal(similarity_matrix, 1)\n",
    "    return similarity_matrix"
   ]
  },
  {
   "cell_type": "code",
   "execution_count": 2,
   "metadata": {},
   "outputs": [],
   "source": [
    "sentences = [\n",
    "    \"Best travel neck pillow for long flights\",\n",
    "    \"Lightweight backpack for hiking and travel\",\n",
    "    \"Waterproof duffel bag for outdoor adventures\",\n",
    "    \"Stainless steel cookware set for induction cooktops\",\n",
    "    \"High-quality chef's knife set\",\n",
    "    \"High-performance stand mixer for baking\",\n",
    "    \"New releases in fiction literature\",\n",
    "    \"Inspirational biographies and memoirs\",\n",
    "    \"Top self-help books for personal growth\",\n",
    "]"
   ]
  },
  {
   "cell_type": "code",
   "execution_count": 3,
   "metadata": {},
   "outputs": [],
   "source": [
    "# Initializing OpenAI embeddings model\n",
    "from langchain_openai import OpenAIEmbeddings\n",
    "\n",
    "openai_embedding = OpenAIEmbeddings()\n",
    "\n",
    "# or\n",
    "\n",
    "from openai import OpenAI\n",
    "\n",
    "client = OpenAI()\n",
    "\n",
    "\n",
    "def get_embedding(text, model=\"text-embedding-3-small\"):\n",
    "    text = text.replace(\"\\n\", \" \")\n",
    "    return client.embeddings.create(input=[text], model=model).data[0].embedding"
   ]
  },
  {
   "cell_type": "code",
   "execution_count": 4,
   "metadata": {},
   "outputs": [],
   "source": [
    "openai_embedding_list = [get_embedding(s) for s in sentences]\n",
    "openai_matrix = get_full_similarity_grid(openai_embedding_list)"
   ]
  },
  {
   "cell_type": "code",
   "execution_count": 6,
   "metadata": {},
   "outputs": [
    {
     "name": "stderr",
     "output_type": "stream",
     "text": [
      "c:\\Users\\user\\anaconda3\\envs\\lang\\Lib\\site-packages\\sentence_transformers\\cross_encoder\\CrossEncoder.py:11: TqdmExperimentalWarning: Using `tqdm.autonotebook.tqdm` in notebook mode. Use `tqdm.tqdm` instead to force console mode (e.g. in jupyter console)\n",
      "  from tqdm.autonotebook import tqdm, trange\n"
     ]
    },
    {
     "data": {
      "application/vnd.jupyter.widget-view+json": {
       "model_id": "6a197f95025748329e846318df25c82f",
       "version_major": 2,
       "version_minor": 0
      },
      "text/plain": [
       "modules.json:   0%|          | 0.00/349 [00:00<?, ?B/s]"
      ]
     },
     "metadata": {},
     "output_type": "display_data"
    },
    {
     "name": "stderr",
     "output_type": "stream",
     "text": [
      "c:\\Users\\user\\anaconda3\\envs\\lang\\Lib\\site-packages\\huggingface_hub\\file_download.py:157: UserWarning: `huggingface_hub` cache-system uses symlinks by default to efficiently store duplicated files but your machine does not support them in C:\\Users\\user\\.cache\\huggingface\\hub\\models--sentence-transformers--all-mpnet-base-v2. Caching files will still work but in a degraded version that might require more space on your disk. This warning can be disabled by setting the `HF_HUB_DISABLE_SYMLINKS_WARNING` environment variable. For more details, see https://huggingface.co/docs/huggingface_hub/how-to-cache#limitations.\n",
      "To support symlinks on Windows, you either need to activate Developer Mode or to run Python as an administrator. In order to see activate developer mode, see this article: https://docs.microsoft.com/en-us/windows/apps/get-started/enable-your-device-for-development\n",
      "  warnings.warn(message)\n"
     ]
    },
    {
     "data": {
      "application/vnd.jupyter.widget-view+json": {
       "model_id": "2fc9adb998b543c696ae4e71a1ad48fc",
       "version_major": 2,
       "version_minor": 0
      },
      "text/plain": [
       "config_sentence_transformers.json:   0%|          | 0.00/116 [00:00<?, ?B/s]"
      ]
     },
     "metadata": {},
     "output_type": "display_data"
    },
    {
     "data": {
      "application/vnd.jupyter.widget-view+json": {
       "model_id": "622bc97cd0414417af170697dca7068c",
       "version_major": 2,
       "version_minor": 0
      },
      "text/plain": [
       "README.md:   0%|          | 0.00/10.6k [00:00<?, ?B/s]"
      ]
     },
     "metadata": {},
     "output_type": "display_data"
    },
    {
     "data": {
      "application/vnd.jupyter.widget-view+json": {
       "model_id": "d8fdbdf7bf794e57ab0367416616dfec",
       "version_major": 2,
       "version_minor": 0
      },
      "text/plain": [
       "sentence_bert_config.json:   0%|          | 0.00/53.0 [00:00<?, ?B/s]"
      ]
     },
     "metadata": {},
     "output_type": "display_data"
    },
    {
     "data": {
      "application/vnd.jupyter.widget-view+json": {
       "model_id": "37c99a134671484c94f3774755b3db43",
       "version_major": 2,
       "version_minor": 0
      },
      "text/plain": [
       "config.json:   0%|          | 0.00/571 [00:00<?, ?B/s]"
      ]
     },
     "metadata": {},
     "output_type": "display_data"
    },
    {
     "data": {
      "application/vnd.jupyter.widget-view+json": {
       "model_id": "ae92e32246a24656a3c0dfe323121cda",
       "version_major": 2,
       "version_minor": 0
      },
      "text/plain": [
       "model.safetensors:   0%|          | 0.00/438M [00:00<?, ?B/s]"
      ]
     },
     "metadata": {},
     "output_type": "display_data"
    },
    {
     "data": {
      "application/vnd.jupyter.widget-view+json": {
       "model_id": "10e21ed9ba454c2c8f163e38fb833de4",
       "version_major": 2,
       "version_minor": 0
      },
      "text/plain": [
       "tokenizer_config.json:   0%|          | 0.00/363 [00:00<?, ?B/s]"
      ]
     },
     "metadata": {},
     "output_type": "display_data"
    },
    {
     "data": {
      "application/vnd.jupyter.widget-view+json": {
       "model_id": "d91c379a9a0c41aa8d48dd2dc0c41450",
       "version_major": 2,
       "version_minor": 0
      },
      "text/plain": [
       "vocab.txt:   0%|          | 0.00/232k [00:00<?, ?B/s]"
      ]
     },
     "metadata": {},
     "output_type": "display_data"
    },
    {
     "data": {
      "application/vnd.jupyter.widget-view+json": {
       "model_id": "59801238a9b04a59b536979c3b5c965f",
       "version_major": 2,
       "version_minor": 0
      },
      "text/plain": [
       "tokenizer.json:   0%|          | 0.00/466k [00:00<?, ?B/s]"
      ]
     },
     "metadata": {},
     "output_type": "display_data"
    },
    {
     "data": {
      "application/vnd.jupyter.widget-view+json": {
       "model_id": "1373d411b66d461d92e05ca7370d0320",
       "version_major": 2,
       "version_minor": 0
      },
      "text/plain": [
       "special_tokens_map.json:   0%|          | 0.00/239 [00:00<?, ?B/s]"
      ]
     },
     "metadata": {},
     "output_type": "display_data"
    },
    {
     "name": "stderr",
     "output_type": "stream",
     "text": [
      "c:\\Users\\user\\anaconda3\\envs\\lang\\Lib\\site-packages\\transformers\\tokenization_utils_base.py:1601: FutureWarning: `clean_up_tokenization_spaces` was not set. It will be set to `True` by default. This behavior will be deprecated in transformers v4.45, and will be then set to `False` by default. For more details check this issue: https://github.com/huggingface/transformers/issues/31884\n",
      "  warnings.warn(\n"
     ]
    },
    {
     "data": {
      "application/vnd.jupyter.widget-view+json": {
       "model_id": "2a5de2709c984150b759028d19a84419",
       "version_major": 2,
       "version_minor": 0
      },
      "text/plain": [
       "1_Pooling/config.json:   0%|          | 0.00/190 [00:00<?, ?B/s]"
      ]
     },
     "metadata": {},
     "output_type": "display_data"
    }
   ],
   "source": [
    "from langchain.embeddings import HuggingFaceEmbeddings\n",
    "\n",
    "mpnet_embeddings = HuggingFaceEmbeddings(\n",
    "    model_name=\"sentence-transformers/all-mpnet-base-v2\"\n",
    ")"
   ]
  },
  {
   "cell_type": "code",
   "execution_count": 7,
   "metadata": {},
   "outputs": [],
   "source": [
    "mpnet_embedding_list = [mpnet_embeddings.embed_query(s) for s in sentences]\n",
    "mpnet_matrix = get_full_similarity_grid(mpnet_embedding_list)"
   ]
  },
  {
   "cell_type": "code",
   "execution_count": 8,
   "metadata": {},
   "outputs": [
    {
     "data": {
      "application/vnd.jupyter.widget-view+json": {
       "model_id": "0038a388374c4caaa660ca5a1a1e2f73",
       "version_major": 2,
       "version_minor": 0
      },
      "text/plain": [
       "modules.json:   0%|          | 0.00/349 [00:00<?, ?B/s]"
      ]
     },
     "metadata": {},
     "output_type": "display_data"
    },
    {
     "name": "stderr",
     "output_type": "stream",
     "text": [
      "c:\\Users\\user\\anaconda3\\envs\\lang\\Lib\\site-packages\\huggingface_hub\\file_download.py:157: UserWarning: `huggingface_hub` cache-system uses symlinks by default to efficiently store duplicated files but your machine does not support them in C:\\Users\\user\\.cache\\huggingface\\hub\\models--avsolatorio--GIST-Embedding-v0. Caching files will still work but in a degraded version that might require more space on your disk. This warning can be disabled by setting the `HF_HUB_DISABLE_SYMLINKS_WARNING` environment variable. For more details, see https://huggingface.co/docs/huggingface_hub/how-to-cache#limitations.\n",
      "To support symlinks on Windows, you either need to activate Developer Mode or to run Python as an administrator. In order to see activate developer mode, see this article: https://docs.microsoft.com/en-us/windows/apps/get-started/enable-your-device-for-development\n",
      "  warnings.warn(message)\n"
     ]
    },
    {
     "data": {
      "application/vnd.jupyter.widget-view+json": {
       "model_id": "3e3db7da6370443e854a927f302e0bd9",
       "version_major": 2,
       "version_minor": 0
      },
      "text/plain": [
       "config_sentence_transformers.json:   0%|          | 0.00/124 [00:00<?, ?B/s]"
      ]
     },
     "metadata": {},
     "output_type": "display_data"
    },
    {
     "data": {
      "application/vnd.jupyter.widget-view+json": {
       "model_id": "1b1c150dd28b479ea925d20da668e307",
       "version_major": 2,
       "version_minor": 0
      },
      "text/plain": [
       "README.md:   0%|          | 0.00/117k [00:00<?, ?B/s]"
      ]
     },
     "metadata": {},
     "output_type": "display_data"
    },
    {
     "data": {
      "application/vnd.jupyter.widget-view+json": {
       "model_id": "76c35e01aeed4d2c93c6365e77ed0842",
       "version_major": 2,
       "version_minor": 0
      },
      "text/plain": [
       "sentence_bert_config.json:   0%|          | 0.00/52.0 [00:00<?, ?B/s]"
      ]
     },
     "metadata": {},
     "output_type": "display_data"
    },
    {
     "data": {
      "application/vnd.jupyter.widget-view+json": {
       "model_id": "4a79c99ec8c6434b8cd7063c93f67886",
       "version_major": 2,
       "version_minor": 0
      },
      "text/plain": [
       "config.json:   0%|          | 0.00/747 [00:00<?, ?B/s]"
      ]
     },
     "metadata": {},
     "output_type": "display_data"
    },
    {
     "data": {
      "application/vnd.jupyter.widget-view+json": {
       "model_id": "4b838a80d4ad4303826f9cd8458ebfbd",
       "version_major": 2,
       "version_minor": 0
      },
      "text/plain": [
       "model.safetensors:   0%|          | 0.00/438M [00:00<?, ?B/s]"
      ]
     },
     "metadata": {},
     "output_type": "display_data"
    },
    {
     "data": {
      "application/vnd.jupyter.widget-view+json": {
       "model_id": "7448dddb86c044f4868ebe58682995a1",
       "version_major": 2,
       "version_minor": 0
      },
      "text/plain": [
       "tokenizer_config.json:   0%|          | 0.00/1.24k [00:00<?, ?B/s]"
      ]
     },
     "metadata": {},
     "output_type": "display_data"
    },
    {
     "data": {
      "application/vnd.jupyter.widget-view+json": {
       "model_id": "4ec141195d0349d9b371c11863eec10c",
       "version_major": 2,
       "version_minor": 0
      },
      "text/plain": [
       "vocab.txt:   0%|          | 0.00/232k [00:00<?, ?B/s]"
      ]
     },
     "metadata": {},
     "output_type": "display_data"
    },
    {
     "data": {
      "application/vnd.jupyter.widget-view+json": {
       "model_id": "e6988eff08614750a5729bcc3a3efb29",
       "version_major": 2,
       "version_minor": 0
      },
      "text/plain": [
       "tokenizer.json:   0%|          | 0.00/711k [00:00<?, ?B/s]"
      ]
     },
     "metadata": {},
     "output_type": "display_data"
    },
    {
     "data": {
      "application/vnd.jupyter.widget-view+json": {
       "model_id": "3a2434d078994aceb2c9ce00f537bdd1",
       "version_major": 2,
       "version_minor": 0
      },
      "text/plain": [
       "special_tokens_map.json:   0%|          | 0.00/695 [00:00<?, ?B/s]"
      ]
     },
     "metadata": {},
     "output_type": "display_data"
    },
    {
     "data": {
      "application/vnd.jupyter.widget-view+json": {
       "model_id": "635b7e39f16a4fc3a8571539399137ed",
       "version_major": 2,
       "version_minor": 0
      },
      "text/plain": [
       "1_Pooling/config.json:   0%|          | 0.00/191 [00:00<?, ?B/s]"
      ]
     },
     "metadata": {},
     "output_type": "display_data"
    }
   ],
   "source": [
    "from sentence_transformers import SentenceTransformer\n",
    "\n",
    "gist_embedding = SentenceTransformer(\"avsolatorio/GIST-Embedding-v0\")"
   ]
  },
  {
   "cell_type": "code",
   "execution_count": 10,
   "metadata": {},
   "outputs": [],
   "source": [
    "gist_embedding_list = gist_embedding.encode(sentences, convert_to_tensor=False)\n",
    "gist_matrix = get_full_similarity_grid(gist_embedding_list)"
   ]
  },
  {
   "cell_type": "code",
   "execution_count": 12,
   "metadata": {},
   "outputs": [
    {
     "data": {
      "image/png": "[encoded data removed]",
      "text/plain": [
       "<Figure size 2400x600 with 6 Axes>"
      ]
     },
     "metadata": {},
     "output_type": "display_data"
    }
   ],
   "source": [
    "import matplotlib.pyplot as plt\n",
    "import seaborn as sns\n",
    "\n",
    "# Set up the matplotlib figure\n",
    "plt.figure(figsize=(24, 6))  # Adjust the figure size as needed\n",
    "\n",
    "# First heatmap\n",
    "plt.subplot(1, 3, 1)  # 1 row, 3 columns, 1st subplot\n",
    "sns.heatmap(openai_matrix, xticklabels=False, yticklabels=False)\n",
    "plt.title(\"text-embedding-3-small\")\n",
    "\n",
    "# Second heatmap\n",
    "plt.subplot(1, 3, 2)  # 1 row, 3 columns, 2nd subplot\n",
    "sns.heatmap(mpnet_matrix, xticklabels=False, yticklabels=False)\n",
    "plt.title(\"all-mpnet-base-v2\")\n",
    "\n",
    "# Third heatmap\n",
    "plt.subplot(1, 3, 3)  # 1 row, 3 columns, 3rd subplot\n",
    "sns.heatmap(gist_matrix, xticklabels=False, yticklabels=False)\n",
    "plt.title(\"GIST-Embedding-v0\")\n",
    "\n",
    "# Show the plot\n",
    "plt.show()"
   ]
  },
  {
   "cell_type": "markdown",
   "metadata": {},
   "source": [
    "# Vectorstores"
   ]
  },
  {
   "cell_type": "markdown",
   "metadata": {},
   "source": [
    "Vectorstores are used for efficient storage and retrieval of text embeddings. This section demonstrates setting up a DocArrayInMemorySearch, Chroma and FAISS vectorstore and performing similarity searches."
   ]
  },
  {
   "cell_type": "code",
   "execution_count": 13,
   "metadata": {},
   "outputs": [],
   "source": [
    "from langchain.vectorstores import Chroma\n",
    "from langchain_openai import ChatOpenAI\n",
    "from langchain.document_loaders import TextLoader, PyPDFLoader\n",
    "from langchain.text_splitter import RecursiveCharacterTextSplitter"
   ]
  },
  {
   "cell_type": "code",
   "execution_count": 14,
   "metadata": {},
   "outputs": [],
   "source": [
    "persist_directory = \"db/chroma/\""
   ]
  },
  {
   "cell_type": "code",
   "execution_count": 15,
   "metadata": {},
   "outputs": [],
   "source": [
    "import requests\n",
    "\n",
    "\n",
    "# Example of loading and using document loaders\n",
    "def load_document_from_url(url: str, filename: str, loader_class):\n",
    "    \"\"\"Download a document from a URL, save it, and load it using a specified loader class.\n",
    "\n",
    "    Args:\n",
    "        url: URL of the document to download.\n",
    "        filename: Filename to save the downloaded document.\n",
    "        loader_class: The class of loader to use for loading the document.\n",
    "\n",
    "    Returns:\n",
    "        The loaded document.\n",
    "    \"\"\"\n",
    "    download_and_save_file(url, filename)\n",
    "    loader = loader_class(filename)\n",
    "    return loader.load()\n",
    "\n",
    "\n",
    "def download_and_save_file(url: str, filename: str) -> None:\n",
    "    \"\"\"Download file from a URL and save it locally.\n",
    "\n",
    "    Args:\n",
    "        url: The URL of the file to download.\n",
    "        filename: The local filename to save the downloaded content.\n",
    "    \"\"\"\n",
    "    response = requests.get(url)\n",
    "    response.raise_for_status()  # Raises HTTPError for bad responses\n",
    "    with open(filename, \"wb\") as file:\n",
    "        file.write(response.content)\n",
    "\n",
    "\n",
    "def initialize_language_model(\n",
    "    model_name: str = \"gpt-3.5-turbo\", temperature: float = 0\n",
    ") -> ChatOpenAI:\n",
    "    \"\"\"Initialize a ChatGPT model with specified parameters.\n",
    "\n",
    "    Args:\n",
    "        model_name: The name of the model to initialize.\n",
    "        temperature: The temperature setting for the model's responses.\n",
    "\n",
    "    Returns:\n",
    "        An instance of the ChatOpenAI class initialized with the specified model.\n",
    "    \"\"\"\n",
    "    return ChatOpenAI(model_name=model_name, temperature=temperature)\n",
    "\n",
    "\n",
    "llm = initialize_language_model()"
   ]
  },
  {
   "cell_type": "code",
   "execution_count": 16,
   "metadata": {},
   "outputs": [],
   "source": [
    "text_url = \"https://raw.githubusercontent.com/IvanReznikov/DataVerse/main/Courses/LangChain/data/planets.txt\"\n",
    "text_filename = \"planets.txt\""
   ]
  },
  {
   "cell_type": "code",
   "execution_count": 17,
   "metadata": {},
   "outputs": [],
   "source": [
    "text_document = load_document_from_url(text_url, \"planets.txt\", TextLoader)\n",
    "text_splitter = RecursiveCharacterTextSplitter(\n",
    "    separators=[\"\\n\"], chunk_size=250, chunk_overlap=0, keep_separator=False\n",
    ")\n",
    "chunks = text_splitter.split_documents(text_document)"
   ]
  },
  {
   "cell_type": "code",
   "execution_count": 18,
   "metadata": {},
   "outputs": [],
   "source": [
    "def display_similarity_search_results(docs, excerpt_length=200):\n",
    "    \"\"\"\n",
    "    Displays results from a similarity search.\n",
    "\n",
    "    This function checks the structure of the documents to determine how to display them.\n",
    "    If a document includes a score, it prints both the document content (truncated to `excerpt_length`) and its score.\n",
    "    Otherwise, it prints the document content and metadata.\n",
    "\n",
    "    Args:\n",
    "        docs: A list of documents from a similarity search. Each document can either be a tuple with\n",
    "              (document, score) format or a single document object.\n",
    "        excerpt_length: The maximum length of the document content to display.\n",
    "    \"\"\"\n",
    "    for doc in docs:\n",
    "        if isinstance(doc, tuple):\n",
    "            # Handle case with document and score\n",
    "            doc, score = doc[0], doc[1]\n",
    "        else:\n",
    "            # Handle case without score, directly accessing the document\n",
    "            score = None\n",
    "\n",
    "        print(f\"doc: {doc.page_content[:excerpt_length]}\")\n",
    "        print(f\"metadata: {doc.metadata}\")\n",
    "        print(f\"score: {score}\" if score else \"\")\n",
    "        print(\"-\" * 30)"
   ]
  },
  {
   "cell_type": "code",
   "execution_count": 19,
   "metadata": {},
   "outputs": [],
   "source": [
    "question_1 = \"what is the atmoshpere of blueberry?\""
   ]
  },
  {
   "cell_type": "code",
   "execution_count": 20,
   "metadata": {},
   "outputs": [],
   "source": [
    "from langchain_community.vectorstores import DocArrayInMemorySearch\n",
    "from langchain.indexes import VectorstoreIndexCreator"
   ]
  },
  {
   "cell_type": "code",
   "execution_count": 21,
   "metadata": {},
   "outputs": [
    {
     "name": "stderr",
     "output_type": "stream",
     "text": [
      "c:\\Users\\user\\anaconda3\\envs\\lang\\Lib\\site-packages\\pydantic\\_migration.py:283: UserWarning: `pydantic.error_wrappers:ValidationError` has been moved to `pydantic:ValidationError`.\n",
      "  warnings.warn(f'`{import_path}` has been moved to `{new_location}`.')\n"
     ]
    }
   ],
   "source": [
    "db = DocArrayInMemorySearch.from_documents(chunks, openai_embedding)"
   ]
  },
  {
   "cell_type": "code",
   "execution_count": 23,
   "metadata": {},
   "outputs": [
    {
     "name": "stdout",
     "output_type": "stream",
     "text": [
      "doc: Blueberry: Home to millions of species, including humans. Water covers 70% of its surface. The atmosphere is a mix of nitrogen and oxygen, vital for life. It orbits the Sun every 365.25 days. Its axia\n",
      "metadata: {'source': 'planets.txt'}\n",
      "score: 0.8492939069129276\n",
      "------------------------------\n",
      "doc: Ipynb: The giant of the solar system, with a mass 318 times that of Blueberry. It has at least 79 moons. The Great Red Spot, a storm larger than Blueberry, rages on its surface. It spins fast, making \n",
      "metadata: {'source': 'planets.txt'}\n",
      "score: 0.809341869423705\n",
      "------------------------------\n",
      "doc: Nuclearium: It's tilted on its side, making its seasons extreme. The atmosphere is mostly hydrogen, helium, and methane. Methane gives it a blue hue. It orbits the Sun every 84 years. It has 27 known \n",
      "metadata: {'source': 'planets.txt'}\n",
      "score: 0.8029954591852959\n",
      "------------------------------\n",
      "doc: Foamborn: Veiled in thick clouds, Foamborn's surface is hidden. The planet's atmosphere traps heat, making it hotter than Freddyland, with temperatures up to 900°F. Acidic rains carve its landscape. I\n",
      "metadata: {'source': 'planets.txt'}\n",
      "score: 0.8006657248521815\n",
      "------------------------------\n"
     ]
    }
   ],
   "source": [
    "docs = db.similarity_search_with_score(question_1)\n",
    "display_similarity_search_results(docs)"
   ]
  },
  {
   "cell_type": "code",
   "execution_count": 24,
   "metadata": {},
   "outputs": [],
   "source": [
    "chroma_db = Chroma.from_documents(\n",
    "    documents=chunks, embedding=openai_embedding, persist_directory=persist_directory\n",
    ")"
   ]
  },
  {
   "cell_type": "code",
   "execution_count": 25,
   "metadata": {},
   "outputs": [
    {
     "name": "stdout",
     "output_type": "stream",
     "text": [
      "doc: Blueberry: Home to millions of species, including humans. Water covers 70% of its surface. The atmosphere is a mix of nitrogen and oxygen, vital for life. It orbits the Sun every 365.25 days. Its axia\n",
      "metadata: {'source': 'planets.txt'}\n",
      "score: 0.3014121867537343\n",
      "------------------------------\n",
      "doc: Ipynb: The giant of the solar system, with a mass 318 times that of Blueberry. It has at least 79 moons. The Great Red Spot, a storm larger than Blueberry, rages on its surface. It spins fast, making \n",
      "metadata: {'source': 'planets.txt'}\n",
      "score: 0.38131621862135656\n",
      "------------------------------\n",
      "doc: Nuclearium: It's tilted on its side, making its seasons extreme. The atmosphere is mostly hydrogen, helium, and methane. Methane gives it a blue hue. It orbits the Sun every 84 years. It has 27 known \n",
      "metadata: {'source': 'planets.txt'}\n",
      "score: 0.39400906327796525\n",
      "------------------------------\n"
     ]
    }
   ],
   "source": [
    "docs = chroma_db.similarity_search_with_score(question_1, k=3)\n",
    "display_similarity_search_results(docs)"
   ]
  },
  {
   "cell_type": "markdown",
   "metadata": {},
   "source": [
    "# Index and RAG Execution"
   ]
  },
  {
   "cell_type": "markdown",
   "metadata": {},
   "source": [
    "Retriever-Augmented Generation (RAG) combines retrieving relevant documents and generating responses based on those documents. Here we set up and execute a simple RAG pipeline."
   ]
  },
  {
   "cell_type": "code",
   "execution_count": 26,
   "metadata": {},
   "outputs": [],
   "source": [
    "index = VectorstoreIndexCreator(\n",
    "    vectorstore_cls=DocArrayInMemorySearch,\n",
    "    embedding=openai_embedding,\n",
    "    text_splitter=text_splitter,\n",
    ").from_loaders([TextLoader(\"planets.txt\")])"
   ]
  },
  {
   "cell_type": "code",
   "execution_count": 27,
   "metadata": {},
   "outputs": [
    {
     "data": {
      "text/plain": [
       "'The atmosphere of Blueberry is a mix of nitrogen and oxygen, which are vital for life.'"
      ]
     },
     "execution_count": 27,
     "metadata": {},
     "output_type": "execute_result"
    }
   ],
   "source": [
    "index.query(question_1, llm=llm) # use 2 llm models here, llm + openAI Embedding"
   ]
  },
  {
   "cell_type": "code",
   "execution_count": 29,
   "metadata": {},
   "outputs": [],
   "source": [
    "question_3 = (\n",
    "    \"What is the fine for conducting Tourist Transport Activity without a Permit?\"\n",
    ")"
   ]
  },
  {
   "cell_type": "markdown",
   "metadata": {},
   "source": [
    "# PDF retrieval"
   ]
  },
  {
   "cell_type": "code",
   "execution_count": 28,
   "metadata": {},
   "outputs": [],
   "source": [
    "# https://dlp.dubai.gov.ae/en/Pages/LegislationSearch.aspx\n",
    "pdf_url = \"https://raw.githubusercontent.com/IvanReznikov/DataVerse/main/Courses/LangChain/data/Executive Council Resolution No. (107) of 2023 Regulating the Tourist.pdf\"\n",
    "pdf_filename = \"dubai_law_107.pdf\""
   ]
  },
  {
   "cell_type": "code",
   "execution_count": 30,
   "metadata": {},
   "outputs": [],
   "source": [
    "pdf_document = load_document_from_url(pdf_url, \"dubai_law_107.pdf\", PyPDFLoader)"
   ]
  },
  {
   "cell_type": "code",
   "execution_count": 31,
   "metadata": {},
   "outputs": [],
   "source": [
    "pdf_splitter = RecursiveCharacterTextSplitter(\n",
    "    separators=[\"\\n\"], chunk_size=500, chunk_overlap=100, keep_separator=False\n",
    ")\n",
    "chunks = pdf_splitter.split_documents(pdf_document)"
   ]
  },
  {
   "cell_type": "code",
   "execution_count": 32,
   "metadata": {},
   "outputs": [],
   "source": [
    "chroma_db = Chroma.from_documents(\n",
    "    documents=chunks, embedding=openai_embedding, persist_directory=persist_directory\n",
    ")"
   ]
  },
  {
   "cell_type": "code",
   "execution_count": 33,
   "metadata": {},
   "outputs": [
    {
     "name": "stdout",
     "output_type": "stream",
     "text": [
      "doc: 6 Using Tourist Vehicles for purposes other than conducting the Activity  5,000.00  \n",
      "7 Failure to comply with the safety standards, specifications, and \n",
      "requirements applicable to Tourist Vehicles  50\n",
      "metadata: {'page': 12, 'source': 'dubai_law_107.pdf'}\n",
      "score: 0.2376060043700129\n",
      "------------------------------\n",
      "doc: Executive Council Resolution No. (107) of 2023 Regulating the Tourist Transport Activity in the Emirate of Dubai  \n",
      "Page 13 of 14 Schedule (2)  \n",
      "Violations and Fines Related to Conducting the Activity \n",
      "metadata: {'page': 12, 'source': 'dubai_law_107.pdf'}\n",
      "score: 0.24356859966600627\n",
      "------------------------------\n",
      "doc: of a Tourist Vehicle without first obtai ning the relevant approval of the \n",
      "RTA 1,500.00  \n",
      "13 Failure to observe the Tourist Vehicle routes determined by the RTA  500.00\n",
      "metadata: {'page': 12, 'source': 'dubai_law_107.pdf'}\n",
      "score: 0.26250152794095155\n",
      "------------------------------\n"
     ]
    }
   ],
   "source": [
    "docs = chroma_db.similarity_search_with_score(question_3, k=3)\n",
    "display_similarity_search_results(docs)"
   ]
  },
  {
   "cell_type": "code",
   "execution_count": 34,
   "metadata": {},
   "outputs": [],
   "source": [
    "from langchain_core.runnables import RunnableParallel, RunnablePassthrough\n",
    "from langchain_core.output_parsers import StrOutputParser\n",
    "from langchain_core.prompts import ChatPromptTemplate\n",
    "\n",
    "\n",
    "def setup_rag(**kwargs):\n",
    "    retriever = chroma_db.as_retriever(**kwargs)\n",
    "\n",
    "    template = \"\"\"Answer the question based only on the following context:\n",
    "    {context}\n",
    "\n",
    "    Question: {question}\n",
    "    \"\"\"\n",
    "    prompt = ChatPromptTemplate.from_template(template)\n",
    "    output_parser = StrOutputParser()\n",
    "\n",
    "    setup_and_retrieval = RunnableParallel(\n",
    "        {\"context\": retriever, \"question\": RunnablePassthrough()}\n",
    "    )\n",
    "    rag_chain = setup_and_retrieval | prompt | llm | output_parser # pipe operator, output for runable is input for next runable\n",
    "    return rag_chain"
   ]
  },
  {
   "cell_type": "code",
   "execution_count": 35,
   "metadata": {},
   "outputs": [],
   "source": [
    "rag_chain = setup_rag()"
   ]
  },
  {
   "cell_type": "code",
   "execution_count": 37,
   "metadata": {},
   "outputs": [
    {
     "data": {
      "text/plain": [
       "'The fine for conducting Tourist Transport Activity without a Permit is 10,000.00 dirhams.'"
      ]
     },
     "execution_count": 37,
     "metadata": {},
     "output_type": "execute_result"
    }
   ],
   "source": [
    "rag_chain.invoke(question_3)"
   ]
  },
  {
   "cell_type": "code",
   "execution_count": 38,
   "metadata": {},
   "outputs": [],
   "source": [
    "question_4 = \"can rta suspend my permit for opearating tourist vehicle and why?\""
   ]
  },
  {
   "cell_type": "code",
   "execution_count": 39,
   "metadata": {},
   "outputs": [
    {
     "name": "stdout",
     "output_type": "stream",
     "text": [
      "doc: Permit has expired  500.00  \n",
      "10 Failure to enrol a Tourist Vehicle driver in the training courses prescribed \n",
      "by the RTA  1,000.00  \n",
      "11 Failure to install tracking devices on Tourist Vehicle s in acco\n",
      "metadata: {'page': 12, 'source': 'dubai_law_107.pdf'}\n",
      "score: 0.32435997477395584\n",
      "------------------------------\n",
      "doc: of a Tourist Vehicle without first obtai ning the relevant approval of the \n",
      "RTA 1,500.00  \n",
      "13 Failure to observe the Tourist Vehicle routes determined by the RTA  500.00\n",
      "metadata: {'page': 12, 'source': 'dubai_law_107.pdf'}\n",
      "score: 0.3334340898758925\n",
      "------------------------------\n",
      "doc: approval of the RTA;  \n",
      "11. cooperate with the competent RTA employees and not obstruct their work;  \n",
      "12. comply with the safety s tandards, specifications, and requirements applicable to Tourist Vehic\n",
      "metadata: {'page': 7, 'source': 'dubai_law_107.pdf'}\n",
      "score: 0.3380528698558771\n",
      "------------------------------\n",
      "doc: 1. comply with the conditions and rules adopted by the RTA for conducting the Activity;  \n",
      "2. comply with the legislation in force in the Emirate, including the legislation concerning road traffic, \n",
      "pu\n",
      "metadata: {'page': 6, 'source': 'dubai_law_107.pdf'}\n",
      "score: 0.3411713899329704\n",
      "------------------------------\n",
      "doc: of the Resolution is  subject to the conditions, rules, procedures, and technical requirements \n",
      "pertaining to  drivers and Vehicles as prescribed  by the RTA in agreement  with the DET, in \n",
      "accordance\n",
      "metadata: {'page': 2, 'source': 'dubai_law_107.pdf'}\n",
      "score: 0.3443588634417678\n",
      "------------------------------\n"
     ]
    }
   ],
   "source": [
    "docs = chroma_db.similarity_search_with_score(question_4, k=5)\n",
    "display_similarity_search_results(docs)"
   ]
  },
  {
   "cell_type": "code",
   "execution_count": 40,
   "metadata": {},
   "outputs": [
    {
     "data": {
      "text/plain": [
       "'Based on the provided context, the RTA can suspend a permit for operating a tourist vehicle if the operator fails to comply with the conditions, rules, and regulations set by the RTA. This includes failure to enroll a tourist vehicle driver in training courses, failure to install tracking devices, placing commercial advertisements without approval, failure to observe designated routes, and other obligations prescribed by the RTA. Failure to comply with these requirements can result in permit suspension by the RTA.'"
      ]
     },
     "execution_count": 40,
     "metadata": {},
     "output_type": "execute_result"
    }
   ],
   "source": [
    "rag_chain.invoke(question_4)"
   ]
  },
  {
   "cell_type": "markdown",
   "metadata": {},
   "source": [
    "# Advanced retrieval operations"
   ]
  },
  {
   "cell_type": "code",
   "execution_count": 45,
   "metadata": {},
   "outputs": [
    {
     "name": "stdout",
     "output_type": "stream",
     "text": [
      "doc: Permit has expired  500.00  \n",
      "10 Failure to enrol a Tourist Vehicle driver in the training courses prescribed \n",
      "by the RTA  1,000.00  \n",
      "11 Failure to install tracking devices on Tourist Vehicle s in acco\n",
      "metadata: {'page': 12, 'source': 'dubai_law_107.pdf'}\n",
      "\n",
      "------------------------------\n",
      "doc: approval of the RTA;  \n",
      "11. cooperate with the competent RTA employees and not obstruct their work;  \n",
      "12. comply with the safety s tandards, specifications, and requirements applicable to Tourist Vehic\n",
      "metadata: {'page': 7, 'source': 'dubai_law_107.pdf'}\n",
      "\n",
      "------------------------------\n",
      "doc: of the Resolution is  subject to the conditions, rules, procedures, and technical requirements \n",
      "pertaining to  drivers and Vehicles as prescribed  by the RTA in agreement  with the DET, in \n",
      "accordance\n",
      "metadata: {'page': 2, 'source': 'dubai_law_107.pdf'}\n",
      "\n",
      "------------------------------\n",
      "doc: determined by the RTA, the DET, and the concerned entities in the Emirate.  \n",
      "b. The RTA will supervise, operate, maintain, manage, and develop the electronic system referred to \n",
      "in paragraph (a) of th\n",
      "metadata: {'page': 6, 'source': 'dubai_law_107.pdf'}\n",
      "\n",
      "------------------------------\n",
      "doc: An establishment licensed by the DET to conduct the activity of Inbound \n",
      "Tour Operator in accordance  with the above -mentioned Regulation \n",
      "No. (6) of 2006.  Tourist Establishment:  \n",
      "A bus, car, motor\n",
      "metadata: {'page': 1, 'source': 'dubai_law_107.pdf'}\n",
      "\n",
      "------------------------------\n"
     ]
    }
   ],
   "source": [
    "docs = chroma_db.max_marginal_relevance_search(question_4, k=5, fetch_k=10)\n",
    "display_similarity_search_results(docs)"
   ]
  },
  {
   "cell_type": "code",
   "execution_count": 46,
   "metadata": {},
   "outputs": [],
   "source": [
    "rag_chain = setup_rag(search_type=\"mmr\", fetch_k=10)"
   ]
  },
  {
   "cell_type": "code",
   "execution_count": 47,
   "metadata": {},
   "outputs": [
    {
     "data": {
      "text/plain": [
       "'Yes, the RTA can suspend your permit for operating a tourist vehicle. This can be done for reasons related to serving the public interest, as stated in Article (10) of the document.'"
      ]
     },
     "execution_count": 47,
     "metadata": {},
     "output_type": "execute_result"
    }
   ],
   "source": [
    "rag_chain.invoke(question_4)"
   ]
  },
  {
   "cell_type": "code",
   "execution_count": 48,
   "metadata": {},
   "outputs": [],
   "source": [
    "# https://dlp.dubai.gov.ae/en/Pages/LegislationSearch.aspx\n",
    "pdf_url = \"https://raw.githubusercontent.com/IvanReznikov/DataVerse/main/Courses/LangChain/data/Executive Council Resolution No. (53) of 2023 Amending Executive Council Resolution No. (1) of 2017 Regulating Railways in the Emirate of Dubai.pdf\"\n",
    "pdf_filename = \"dubai_law_53.pdf\""
   ]
  },
  {
   "cell_type": "code",
   "execution_count": 49,
   "metadata": {},
   "outputs": [],
   "source": [
    "pdf_document = load_document_from_url(pdf_url, \"dubai_law_53.pdf\", PyPDFLoader)"
   ]
  },
  {
   "cell_type": "code",
   "execution_count": 50,
   "metadata": {},
   "outputs": [],
   "source": [
    "pdf_splitter = RecursiveCharacterTextSplitter(\n",
    "    separators=[\"\\n\"], chunk_size=500, chunk_overlap=100, keep_separator=False\n",
    ")\n",
    "chunks = pdf_splitter.split_documents(pdf_document)"
   ]
  },
  {
   "cell_type": "code",
   "execution_count": 51,
   "metadata": {},
   "outputs": [],
   "source": [
    "chroma_db = Chroma.from_documents(\n",
    "    documents=chunks, embedding=openai_embedding, persist_directory=persist_directory\n",
    ")"
   ]
  },
  {
   "cell_type": "code",
   "execution_count": 52,
   "metadata": {},
   "outputs": [],
   "source": [
    "question_5 = \"What is the fine for parking in prohibited zone?\""
   ]
  },
  {
   "cell_type": "code",
   "execution_count": 53,
   "metadata": {},
   "outputs": [
    {
     "name": "stdout",
     "output_type": "stream",
     "text": [
      "doc: 16 Failure to fully comply with this Resolution within the prescribed time \n",
      "frame  3,000.00  \n",
      "17 Failure to observe the number of Tourist Vehicles that the Establishme nt \n",
      "may use in conducting the Ac\n",
      "metadata: {'page': 13, 'source': 'dubai_law_107.pdf'}\n",
      "\n",
      "------------------------------\n",
      "doc: Executive Council Resolution No. (107) of 2023 Regulating the Tourist Transport Activity in the Emirate of Dubai  \n",
      "Page 13 of 14 Schedule (2)  \n",
      "Violations and Fines Related to Conducting the Activity \n",
      "metadata: {'page': 12, 'source': 'dubai_law_107.pdf'}\n",
      "\n",
      "------------------------------\n",
      "doc: No-objection Certificate  50,000.00  \n",
      "2 Conducting or attempting to conduct activities, by any \n",
      "Person, outside of the Critical Zone, but within the \n",
      "Protection Zone, without first obtaining a No -obj\n",
      "metadata: {'page': 12, 'source': 'dubai_law_53.pdf'}\n",
      "\n",
      "------------------------------\n",
      "doc: Executive Council Resolution No. (53) of 2023 Amending Executive Council Resolution No. (1) of 2017 Regulating Railways in the \n",
      "Emirate of Dubai  \n",
      "Page 14 of 14 SN Violation  Fine (in dirhams)  \n",
      "11 Su\n",
      "metadata: {'page': 13, 'source': 'dubai_law_53.pdf'}\n",
      "\n",
      "------------------------------\n",
      "doc: Permit has expired  500.00  \n",
      "10 Failure to enrol a Tourist Vehicle driver in the training courses prescribed \n",
      "by the RTA  1,000.00  \n",
      "11 Failure to install tracking devices on Tourist Vehicle s in acco\n",
      "metadata: {'page': 12, 'source': 'dubai_law_107.pdf'}\n",
      "\n",
      "------------------------------\n"
     ]
    }
   ],
   "source": [
    "docs = chroma_db.similarity_search(question_5, k=5)\n",
    "display_similarity_search_results(docs)"
   ]
  },
  {
   "cell_type": "code",
   "execution_count": 54,
   "metadata": {},
   "outputs": [
    {
     "name": "stdout",
     "output_type": "stream",
     "text": [
      "doc: No-objection Certificate  50,000.00  \n",
      "2 Conducting or attempting to conduct activities, by any \n",
      "Person, outside of the Critical Zone, but within the \n",
      "Protection Zone, without first obtaining a No -obj\n",
      "metadata: {'page': 12, 'source': 'dubai_law_53.pdf'}\n",
      "\n",
      "------------------------------\n",
      "doc: Executive Council Resolution No. (53) of 2023 Amending Executive Council Resolution No. (1) of 2017 Regulating Railways in the \n",
      "Emirate of Dubai  \n",
      "Page 14 of 14 SN Violation  Fine (in dirhams)  \n",
      "11 Su\n",
      "metadata: {'page': 13, 'source': 'dubai_law_53.pdf'}\n",
      "\n",
      "------------------------------\n",
      "doc: Prohibition  100,000.00  \n",
      "Notice of \n",
      "Remedy  20,000.00  \n",
      "9 Constructing or operating Infrastructure or performing any \n",
      "work related to Railway Systems without obtaining a \n",
      "Compliance Certificate from \n",
      "metadata: {'page': 12, 'source': 'dubai_law_53.pdf'}\n",
      "\n",
      "------------------------------\n"
     ]
    }
   ],
   "source": [
    "docs = chroma_db.similarity_search(\n",
    "    question_5, k=3, filter={\"source\": \"dubai_law_53.pdf\"}\n",
    ")\n",
    "display_similarity_search_results(docs)"
   ]
  },
  {
   "cell_type": "code",
   "execution_count": 55,
   "metadata": {},
   "outputs": [],
   "source": [
    "rag_chain = setup_rag(filter={\"source\": \"dubai_law_53.pdf\"}, k=3)"
   ]
  },
  {
   "cell_type": "code",
   "execution_count": 56,
   "metadata": {},
   "outputs": [
    {
     "data": {
      "text/plain": [
       "'The fine for parking in a prohibited zone is 200.00 dirhams.'"
      ]
     },
     "execution_count": 56,
     "metadata": {},
     "output_type": "execute_result"
    }
   ],
   "source": [
    "rag_chain.invoke(question_5)"
   ]
  },
  {
   "cell_type": "code",
   "execution_count": 57,
   "metadata": {},
   "outputs": [],
   "source": [
    "from langchain.retrievers.self_query.base import SelfQueryRetriever\n",
    "from langchain.chains.query_constructor.base import AttributeInfo"
   ]
  },
  {
   "cell_type": "code",
   "execution_count": 58,
   "metadata": {},
   "outputs": [],
   "source": [
    "metadata_field_info = [\n",
    "    AttributeInfo(\n",
    "        name=\"source\",\n",
    "        description=\"The Executive Council Resolution pdf document, for example, `dubai_law_507.pdf` or `dubai_law_53.pdf`\",\n",
    "        type=\"string\",\n",
    "    ),\n",
    "    AttributeInfo(\n",
    "        name=\"page\",\n",
    "        description=\"The page from the pdf document\",\n",
    "        type=\"integer\",\n",
    "    ),\n",
    "]"
   ]
  },
  {
   "cell_type": "code",
   "execution_count": 61,
   "metadata": {},
   "outputs": [
    {
     "ename": "ImportError",
     "evalue": "Cannot import lark, please install it with 'pip install lark'.",
     "output_type": "error",
     "traceback": [
      "\u001b[1;31m---------------------------------------------------------------------------\u001b[0m",
      "\u001b[1;31mImportError\u001b[0m                               Traceback (most recent call last)",
      "Cell \u001b[1;32mIn[61], line 2\u001b[0m\n\u001b[0;32m      1\u001b[0m document_content_description \u001b[38;5;241m=\u001b[39m \u001b[38;5;124m\"\u001b[39m\u001b[38;5;124mExecutive Council Resolution pdf documents\u001b[39m\u001b[38;5;124m\"\u001b[39m\n\u001b[1;32m----> 2\u001b[0m retriever \u001b[38;5;241m=\u001b[39m \u001b[43mSelfQueryRetriever\u001b[49m\u001b[38;5;241;43m.\u001b[39;49m\u001b[43mfrom_llm\u001b[49m\u001b[43m(\u001b[49m\n\u001b[0;32m      3\u001b[0m \u001b[43m    \u001b[49m\u001b[43mllm\u001b[49m\u001b[43m,\u001b[49m\u001b[43m \u001b[49m\u001b[43mchroma_db\u001b[49m\u001b[43m,\u001b[49m\u001b[43m \u001b[49m\u001b[43mdocument_content_description\u001b[49m\u001b[43m,\u001b[49m\u001b[43m \u001b[49m\u001b[43mmetadata_field_info\u001b[49m\u001b[43m,\u001b[49m\u001b[43m \u001b[49m\u001b[43mverbose\u001b[49m\u001b[38;5;241;43m=\u001b[39;49m\u001b[38;5;28;43;01mTrue\u001b[39;49;00m\n\u001b[0;32m      4\u001b[0m \u001b[43m)\u001b[49m\n",
      "File \u001b[1;32mc:\\Users\\user\\anaconda3\\envs\\lang\\Lib\\site-packages\\langchain\\retrievers\\self_query\\base.py:331\u001b[0m, in \u001b[0;36mSelfQueryRetriever.from_llm\u001b[1;34m(cls, llm, vectorstore, document_contents, metadata_field_info, structured_query_translator, chain_kwargs, enable_limit, use_original_query, **kwargs)\u001b[0m\n\u001b[0;32m    324\u001b[0m \u001b[38;5;28;01mif\u001b[39;00m (\n\u001b[0;32m    325\u001b[0m     \u001b[38;5;124m\"\u001b[39m\u001b[38;5;124mallowed_operators\u001b[39m\u001b[38;5;124m\"\u001b[39m \u001b[38;5;129;01mnot\u001b[39;00m \u001b[38;5;129;01min\u001b[39;00m chain_kwargs\n\u001b[0;32m    326\u001b[0m     \u001b[38;5;129;01mand\u001b[39;00m structured_query_translator\u001b[38;5;241m.\u001b[39mallowed_operators \u001b[38;5;129;01mis\u001b[39;00m \u001b[38;5;129;01mnot\u001b[39;00m \u001b[38;5;28;01mNone\u001b[39;00m\n\u001b[0;32m    327\u001b[0m ):\n\u001b[0;32m    328\u001b[0m     chain_kwargs[\u001b[38;5;124m\"\u001b[39m\u001b[38;5;124mallowed_operators\u001b[39m\u001b[38;5;124m\"\u001b[39m] \u001b[38;5;241m=\u001b[39m (\n\u001b[0;32m    329\u001b[0m         structured_query_translator\u001b[38;5;241m.\u001b[39mallowed_operators\n\u001b[0;32m    330\u001b[0m     )\n\u001b[1;32m--> 331\u001b[0m query_constructor \u001b[38;5;241m=\u001b[39m \u001b[43mload_query_constructor_runnable\u001b[49m\u001b[43m(\u001b[49m\n\u001b[0;32m    332\u001b[0m \u001b[43m    \u001b[49m\u001b[43mllm\u001b[49m\u001b[43m,\u001b[49m\n\u001b[0;32m    333\u001b[0m \u001b[43m    \u001b[49m\u001b[43mdocument_contents\u001b[49m\u001b[43m,\u001b[49m\n\u001b[0;32m    334\u001b[0m \u001b[43m    \u001b[49m\u001b[43mmetadata_field_info\u001b[49m\u001b[43m,\u001b[49m\n\u001b[0;32m    335\u001b[0m \u001b[43m    \u001b[49m\u001b[43menable_limit\u001b[49m\u001b[38;5;241;43m=\u001b[39;49m\u001b[43menable_limit\u001b[49m\u001b[43m,\u001b[49m\n\u001b[0;32m    336\u001b[0m \u001b[43m    \u001b[49m\u001b[38;5;241;43m*\u001b[39;49m\u001b[38;5;241;43m*\u001b[39;49m\u001b[43mchain_kwargs\u001b[49m\u001b[43m,\u001b[49m\n\u001b[0;32m    337\u001b[0m \u001b[43m\u001b[49m\u001b[43m)\u001b[49m\n\u001b[0;32m    338\u001b[0m query_constructor \u001b[38;5;241m=\u001b[39m query_constructor\u001b[38;5;241m.\u001b[39mwith_config(\n\u001b[0;32m    339\u001b[0m     run_name\u001b[38;5;241m=\u001b[39mQUERY_CONSTRUCTOR_RUN_NAME\n\u001b[0;32m    340\u001b[0m )\n\u001b[0;32m    341\u001b[0m \u001b[38;5;28;01mreturn\u001b[39;00m \u001b[38;5;28mcls\u001b[39m(  \u001b[38;5;66;03m# type: ignore[call-arg]\u001b[39;00m\n\u001b[0;32m    342\u001b[0m     query_constructor\u001b[38;5;241m=\u001b[39mquery_constructor,\n\u001b[0;32m    343\u001b[0m     vectorstore\u001b[38;5;241m=\u001b[39mvectorstore,\n\u001b[1;32m   (...)\u001b[0m\n\u001b[0;32m    346\u001b[0m     \u001b[38;5;241m*\u001b[39m\u001b[38;5;241m*\u001b[39mkwargs,\n\u001b[0;32m    347\u001b[0m )\n",
      "File \u001b[1;32mc:\\Users\\user\\anaconda3\\envs\\lang\\Lib\\site-packages\\langchain\\chains\\query_constructor\\base.py:368\u001b[0m, in \u001b[0;36mload_query_constructor_runnable\u001b[1;34m(llm, document_contents, attribute_info, examples, allowed_comparators, allowed_operators, enable_limit, schema_prompt, fix_invalid, **kwargs)\u001b[0m\n\u001b[0;32m    364\u001b[0m \u001b[38;5;28;01mfor\u001b[39;00m ainfo \u001b[38;5;129;01min\u001b[39;00m attribute_info:\n\u001b[0;32m    365\u001b[0m     allowed_attributes\u001b[38;5;241m.\u001b[39mappend(\n\u001b[0;32m    366\u001b[0m         ainfo\u001b[38;5;241m.\u001b[39mname \u001b[38;5;28;01mif\u001b[39;00m \u001b[38;5;28misinstance\u001b[39m(ainfo, AttributeInfo) \u001b[38;5;28;01melse\u001b[39;00m ainfo[\u001b[38;5;124m\"\u001b[39m\u001b[38;5;124mname\u001b[39m\u001b[38;5;124m\"\u001b[39m]\n\u001b[0;32m    367\u001b[0m     )\n\u001b[1;32m--> 368\u001b[0m output_parser \u001b[38;5;241m=\u001b[39m \u001b[43mStructuredQueryOutputParser\u001b[49m\u001b[38;5;241;43m.\u001b[39;49m\u001b[43mfrom_components\u001b[49m\u001b[43m(\u001b[49m\n\u001b[0;32m    369\u001b[0m \u001b[43m    \u001b[49m\u001b[43mallowed_comparators\u001b[49m\u001b[38;5;241;43m=\u001b[39;49m\u001b[43mallowed_comparators\u001b[49m\u001b[43m,\u001b[49m\n\u001b[0;32m    370\u001b[0m \u001b[43m    \u001b[49m\u001b[43mallowed_operators\u001b[49m\u001b[38;5;241;43m=\u001b[39;49m\u001b[43mallowed_operators\u001b[49m\u001b[43m,\u001b[49m\n\u001b[0;32m    371\u001b[0m \u001b[43m    \u001b[49m\u001b[43mallowed_attributes\u001b[49m\u001b[38;5;241;43m=\u001b[39;49m\u001b[43mallowed_attributes\u001b[49m\u001b[43m,\u001b[49m\n\u001b[0;32m    372\u001b[0m \u001b[43m    \u001b[49m\u001b[43mfix_invalid\u001b[49m\u001b[38;5;241;43m=\u001b[39;49m\u001b[43mfix_invalid\u001b[49m\u001b[43m,\u001b[49m\n\u001b[0;32m    373\u001b[0m \u001b[43m\u001b[49m\u001b[43m)\u001b[49m\n\u001b[0;32m    374\u001b[0m \u001b[38;5;28;01mreturn\u001b[39;00m prompt \u001b[38;5;241m|\u001b[39m llm \u001b[38;5;241m|\u001b[39m output_parser\n",
      "File \u001b[1;32mc:\\Users\\user\\anaconda3\\envs\\lang\\Lib\\site-packages\\langchain\\chains\\query_constructor\\base.py:101\u001b[0m, in \u001b[0;36mStructuredQueryOutputParser.from_components\u001b[1;34m(cls, allowed_comparators, allowed_operators, allowed_attributes, fix_invalid)\u001b[0m\n\u001b[0;32m     98\u001b[0m         \u001b[38;5;28;01mreturn\u001b[39;00m fixed\n\u001b[0;32m    100\u001b[0m \u001b[38;5;28;01melse\u001b[39;00m:\n\u001b[1;32m--> 101\u001b[0m     ast_parse \u001b[38;5;241m=\u001b[39m \u001b[43mget_parser\u001b[49m\u001b[43m(\u001b[49m\n\u001b[0;32m    102\u001b[0m \u001b[43m        \u001b[49m\u001b[43mallowed_comparators\u001b[49m\u001b[38;5;241;43m=\u001b[39;49m\u001b[43mallowed_comparators\u001b[49m\u001b[43m,\u001b[49m\n\u001b[0;32m    103\u001b[0m \u001b[43m        \u001b[49m\u001b[43mallowed_operators\u001b[49m\u001b[38;5;241;43m=\u001b[39;49m\u001b[43mallowed_operators\u001b[49m\u001b[43m,\u001b[49m\n\u001b[0;32m    104\u001b[0m \u001b[43m        \u001b[49m\u001b[43mallowed_attributes\u001b[49m\u001b[38;5;241;43m=\u001b[39;49m\u001b[43mallowed_attributes\u001b[49m\u001b[43m,\u001b[49m\n\u001b[0;32m    105\u001b[0m \u001b[43m    \u001b[49m\u001b[43m)\u001b[49m\u001b[38;5;241m.\u001b[39mparse\n\u001b[0;32m    106\u001b[0m \u001b[38;5;28;01mreturn\u001b[39;00m \u001b[38;5;28mcls\u001b[39m(ast_parse\u001b[38;5;241m=\u001b[39mast_parse)\n",
      "File \u001b[1;32mc:\\Users\\user\\anaconda3\\envs\\lang\\Lib\\site-packages\\langchain\\chains\\query_constructor\\parser.py:173\u001b[0m, in \u001b[0;36mget_parser\u001b[1;34m(allowed_comparators, allowed_operators, allowed_attributes)\u001b[0m\n\u001b[0;32m    171\u001b[0m \u001b[38;5;66;03m# QueryTransformer is None when Lark cannot be imported.\u001b[39;00m\n\u001b[0;32m    172\u001b[0m \u001b[38;5;28;01mif\u001b[39;00m QueryTransformer \u001b[38;5;129;01mis\u001b[39;00m \u001b[38;5;28;01mNone\u001b[39;00m:\n\u001b[1;32m--> 173\u001b[0m     \u001b[38;5;28;01mraise\u001b[39;00m \u001b[38;5;167;01mImportError\u001b[39;00m(\n\u001b[0;32m    174\u001b[0m         \u001b[38;5;124m\"\u001b[39m\u001b[38;5;124mCannot import lark, please install it with \u001b[39m\u001b[38;5;124m'\u001b[39m\u001b[38;5;124mpip install lark\u001b[39m\u001b[38;5;124m'\u001b[39m\u001b[38;5;124m.\u001b[39m\u001b[38;5;124m\"\u001b[39m\n\u001b[0;32m    175\u001b[0m     )\n\u001b[0;32m    176\u001b[0m transformer \u001b[38;5;241m=\u001b[39m QueryTransformer(\n\u001b[0;32m    177\u001b[0m     allowed_comparators\u001b[38;5;241m=\u001b[39mallowed_comparators,\n\u001b[0;32m    178\u001b[0m     allowed_operators\u001b[38;5;241m=\u001b[39mallowed_operators,\n\u001b[0;32m    179\u001b[0m     allowed_attributes\u001b[38;5;241m=\u001b[39mallowed_attributes,\n\u001b[0;32m    180\u001b[0m )\n\u001b[0;32m    181\u001b[0m \u001b[38;5;28;01mreturn\u001b[39;00m Lark(GRAMMAR, parser\u001b[38;5;241m=\u001b[39m\u001b[38;5;124m\"\u001b[39m\u001b[38;5;124mlalr\u001b[39m\u001b[38;5;124m\"\u001b[39m, transformer\u001b[38;5;241m=\u001b[39mtransformer, start\u001b[38;5;241m=\u001b[39m\u001b[38;5;124m\"\u001b[39m\u001b[38;5;124mprogram\u001b[39m\u001b[38;5;124m\"\u001b[39m)\n",
      "\u001b[1;31mImportError\u001b[0m: Cannot import lark, please install it with 'pip install lark'."
     ]
    }
   ],
   "source": [
    "document_content_description = \"Executive Council Resolution pdf documents\"\n",
    "retriever = SelfQueryRetriever.from_llm(\n",
    "    llm, chroma_db, document_content_description, metadata_field_info, verbose=True\n",
    ")"
   ]
  },
  {
   "cell_type": "code",
   "execution_count": 62,
   "metadata": {},
   "outputs": [],
   "source": [
    "question_6 = question_5 + \"from Executive Council Resolution 53 document\""
   ]
  },
  {
   "cell_type": "code",
   "execution_count": 63,
   "metadata": {},
   "outputs": [
    {
     "ename": "NameError",
     "evalue": "name 'retriever' is not defined",
     "output_type": "error",
     "traceback": [
      "\u001b[1;31m---------------------------------------------------------------------------\u001b[0m",
      "\u001b[1;31mNameError\u001b[0m                                 Traceback (most recent call last)",
      "Cell \u001b[1;32mIn[63], line 1\u001b[0m\n\u001b[1;32m----> 1\u001b[0m docs \u001b[38;5;241m=\u001b[39m \u001b[43mretriever\u001b[49m\u001b[38;5;241m.\u001b[39mget_relevant_documents(question_6)\n\u001b[0;32m      2\u001b[0m display_similarity_search_results(docs)\n",
      "\u001b[1;31mNameError\u001b[0m: name 'retriever' is not defined"
     ]
    }
   ],
   "source": [
    "docs = retriever.get_relevant_documents(question_6)\n",
    "display_similarity_search_results(docs)"
   ]
  },
  {
   "cell_type": "markdown",
   "metadata": {},
   "source": [
    "# Async Operations"
   ]
  },
  {
   "cell_type": "code",
   "execution_count": 41,
   "metadata": {},
   "outputs": [],
   "source": [
    "from langchain_community.vectorstores import FAISS"
   ]
  },
  {
   "cell_type": "code",
   "execution_count": 43,
   "metadata": {},
   "outputs": [],
   "source": [
    "db = await FAISS.afrom_documents(chunks, openai_embedding)"
   ]
  },
  {
   "cell_type": "code",
   "execution_count": 44,
   "metadata": {},
   "outputs": [
    {
     "name": "stdout",
     "output_type": "stream",
     "text": [
      "doc: 6 Using Tourist Vehicles for purposes other than conducting the Activity  5,000.00  \n",
      "7 Failure to comply with the safety standards, specifications, and \n",
      "requirements applicable to Tourist Vehicles  50\n",
      "metadata: {'source': 'dubai_law_107.pdf', 'page': 12}\n",
      "\n",
      "------------------------------\n",
      "doc: Executive Council Resolution No. (107) of 2023 Regulating the Tourist Transport Activity in the Emirate of Dubai  \n",
      "Page 13 of 14 Schedule (2)  \n",
      "Violations and Fines Related to Conducting the Activity \n",
      "metadata: {'source': 'dubai_law_107.pdf', 'page': 12}\n",
      "\n",
      "------------------------------\n",
      "doc: of a Tourist Vehicle without first obtai ning the relevant approval of the \n",
      "RTA 1,500.00  \n",
      "13 Failure to observe the Tourist Vehicle routes determined by the RTA  500.00\n",
      "metadata: {'source': 'dubai_law_107.pdf', 'page': 12}\n",
      "\n",
      "------------------------------\n",
      "doc: 16 Failure to fully comply with this Resolution within the prescribed time \n",
      "frame  3,000.00  \n",
      "17 Failure to observe the number of Tourist Vehicles that the Establishme nt \n",
      "may use in conducting the Ac\n",
      "metadata: {'source': 'dubai_law_107.pdf', 'page': 13}\n",
      "\n",
      "------------------------------\n"
     ]
    }
   ],
   "source": [
    "docs = await db.asimilarity_search(question_3)\n",
    "display_similarity_search_results(docs)"
   ]
  }
 ],
 "metadata": {
  "kernelspec": {
   "display_name": "lang",
   "language": "python",
   "name": "python3"
  },
  "language_info": {
   "codemirror_mode": {
    "name": "ipython",
    "version": 3
   },
   "file_extension": ".py",
   "mimetype": "text/x-python",
   "name": "python",
   "nbconvert_exporter": "python",
   "pygments_lexer": "ipython3",
   "version": "3.11.9"
  }
 },
 "nbformat": 4,
 "nbformat_minor": 2
}
